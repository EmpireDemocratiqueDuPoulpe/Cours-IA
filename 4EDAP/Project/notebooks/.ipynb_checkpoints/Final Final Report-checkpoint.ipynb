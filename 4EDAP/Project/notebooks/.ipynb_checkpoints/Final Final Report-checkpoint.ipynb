{
 "cells": [
  {
   "cell_type": "markdown",
   "metadata": {
    "pycharm": {
     "name": "#%% md\n"
    }
   },
   "source": [
    "# Rapport final - <Titre de l'analyse>\n",
    "> Mohamedlamine Amimi <mohamedlamine.amimi@supinfo.com>\n",
    "> Théo Bezin <theo.bezin@supinfo.com>\n",
    "> Alexis Lecomte <alexis.lecomte@supinfo.com>\n",
    "> Maxence Pawlowski <maxence.pawlowski@supinfo.com>"
   ]
  },
  {
   "cell_type": "code",
   "execution_count": 1,
   "metadata": {
    "pycharm": {
     "name": "#%%\n"
    }
   },
   "outputs": [],
   "source": [
    "# Calculs mathématiques\n",
    "import math\n",
    "import numpy\n",
    "\n",
    "# Chargement et prise en charge des données\n",
    "import pandas\n",
    "\n",
    "# Prise en charge des données géographique\n",
    "import geopandas\n",
    "import folium\n",
    "from folium import plugins\n",
    "\n",
    "# Création de statistiques et de graphiques\n",
    "import scipy.stats\n",
    "import matplotlib.pyplot as pyplot\n",
    "from matplotlib.ticker import NullFormatter\n",
    "import plotly.express as px\n",
    "\n",
    "# Autres\n",
    "import os\n",
    "import re\n",
    "import time\n",
    "from datetime import datetime\n",
    "from tabulate import tabulate\n",
    "import webbrowser\n",
    "from colorama import Fore, Style\n",
    "\n",
    "%matplotlib notebook\n",
    "pyplot.style.use(\"ggplot\")\n",
    "pyplot.rcParams[\"figure.figsize\"] = [17, 7]"
   ]
  },
  {
   "cell_type": "markdown",
   "metadata": {
    "pycharm": {
     "name": "#%% md\n"
    }
   },
   "source": [
    "## Analyse de \"WashingtonPostDatabase.csv\""
   ]
  },
  {
   "cell_type": "code",
   "execution_count": 2,
   "metadata": {
    "pycharm": {
     "name": "#%%\n"
    }
   },
   "outputs": [
    {
     "data": {
      "text/html": [
       "<div>\n",
       "<style scoped>\n",
       "    .dataframe tbody tr th:only-of-type {\n",
       "        vertical-align: middle;\n",
       "    }\n",
       "\n",
       "    .dataframe tbody tr th {\n",
       "        vertical-align: top;\n",
       "    }\n",
       "\n",
       "    .dataframe thead th {\n",
       "        text-align: right;\n",
       "    }\n",
       "</style>\n",
       "<table border=\"1\" class=\"dataframe\">\n",
       "  <thead>\n",
       "    <tr style=\"text-align: right;\">\n",
       "      <th></th>\n",
       "      <th>id</th>\n",
       "      <th>name</th>\n",
       "      <th>date</th>\n",
       "      <th>manner_of_death</th>\n",
       "      <th>armed</th>\n",
       "      <th>age</th>\n",
       "      <th>gender</th>\n",
       "      <th>race</th>\n",
       "      <th>city</th>\n",
       "      <th>state</th>\n",
       "      <th>signs_of_mental_illness</th>\n",
       "      <th>threat_level</th>\n",
       "      <th>flee</th>\n",
       "      <th>body_camera</th>\n",
       "      <th>longitude</th>\n",
       "      <th>latitude</th>\n",
       "      <th>is_geocoding_exact</th>\n",
       "    </tr>\n",
       "  </thead>\n",
       "  <tbody>\n",
       "    <tr>\n",
       "      <th>0</th>\n",
       "      <td>3</td>\n",
       "      <td>Tim Elliot</td>\n",
       "      <td>2015-01-02</td>\n",
       "      <td>shot</td>\n",
       "      <td>gun</td>\n",
       "      <td>53.0</td>\n",
       "      <td>M</td>\n",
       "      <td>A</td>\n",
       "      <td>Shelton</td>\n",
       "      <td>WA</td>\n",
       "      <td>True</td>\n",
       "      <td>attack</td>\n",
       "      <td>Not fleeing</td>\n",
       "      <td>False</td>\n",
       "      <td>-123.122</td>\n",
       "      <td>47.247</td>\n",
       "      <td>True</td>\n",
       "    </tr>\n",
       "    <tr>\n",
       "      <th>1</th>\n",
       "      <td>4</td>\n",
       "      <td>Lewis Lee Lembke</td>\n",
       "      <td>2015-01-02</td>\n",
       "      <td>shot</td>\n",
       "      <td>gun</td>\n",
       "      <td>47.0</td>\n",
       "      <td>M</td>\n",
       "      <td>W</td>\n",
       "      <td>Aloha</td>\n",
       "      <td>OR</td>\n",
       "      <td>False</td>\n",
       "      <td>attack</td>\n",
       "      <td>Not fleeing</td>\n",
       "      <td>False</td>\n",
       "      <td>-122.892</td>\n",
       "      <td>45.487</td>\n",
       "      <td>True</td>\n",
       "    </tr>\n",
       "    <tr>\n",
       "      <th>2</th>\n",
       "      <td>5</td>\n",
       "      <td>John Paul Quintero</td>\n",
       "      <td>2015-01-03</td>\n",
       "      <td>shot and Tasered</td>\n",
       "      <td>unarmed</td>\n",
       "      <td>23.0</td>\n",
       "      <td>M</td>\n",
       "      <td>H</td>\n",
       "      <td>Wichita</td>\n",
       "      <td>KS</td>\n",
       "      <td>False</td>\n",
       "      <td>other</td>\n",
       "      <td>Not fleeing</td>\n",
       "      <td>False</td>\n",
       "      <td>-97.281</td>\n",
       "      <td>37.695</td>\n",
       "      <td>True</td>\n",
       "    </tr>\n",
       "    <tr>\n",
       "      <th>3</th>\n",
       "      <td>8</td>\n",
       "      <td>Matthew Hoffman</td>\n",
       "      <td>2015-01-04</td>\n",
       "      <td>shot</td>\n",
       "      <td>toy weapon</td>\n",
       "      <td>32.0</td>\n",
       "      <td>M</td>\n",
       "      <td>W</td>\n",
       "      <td>San Francisco</td>\n",
       "      <td>CA</td>\n",
       "      <td>True</td>\n",
       "      <td>attack</td>\n",
       "      <td>Not fleeing</td>\n",
       "      <td>False</td>\n",
       "      <td>-122.422</td>\n",
       "      <td>37.763</td>\n",
       "      <td>True</td>\n",
       "    </tr>\n",
       "    <tr>\n",
       "      <th>4</th>\n",
       "      <td>9</td>\n",
       "      <td>Michael Rodriguez</td>\n",
       "      <td>2015-01-04</td>\n",
       "      <td>shot</td>\n",
       "      <td>nail gun</td>\n",
       "      <td>39.0</td>\n",
       "      <td>M</td>\n",
       "      <td>H</td>\n",
       "      <td>Evans</td>\n",
       "      <td>CO</td>\n",
       "      <td>False</td>\n",
       "      <td>attack</td>\n",
       "      <td>Not fleeing</td>\n",
       "      <td>False</td>\n",
       "      <td>-104.692</td>\n",
       "      <td>40.384</td>\n",
       "      <td>True</td>\n",
       "    </tr>\n",
       "    <tr>\n",
       "      <th>...</th>\n",
       "      <td>...</td>\n",
       "      <td>...</td>\n",
       "      <td>...</td>\n",
       "      <td>...</td>\n",
       "      <td>...</td>\n",
       "      <td>...</td>\n",
       "      <td>...</td>\n",
       "      <td>...</td>\n",
       "      <td>...</td>\n",
       "      <td>...</td>\n",
       "      <td>...</td>\n",
       "      <td>...</td>\n",
       "      <td>...</td>\n",
       "      <td>...</td>\n",
       "      <td>...</td>\n",
       "      <td>...</td>\n",
       "      <td>...</td>\n",
       "    </tr>\n",
       "    <tr>\n",
       "      <th>7267</th>\n",
       "      <td>7915</td>\n",
       "      <td>Unknown</td>\n",
       "      <td>2022-04-11</td>\n",
       "      <td>shot</td>\n",
       "      <td>gun</td>\n",
       "      <td>37.0</td>\n",
       "      <td>M</td>\n",
       "      <td>Unknown</td>\n",
       "      <td>Manitou Springs</td>\n",
       "      <td>CO</td>\n",
       "      <td>False</td>\n",
       "      <td>attack</td>\n",
       "      <td>Unknown</td>\n",
       "      <td>False</td>\n",
       "      <td>-104.917</td>\n",
       "      <td>38.858</td>\n",
       "      <td>True</td>\n",
       "    </tr>\n",
       "    <tr>\n",
       "      <th>7268</th>\n",
       "      <td>7916</td>\n",
       "      <td>Dwayne Jackson</td>\n",
       "      <td>2022-04-11</td>\n",
       "      <td>shot</td>\n",
       "      <td>gun</td>\n",
       "      <td>37.0</td>\n",
       "      <td>M</td>\n",
       "      <td>Unknown</td>\n",
       "      <td>Tulsa</td>\n",
       "      <td>OK</td>\n",
       "      <td>False</td>\n",
       "      <td>attack</td>\n",
       "      <td>Not fleeing</td>\n",
       "      <td>False</td>\n",
       "      <td>-95.904</td>\n",
       "      <td>36.05</td>\n",
       "      <td>True</td>\n",
       "    </tr>\n",
       "    <tr>\n",
       "      <th>7269</th>\n",
       "      <td>7931</td>\n",
       "      <td>Unknown</td>\n",
       "      <td>2022-04-12</td>\n",
       "      <td>shot</td>\n",
       "      <td>sharp object</td>\n",
       "      <td>37.0</td>\n",
       "      <td>M</td>\n",
       "      <td>Unknown</td>\n",
       "      <td>Edison</td>\n",
       "      <td>NJ</td>\n",
       "      <td>False</td>\n",
       "      <td>undetermined</td>\n",
       "      <td>Unknown</td>\n",
       "      <td>False</td>\n",
       "      <td>-74.331</td>\n",
       "      <td>40.548</td>\n",
       "      <td>True</td>\n",
       "    </tr>\n",
       "    <tr>\n",
       "      <th>7270</th>\n",
       "      <td>7929</td>\n",
       "      <td>Trevan Bonner</td>\n",
       "      <td>2022-04-13</td>\n",
       "      <td>shot</td>\n",
       "      <td>gun</td>\n",
       "      <td>18.0</td>\n",
       "      <td>M</td>\n",
       "      <td>Unknown</td>\n",
       "      <td>Lafayette</td>\n",
       "      <td>LA</td>\n",
       "      <td>False</td>\n",
       "      <td>attack</td>\n",
       "      <td>Unknown</td>\n",
       "      <td>False</td>\n",
       "      <td>-92.032</td>\n",
       "      <td>30.25</td>\n",
       "      <td>True</td>\n",
       "    </tr>\n",
       "    <tr>\n",
       "      <th>7271</th>\n",
       "      <td>7930</td>\n",
       "      <td>Timmy Lee Thurman</td>\n",
       "      <td>2022-04-14</td>\n",
       "      <td>shot</td>\n",
       "      <td>gun</td>\n",
       "      <td>37.0</td>\n",
       "      <td>M</td>\n",
       "      <td>Unknown</td>\n",
       "      <td>Bristol</td>\n",
       "      <td>TN</td>\n",
       "      <td>False</td>\n",
       "      <td>attack</td>\n",
       "      <td>Car</td>\n",
       "      <td>False</td>\n",
       "      <td>-82.213</td>\n",
       "      <td>36.588</td>\n",
       "      <td>True</td>\n",
       "    </tr>\n",
       "  </tbody>\n",
       "</table>\n",
       "<p>7272 rows × 17 columns</p>\n",
       "</div>"
      ],
      "text/plain": [
       "        id                name       date   manner_of_death         armed  \\\n",
       "0        3          Tim Elliot 2015-01-02              shot           gun   \n",
       "1        4    Lewis Lee Lembke 2015-01-02              shot           gun   \n",
       "2        5  John Paul Quintero 2015-01-03  shot and Tasered       unarmed   \n",
       "3        8     Matthew Hoffman 2015-01-04              shot    toy weapon   \n",
       "4        9   Michael Rodriguez 2015-01-04              shot      nail gun   \n",
       "...    ...                 ...        ...               ...           ...   \n",
       "7267  7915             Unknown 2022-04-11              shot           gun   \n",
       "7268  7916      Dwayne Jackson 2022-04-11              shot           gun   \n",
       "7269  7931             Unknown 2022-04-12              shot  sharp object   \n",
       "7270  7929       Trevan Bonner 2022-04-13              shot           gun   \n",
       "7271  7930   Timmy Lee Thurman 2022-04-14              shot           gun   \n",
       "\n",
       "       age gender     race             city state  signs_of_mental_illness  \\\n",
       "0     53.0      M        A          Shelton    WA                     True   \n",
       "1     47.0      M        W            Aloha    OR                    False   \n",
       "2     23.0      M        H          Wichita    KS                    False   \n",
       "3     32.0      M        W    San Francisco    CA                     True   \n",
       "4     39.0      M        H            Evans    CO                    False   \n",
       "...    ...    ...      ...              ...   ...                      ...   \n",
       "7267  37.0      M  Unknown  Manitou Springs    CO                    False   \n",
       "7268  37.0      M  Unknown            Tulsa    OK                    False   \n",
       "7269  37.0      M  Unknown           Edison    NJ                    False   \n",
       "7270  18.0      M  Unknown        Lafayette    LA                    False   \n",
       "7271  37.0      M  Unknown          Bristol    TN                    False   \n",
       "\n",
       "      threat_level         flee  body_camera  longitude latitude  \\\n",
       "0           attack  Not fleeing        False   -123.122   47.247   \n",
       "1           attack  Not fleeing        False   -122.892   45.487   \n",
       "2            other  Not fleeing        False    -97.281   37.695   \n",
       "3           attack  Not fleeing        False   -122.422   37.763   \n",
       "4           attack  Not fleeing        False   -104.692   40.384   \n",
       "...            ...          ...          ...        ...      ...   \n",
       "7267        attack      Unknown        False   -104.917   38.858   \n",
       "7268        attack  Not fleeing        False    -95.904    36.05   \n",
       "7269  undetermined      Unknown        False    -74.331   40.548   \n",
       "7270        attack      Unknown        False    -92.032    30.25   \n",
       "7271        attack          Car        False    -82.213   36.588   \n",
       "\n",
       "      is_geocoding_exact  \n",
       "0                   True  \n",
       "1                   True  \n",
       "2                   True  \n",
       "3                   True  \n",
       "4                   True  \n",
       "...                  ...  \n",
       "7267                True  \n",
       "7268                True  \n",
       "7269                True  \n",
       "7270                True  \n",
       "7271                True  \n",
       "\n",
       "[7272 rows x 17 columns]"
      ]
     },
     "execution_count": 2,
     "metadata": {},
     "output_type": "execute_result"
    }
   ],
   "source": [
    "# Faute dans le nom du CSV\n",
    "data_wp = pandas.read_csv(\"../data/WahsingtonPostDatabase.csv\", parse_dates=[\"date\"], date_parser=pandas.to_datetime)\n",
    "\n",
    "data_wp[\"date\"] = pandas.to_datetime(data_wp[\"date\"]) \t\t\t\t# change date type to datetime\n",
    "data_wp[\"name\"] = data_wp[\"name\"].fillna(\"Unknown\") \t\t\t\t# replace NaN  by unknown\n",
    "data_wp[\"armed\"] = data_wp[\"armed\"].fillna(\"Unknown\") \t\t\t\t# replace NaN  by unknown\n",
    "data_wp[\"gender\"] = data_wp[\"gender\"].fillna(\"Unknown\") \t\t\t# replace NaN  by unknown\n",
    "data_wp[\"race\"] = data_wp[\"race\"].fillna(\"Unknown\") \t\t\t\t# replace NaN  by unknown\n",
    "data_wp[\"threat_level\"] = data_wp[\"threat_level\"].fillna(\"Unknown\")\t# replace NaN  by unknown\n",
    "data_wp[\"flee\"] = data_wp[\"flee\"].fillna(\"Unknown\") \t\t\t\t# replace NaN  by unknown\n",
    "data_wp[\"latitude\"] = data_wp[\"latitude\"].fillna(\"Unknown\") \t\t# replace NaN  by unknown\n",
    "data_wp[\"longitude\"] = data_wp[\"longitude\"].fillna(0) \t\t\t\t# replace NaN  by unknown\n",
    "age_mean = data_wp[\"age\"].mean()\n",
    "data_wp[\"age\"] = data_wp[\"age\"].fillna(round(age_mean))  \t\t\t# replace NaN age by mean\n",
    "\n",
    "data_wp"
   ]
  },
  {
   "cell_type": "markdown",
   "metadata": {
    "pycharm": {
     "name": "#%% md\n"
    }
   },
   "source": [
    "## Analyse de \"PoliceDeaths.csv\""
   ]
  },
  {
   "cell_type": "code",
   "execution_count": 3,
   "metadata": {
    "pycharm": {
     "name": "#%%\n"
    }
   },
   "outputs": [
    {
     "data": {
      "text/html": [
       "<div>\n",
       "<style scoped>\n",
       "    .dataframe tbody tr th:only-of-type {\n",
       "        vertical-align: middle;\n",
       "    }\n",
       "\n",
       "    .dataframe tbody tr th {\n",
       "        vertical-align: top;\n",
       "    }\n",
       "\n",
       "    .dataframe thead th {\n",
       "        text-align: right;\n",
       "    }\n",
       "</style>\n",
       "<table border=\"1\" class=\"dataframe\">\n",
       "  <thead>\n",
       "    <tr style=\"text-align: right;\">\n",
       "      <th></th>\n",
       "      <th>person</th>\n",
       "      <th>dept</th>\n",
       "      <th>eow</th>\n",
       "      <th>cause</th>\n",
       "      <th>cause_short</th>\n",
       "      <th>date</th>\n",
       "      <th>year</th>\n",
       "      <th>canine</th>\n",
       "      <th>dept_name</th>\n",
       "      <th>state</th>\n",
       "    </tr>\n",
       "  </thead>\n",
       "  <tbody>\n",
       "    <tr>\n",
       "      <th>0</th>\n",
       "      <td>Constable Darius Quimby</td>\n",
       "      <td>Albany County Constable's Office, NY</td>\n",
       "      <td>EOW: Monday, January 3, 1791</td>\n",
       "      <td>Cause of Death: Gunfire</td>\n",
       "      <td>Gunfire</td>\n",
       "      <td>1791-01-03</td>\n",
       "      <td>1791</td>\n",
       "      <td>False</td>\n",
       "      <td>Albany County Constable's Office</td>\n",
       "      <td>NY</td>\n",
       "    </tr>\n",
       "    <tr>\n",
       "      <th>1</th>\n",
       "      <td>Sheriff Cornelius Hogeboom</td>\n",
       "      <td>Columbia County Sheriff's Office, NY</td>\n",
       "      <td>EOW: Saturday, October 22, 1791</td>\n",
       "      <td>Cause of Death: Gunfire</td>\n",
       "      <td>Gunfire</td>\n",
       "      <td>1791-10-22</td>\n",
       "      <td>1791</td>\n",
       "      <td>False</td>\n",
       "      <td>Columbia County Sheriff's Office</td>\n",
       "      <td>NY</td>\n",
       "    </tr>\n",
       "    <tr>\n",
       "      <th>2</th>\n",
       "      <td>Deputy Sheriff Isaac Smith</td>\n",
       "      <td>Westchester County Sheriff's Department, NY</td>\n",
       "      <td>EOW: Thursday, May 17, 1792</td>\n",
       "      <td>Cause of Death: Gunfire</td>\n",
       "      <td>Gunfire</td>\n",
       "      <td>1792-05-17</td>\n",
       "      <td>1792</td>\n",
       "      <td>False</td>\n",
       "      <td>Westchester County Sheriff's Department</td>\n",
       "      <td>NY</td>\n",
       "    </tr>\n",
       "    <tr>\n",
       "      <th>3</th>\n",
       "      <td>Marshal Robert Forsyth</td>\n",
       "      <td>United States Department of Justice - United S...</td>\n",
       "      <td>EOW: Saturday, January 11, 1794</td>\n",
       "      <td>Cause of Death: Gunfire</td>\n",
       "      <td>Gunfire</td>\n",
       "      <td>1794-01-11</td>\n",
       "      <td>1794</td>\n",
       "      <td>False</td>\n",
       "      <td>United States Department of Justice - United S...</td>\n",
       "      <td>US</td>\n",
       "    </tr>\n",
       "    <tr>\n",
       "      <th>4</th>\n",
       "      <td>Sheriff Robert Maxwell</td>\n",
       "      <td>Greenville County Sheriff's Office, SC</td>\n",
       "      <td>EOW: Sunday, November 12, 1797</td>\n",
       "      <td>Cause of Death: Gunfire</td>\n",
       "      <td>Gunfire</td>\n",
       "      <td>1797-11-12</td>\n",
       "      <td>1797</td>\n",
       "      <td>False</td>\n",
       "      <td>Greenville County Sheriff's Office</td>\n",
       "      <td>SC</td>\n",
       "    </tr>\n",
       "    <tr>\n",
       "      <th>...</th>\n",
       "      <td>...</td>\n",
       "      <td>...</td>\n",
       "      <td>...</td>\n",
       "      <td>...</td>\n",
       "      <td>...</td>\n",
       "      <td>...</td>\n",
       "      <td>...</td>\n",
       "      <td>...</td>\n",
       "      <td>...</td>\n",
       "      <td>...</td>\n",
       "    </tr>\n",
       "    <tr>\n",
       "      <th>22795</th>\n",
       "      <td>K9 Bruno</td>\n",
       "      <td>Amarillo Police Department, TX</td>\n",
       "      <td>EOW: Sunday, June 12, 2016</td>\n",
       "      <td>Cause of Death: Accidental</td>\n",
       "      <td>Accidental</td>\n",
       "      <td>2016-06-12</td>\n",
       "      <td>2016</td>\n",
       "      <td>True</td>\n",
       "      <td>Amarillo Police Department</td>\n",
       "      <td>TX</td>\n",
       "    </tr>\n",
       "    <tr>\n",
       "      <th>22796</th>\n",
       "      <td>K9 Lazer</td>\n",
       "      <td>United States Department of Homeland Security ...</td>\n",
       "      <td>EOW: Monday, June 20, 2016</td>\n",
       "      <td>Cause of Death: Heat exhaustion</td>\n",
       "      <td>Heat exhaustion</td>\n",
       "      <td>2016-06-20</td>\n",
       "      <td>2016</td>\n",
       "      <td>True</td>\n",
       "      <td>United States Department of Homeland Security ...</td>\n",
       "      <td>US</td>\n",
       "    </tr>\n",
       "    <tr>\n",
       "      <th>22797</th>\n",
       "      <td>K9 Tyson</td>\n",
       "      <td>Fountain County Sheriff's Office, IN</td>\n",
       "      <td>EOW: Monday, June 27, 2016</td>\n",
       "      <td>Cause of Death: Heat exhaustion</td>\n",
       "      <td>Heat exhaustion</td>\n",
       "      <td>2016-06-27</td>\n",
       "      <td>2016</td>\n",
       "      <td>True</td>\n",
       "      <td>Fountain County Sheriff's Office</td>\n",
       "      <td>IN</td>\n",
       "    </tr>\n",
       "    <tr>\n",
       "      <th>22798</th>\n",
       "      <td>K9 Credo</td>\n",
       "      <td>Long Beach Police Department, CA</td>\n",
       "      <td>EOW: Tuesday, June 28, 2016</td>\n",
       "      <td>Cause of Death: Gunfire (Accidental)</td>\n",
       "      <td>Gunfire (Accidental)</td>\n",
       "      <td>2016-06-28</td>\n",
       "      <td>2016</td>\n",
       "      <td>True</td>\n",
       "      <td>Long Beach Police Department</td>\n",
       "      <td>CA</td>\n",
       "    </tr>\n",
       "    <tr>\n",
       "      <th>22799</th>\n",
       "      <td>K9 Roscoe</td>\n",
       "      <td>Emmett Police Department, ID</td>\n",
       "      <td>EOW: Friday, July 1, 2016</td>\n",
       "      <td>Cause of Death: Automobile accident</td>\n",
       "      <td>Automobile accident</td>\n",
       "      <td>2016-07-01</td>\n",
       "      <td>2016</td>\n",
       "      <td>True</td>\n",
       "      <td>Emmett Police Department</td>\n",
       "      <td>ID</td>\n",
       "    </tr>\n",
       "  </tbody>\n",
       "</table>\n",
       "<p>22800 rows × 10 columns</p>\n",
       "</div>"
      ],
      "text/plain": [
       "                           person  \\\n",
       "0         Constable Darius Quimby   \n",
       "1      Sheriff Cornelius Hogeboom   \n",
       "2      Deputy Sheriff Isaac Smith   \n",
       "3          Marshal Robert Forsyth   \n",
       "4          Sheriff Robert Maxwell   \n",
       "...                           ...   \n",
       "22795                    K9 Bruno   \n",
       "22796                    K9 Lazer   \n",
       "22797                    K9 Tyson   \n",
       "22798                    K9 Credo   \n",
       "22799                   K9 Roscoe   \n",
       "\n",
       "                                                    dept  \\\n",
       "0                   Albany County Constable's Office, NY   \n",
       "1                   Columbia County Sheriff's Office, NY   \n",
       "2            Westchester County Sheriff's Department, NY   \n",
       "3      United States Department of Justice - United S...   \n",
       "4                 Greenville County Sheriff's Office, SC   \n",
       "...                                                  ...   \n",
       "22795                     Amarillo Police Department, TX   \n",
       "22796  United States Department of Homeland Security ...   \n",
       "22797               Fountain County Sheriff's Office, IN   \n",
       "22798                   Long Beach Police Department, CA   \n",
       "22799                       Emmett Police Department, ID   \n",
       "\n",
       "                                   eow                                 cause  \\\n",
       "0         EOW: Monday, January 3, 1791               Cause of Death: Gunfire   \n",
       "1      EOW: Saturday, October 22, 1791               Cause of Death: Gunfire   \n",
       "2          EOW: Thursday, May 17, 1792               Cause of Death: Gunfire   \n",
       "3      EOW: Saturday, January 11, 1794               Cause of Death: Gunfire   \n",
       "4       EOW: Sunday, November 12, 1797               Cause of Death: Gunfire   \n",
       "...                                ...                                   ...   \n",
       "22795       EOW: Sunday, June 12, 2016            Cause of Death: Accidental   \n",
       "22796       EOW: Monday, June 20, 2016       Cause of Death: Heat exhaustion   \n",
       "22797       EOW: Monday, June 27, 2016       Cause of Death: Heat exhaustion   \n",
       "22798      EOW: Tuesday, June 28, 2016  Cause of Death: Gunfire (Accidental)   \n",
       "22799        EOW: Friday, July 1, 2016   Cause of Death: Automobile accident   \n",
       "\n",
       "                cause_short       date  year  canine  \\\n",
       "0                   Gunfire 1791-01-03  1791   False   \n",
       "1                   Gunfire 1791-10-22  1791   False   \n",
       "2                   Gunfire 1792-05-17  1792   False   \n",
       "3                   Gunfire 1794-01-11  1794   False   \n",
       "4                   Gunfire 1797-11-12  1797   False   \n",
       "...                     ...        ...   ...     ...   \n",
       "22795            Accidental 2016-06-12  2016    True   \n",
       "22796       Heat exhaustion 2016-06-20  2016    True   \n",
       "22797       Heat exhaustion 2016-06-27  2016    True   \n",
       "22798  Gunfire (Accidental) 2016-06-28  2016    True   \n",
       "22799   Automobile accident 2016-07-01  2016    True   \n",
       "\n",
       "                                               dept_name state  \n",
       "0                       Albany County Constable's Office    NY  \n",
       "1                       Columbia County Sheriff's Office    NY  \n",
       "2                Westchester County Sheriff's Department    NY  \n",
       "3      United States Department of Justice - United S...    US  \n",
       "4                     Greenville County Sheriff's Office    SC  \n",
       "...                                                  ...   ...  \n",
       "22795                         Amarillo Police Department    TX  \n",
       "22796  United States Department of Homeland Security ...    US  \n",
       "22797                   Fountain County Sheriff's Office    IN  \n",
       "22798                       Long Beach Police Department    CA  \n",
       "22799                           Emmett Police Department    ID  \n",
       "\n",
       "[22800 rows x 10 columns]"
      ]
     },
     "execution_count": 3,
     "metadata": {},
     "output_type": "execute_result"
    }
   ],
   "source": [
    "data_pd = pandas.read_csv(\"../data/PoliceDeaths.csv\", index_col=None, parse_dates=[\"date\"], date_parser=pandas.to_datetime)\n",
    "data_pd[\"state\"] = data_pd[\"state\"].map(lambda state: state.strip())\n",
    "\n",
    "pd_state_data = pandas.DataFrame(\n",
    "\tdata=data_pd[\"state\"].value_counts().reset_index().values,\n",
    "\tcolumns=[\"State\", \"Number of deaths\"]\n",
    ").sort_values(\"State\", ascending=True)\n",
    "\n",
    "data_pd"
   ]
  },
  {
   "cell_type": "code",
   "execution_count": 4,
   "metadata": {
    "pycharm": {
     "name": "#%%\n"
    }
   },
   "outputs": [
    {
     "data": {
      "text/html": [
       "<div>\n",
       "<style scoped>\n",
       "    .dataframe tbody tr th:only-of-type {\n",
       "        vertical-align: middle;\n",
       "    }\n",
       "\n",
       "    .dataframe tbody tr th {\n",
       "        vertical-align: top;\n",
       "    }\n",
       "\n",
       "    .dataframe thead th {\n",
       "        text-align: right;\n",
       "    }\n",
       "</style>\n",
       "<table border=\"1\" class=\"dataframe\">\n",
       "  <thead>\n",
       "    <tr style=\"text-align: right;\">\n",
       "      <th></th>\n",
       "      <th>person</th>\n",
       "      <th>dept</th>\n",
       "      <th>eow</th>\n",
       "      <th>cause</th>\n",
       "      <th>cause_short</th>\n",
       "      <th>date</th>\n",
       "      <th>year</th>\n",
       "      <th>canine</th>\n",
       "      <th>dept_name</th>\n",
       "      <th>state</th>\n",
       "    </tr>\n",
       "  </thead>\n",
       "  <tbody>\n",
       "    <tr>\n",
       "      <th>0</th>\n",
       "      <td>Constable Darius Quimby</td>\n",
       "      <td>Albany County Constable's Office, NY</td>\n",
       "      <td>EOW: Monday, January 3, 1791</td>\n",
       "      <td>Cause of Death: Gunfire</td>\n",
       "      <td>Gunfire</td>\n",
       "      <td>1791-01-03</td>\n",
       "      <td>1791</td>\n",
       "      <td>False</td>\n",
       "      <td>Albany County Constable's Office</td>\n",
       "      <td>NY</td>\n",
       "    </tr>\n",
       "    <tr>\n",
       "      <th>1</th>\n",
       "      <td>Sheriff Cornelius Hogeboom</td>\n",
       "      <td>Columbia County Sheriff's Office, NY</td>\n",
       "      <td>EOW: Saturday, October 22, 1791</td>\n",
       "      <td>Cause of Death: Gunfire</td>\n",
       "      <td>Gunfire</td>\n",
       "      <td>1791-10-22</td>\n",
       "      <td>1791</td>\n",
       "      <td>False</td>\n",
       "      <td>Columbia County Sheriff's Office</td>\n",
       "      <td>NY</td>\n",
       "    </tr>\n",
       "    <tr>\n",
       "      <th>2</th>\n",
       "      <td>Deputy Sheriff Isaac Smith</td>\n",
       "      <td>Westchester County Sheriff's Department, NY</td>\n",
       "      <td>EOW: Thursday, May 17, 1792</td>\n",
       "      <td>Cause of Death: Gunfire</td>\n",
       "      <td>Gunfire</td>\n",
       "      <td>1792-05-17</td>\n",
       "      <td>1792</td>\n",
       "      <td>False</td>\n",
       "      <td>Westchester County Sheriff's Department</td>\n",
       "      <td>NY</td>\n",
       "    </tr>\n",
       "    <tr>\n",
       "      <th>3</th>\n",
       "      <td>Marshal Robert Forsyth</td>\n",
       "      <td>United States Department of Justice - United S...</td>\n",
       "      <td>EOW: Saturday, January 11, 1794</td>\n",
       "      <td>Cause of Death: Gunfire</td>\n",
       "      <td>Gunfire</td>\n",
       "      <td>1794-01-11</td>\n",
       "      <td>1794</td>\n",
       "      <td>False</td>\n",
       "      <td>United States Department of Justice - United S...</td>\n",
       "      <td>US</td>\n",
       "    </tr>\n",
       "    <tr>\n",
       "      <th>4</th>\n",
       "      <td>Sheriff Robert Maxwell</td>\n",
       "      <td>Greenville County Sheriff's Office, SC</td>\n",
       "      <td>EOW: Sunday, November 12, 1797</td>\n",
       "      <td>Cause of Death: Gunfire</td>\n",
       "      <td>Gunfire</td>\n",
       "      <td>1797-11-12</td>\n",
       "      <td>1797</td>\n",
       "      <td>False</td>\n",
       "      <td>Greenville County Sheriff's Office</td>\n",
       "      <td>SC</td>\n",
       "    </tr>\n",
       "  </tbody>\n",
       "</table>\n",
       "</div>"
      ],
      "text/plain": [
       "                       person  \\\n",
       "0     Constable Darius Quimby   \n",
       "1  Sheriff Cornelius Hogeboom   \n",
       "2  Deputy Sheriff Isaac Smith   \n",
       "3      Marshal Robert Forsyth   \n",
       "4      Sheriff Robert Maxwell   \n",
       "\n",
       "                                                dept  \\\n",
       "0               Albany County Constable's Office, NY   \n",
       "1               Columbia County Sheriff's Office, NY   \n",
       "2        Westchester County Sheriff's Department, NY   \n",
       "3  United States Department of Justice - United S...   \n",
       "4             Greenville County Sheriff's Office, SC   \n",
       "\n",
       "                               eow                    cause cause_short  \\\n",
       "0     EOW: Monday, January 3, 1791  Cause of Death: Gunfire     Gunfire   \n",
       "1  EOW: Saturday, October 22, 1791  Cause of Death: Gunfire     Gunfire   \n",
       "2      EOW: Thursday, May 17, 1792  Cause of Death: Gunfire     Gunfire   \n",
       "3  EOW: Saturday, January 11, 1794  Cause of Death: Gunfire     Gunfire   \n",
       "4   EOW: Sunday, November 12, 1797  Cause of Death: Gunfire     Gunfire   \n",
       "\n",
       "        date  year  canine                                          dept_name  \\\n",
       "0 1791-01-03  1791   False                   Albany County Constable's Office   \n",
       "1 1791-10-22  1791   False                   Columbia County Sheriff's Office   \n",
       "2 1792-05-17  1792   False            Westchester County Sheriff's Department   \n",
       "3 1794-01-11  1794   False  United States Department of Justice - United S...   \n",
       "4 1797-11-12  1797   False                 Greenville County Sheriff's Office   \n",
       "\n",
       "  state  \n",
       "0    NY  \n",
       "1    NY  \n",
       "2    NY  \n",
       "3    US  \n",
       "4    SC  "
      ]
     },
     "execution_count": 4,
     "metadata": {},
     "output_type": "execute_result"
    }
   ],
   "source": [
    "data_pd.head()"
   ]
  },
  {
   "cell_type": "markdown",
   "metadata": {
    "pycharm": {
     "name": "#%% md\n"
    }
   },
   "source": [
    "#### Infos"
   ]
  },
  {
   "cell_type": "code",
   "execution_count": 5,
   "metadata": {
    "pycharm": {
     "name": "#%%\n"
    }
   },
   "outputs": [
    {
     "data": {
      "text/plain": [
       "(22800, 10)"
      ]
     },
     "execution_count": 5,
     "metadata": {},
     "output_type": "execute_result"
    }
   ],
   "source": [
    "data_pd.shape"
   ]
  },
  {
   "cell_type": "code",
   "execution_count": 6,
   "metadata": {
    "pycharm": {
     "name": "#%%\n"
    }
   },
   "outputs": [
    {
     "name": "stdout",
     "output_type": "stream",
     "text": [
      "<class 'pandas.core.frame.DataFrame'>\n",
      "RangeIndex: 22800 entries, 0 to 22799\n",
      "Data columns (total 10 columns):\n",
      " #   Column       Non-Null Count  Dtype         \n",
      "---  ------       --------------  -----         \n",
      " 0   person       22800 non-null  object        \n",
      " 1   dept         22800 non-null  object        \n",
      " 2   eow          22800 non-null  object        \n",
      " 3   cause        22800 non-null  object        \n",
      " 4   cause_short  22800 non-null  object        \n",
      " 5   date         22800 non-null  datetime64[ns]\n",
      " 6   year         22800 non-null  int64         \n",
      " 7   canine       22800 non-null  bool          \n",
      " 8   dept_name    22800 non-null  object        \n",
      " 9   state        22800 non-null  object        \n",
      "dtypes: bool(1), datetime64[ns](1), int64(1), object(7)\n",
      "memory usage: 1.6+ MB\n"
     ]
    }
   ],
   "source": [
    "data_pd.info()"
   ]
  },
  {
   "cell_type": "markdown",
   "metadata": {
    "pycharm": {
     "name": "#%% md\n"
    }
   },
   "source": [
    "22800 personnes en tout avec 9 informations par personne."
   ]
  },
  {
   "cell_type": "markdown",
   "metadata": {
    "pycharm": {
     "name": "#%% md\n"
    }
   },
   "source": [
    "#### Données manquantes"
   ]
  },
  {
   "cell_type": "code",
   "execution_count": 7,
   "metadata": {
    "pycharm": {
     "name": "#%%\n"
    }
   },
   "outputs": [
    {
     "data": {
      "text/plain": [
       "person         0\n",
       "dept           0\n",
       "eow            0\n",
       "cause          0\n",
       "cause_short    0\n",
       "date           0\n",
       "year           0\n",
       "canine         0\n",
       "dept_name      0\n",
       "state          0\n",
       "dtype: int64"
      ]
     },
     "execution_count": 7,
     "metadata": {},
     "output_type": "execute_result"
    }
   ],
   "source": [
    "data_pd.isna().sum()"
   ]
  },
  {
   "cell_type": "markdown",
   "metadata": {
    "pycharm": {
     "name": "#%% md\n"
    }
   },
   "source": [
    "Il ne nous manque aucune donnée."
   ]
  },
  {
   "cell_type": "markdown",
   "metadata": {
    "pycharm": {
     "name": "#%% md\n"
    }
   },
   "source": [
    "#### Nombre de données totales"
   ]
  },
  {
   "cell_type": "code",
   "execution_count": 8,
   "metadata": {
    "pycharm": {
     "name": "#%%\n"
    }
   },
   "outputs": [
    {
     "data": {
      "text/plain": [
       "228000"
      ]
     },
     "execution_count": 8,
     "metadata": {},
     "output_type": "execute_result"
    }
   ],
   "source": [
    "nb_data = data_pd.shape[1] * data_pd.shape[0]\n",
    "nb_data"
   ]
  },
  {
   "cell_type": "markdown",
   "metadata": {
    "pycharm": {
     "name": "#%% md\n"
    }
   },
   "source": [
    "#### Données dupliquées"
   ]
  },
  {
   "cell_type": "code",
   "execution_count": 9,
   "metadata": {
    "pycharm": {
     "name": "#%%\n"
    }
   },
   "outputs": [
    {
     "data": {
      "text/plain": [
       "0"
      ]
     },
     "execution_count": 9,
     "metadata": {},
     "output_type": "execute_result"
    }
   ],
   "source": [
    "data_pd.duplicated().sum()"
   ]
  },
  {
   "cell_type": "markdown",
   "metadata": {
    "pycharm": {
     "name": "#%% md\n"
    }
   },
   "source": [
    "Nous n'avons aucunes données dupliquées"
   ]
  },
  {
   "cell_type": "markdown",
   "metadata": {
    "pycharm": {
     "name": "#%% md\n"
    }
   },
   "source": [
    "#### Moyenne, écart-type, minimum, etc"
   ]
  },
  {
   "cell_type": "code",
   "execution_count": 10,
   "metadata": {
    "pycharm": {
     "name": "#%%\n"
    }
   },
   "outputs": [
    {
     "data": {
      "text/html": [
       "<div>\n",
       "<style scoped>\n",
       "    .dataframe tbody tr th:only-of-type {\n",
       "        vertical-align: middle;\n",
       "    }\n",
       "\n",
       "    .dataframe tbody tr th {\n",
       "        vertical-align: top;\n",
       "    }\n",
       "\n",
       "    .dataframe thead th {\n",
       "        text-align: right;\n",
       "    }\n",
       "</style>\n",
       "<table border=\"1\" class=\"dataframe\">\n",
       "  <thead>\n",
       "    <tr style=\"text-align: right;\">\n",
       "      <th></th>\n",
       "      <th>year</th>\n",
       "    </tr>\n",
       "  </thead>\n",
       "  <tbody>\n",
       "    <tr>\n",
       "      <th>count</th>\n",
       "      <td>22800.000000</td>\n",
       "    </tr>\n",
       "    <tr>\n",
       "      <th>mean</th>\n",
       "      <td>1951.751272</td>\n",
       "    </tr>\n",
       "    <tr>\n",
       "      <th>std</th>\n",
       "      <td>38.233234</td>\n",
       "    </tr>\n",
       "    <tr>\n",
       "      <th>min</th>\n",
       "      <td>1791.000000</td>\n",
       "    </tr>\n",
       "    <tr>\n",
       "      <th>25%</th>\n",
       "      <td>1924.000000</td>\n",
       "    </tr>\n",
       "    <tr>\n",
       "      <th>50%</th>\n",
       "      <td>1952.000000</td>\n",
       "    </tr>\n",
       "    <tr>\n",
       "      <th>75%</th>\n",
       "      <td>1983.000000</td>\n",
       "    </tr>\n",
       "    <tr>\n",
       "      <th>max</th>\n",
       "      <td>2016.000000</td>\n",
       "    </tr>\n",
       "  </tbody>\n",
       "</table>\n",
       "</div>"
      ],
      "text/plain": [
       "               year\n",
       "count  22800.000000\n",
       "mean    1951.751272\n",
       "std       38.233234\n",
       "min     1791.000000\n",
       "25%     1924.000000\n",
       "50%     1952.000000\n",
       "75%     1983.000000\n",
       "max     2016.000000"
      ]
     },
     "execution_count": 10,
     "metadata": {},
     "output_type": "execute_result"
    }
   ],
   "source": [
    "data_pd.describe()"
   ]
  },
  {
   "cell_type": "markdown",
   "metadata": {
    "pycharm": {
     "name": "#%% md\n"
    }
   },
   "source": [
    "#### Nombre de valeurs canine"
   ]
  },
  {
   "cell_type": "code",
   "execution_count": 11,
   "metadata": {
    "pycharm": {
     "name": "#%%\n"
    }
   },
   "outputs": [
    {
     "data": {
      "text/plain": [
       "False    22537\n",
       "True       263\n",
       "Name: canine, dtype: int64"
      ]
     },
     "execution_count": 11,
     "metadata": {},
     "output_type": "execute_result"
    }
   ],
   "source": [
    "data_pd.canine.value_counts()"
   ]
  },
  {
   "cell_type": "code",
   "execution_count": 12,
   "metadata": {
    "pycharm": {
     "name": "#%%\n"
    }
   },
   "outputs": [
    {
     "data": {
      "text/plain": [
       "False    98.846491\n",
       "True      1.153509\n",
       "Name: canine, dtype: float64"
      ]
     },
     "execution_count": 12,
     "metadata": {},
     "output_type": "execute_result"
    }
   ],
   "source": [
    "data_pd.canine.value_counts(normalize=True)*100 #Transformation %"
   ]
  },
  {
   "cell_type": "code",
   "execution_count": 21,
   "metadata": {
    "pycharm": {
     "name": "#%%\n"
    }
   },
   "outputs": [],
   "source": [
    "_ = data_pd.canine.value_counts().plot(kind=\"pie\", autopct='%1.2f%%')"
   ]
  },
  {
   "cell_type": "markdown",
   "metadata": {
    "pycharm": {
     "name": "#%% md\n"
    }
   },
   "source": [
    "#### Répartition par État"
   ]
  },
  {
   "cell_type": "code",
   "execution_count": 20,
   "metadata": {
    "pycharm": {
     "name": "#%%\n"
    }
   },
   "outputs": [],
   "source": [
    "# _ = data_pd.state.value_counts().plot(kind=\"pie\")"
   ]
  },
  {
   "cell_type": "markdown",
   "metadata": {
    "pycharm": {
     "name": "#%% md\n"
    }
   },
   "source": [
    "L'état comprenant le plus de morts de policiers est le Texas, suivi par la Californie et l'état de New York."
   ]
  },
  {
   "cell_type": "code",
   "execution_count": null,
   "metadata": {
    "pycharm": {
     "name": "#%%\n"
    }
   },
   "outputs": [],
   "source": []
  }
 ],
 "metadata": {
  "kernelspec": {
   "display_name": "Python 3 (ipykernel)",
   "language": "python",
   "name": "python3"
  },
  "language_info": {
   "codemirror_mode": {
    "name": "ipython",
    "version": 3
   },
   "file_extension": ".py",
   "mimetype": "text/x-python",
   "name": "python",
   "nbconvert_exporter": "python",
   "pygments_lexer": "ipython3",
   "version": "3.10.4"
  }
 },
 "nbformat": 4,
 "nbformat_minor": 1
}
