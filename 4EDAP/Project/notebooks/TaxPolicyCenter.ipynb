{
 "cells": [
  {
   "cell_type": "code",
   "execution_count": 325,
   "metadata": {
    "collapsed": true,
    "pycharm": {
     "name": "#%%\n"
    }
   },
   "outputs": [],
   "source": [
    "import matplotlib.ticker\n",
    "import pandas as pd  #manipulation des donnees\n",
    "import numpy as np   #calcul mathematiques\n",
    "import matplotlib.pyplot as plt\n",
    "plt.rcParams[\"figure.figsize\"] = [17, 7]"
   ]
  },
  {
   "cell_type": "code",
   "execution_count": 326,
   "outputs": [],
   "source": [
    "tax_data = pd.read_excel(\n",
    "    \"../data/TaxPolicyCenter.xls\",\n",
    "    skiprows=5, skipfooter=4,\n",
    "    header=[0,1,2],\n",
    "    sheet_name=None\n",
    ")\n",
    "sample_df = tax_data[\"2019\"]"
   ],
   "metadata": {
    "collapsed": false,
    "pycharm": {
     "name": "#%%\n"
    }
   }
  },
  {
   "cell_type": "code",
   "execution_count": 327,
   "outputs": [
    {
     "name": "stdout",
     "output_type": "stream",
     "text": [
      "===================Data INFO=====================\n",
      "<class 'pandas.core.frame.DataFrame'>\n",
      "RangeIndex: 71 entries, 0 to 70\n",
      "Data columns (total 12 columns):\n",
      " #   Column                                                      Non-Null Count  Dtype  \n",
      "---  ------                                                      --------------  -----  \n",
      " 0   (Unnamed: 0_level_0, Region and State, Unnamed: 0_level_2)  60 non-null     object \n",
      " 1   (Unnamed: 1_level_0, Region and State, Total)               60 non-null     float64\n",
      " 2   (Unnamed: 2_level_0, Inter-, governmental)                  60 non-null     float64\n",
      " 3   (Unnamed: 3_level_0, Inter-, Total)                         60 non-null     float64\n",
      " 4   (Elementary, and Secondary, Education)                      60 non-null     float64\n",
      " 5   (Elementary, Higher, Education)                             60 non-null     float64\n",
      " 6   (Elementary, Public, Welfare)                               60 non-null     float64\n",
      " 7   (Elementary, Health and, Hospitals)                         60 non-null     float64\n",
      " 8   (Elementary, Health and, Highways)                          60 non-null     float64\n",
      " 9   (Elementary, Health and, Police)                            60 non-null     float64\n",
      " 10  (Elementary, All, Other)                                    60 non-null     float64\n",
      " 11  (Personal, Income [1], (Millions))                          60 non-null     float64\n",
      "dtypes: float64(11), object(1)\n",
      "memory usage: 6.8+ KB\n",
      "===================Données manquantes pour 2019 ?=====================\n",
      "Region and State                      11\n",
      "Total                                 11\n",
      "Inter-governmental                    11\n",
      "Direct Total                          11\n",
      "Elementary and Secondary Education    11\n",
      "Higher Education                      11\n",
      "Public Welfare                        11\n",
      "Health and Hospitals                  11\n",
      "Highways                              11\n",
      "Police                                11\n",
      "All Other                             11\n",
      "Personal Income [1] (Millions)        11\n",
      "dtype: int64\n",
      "===================Données manquantes pour 2018 ?=====================\n",
      "Region and State                      11\n",
      "Total                                 11\n",
      "Inter-governmental                    11\n",
      "Direct Total                          11\n",
      "Elementary and Secondary Education    11\n",
      "Higher Education                      11\n",
      "Public Welfare                        11\n",
      "Health and Hospitals                  11\n",
      "Highways                              11\n",
      "Police                                11\n",
      "All Other                             11\n",
      "Personal Income [1] (Millions)        11\n",
      "dtype: int64\n",
      "===================Données manquantes pour 2017 ?=====================\n",
      "Region and State                      11\n",
      "Total                                 11\n",
      "Inter-governmental                    11\n",
      "Direct Total                          11\n",
      "Elementary and Secondary Education    11\n",
      "Higher Education                      11\n",
      "Public Welfare                        11\n",
      "Health and Hospitals                  11\n",
      "Highways                              11\n",
      "Police                                11\n",
      "All Other                             11\n",
      "Personal Income [1] (Millions)        11\n",
      "dtype: int64\n",
      "===================Données manquantes pour 2016 ?=====================\n",
      "Region and State                      11\n",
      "Total                                 11\n",
      "Inter-governmental                    11\n",
      "Direct Total                          11\n",
      "Elementary and Secondary Education    11\n",
      "Higher Education                      11\n",
      "Public Welfare                        11\n",
      "Health and Hospitals                  11\n",
      "Highways                              11\n",
      "Police                                11\n",
      "All Other                             11\n",
      "Personal Income [1] (Millions)        11\n",
      "dtype: int64\n",
      "===================Données manquantes pour 2015 ?=====================\n",
      "Region and State                      11\n",
      "Total                                 11\n",
      "Inter-governmental                    11\n",
      "Direct Total                          11\n",
      "Elementary and Secondary Education    11\n",
      "Higher Education                      11\n",
      "Public Welfare                        11\n",
      "Health and Hospitals                  11\n",
      "Highways                              11\n",
      "Police                                11\n",
      "All Other                             11\n",
      "Personal Income [1] (Millions)        11\n",
      "dtype: int64\n",
      "===================Données manquantes pour 2014 ?=====================\n",
      "Region and State                      11\n",
      "Total                                 11\n",
      "Inter-governmental                    11\n",
      "Direct Total                          11\n",
      "Elementary and Secondary Education    11\n",
      "Higher Education                      11\n",
      "Public Welfare                        11\n",
      "Health and Hospitals                  11\n",
      "Highways                              11\n",
      "Police                                11\n",
      "All Other                             11\n",
      "Personal Income [1] (Millions)        11\n",
      "dtype: int64\n",
      "===================Données manquantes pour 2013 ?=====================\n",
      "Region and State                      11\n",
      "Total                                 11\n",
      "Inter-governmental                    11\n",
      "Direct Total                          11\n",
      "Elementary and Secondary Education    11\n",
      "Higher Education                      11\n",
      "Public Welfare                        11\n",
      "Health and Hospitals                  11\n",
      "Highways                              11\n",
      "Police                                11\n",
      "All Other                             11\n",
      "Personal Income [1] (Millions)        11\n",
      "dtype: int64\n",
      "===================Données manquantes pour 2012 ?=====================\n",
      "Region and State                      11\n",
      "Total                                 11\n",
      "Inter-governmental                    11\n",
      "Direct Total                          11\n",
      "Elementary and Secondary Education    11\n",
      "Higher Education                      11\n",
      "Public Welfare                        11\n",
      "Health and Hospitals                  11\n",
      "Highways                              11\n",
      "Police                                11\n",
      "All Other                             11\n",
      "Personal Income [1] (Millions)        11\n",
      "dtype: int64\n",
      "===================Données manquantes pour 2011 ?=====================\n",
      "Region and State                      11\n",
      "Total                                 11\n",
      "Inter-governmental                    11\n",
      "Direct Total                          11\n",
      "Elementary and Secondary Education    11\n",
      "Higher Education                      11\n",
      "Public Welfare                        11\n",
      "Health and Hospitals                  11\n",
      "Highways                              11\n",
      "Police                                11\n",
      "All Other                             11\n",
      "Personal Income [1] (Millions)        11\n",
      "dtype: int64\n",
      "===================Données manquantes pour 2010 ?=====================\n",
      "Region and State                      11\n",
      "Total                                 11\n",
      "Inter-governmental                    11\n",
      "Direct Total                          11\n",
      "Elementary and Secondary Education    11\n",
      "Higher Education                      11\n",
      "Public Welfare                        11\n",
      "Health and Hospitals                  11\n",
      "Highways                              11\n",
      "Police                                11\n",
      "All Other                             11\n",
      "Personal Income [1] (Millions)        11\n",
      "dtype: int64\n",
      "===================Données manquantes pour 2009 ?=====================\n",
      "Region and State                      11\n",
      "Total                                 11\n",
      "Inter-governmental                    11\n",
      "Direct Total                          11\n",
      "Elementary and Secondary Education    11\n",
      "Higher Education                      11\n",
      "Public Welfare                        11\n",
      "Health and Hospitals                  11\n",
      "Highways                              11\n",
      "Police                                11\n",
      "All Other                             11\n",
      "Personal Income [1] (Millions)        11\n",
      "dtype: int64\n",
      "===================Données manquantes pour 2008 ?=====================\n",
      "Region and State                      11\n",
      "Total                                 11\n",
      "Inter-governmental                    11\n",
      "Direct Total                          11\n",
      "Elementary and Secondary Education    11\n",
      "Higher Education                      11\n",
      "Public Welfare                        11\n",
      "Health and Hospitals                  11\n",
      "Highways                              11\n",
      "Police                                11\n",
      "All Other                             11\n",
      "Personal Income [1] (Millions)        11\n",
      "dtype: int64\n",
      "===================Données manquantes pour 2007 ?=====================\n",
      "Region and State                      11\n",
      "Total                                 11\n",
      "Inter-governmental                    11\n",
      "Direct Total                          11\n",
      "Elementary and Secondary Education    11\n",
      "Higher Education                      11\n",
      "Public Welfare                        11\n",
      "Health and Hospitals                  11\n",
      "Highways                              11\n",
      "Police                                11\n",
      "All Other                             11\n",
      "Personal Income [1] (Millions)        11\n",
      "dtype: int64\n",
      "===================Données manquantes pour 2006 ?=====================\n",
      "Region and State                      11\n",
      "Total                                 12\n",
      "Inter-governmental                    12\n",
      "Direct Total                          12\n",
      "Elementary and Secondary Education    12\n",
      "Higher Education                      12\n",
      "Public Welfare                        12\n",
      "Health and Hospitals                  12\n",
      "Highways                              12\n",
      "Police                                12\n",
      "All Other                             12\n",
      "Personal Income [1] (Millions)        12\n",
      "dtype: int64\n",
      "===================Données manquantes pour 2005 ?=====================\n",
      "Region and State                      11\n",
      "Total                                 12\n",
      "Inter-governmental                    12\n",
      "Direct Total                          12\n",
      "Elementary and Secondary Education    12\n",
      "Higher Education                      12\n",
      "Public Welfare                        12\n",
      "Health and Hospitals                  12\n",
      "Highways                              12\n",
      "Police                                12\n",
      "All Other                             12\n",
      "Personal Income [1] (Millions)        12\n",
      "dtype: int64\n",
      "===================Données manquantes pour 2004 ?=====================\n",
      "Region and State                      11\n",
      "Total                                 12\n",
      "Inter-governmental                    12\n",
      "Direct Total                          12\n",
      "Elementary and Secondary Education    12\n",
      "Higher Education                      12\n",
      "Public Welfare                        12\n",
      "Health and Hospitals                  12\n",
      "Highways                              12\n",
      "Police                                12\n",
      "All Other                             12\n",
      "Personal Income [1] (Millions)        12\n",
      "dtype: int64\n"
     ]
    }
   ],
   "source": [
    "total_data = 0\n",
    "total_income_list = []\n",
    "police_budget = []\n",
    "budget_years = []\n",
    "print(\"===================Data INFO=====================\")\n",
    "sample_df.info() #71 états/collectivités avec 11 colonnes de dépenses\n",
    "for sheet in tax_data :\n",
    "    income = 0\n",
    "    df = tax_data[sheet]\n",
    "    df.columns = [\"_\".join(index_str) for index_str in df.columns.to_flat_index()]\n",
    "    df.rename(columns={\n",
    "        \"Unnamed: 0_level_0_Region and State_Unnamed: 0_level_2\": \"Region and State\",\"Unnamed: 1_level_0_Region and State_Total\": \"Total\",\n",
    "        \"Unnamed: 2_level_0_Inter-_governmental\": \"Inter-governmental\",\n",
    "        \"Unnamed: 3_level_0_Inter-_Total\": \"Direct Total\",\n",
    "        \"Elementary_and Secondary_Education\": \"Elementary and Secondary Education\",\n",
    "        \"Elementary_Higher_Education\": \"Higher Education\",\n",
    "        \"Elementary_Public_Welfare\": \"Public Welfare\",\n",
    "        \"Elementary_Health and_Hospitals\": \"Health and Hospitals\",\n",
    "        \"Elementary_Health and_Highways\": \"Highways\",\n",
    "        \"Elementary_Health and_Police\": \"Police\",\n",
    "        \"Elementary_All_Other\": \"All Other\",\n",
    "        \"Personal_Income [1]_(Millions)\": \"Personal Income [1] (Millions)\"\n",
    "    }, inplace=True)\n",
    "    print(\"===================Données manquantes pour \" + sheet + \" ?=====================\")\n",
    "    print(df.isna().sum())\n",
    "    df.dropna(inplace=True) #Suppression des lignes avec une valeur manquantes\n",
    "    total_income_list.insert(0,(df.iloc[0]['Personal Income [1] (Millions)']))\n",
    "    police_budget.insert(0,(df.iloc[0]['Personal Income [1] (Millions)'])/100*(df.iloc[0]['Police']*100))\n",
    "    budget_years.insert(0,(sheet))\n",
    "    df = df[~df[\"Region and State\"].isin([\"United States\", \"New England\", \"Mideast\", \"Great Lakes\", \"Plains\", \"Southeast\", \"Southwest\", \"Rocky Moutain\", \"Far West [2]\"])]\n",
    "    total_data += df.shape[1]*df.shape[0]\n",
    "sample_df[\"All years income\"] = pd.Series(total_income_list)\n",
    "sample_df[\"Police budget evolution\"] = pd.Series(police_budget)"
   ],
   "metadata": {
    "collapsed": false,
    "pycharm": {
     "name": "#%%\n"
    }
   }
  },
  {
   "cell_type": "code",
   "execution_count": 328,
   "outputs": [
    {
     "name": "stdout",
     "output_type": "stream",
     "text": [
      "===================Shape=====================\n",
      "(60, 14)\n"
     ]
    }
   ],
   "source": [
    "print(\"===================Shape=====================\")\n",
    "print(sample_df.shape)"
   ],
   "metadata": {
    "collapsed": false,
    "pycharm": {
     "name": "#%%\n"
    }
   }
  },
  {
   "cell_type": "code",
   "execution_count": 329,
   "outputs": [
    {
     "name": "stdout",
     "output_type": "stream",
     "text": [
      "===================Total des données=====================\n",
      "10176\n"
     ]
    }
   ],
   "source": [
    "print(\"===================Total des données=====================\")\n",
    "print(total_data)"
   ],
   "metadata": {
    "collapsed": false,
    "pycharm": {
     "name": "#%%\n"
    }
   }
  },
  {
   "cell_type": "code",
   "execution_count": 330,
   "outputs": [
    {
     "name": "stdout",
     "output_type": "stream",
     "text": [
      "===================Description=====================\n",
      "           Total  Inter-governmental  Direct Total  \\\n",
      "count  60.000000           60.000000     60.000000   \n",
      "mean   18.281756            0.007065     18.274691   \n",
      "std     3.785900            0.020820      3.783119   \n",
      "min     0.180093            0.000000      0.179921   \n",
      "25%    16.517344            0.000000     16.517344   \n",
      "50%    18.147631            0.000018     18.147577   \n",
      "75%    19.794667            0.001935     19.794667   \n",
      "max    28.095157            0.108886     28.095157   \n",
      "\n",
      "       Elementary and Secondary Education  Higher Education  Public Welfare  \\\n",
      "count                           60.000000         60.000000       60.000000   \n",
      "mean                             3.867793          1.767521        4.031424   \n",
      "std                              0.797018          0.613697        1.352895   \n",
      "min                              0.038711          0.016792        0.040109   \n",
      "25%                              3.579619          1.280230        3.017075   \n",
      "50%                              3.871914          1.771184        3.819156   \n",
      "75%                              4.202333          2.124720        5.059843   \n",
      "max                              6.312585          3.302401        6.962010   \n",
      "\n",
      "       Health and Hospitals   Highways     Police  All Other  \\\n",
      "count             60.000000  60.000000  60.000000  60.000000   \n",
      "mean               1.632759   1.243307   0.628770   5.103117   \n",
      "std                0.915194   0.477030   0.150432   1.397332   \n",
      "min                0.017351   0.010923   0.006636   0.049399   \n",
      "25%                1.013766   0.968849   0.556597   4.304009   \n",
      "50%                1.496192   1.096752   0.618976   4.935675   \n",
      "75%                2.058508   1.505501   0.700228   5.447679   \n",
      "max                4.788240   2.865624   1.116419  10.099438   \n",
      "\n",
      "       Personal Income [1] (Millions)  All years income  \\\n",
      "count                    6.000000e+01      1.300000e+01   \n",
      "mean                     9.250019e+05      1.433573e+07   \n",
      "std                      2.482756e+06      2.489145e+06   \n",
      "min                      3.450230e+04      1.060560e+07   \n",
      "25%                      1.018024e+05      1.249270e+07   \n",
      "50%                      3.042645e+05      1.399838e+07   \n",
      "75%                      6.395509e+05      1.615188e+07   \n",
      "max                      1.854226e+07      1.854226e+07   \n",
      "\n",
      "       Police budget evolution  \n",
      "count                13.000000  \n",
      "mean              99998.421001  \n",
      "std               13770.066801  \n",
      "min               74133.109050  \n",
      "25%               95017.083885  \n",
      "50%               96875.949535  \n",
      "75%              109116.131840  \n",
      "max              123046.265209  \n"
     ]
    }
   ],
   "source": [
    "print(\"===================Description=====================\")\n",
    "print(sample_df.describe())"
   ],
   "metadata": {
    "collapsed": false,
    "pycharm": {
     "name": "#%%\n"
    }
   }
  },
  {
   "cell_type": "code",
   "execution_count": 331,
   "outputs": [
    {
     "name": "stdout",
     "output_type": "stream",
     "text": [
      "===================Incomes=====================\n"
     ]
    },
    {
     "data": {
      "text/plain": "'df_income[\"Income normalization\"] = (df_income[\"Personal Income [1] (Millions)\"] - df_income[\"Personal Income [1] (Millions)\"].mean()) / df_income[\"Personal Income [1] (Millions)\"].std()'"
     },
     "execution_count": 331,
     "metadata": {},
     "output_type": "execute_result"
    }
   ],
   "source": [
    "print(\"===================Incomes=====================\")\n",
    "#print(df_income[\"Income normalization\"])\n",
    "'''df_income[\"Income normalization\"] = (df_income[\"Personal Income [1] (Millions)\"] - df_income[\"Personal Income [1] (Millions)\"].mean()) / df_income[\"Personal Income [1] (Millions)\"].std()'''\n",
    "#df_income[\"Income normalization\"].value_counts().plot(kind=\"pie\")"
   ],
   "metadata": {
    "collapsed": false,
    "pycharm": {
     "name": "#%%\n"
    }
   }
  },
  {
   "cell_type": "code",
   "execution_count": 332,
   "outputs": [
    {
     "name": "stdout",
     "output_type": "stream",
     "text": [
      "===================Fréquence POLICE=====================\n",
      "0.006636    1\n",
      "0.499674    1\n",
      "0.839846    1\n",
      "0.556318    1\n",
      "0.419779    1\n",
      "0.725179    1\n",
      "0.677574    1\n",
      "0.699466    1\n",
      "0.608634    1\n",
      "0.671187    1\n",
      "0.505795    1\n",
      "0.561099    1\n",
      "0.616176    1\n",
      "0.764157    1\n",
      "0.846351    1\n",
      "0.600182    1\n",
      "0.572082    1\n",
      "0.606264    1\n",
      "0.605274    1\n",
      "0.589629    1\n",
      "0.660343    1\n",
      "0.593690    1\n",
      "0.628844    1\n",
      "0.742768    1\n",
      "0.790000    1\n",
      "0.890150    1\n",
      "0.674584    1\n",
      "0.474570    1\n",
      "0.833915    1\n",
      "0.536538    1\n",
      "0.629032    1\n",
      "0.665023    1\n",
      "0.580005    1\n",
      "0.451019    1\n",
      "0.481552    1\n",
      "0.471798    1\n",
      "0.556690    1\n",
      "0.834149    1\n",
      "0.615643    1\n",
      "0.694050    1\n",
      "0.702516    1\n",
      "1.116419    1\n",
      "0.756840    1\n",
      "0.578226    1\n",
      "0.771013    1\n",
      "0.651559    1\n",
      "0.467983    1\n",
      "0.763175    1\n",
      "0.470206    1\n",
      "0.564050    1\n",
      "0.692643    1\n",
      "0.636177    1\n",
      "0.621776    1\n",
      "0.526321    1\n",
      "0.601182    1\n",
      "0.717056    1\n",
      "0.659906    1\n",
      "0.503377    1\n",
      "0.522096    1\n",
      "0.628013    1\n",
      "Name: Police, dtype: int64\n"
     ]
    }
   ],
   "source": [
    "print(\"===================Fréquence POLICE=====================\")\n",
    "print(sample_df[\"Police\"].value_counts())"
   ],
   "metadata": {
    "collapsed": false,
    "pycharm": {
     "name": "#%%\n"
    }
   }
  },
  {
   "cell_type": "code",
   "execution_count": 333,
   "outputs": [
    {
     "name": "stdout",
     "output_type": "stream",
     "text": [
      "===================Moyenne=====================\n",
      "All years income : 14335731.153846154\n",
      "Police budget : 99998.42100129538\n"
     ]
    }
   ],
   "source": [
    "print(\"===================Moyenne=====================\")\n",
    "\n",
    "print(\"All years income :\", sample_df[\"All years income\"].mean())\n",
    "print(\"Police budget :\", sample_df[\"Police budget evolution\"].mean())"
   ],
   "metadata": {
    "collapsed": false,
    "pycharm": {
     "name": "#%%\n"
    }
   }
  },
  {
   "cell_type": "code",
   "execution_count": 334,
   "outputs": [
    {
     "name": "stdout",
     "output_type": "stream",
     "text": [
      "===================Médiane=====================\n",
      "All years income : 13998383.0\n",
      "Police budget : 96875.94953533\n"
     ]
    }
   ],
   "source": [
    "print(\"===================Médiane=====================\")\n",
    "print(\"All years income :\", sample_df[\"All years income\"].median())\n",
    "print(\"Police budget :\", sample_df[\"Police budget evolution\"].median())"
   ],
   "metadata": {
    "collapsed": false,
    "pycharm": {
     "name": "#%%\n"
    }
   }
  },
  {
   "cell_type": "code",
   "execution_count": 335,
   "outputs": [
    {
     "name": "stdout",
     "output_type": "stream",
     "text": [
      "===================Skew=====================\n",
      "All years income : 0.3442130183886384\n",
      "Police budget : -0.025606281986510004\n"
     ]
    }
   ],
   "source": [
    "print(\"===================Skew=====================\")\n",
    "print(\"All years income :\", sample_df[\"All years income\"].skew())\n",
    "print(\"Police budget :\", sample_df[\"Police budget evolution\"].skew())"
   ],
   "metadata": {
    "collapsed": false,
    "pycharm": {
     "name": "#%%\n"
    }
   }
  },
  {
   "cell_type": "code",
   "execution_count": 336,
   "outputs": [
    {
     "data": {
      "text/plain": "<Figure size 1224x504 with 1 Axes>",
      "image/png": "[encoded data removed]"
     },
     "metadata": {
      "needs_background": "light"
     },
     "output_type": "display_data"
    },
    {
     "data": {
      "text/plain": "<Figure size 1224x504 with 1 Axes>",
      "image/png": "[encoded data removed]"
     },
     "metadata": {
      "needs_background": "light"
     },
     "output_type": "display_data"
    }
   ],
   "source": [
    "def formatter_1e6(x, pos):\n",
    "    return str(round(x / 1e6, 1))\n",
    "\n",
    "def formatter_1e4(x, pos):\n",
    "    return str(round(x / 1e4, 1))\n",
    "\n",
    "plt.plot(np.array(budget_years), np.array(total_income_list))\n",
    "plt.gca().get_yaxis().set_major_formatter(formatter_1e6)\n",
    "plt.gca().get_yaxis().set_minor_formatter(matplotlib.ticker.NullFormatter)\n",
    "plt.title(\"Évolution du revenu intérieur des USA\")\n",
    "plt.xlabel(\"Année\")\n",
    "plt.ylabel(\"Budget\")\n",
    "plt.gca().text(0, 1.05, \"en dizaines de milliers ($)\", transform=plt.gca().transAxes, ha=\"left\", va=\"top\")\n",
    "plt.show()\n",
    "\n",
    "plt.plot(np.array(budget_years), np.array(police_budget))\n",
    "plt.gca().get_yaxis().set_major_formatter(formatter_1e4)\n",
    "plt.gca().get_yaxis().set_minor_formatter(matplotlib.ticker.NullFormatter)\n",
    "plt.title(\"Évolution du budget de la police aux USA\")\n",
    "plt.xlabel(\"Année\")\n",
    "plt.ylabel(\"Budget\")\n",
    "plt.gca().text(0, 1.05, \"en dizaines de milliers ($)\", transform=plt.gca().transAxes, ha=\"left\", va=\"top\")\n",
    "plt.show()"
   ],
   "metadata": {
    "collapsed": false,
    "pycharm": {
     "name": "#%%\n"
    }
   }
  }
 ],
 "metadata": {
  "kernelspec": {
   "display_name": "Python 3",
   "language": "python",
   "name": "python3"
  },
  "language_info": {
   "codemirror_mode": {
    "name": "ipython",
    "version": 2
   },
   "file_extension": ".py",
   "mimetype": "text/x-python",
   "name": "python",
   "nbconvert_exporter": "python",
   "pygments_lexer": "ipython2",
   "version": "2.7.6"
  }
 },
 "nbformat": 4,
 "nbformat_minor": 0
}