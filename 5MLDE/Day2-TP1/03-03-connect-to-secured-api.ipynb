{
 "cells": [
  {
   "cell_type": "markdown",
   "id": "8c3a1bf5-0ee0-4f9a-8277-c5ab2aaf846b",
   "metadata": {
    "tags": []
   },
   "source": [
    "# Part 03 - Data Management\n",
    "\n",
    "## Exercise 03 - Connect to a secured API\n",
    "\n",
    "Now that you integrated with success your first Open API data, the goal of this section is to go further and use a secured API using Authentication token. Search for any exchange rates API and try to retrieve the exchanges rate data for EUR to USD, GBP, CNY and DKK. The solution of this exercise will use [api.freecurrencyapi.com](https://api.freecurrencyapi.com/).  \n",
    "\n",
    "You can reuse the flow of the previous exercise, note that this time it will be a bit more difficult to build the request to get the data. "
   ]
  },
  {
   "cell_type": "markdown",
   "id": "8b632819-989d-41c5-9e12-0d16ec754144",
   "metadata": {},
   "source": [
    "### Get the Data with a request"
   ]
  },
  {
   "cell_type": "markdown",
   "id": "d2138b04-fd10-4203-8303-df8dac48e5ee",
   "metadata": {},
   "source": [
    "Search for any exchange rates API and try to retrieve the exchanges rate data for EUR to USD, GBP, CNY and DKK."
   ]
  },
  {
   "cell_type": "code",
   "execution_count": 1,
   "id": "5805ea94-3e62-46e5-9b77-181ef2ea89e2",
   "metadata": {
    "tags": []
   },
   "outputs": [],
   "source": [
    "import requests\n",
    "import os\n",
    "import csv\n",
    "import datetime"
   ]
  },
  {
   "cell_type": "code",
   "execution_count": 2,
   "id": "ff75c993-2519-4566-b4dc-fc548599e8f5",
   "metadata": {
    "tags": []
   },
   "outputs": [
    {
     "data": {
      "text/plain": [
       "200"
      ]
     },
     "execution_count": 2,
     "metadata": {},
     "output_type": "execute_result"
    }
   ],
   "source": [
    "response = requests.get(\"https://api.freecurrencyapi.com/v1/latest?apikey=2UBrwysjq1W73D1EaesfqZAG6EhMbPfuw7F65cmO\", headers={\"Accept\": \"application/json\"})\n",
    "response.status_code"
   ]
  },
  {
   "cell_type": "markdown",
   "id": "fe7f9e20-d602-4da3-8259-b31cc9e6f90a",
   "metadata": {},
   "source": [
    "Get the JSON from the response"
   ]
  },
  {
   "cell_type": "code",
   "execution_count": 3,
   "id": "ac1a7d61-a6e3-4e7a-8071-eb01f67ee21d",
   "metadata": {
    "tags": []
   },
   "outputs": [
    {
     "data": {
      "text/plain": [
       "{'AUD': 1.516464,\n",
       " 'BGN': 1.85402,\n",
       " 'BRL': 5.145905,\n",
       " 'CAD': 1.379953,\n",
       " 'CHF': 0.940921,\n",
       " 'CNY': 6.951713,\n",
       " 'CZK': 22.362642,\n",
       " 'DKK': 7.054505,\n",
       " 'EUR': 0.947912,\n",
       " 'GBP': 0.843926,\n",
       " 'HKD': 7.849662,\n",
       " 'HUF': 358.630498,\n",
       " 'IDR': 15462.015593,\n",
       " 'ILS': 3.591735,\n",
       " 'INR': 81.96491,\n",
       " 'ISK': 142.090243,\n",
       " 'JPY': 137.223738,\n",
       " 'KRW': 1316.802524,\n",
       " 'MXN': 17.977321,\n",
       " 'MYR': 4.524505,\n",
       " 'NOK': 10.676222,\n",
       " 'NZD': 1.635632,\n",
       " 'PHP': 55.40508,\n",
       " 'PLN': 4.437957,\n",
       " 'RON': 4.655607,\n",
       " 'RUB': 76.050137,\n",
       " 'SEK': 10.725466,\n",
       " 'SGD': 1.353313,\n",
       " 'THB': 35.077047,\n",
       " 'TRY': 18.948836,\n",
       " 'USD': 1,\n",
       " 'ZAR': 18.575906}"
      ]
     },
     "execution_count": 3,
     "metadata": {},
     "output_type": "execute_result"
    }
   ],
   "source": [
    "data = response.json()\n",
    "data = data[\"data\"]\n",
    "data"
   ]
  },
  {
   "cell_type": "markdown",
   "id": "eefe1bbc-f4fa-44c2-9e1e-d593736b9b79",
   "metadata": {
    "tags": []
   },
   "source": [
    "### Save the results into variables"
   ]
  },
  {
   "cell_type": "markdown",
   "id": "df9dc7b1-0adf-4b7b-a697-c47b529a0316",
   "metadata": {},
   "source": [
    "### Save those values in a CSV file"
   ]
  },
  {
   "cell_type": "markdown",
   "id": "a3641dc2-e97c-4ead-b3a5-c3e4b28ad7cb",
   "metadata": {},
   "source": [
    "Create a CSV file, with the variable names as headers, and the values of those variable inserted in the first line. Save this file locally in the data folder named `data/today_EUR_rates.csv`"
   ]
  },
  {
   "cell_type": "code",
   "execution_count": 4,
   "id": "554a2a7b-b5e3-4b17-8a91-a9bc3016621b",
   "metadata": {
    "tags": []
   },
   "outputs": [],
   "source": [
    "headers = [\"time\", *list(data.keys())]\n",
    "rows = [{\"time\": datetime.datetime.now().isoformat(), **{key: float(value) for key, value in data.items()}}]\n",
    "\n",
    "with open(r\"data/today_EUR_rates.csv\", mode=\"w\", encoding=\"UTF8\", newline=\"\") as file:\n",
    "    writer = csv.DictWriter(file, fieldnames=headers)\n",
    "    writer.writeheader()\n",
    "    writer.writerows(rows)"
   ]
  },
  {
   "cell_type": "markdown",
   "id": "0fd89456-dc46-4c2e-bf09-bf9387b79d12",
   "metadata": {},
   "source": [
    "Test to read the result with the code below :"
   ]
  },
  {
   "cell_type": "code",
   "execution_count": 5,
   "id": "136f3bb1-c7a9-4fd5-898d-f2640aee805d",
   "metadata": {
    "tags": []
   },
   "outputs": [
    {
     "data": {
      "text/html": [
       "<div>\n",
       "<style scoped>\n",
       "    .dataframe tbody tr th:only-of-type {\n",
       "        vertical-align: middle;\n",
       "    }\n",
       "\n",
       "    .dataframe tbody tr th {\n",
       "        vertical-align: top;\n",
       "    }\n",
       "\n",
       "    .dataframe thead th {\n",
       "        text-align: right;\n",
       "    }\n",
       "</style>\n",
       "<table border=\"1\" class=\"dataframe\">\n",
       "  <thead>\n",
       "    <tr style=\"text-align: right;\">\n",
       "      <th></th>\n",
       "      <th>time</th>\n",
       "      <th>AUD</th>\n",
       "      <th>BGN</th>\n",
       "      <th>BRL</th>\n",
       "      <th>CAD</th>\n",
       "      <th>CHF</th>\n",
       "      <th>CNY</th>\n",
       "      <th>CZK</th>\n",
       "      <th>DKK</th>\n",
       "      <th>EUR</th>\n",
       "      <th>...</th>\n",
       "      <th>PHP</th>\n",
       "      <th>PLN</th>\n",
       "      <th>RON</th>\n",
       "      <th>RUB</th>\n",
       "      <th>SEK</th>\n",
       "      <th>SGD</th>\n",
       "      <th>THB</th>\n",
       "      <th>TRY</th>\n",
       "      <th>USD</th>\n",
       "      <th>ZAR</th>\n",
       "    </tr>\n",
       "  </thead>\n",
       "  <tbody>\n",
       "    <tr>\n",
       "      <th>0</th>\n",
       "      <td>2023-03-09T15:31:38.062630</td>\n",
       "      <td>1.516464</td>\n",
       "      <td>1.85402</td>\n",
       "      <td>5.145905</td>\n",
       "      <td>1.379953</td>\n",
       "      <td>0.940921</td>\n",
       "      <td>6.951713</td>\n",
       "      <td>22.362642</td>\n",
       "      <td>7.054505</td>\n",
       "      <td>0.947912</td>\n",
       "      <td>...</td>\n",
       "      <td>55.40508</td>\n",
       "      <td>4.437957</td>\n",
       "      <td>4.655607</td>\n",
       "      <td>76.050137</td>\n",
       "      <td>10.725466</td>\n",
       "      <td>1.353313</td>\n",
       "      <td>35.077047</td>\n",
       "      <td>18.948836</td>\n",
       "      <td>1.0</td>\n",
       "      <td>18.575906</td>\n",
       "    </tr>\n",
       "  </tbody>\n",
       "</table>\n",
       "<p>1 rows × 33 columns</p>\n",
       "</div>"
      ],
      "text/plain": [
       "                         time       AUD      BGN       BRL       CAD  \\\n",
       "0  2023-03-09T15:31:38.062630  1.516464  1.85402  5.145905  1.379953   \n",
       "\n",
       "        CHF       CNY        CZK       DKK       EUR  ...       PHP       PLN  \\\n",
       "0  0.940921  6.951713  22.362642  7.054505  0.947912  ...  55.40508  4.437957   \n",
       "\n",
       "        RON        RUB        SEK       SGD        THB        TRY  USD  \\\n",
       "0  4.655607  76.050137  10.725466  1.353313  35.077047  18.948836  1.0   \n",
       "\n",
       "         ZAR  \n",
       "0  18.575906  \n",
       "\n",
       "[1 rows x 33 columns]"
      ]
     },
     "execution_count": 5,
     "metadata": {},
     "output_type": "execute_result"
    }
   ],
   "source": [
    "import pandas as pd\n",
    "\n",
    "eur_rates = pd.read_csv(\"data/today_EUR_rates.csv\")\n",
    "eur_rates.head()"
   ]
  },
  {
   "cell_type": "markdown",
   "id": "0dcc3bd0-a92f-4cde-839f-8e3a2dc11bf6",
   "metadata": {},
   "source": [
    "### Append to code to the local CSV"
   ]
  },
  {
   "cell_type": "markdown",
   "id": "43153451-4efc-4107-9257-ecb711e40591",
   "metadata": {},
   "source": [
    "Code the logic that will : \n",
    "- Create the `data/EUR_rates.csv` with the header if it doesn't exist\n",
    "- Append our line of value to the current file"
   ]
  },
  {
   "cell_type": "code",
   "execution_count": 6,
   "id": "1d73a5ca-ba54-419b-82a6-53aee7bbcccc",
   "metadata": {
    "tags": []
   },
   "outputs": [],
   "source": [
    "headers = [\"time\", *list(data.keys())]\n",
    "\n",
    "with open(r\"data/EUR_rates.csv\", mode=\"a\", encoding=\"UTF8\", newline=\"\") as file:\n",
    "    writer = csv.DictWriter(file, fieldnames=headers)\n",
    "    \n",
    "    # Write the header if the file is empty\n",
    "    file.seek(0, os.SEEK_END)\n",
    "    if not file.tell():\n",
    "        writer.writeheader()\n",
    "    \n",
    "    writer.writerow({\"time\": datetime.datetime.now().isoformat(), **{key: float(value) for key, value in data.items()}})"
   ]
  },
  {
   "cell_type": "markdown",
   "id": "eb72f324-ff0b-471a-9fd3-7fe0bf1d848f",
   "metadata": {},
   "source": [
    "Run the whole notebook several time and check if your CSV file is appending the new line of data with the following command :"
   ]
  },
  {
   "cell_type": "code",
   "execution_count": 7,
   "id": "0b40e4d2-3004-40a6-99e4-fc1fdbb691ab",
   "metadata": {
    "tags": []
   },
   "outputs": [
    {
     "data": {
      "text/html": [
       "<div>\n",
       "<style scoped>\n",
       "    .dataframe tbody tr th:only-of-type {\n",
       "        vertical-align: middle;\n",
       "    }\n",
       "\n",
       "    .dataframe tbody tr th {\n",
       "        vertical-align: top;\n",
       "    }\n",
       "\n",
       "    .dataframe thead th {\n",
       "        text-align: right;\n",
       "    }\n",
       "</style>\n",
       "<table border=\"1\" class=\"dataframe\">\n",
       "  <thead>\n",
       "    <tr style=\"text-align: right;\">\n",
       "      <th></th>\n",
       "      <th>time</th>\n",
       "      <th>AUD</th>\n",
       "      <th>BGN</th>\n",
       "      <th>BRL</th>\n",
       "      <th>CAD</th>\n",
       "      <th>CHF</th>\n",
       "      <th>CNY</th>\n",
       "      <th>CZK</th>\n",
       "      <th>DKK</th>\n",
       "      <th>EUR</th>\n",
       "      <th>...</th>\n",
       "      <th>PHP</th>\n",
       "      <th>PLN</th>\n",
       "      <th>RON</th>\n",
       "      <th>RUB</th>\n",
       "      <th>SEK</th>\n",
       "      <th>SGD</th>\n",
       "      <th>THB</th>\n",
       "      <th>TRY</th>\n",
       "      <th>USD</th>\n",
       "      <th>ZAR</th>\n",
       "    </tr>\n",
       "  </thead>\n",
       "  <tbody>\n",
       "    <tr>\n",
       "      <th>0</th>\n",
       "      <td>2023-03-09T15:30:50.733364</td>\n",
       "      <td>1.516464</td>\n",
       "      <td>1.85402</td>\n",
       "      <td>5.145905</td>\n",
       "      <td>1.379953</td>\n",
       "      <td>0.940921</td>\n",
       "      <td>6.951713</td>\n",
       "      <td>22.362642</td>\n",
       "      <td>7.054505</td>\n",
       "      <td>0.947912</td>\n",
       "      <td>...</td>\n",
       "      <td>55.40508</td>\n",
       "      <td>4.437957</td>\n",
       "      <td>4.655607</td>\n",
       "      <td>76.050137</td>\n",
       "      <td>10.725466</td>\n",
       "      <td>1.353313</td>\n",
       "      <td>35.077047</td>\n",
       "      <td>18.948836</td>\n",
       "      <td>1.0</td>\n",
       "      <td>18.575906</td>\n",
       "    </tr>\n",
       "    <tr>\n",
       "      <th>1</th>\n",
       "      <td>2023-03-09T15:31:21.345061</td>\n",
       "      <td>1.516464</td>\n",
       "      <td>1.85402</td>\n",
       "      <td>5.145905</td>\n",
       "      <td>1.379953</td>\n",
       "      <td>0.940921</td>\n",
       "      <td>6.951713</td>\n",
       "      <td>22.362642</td>\n",
       "      <td>7.054505</td>\n",
       "      <td>0.947912</td>\n",
       "      <td>...</td>\n",
       "      <td>55.40508</td>\n",
       "      <td>4.437957</td>\n",
       "      <td>4.655607</td>\n",
       "      <td>76.050137</td>\n",
       "      <td>10.725466</td>\n",
       "      <td>1.353313</td>\n",
       "      <td>35.077047</td>\n",
       "      <td>18.948836</td>\n",
       "      <td>1.0</td>\n",
       "      <td>18.575906</td>\n",
       "    </tr>\n",
       "    <tr>\n",
       "      <th>2</th>\n",
       "      <td>2023-03-09T15:31:31.302330</td>\n",
       "      <td>1.516464</td>\n",
       "      <td>1.85402</td>\n",
       "      <td>5.145905</td>\n",
       "      <td>1.379953</td>\n",
       "      <td>0.940921</td>\n",
       "      <td>6.951713</td>\n",
       "      <td>22.362642</td>\n",
       "      <td>7.054505</td>\n",
       "      <td>0.947912</td>\n",
       "      <td>...</td>\n",
       "      <td>55.40508</td>\n",
       "      <td>4.437957</td>\n",
       "      <td>4.655607</td>\n",
       "      <td>76.050137</td>\n",
       "      <td>10.725466</td>\n",
       "      <td>1.353313</td>\n",
       "      <td>35.077047</td>\n",
       "      <td>18.948836</td>\n",
       "      <td>1.0</td>\n",
       "      <td>18.575906</td>\n",
       "    </tr>\n",
       "    <tr>\n",
       "      <th>3</th>\n",
       "      <td>2023-03-09T15:31:38.580779</td>\n",
       "      <td>1.516464</td>\n",
       "      <td>1.85402</td>\n",
       "      <td>5.145905</td>\n",
       "      <td>1.379953</td>\n",
       "      <td>0.940921</td>\n",
       "      <td>6.951713</td>\n",
       "      <td>22.362642</td>\n",
       "      <td>7.054505</td>\n",
       "      <td>0.947912</td>\n",
       "      <td>...</td>\n",
       "      <td>55.40508</td>\n",
       "      <td>4.437957</td>\n",
       "      <td>4.655607</td>\n",
       "      <td>76.050137</td>\n",
       "      <td>10.725466</td>\n",
       "      <td>1.353313</td>\n",
       "      <td>35.077047</td>\n",
       "      <td>18.948836</td>\n",
       "      <td>1.0</td>\n",
       "      <td>18.575906</td>\n",
       "    </tr>\n",
       "  </tbody>\n",
       "</table>\n",
       "<p>4 rows × 33 columns</p>\n",
       "</div>"
      ],
      "text/plain": [
       "                         time       AUD      BGN       BRL       CAD  \\\n",
       "0  2023-03-09T15:30:50.733364  1.516464  1.85402  5.145905  1.379953   \n",
       "1  2023-03-09T15:31:21.345061  1.516464  1.85402  5.145905  1.379953   \n",
       "2  2023-03-09T15:31:31.302330  1.516464  1.85402  5.145905  1.379953   \n",
       "3  2023-03-09T15:31:38.580779  1.516464  1.85402  5.145905  1.379953   \n",
       "\n",
       "        CHF       CNY        CZK       DKK       EUR  ...       PHP       PLN  \\\n",
       "0  0.940921  6.951713  22.362642  7.054505  0.947912  ...  55.40508  4.437957   \n",
       "1  0.940921  6.951713  22.362642  7.054505  0.947912  ...  55.40508  4.437957   \n",
       "2  0.940921  6.951713  22.362642  7.054505  0.947912  ...  55.40508  4.437957   \n",
       "3  0.940921  6.951713  22.362642  7.054505  0.947912  ...  55.40508  4.437957   \n",
       "\n",
       "        RON        RUB        SEK       SGD        THB        TRY  USD  \\\n",
       "0  4.655607  76.050137  10.725466  1.353313  35.077047  18.948836  1.0   \n",
       "1  4.655607  76.050137  10.725466  1.353313  35.077047  18.948836  1.0   \n",
       "2  4.655607  76.050137  10.725466  1.353313  35.077047  18.948836  1.0   \n",
       "3  4.655607  76.050137  10.725466  1.353313  35.077047  18.948836  1.0   \n",
       "\n",
       "         ZAR  \n",
       "0  18.575906  \n",
       "1  18.575906  \n",
       "2  18.575906  \n",
       "3  18.575906  \n",
       "\n",
       "[4 rows x 33 columns]"
      ]
     },
     "execution_count": 7,
     "metadata": {},
     "output_type": "execute_result"
    }
   ],
   "source": [
    "eur_rates = pd.read_csv(r\"data/EUR_rates.csv\")\n",
    "eur_rates.head()"
   ]
  },
  {
   "cell_type": "markdown",
   "id": "5683ff6b-486c-48a5-8592-71448c9a4294",
   "metadata": {
    "tags": []
   },
   "source": [
    "### Wrapping up"
   ]
  },
  {
   "cell_type": "markdown",
   "id": "b27b495a-4425-4552-98a4-92764875b320",
   "metadata": {},
   "source": [
    "Congratulations ! You are now able to build an history of EUR to USD / GBP / CNY / DKK data using a token based API. This code can be scheduled every day with Prefact to update your CSV file and to slowly be able to build a daily rates datasource."
   ]
  }
 ],
 "metadata": {
  "kernelspec": {
   "display_name": "Python 3 (ipykernel)",
   "language": "python",
   "name": "python3"
  },
  "language_info": {
   "codemirror_mode": {
    "name": "ipython",
    "version": 3
   },
   "file_extension": ".py",
   "mimetype": "text/x-python",
   "name": "python",
   "nbconvert_exporter": "python",
   "pygments_lexer": "ipython3",
   "version": "3.10.9"
  },
  "vscode": {
   "interpreter": {
    "hash": "aee8b7b246df8f9039afb4144a1f6fd8d2ca17a180786b69acc140d282b71a49"
   }
  }
 },
 "nbformat": 4,
 "nbformat_minor": 5
}
