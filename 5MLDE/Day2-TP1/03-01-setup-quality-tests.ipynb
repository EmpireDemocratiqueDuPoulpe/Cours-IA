{
 "cells": [
  {
   "cell_type": "markdown",
   "metadata": {},
   "source": [
    "<h1>Part 03 - Data Management</h1>\n",
    "\n",
    "<h2>Exercise 01 - Data Quality Test with Great Expectations</h2>\n",
    "\n",
    "\n",
    "<font size=\"3\">\n",
    "Goal of this section is to get to know better data management tools, in particular Great Expectation, which allows you to perform data quality assessment & alerting on your day to day projects.\n",
    "\n",
    "We will continue using the TLC trip record data, deep dive specifically into these datasets to catch data quality issues & encode our own set of rules & triggers.\n",
    "</font>"
   ]
  },
  {
   "cell_type": "markdown",
   "metadata": {},
   "source": [
    "## 1 - Getting familiar with the data"
   ]
  },
  {
   "cell_type": "markdown",
   "metadata": {},
   "source": [
    "### 1-1. Downloading our data\n",
    "\n",
    "To start with, let's download our data: we will use a larger dataset containing several details about January 2022 \"for hire vehicles\" trips in NYC (Uber, Lyft...). This dataset has been lightly modified for the purpose of our exercise. Let's download it & save it under our data folder. "
   ]
  },
  {
   "cell_type": "code",
   "execution_count": 2,
   "metadata": {
    "tags": []
   },
   "outputs": [
    {
     "name": "stderr",
     "output_type": "stream",
     "text": [
      "Downloading...\n",
      "From: https://drive.google.com/uc?id=1xQ8heQzUkKehOUPYvrHIqQ_pDJNCH9tT\n",
      "To: /app/tp2/data/taxi-trips-2022-01.parquet\n",
      "\n",
      "  0% 0.00/175M [00:00<?, ?B/s]\u001b[A\n",
      "  0% 524k/175M [00:00<00:36, 4.82MB/s]\u001b[A\n",
      "  1% 1.57M/175M [00:00<00:26, 6.62MB/s]\u001b[A\n",
      "  2% 2.62M/175M [00:00<00:23, 7.20MB/s]\u001b[A\n",
      "  2% 3.67M/175M [00:00<00:23, 7.33MB/s]\u001b[A\n",
      "  3% 4.72M/175M [00:00<00:22, 7.47MB/s]\u001b[A\n",
      "  3% 5.77M/175M [00:00<00:22, 7.48MB/s]\u001b[A\n",
      "  4% 6.82M/175M [00:00<00:21, 7.67MB/s]\u001b[A\n",
      "  5% 7.86M/175M [00:01<00:21, 7.75MB/s]\u001b[A\n",
      "  5% 8.91M/175M [00:01<00:21, 7.65MB/s]\u001b[A\n",
      "  6% 9.96M/175M [00:01<00:21, 7.81MB/s]\u001b[A\n",
      "  6% 11.0M/175M [00:01<00:21, 7.65MB/s]\u001b[A\n",
      "  7% 12.1M/175M [00:01<00:21, 7.59MB/s]\u001b[A\n",
      "  8% 13.1M/175M [00:01<00:21, 7.61MB/s]\u001b[A\n",
      "  8% 14.2M/175M [00:01<00:21, 7.42MB/s]\u001b[A\n",
      "  9% 15.2M/175M [00:02<00:21, 7.41MB/s]\u001b[A\n",
      "  9% 16.3M/175M [00:02<00:21, 7.53MB/s]\u001b[A\n",
      " 10% 17.3M/175M [00:02<00:20, 7.61MB/s]\u001b[A\n",
      " 11% 18.4M/175M [00:02<00:20, 7.67MB/s]\u001b[A\n",
      " 11% 19.4M/175M [00:02<00:20, 7.65MB/s]\u001b[A\n",
      " 12% 20.4M/175M [00:02<00:20, 7.68MB/s]\u001b[A\n",
      " 12% 21.5M/175M [00:02<00:19, 7.71MB/s]\u001b[A\n",
      " 13% 22.5M/175M [00:02<00:19, 7.69MB/s]\u001b[A\n",
      " 14% 23.6M/175M [00:03<00:20, 7.42MB/s]\u001b[A\n",
      " 14% 24.6M/175M [00:03<00:20, 7.32MB/s]\u001b[A\n",
      " 15% 25.7M/175M [00:03<00:20, 7.26MB/s]\u001b[A\n",
      " 15% 26.7M/175M [00:03<00:20, 7.18MB/s]\u001b[A\n",
      " 16% 27.8M/175M [00:03<00:19, 7.42MB/s]\u001b[A\n",
      " 17% 28.8M/175M [00:03<00:19, 7.42MB/s]\u001b[A\n",
      " 17% 29.9M/175M [00:03<00:19, 7.42MB/s]\u001b[A\n",
      " 18% 30.9M/175M [00:04<00:19, 7.51MB/s]\u001b[A\n",
      " 80% 152M/190M [00:36<00:05, 6.57MB/s]]\u001b[A\n",
      " 19% 33.0M/175M [00:04<00:18, 7.66MB/s]\u001b[A\n",
      " 20% 34.1M/175M [00:04<00:18, 7.67MB/s]\u001b[A\n",
      " 20% 35.1M/175M [00:04<00:18, 7.55MB/s]\u001b[A\n",
      " 21% 36.2M/175M [00:04<00:18, 7.42MB/s]\u001b[A\n",
      " 21% 37.2M/175M [00:04<00:18, 7.61MB/s]\u001b[A\n",
      " 22% 38.3M/175M [00:05<00:17, 7.67MB/s]\u001b[A\n",
      " 23% 39.3M/175M [00:05<00:17, 7.62MB/s]\u001b[A\n",
      " 23% 40.4M/175M [00:05<00:17, 7.71MB/s]\u001b[A\n",
      " 24% 41.4M/175M [00:05<00:17, 7.79MB/s]\u001b[A\n",
      " 24% 42.5M/175M [00:05<00:17, 7.66MB/s]\u001b[A\n",
      " 25% 43.5M/175M [00:05<00:17, 7.49MB/s]\u001b[A\n",
      " 26% 44.6M/175M [00:05<00:17, 7.50MB/s]\u001b[A\n",
      " 26% 45.6M/175M [00:06<00:16, 7.67MB/s]\u001b[A\n",
      " 27% 46.7M/175M [00:06<00:16, 7.71MB/s]\u001b[A\n",
      " 27% 47.7M/175M [00:06<00:16, 7.77MB/s]\u001b[A\n",
      " 28% 48.8M/175M [00:06<00:16, 7.86MB/s]\u001b[A\n",
      " 29% 49.8M/175M [00:06<00:16, 7.80MB/s]\u001b[A\n",
      " 29% 50.9M/175M [00:06<00:15, 7.85MB/s]\u001b[A\n",
      " 30% 51.9M/175M [00:06<00:15, 7.92MB/s]\u001b[A\n",
      " 30% 53.0M/175M [00:06<00:15, 7.91MB/s]\u001b[A\n",
      " 31% 54.0M/175M [00:07<00:15, 7.80MB/s]\u001b[A\n",
      " 32% 55.1M/175M [00:07<00:16, 7.40MB/s]\u001b[A\n",
      " 32% 56.1M/175M [00:07<00:16, 6.98MB/s]\u001b[A\n",
      " 33% 57.1M/175M [00:07<00:17, 6.59MB/s]\u001b[A\n",
      " 33% 58.2M/175M [00:07<00:17, 6.60MB/s]\u001b[A\n",
      " 34% 59.2M/175M [00:07<00:17, 6.71MB/s]\u001b[A\n",
      " 35% 60.3M/175M [00:08<00:17, 6.53MB/s]\u001b[A\n",
      " 35% 61.3M/175M [00:08<00:17, 6.31MB/s]\u001b[A\n",
      " 36% 62.4M/175M [00:08<00:17, 6.25MB/s]\u001b[A\n",
      " 36% 63.4M/175M [00:08<00:18, 6.13MB/s]\u001b[A\n",
      " 37% 64.5M/175M [00:08<00:17, 6.26MB/s]\u001b[A\n",
      " 38% 65.5M/175M [00:08<00:16, 6.45MB/s]\u001b[A\n",
      " 38% 66.6M/175M [00:09<00:16, 6.58MB/s]\u001b[A\n",
      " 39% 67.6M/175M [00:09<00:16, 6.53MB/s]\u001b[A\n",
      " 39% 68.7M/175M [00:09<00:15, 6.66MB/s]\u001b[A\n",
      " 40% 69.7M/175M [00:09<00:15, 6.73MB/s]\u001b[A\n",
      " 41% 70.8M/175M [00:09<00:15, 6.56MB/s]\u001b[A\n",
      " 41% 71.8M/175M [00:09<00:16, 6.34MB/s]\u001b[A\n",
      " 42% 72.9M/175M [00:10<00:16, 6.35MB/s]\u001b[A\n",
      " 42% 73.9M/175M [00:10<00:15, 6.52MB/s]\u001b[A\n",
      " 43% 75.0M/175M [00:10<00:15, 6.58MB/s]\u001b[A\n",
      " 44% 76.0M/175M [00:10<00:14, 6.70MB/s]\u001b[A\n",
      " 44% 77.1M/175M [00:10<00:14, 6.83MB/s]\u001b[A\n",
      " 45% 78.1M/175M [00:10<00:13, 6.93MB/s]\u001b[A\n",
      " 45% 79.2M/175M [00:10<00:13, 6.86MB/s]\u001b[A\n",
      " 46% 80.2M/175M [00:11<00:13, 6.87MB/s]\u001b[A\n",
      " 47% 81.3M/175M [00:11<00:13, 6.86MB/s]\u001b[A\n",
      " 47% 82.3M/175M [00:11<00:13, 6.90MB/s]\u001b[A\n",
      " 48% 83.4M/175M [00:11<00:13, 6.88MB/s]\u001b[A\n",
      " 48% 84.4M/175M [00:11<00:13, 6.79MB/s]\u001b[A\n",
      " 49% 85.5M/175M [00:11<00:13, 6.81MB/s]\u001b[A\n",
      " 50% 86.5M/175M [00:12<00:12, 6.89MB/s]\u001b[A\n",
      " 50% 87.6M/175M [00:12<00:12, 6.80MB/s]\u001b[A\n",
      " 51% 88.6M/175M [00:12<00:12, 6.85MB/s]\u001b[A\n",
      " 51% 89.7M/175M [00:12<00:12, 6.76MB/s]\u001b[A\n",
      " 52% 90.7M/175M [00:12<00:12, 6.67MB/s]\u001b[A\n",
      " 53% 91.8M/175M [00:12<00:12, 6.61MB/s]\u001b[A\n",
      " 53% 92.8M/175M [00:13<00:12, 6.36MB/s]\u001b[A\n",
      " 54% 93.8M/175M [00:13<00:13, 6.11MB/s]\u001b[A\n",
      " 54% 94.9M/175M [00:13<00:13, 5.90MB/s]\u001b[A\n",
      " 55% 95.9M/175M [00:13<00:13, 5.93MB/s]\u001b[A\n",
      " 56% 97.0M/175M [00:13<00:13, 5.96MB/s]\u001b[A\n",
      " 56% 98.0M/175M [00:13<00:12, 6.04MB/s]\u001b[A\n",
      " 57% 99.1M/175M [00:14<00:12, 6.25MB/s]\u001b[A\n",
      " 57% 100M/175M [00:14<00:11, 6.38MB/s] \u001b[A\n",
      " 58% 101M/175M [00:14<00:11, 6.53MB/s]\u001b[A\n",
      " 59% 102M/175M [00:14<00:10, 6.70MB/s]\u001b[A\n",
      " 59% 103M/175M [00:14<00:10, 6.71MB/s]\u001b[A\n",
      " 60% 104M/175M [00:14<00:10, 6.55MB/s]\u001b[A\n",
      " 60% 105M/175M [00:15<00:10, 6.42MB/s]\u001b[A\n",
      " 61% 106M/175M [00:15<00:10, 6.40MB/s]\u001b[A\n",
      " 62% 107M/175M [00:15<00:10, 6.54MB/s]\u001b[A\n",
      " 62% 109M/175M [00:15<00:10, 6.53MB/s]\u001b[A\n",
      " 63% 110M/175M [00:15<00:09, 6.64MB/s]\u001b[A\n",
      " 63% 111M/175M [00:15<00:09, 6.65MB/s]\u001b[A\n",
      " 64% 112M/175M [00:15<00:09, 6.75MB/s]\u001b[A\n",
      " 65% 113M/175M [00:16<00:08, 6.89MB/s]\u001b[A\n",
      " 65% 114M/175M [00:16<00:08, 6.84MB/s]\u001b[A\n",
      " 66% 115M/175M [00:16<00:08, 6.87MB/s]\u001b[A\n",
      " 66% 116M/175M [00:16<00:08, 6.87MB/s]\u001b[A\n",
      " 67% 117M/175M [00:16<00:08, 6.96MB/s]\u001b[A\n",
      " 68% 118M/175M [00:16<00:08, 6.89MB/s]\u001b[A\n",
      " 68% 119M/175M [00:17<00:08, 6.89MB/s]\u001b[A\n",
      " 69% 120M/175M [00:17<00:08, 6.83MB/s]\u001b[A\n",
      " 69% 121M/175M [00:17<00:07, 6.94MB/s]\u001b[A\n",
      " 70% 122M/175M [00:17<00:07, 6.89MB/s]\u001b[A\n",
      " 71% 123M/175M [00:17<00:07, 6.90MB/s]\u001b[A\n",
      " 71% 124M/175M [00:17<00:07, 6.84MB/s]\u001b[A\n",
      " 72% 125M/175M [00:17<00:07, 6.90MB/s]\u001b[A\n",
      " 72% 126M/175M [00:18<00:07, 6.63MB/s]\u001b[A\n",
      " 73% 127M/175M [00:18<00:07, 6.52MB/s]\u001b[A\n",
      " 74% 128M/175M [00:18<00:07, 6.25MB/s]\u001b[A\n",
      " 74% 129M/175M [00:18<00:07, 6.04MB/s]\u001b[A\n",
      " 75% 131M/175M [00:18<00:07, 6.11MB/s]\u001b[A\n",
      " 75% 132M/175M [00:18<00:06, 6.27MB/s]\u001b[A\n",
      " 76% 133M/175M [00:19<00:06, 6.41MB/s]\u001b[A\n",
      " 77% 134M/175M [00:19<00:06, 6.50MB/s]\u001b[A\n",
      " 77% 135M/175M [00:19<00:06, 6.61MB/s]\u001b[A\n",
      " 78% 136M/175M [00:19<00:05, 6.60MB/s]\u001b[A\n",
      " 78% 137M/175M [00:19<00:05, 6.54MB/s]\u001b[A\n",
      " 79% 138M/175M [00:19<00:05, 6.39MB/s]\u001b[A\n",
      " 80% 139M/175M [00:20<00:05, 6.40MB/s]\u001b[A\n",
      " 80% 140M/175M [00:20<00:05, 6.40MB/s]\u001b[A\n",
      " 81% 141M/175M [00:20<00:05, 6.56MB/s]\u001b[A\n",
      " 81% 142M/175M [00:20<00:04, 6.59MB/s]\u001b[A\n",
      " 82% 143M/175M [00:20<00:04, 6.54MB/s]\u001b[A\n",
      " 83% 144M/175M [00:20<00:04, 6.66MB/s]\u001b[A\n",
      " 83% 145M/175M [00:21<00:04, 6.70MB/s]\u001b[A\n",
      " 84% 146M/175M [00:21<00:04, 6.73MB/s]\u001b[A\n",
      " 84% 147M/175M [00:21<00:04, 6.72MB/s]\u001b[A\n",
      " 85% 148M/175M [00:21<00:03, 6.82MB/s]\u001b[A\n",
      " 86% 149M/175M [00:21<00:03, 6.78MB/s]\u001b[A\n",
      " 86% 150M/175M [00:21<00:03, 6.75MB/s]\u001b[A\n",
      " 87% 152M/175M [00:21<00:03, 6.81MB/s]\u001b[A\n",
      " 87% 153M/175M [00:22<00:03, 6.88MB/s]\u001b[A\n",
      " 88% 154M/175M [00:22<00:03, 6.78MB/s]\u001b[A\n",
      " 89% 155M/175M [00:22<00:02, 6.84MB/s]\u001b[A\n",
      " 89% 156M/175M [00:22<00:02, 6.81MB/s]\u001b[A\n",
      " 90% 157M/175M [00:22<00:02, 6.89MB/s]\u001b[A\n",
      " 90% 158M/175M [00:22<00:02, 6.86MB/s]\u001b[A\n",
      " 91% 159M/175M [00:23<00:02, 6.89MB/s]\u001b[A\n",
      " 92% 160M/175M [00:23<00:02, 6.56MB/s]\u001b[A\n",
      " 92% 161M/175M [00:23<00:02, 6.36MB/s]\u001b[A\n",
      " 93% 162M/175M [00:23<00:02, 6.21MB/s]\u001b[A\n",
      " 93% 163M/175M [00:23<00:01, 6.21MB/s]\u001b[A\n",
      " 94% 164M/175M [00:23<00:01, 6.39MB/s]\u001b[A\n",
      " 95% 165M/175M [00:24<00:01, 6.46MB/s]\u001b[A\n",
      " 95% 166M/175M [00:24<00:01, 6.43MB/s]\u001b[A\n",
      " 96% 167M/175M [00:24<00:01, 6.44MB/s]\u001b[A\n",
      " 96% 168M/175M [00:24<00:01, 6.41MB/s]\u001b[A\n",
      " 97% 169M/175M [00:24<00:00, 6.43MB/s]\u001b[A\n",
      " 98% 170M/175M [00:24<00:00, 6.36MB/s]\u001b[A\n",
      " 98% 171M/175M [00:25<00:00, 6.25MB/s]\u001b[A\n",
      " 99% 172M/175M [00:25<00:00, 6.41MB/s]\u001b[A\n",
      " 99% 174M/175M [00:25<00:00, 6.51MB/s]\u001b[A\n",
      "100% 175M/175M [00:25<00:00, 6.85MB/s]\u001b[A\n",
      "Downloading...\n",
      "From: https://drive.google.com/uc?id=11kOFkDJIXSW2Hu0o2o-PWBhTJi0msYfH\n",
      "To: /app/tp2/data/taxi-trips-2022-02.parquet\n",
      "\n",
      "  0% 0.00/190M [00:00<?, ?B/s]\u001b[A\n",
      "  0% 524k/190M [00:00<00:39, 4.84MB/s]\u001b[A\n",
      "  1% 1.57M/190M [00:00<00:28, 6.52MB/s]\u001b[A\n",
      "  1% 2.62M/190M [00:00<00:26, 7.16MB/s]\u001b[A\n",
      "  2% 3.67M/190M [00:00<00:24, 7.44MB/s]\u001b[A\n",
      "  2% 4.72M/190M [00:00<00:24, 7.42MB/s]\u001b[A\n",
      "  3% 5.77M/190M [00:00<00:24, 7.44MB/s]\u001b[A\n",
      "  4% 6.82M/190M [00:00<00:25, 7.25MB/s]\u001b[A\n",
      "  4% 7.86M/190M [00:01<00:25, 7.03MB/s]\u001b[A\n",
      "  5% 8.91M/190M [00:01<00:26, 6.76MB/s]\u001b[A\n",
      "  5% 9.96M/190M [00:01<00:26, 6.69MB/s]\u001b[A\n",
      "  6% 11.0M/190M [00:01<00:27, 6.52MB/s]\u001b[A\n",
      "  6% 12.1M/190M [00:01<00:28, 6.22MB/s]\u001b[A\n",
      "  7% 13.1M/190M [00:01<00:29, 6.02MB/s]\u001b[A\n",
      "  7% 14.2M/190M [00:02<00:30, 5.82MB/s]\u001b[A\n",
      "  8% 15.2M/190M [00:02<00:29, 5.81MB/s]\u001b[A\n",
      "  9% 16.3M/190M [00:02<00:28, 5.98MB/s]\u001b[A\n",
      "  9% 17.3M/190M [00:02<00:28, 6.02MB/s]\u001b[A\n",
      " 10% 18.4M/190M [00:02<00:27, 6.12MB/s]\u001b[A\n",
      " 10% 19.4M/190M [00:03<00:27, 6.21MB/s]\u001b[A\n",
      " 11% 20.4M/190M [00:03<00:26, 6.33MB/s]\u001b[A\n",
      " 11% 21.5M/190M [00:03<00:27, 6.10MB/s]\u001b[A\n",
      " 12% 22.5M/190M [00:03<00:28, 5.90MB/s]\u001b[A\n",
      " 12% 23.6M/190M [00:03<00:28, 5.88MB/s]\u001b[A\n",
      " 13% 24.6M/190M [00:03<00:26, 6.12MB/s]\u001b[A\n",
      " 14% 25.7M/190M [00:04<00:25, 6.32MB/s]\u001b[A\n",
      " 14% 26.7M/190M [00:04<00:25, 6.44MB/s]\u001b[A\n",
      " 15% 27.8M/190M [00:04<00:24, 6.54MB/s]\u001b[A\n",
      " 15% 28.8M/190M [00:04<00:24, 6.61MB/s]\u001b[A\n",
      " 16% 29.9M/190M [00:04<00:24, 6.56MB/s]\u001b[A\n",
      " 16% 30.9M/190M [00:04<00:24, 6.59MB/s]\u001b[A\n",
      " 17% 32.0M/190M [00:04<00:23, 6.64MB/s]\u001b[A\n",
      " 17% 33.0M/190M [00:05<00:23, 6.72MB/s]\u001b[A\n",
      " 18% 34.1M/190M [00:05<00:23, 6.71MB/s]\u001b[A\n",
      " 19% 35.1M/190M [00:05<00:23, 6.65MB/s]\u001b[A\n",
      " 19% 36.2M/190M [00:05<00:22, 6.67MB/s]\u001b[A\n",
      " 20% 37.2M/190M [00:05<00:22, 6.70MB/s]\u001b[A\n",
      " 20% 38.3M/190M [00:05<00:22, 6.74MB/s]\u001b[A\n",
      " 21% 39.3M/190M [00:06<00:22, 6.76MB/s]\u001b[A\n",
      " 21% 40.4M/190M [00:06<00:22, 6.72MB/s]\u001b[A\n",
      " 22% 41.4M/190M [00:06<00:22, 6.72MB/s]\u001b[A\n",
      " 22% 42.5M/190M [00:06<00:21, 6.74MB/s]\u001b[A\n",
      " 23% 43.5M/190M [00:06<00:22, 6.53MB/s]\u001b[A\n",
      " 24% 44.6M/190M [00:06<00:23, 6.22MB/s]\u001b[A\n",
      " 24% 45.6M/190M [00:07<00:23, 6.15MB/s]\u001b[A\n",
      " 25% 46.7M/190M [00:07<00:23, 6.11MB/s]\u001b[A\n",
      " 25% 47.7M/190M [00:07<00:22, 6.25MB/s]\u001b[A\n",
      " 26% 48.8M/190M [00:07<00:22, 6.37MB/s]\u001b[A\n",
      " 26% 49.8M/190M [00:07<00:21, 6.53MB/s]\u001b[A\n",
      " 27% 50.9M/190M [00:07<00:21, 6.56MB/s]\u001b[A\n",
      " 27% 51.9M/190M [00:08<00:20, 6.64MB/s]\u001b[A\n",
      " 28% 53.0M/190M [00:08<00:20, 6.72MB/s]\u001b[A\n",
      " 28% 54.0M/190M [00:08<00:20, 6.59MB/s]\u001b[A\n",
      " 29% 55.1M/190M [00:08<00:21, 6.30MB/s]\u001b[A\n",
      " 30% 56.1M/190M [00:08<00:21, 6.29MB/s]\u001b[A\n",
      " 30% 57.1M/190M [00:08<00:20, 6.46MB/s]\u001b[A\n",
      " 31% 58.2M/190M [00:09<00:20, 6.40MB/s]\u001b[A\n",
      " 31% 59.2M/190M [00:09<00:20, 6.42MB/s]\u001b[A\n",
      " 32% 60.3M/190M [00:09<00:20, 6.33MB/s]\u001b[A\n",
      " 32% 61.3M/190M [00:09<00:19, 6.42MB/s]\u001b[A\n",
      " 33% 62.4M/190M [00:09<00:19, 6.47MB/s]\u001b[A\n",
      " 33% 63.4M/190M [00:09<00:19, 6.58MB/s]\u001b[A\n",
      " 34% 64.5M/190M [00:09<00:18, 6.65MB/s]\u001b[A\n",
      " 35% 65.5M/190M [00:10<00:18, 6.66MB/s]\u001b[A\n",
      " 35% 66.6M/190M [00:10<00:18, 6.71MB/s]\u001b[A\n",
      " 36% 67.6M/190M [00:10<00:18, 6.72MB/s]\u001b[A\n",
      " 36% 68.7M/190M [00:10<00:17, 6.74MB/s]\u001b[A\n",
      " 37% 69.7M/190M [00:10<00:17, 6.70MB/s]\u001b[A\n",
      " 37% 70.8M/190M [00:10<00:17, 6.62MB/s]\u001b[A\n",
      " 38% 71.8M/190M [00:11<00:17, 6.64MB/s]\u001b[A\n",
      " 38% 72.9M/190M [00:11<00:17, 6.63MB/s]\u001b[A\n",
      " 39% 73.9M/190M [00:11<00:17, 6.65MB/s]\u001b[A\n",
      " 40% 75.0M/190M [00:11<00:17, 6.62MB/s]\u001b[A\n",
      " 40% 76.0M/190M [00:11<00:17, 6.38MB/s]\u001b[A\n",
      " 41% 77.1M/190M [00:11<00:17, 6.29MB/s]\u001b[A\n",
      " 41% 78.1M/190M [00:12<00:18, 6.16MB/s]\u001b[A\n",
      " 42% 79.2M/190M [00:12<00:18, 6.11MB/s]\u001b[A\n",
      " 42% 80.2M/190M [00:12<00:17, 6.30MB/s]\u001b[A\n",
      " 43% 81.3M/190M [00:12<00:16, 6.39MB/s]\u001b[A\n",
      " 43% 82.3M/190M [00:12<00:16, 6.49MB/s]\u001b[A\n",
      " 44% 83.4M/190M [00:12<00:16, 6.56MB/s]\u001b[A\n",
      " 45% 84.4M/190M [00:13<00:15, 6.59MB/s]\u001b[A\n",
      " 45% 85.5M/190M [00:13<00:15, 6.62MB/s]\u001b[A\n",
      " 46% 86.5M/190M [00:13<00:15, 6.48MB/s]\u001b[A\n",
      " 46% 87.6M/190M [00:13<00:16, 6.32MB/s]\u001b[A\n",
      " 47% 88.6M/190M [00:13<00:15, 6.36MB/s]\u001b[A\n",
      " 47% 89.7M/190M [00:13<00:15, 6.49MB/s]\u001b[A\n",
      " 48% 90.7M/190M [00:14<00:15, 6.57MB/s]\u001b[A\n",
      " 48% 91.8M/190M [00:14<00:14, 6.60MB/s]\u001b[A\n",
      " 49% 92.8M/190M [00:14<00:14, 6.68MB/s]\u001b[A\n",
      " 50% 93.8M/190M [00:14<00:14, 6.50MB/s]\u001b[A\n",
      " 50% 94.9M/190M [00:14<00:14, 6.31MB/s]\u001b[A\n",
      " 51% 95.9M/190M [00:14<00:15, 6.22MB/s]\u001b[A\n",
      " 51% 97.0M/190M [00:14<00:14, 6.38MB/s]\u001b[A\n",
      " 52% 98.0M/190M [00:15<00:14, 6.47MB/s]\u001b[A\n",
      " 52% 99.1M/190M [00:15<00:13, 6.49MB/s]\u001b[A\n",
      " 53% 100M/190M [00:15<00:13, 6.53MB/s] \u001b[A\n",
      " 53% 101M/190M [00:15<00:13, 6.52MB/s]\u001b[A\n",
      " 54% 102M/190M [00:15<00:13, 6.63MB/s]\u001b[A\n",
      " 54% 103M/190M [00:15<00:12, 6.66MB/s]\u001b[A\n",
      " 55% 104M/190M [00:16<00:12, 6.67MB/s]\u001b[A\n",
      " 56% 105M/190M [00:16<00:12, 6.75MB/s]\u001b[A\n",
      " 56% 106M/190M [00:16<00:12, 6.75MB/s]\u001b[A\n",
      " 57% 107M/190M [00:16<00:12, 6.66MB/s]\u001b[A\n",
      " 57% 109M/190M [00:16<00:12, 6.43MB/s]\u001b[A\n",
      " 58% 110M/190M [00:16<00:12, 6.21MB/s]\u001b[A\n",
      " 58% 111M/190M [00:17<00:12, 6.12MB/s]\u001b[A\n",
      " 59% 112M/190M [00:17<00:12, 6.09MB/s]\u001b[A\n",
      " 59% 113M/190M [00:17<00:12, 6.27MB/s]\u001b[A\n",
      " 60% 114M/190M [00:17<00:12, 6.23MB/s]\u001b[A\n",
      " 61% 115M/190M [00:17<00:11, 6.27MB/s]\u001b[A\n",
      " 61% 116M/190M [00:17<00:11, 6.47MB/s]\u001b[A\n",
      " 62% 117M/190M [00:18<00:11, 6.51MB/s]\u001b[A\n",
      " 62% 118M/190M [00:18<00:10, 6.61MB/s]\u001b[A\n",
      " 63% 119M/190M [00:18<00:11, 6.37MB/s]\u001b[A\n",
      " 63% 120M/190M [00:18<00:11, 6.29MB/s]\u001b[A\n",
      " 64% 121M/190M [00:18<00:10, 6.37MB/s]\u001b[A\n",
      " 64% 122M/190M [00:18<00:10, 6.48MB/s]\u001b[A\n",
      " 65% 123M/190M [00:19<00:10, 6.54MB/s]\u001b[A\n",
      " 66% 124M/190M [00:19<00:09, 6.58MB/s]\u001b[A\n",
      " 66% 125M/190M [00:19<00:09, 6.64MB/s]\u001b[A\n",
      " 67% 126M/190M [00:19<00:09, 6.66MB/s]\u001b[A\n",
      " 67% 127M/190M [00:19<00:09, 6.68MB/s]\u001b[A\n",
      " 68% 128M/190M [00:19<00:09, 6.69MB/s]\u001b[A\n",
      " 68% 129M/190M [00:19<00:08, 6.68MB/s]\u001b[A\n",
      " 69% 131M/190M [00:20<00:08, 6.64MB/s]\u001b[A\n",
      " 69% 132M/190M [00:20<00:08, 6.46MB/s]\u001b[A\n",
      " 70% 133M/190M [00:20<00:08, 6.42MB/s]\u001b[A\n",
      " 71% 134M/190M [00:20<00:08, 6.55MB/s]\u001b[A\n",
      " 71% 135M/190M [00:20<00:08, 6.47MB/s]\u001b[A\n",
      " 72% 136M/190M [00:20<00:08, 6.55MB/s]\u001b[A\n",
      " 72% 137M/190M [00:21<00:08, 6.58MB/s]\u001b[A\n",
      " 73% 138M/190M [00:21<00:07, 6.58MB/s]\u001b[A\n",
      " 73% 139M/190M [00:21<00:07, 6.63MB/s]\u001b[A\n",
      " 74% 140M/190M [00:21<00:07, 6.57MB/s]\u001b[A\n",
      " 74% 141M/190M [00:21<00:07, 6.38MB/s]\u001b[A\n",
      " 75% 142M/190M [00:21<00:07, 6.23MB/s]\u001b[A\n",
      " 76% 143M/190M [00:22<00:07, 6.11MB/s]\u001b[A\n",
      " 76% 144M/190M [00:22<00:07, 6.19MB/s]\u001b[A\n",
      " 77% 145M/190M [00:22<00:06, 6.35MB/s]\u001b[A\n",
      " 77% 146M/190M [00:22<00:06, 6.48MB/s]\u001b[A\n",
      " 78% 147M/190M [00:22<00:06, 6.50MB/s]\u001b[A\n",
      " 78% 148M/190M [00:22<00:06, 6.57MB/s]\u001b[A\n",
      " 79% 149M/190M [00:23<00:06, 6.68MB/s]\u001b[A\n",
      " 79% 150M/190M [00:23<00:05, 6.68MB/s]\u001b[A\n",
      " 80% 152M/190M [00:23<00:05, 6.51MB/s]\u001b[A\n",
      " 80% 153M/190M [00:23<00:05, 6.36MB/s]\u001b[A\n",
      " 81% 154M/190M [00:23<00:05, 6.52MB/s]\u001b[A\n",
      " 82% 155M/190M [00:23<00:05, 6.46MB/s]\u001b[A\n",
      " 82% 156M/190M [00:24<00:05, 6.53MB/s]\u001b[A\n",
      " 83% 157M/190M [00:24<00:04, 6.64MB/s]\u001b[A\n",
      " 83% 158M/190M [00:24<00:04, 6.60MB/s]\u001b[A\n",
      " 84% 159M/190M [00:24<00:04, 6.64MB/s]\u001b[A\n",
      " 84% 160M/190M [00:24<00:04, 6.69MB/s]\u001b[A\n",
      " 85% 161M/190M [00:24<00:04, 6.67MB/s]\u001b[A\n",
      " 85% 162M/190M [00:24<00:04, 6.73MB/s]\u001b[A\n",
      " 86% 163M/190M [00:25<00:03, 6.69MB/s]\u001b[A\n",
      " 87% 164M/190M [00:25<00:03, 6.71MB/s]\u001b[A\n",
      " 87% 165M/190M [00:25<00:03, 6.68MB/s]\u001b[A\n",
      " 88% 166M/190M [00:25<00:03, 6.46MB/s]\u001b[A\n",
      " 88% 167M/190M [00:25<00:03, 6.34MB/s]\u001b[A\n",
      " 89% 168M/190M [00:25<00:03, 6.30MB/s]\u001b[A\n",
      " 89% 169M/190M [00:26<00:03, 6.34MB/s]\u001b[A\n",
      " 90% 170M/190M [00:26<00:02, 6.46MB/s]\u001b[A\n",
      " 90% 171M/190M [00:26<00:02, 6.57MB/s]\u001b[A\n",
      " 91% 172M/190M [00:26<00:02, 6.48MB/s]\u001b[A\n",
      " 92% 174M/190M [00:26<00:02, 6.33MB/s]\u001b[A\n",
      " 92% 175M/190M [00:26<00:02, 5.99MB/s]\u001b[A\n",
      " 93% 176M/190M [00:27<00:02, 5.93MB/s]\u001b[A\n",
      " 93% 177M/190M [00:27<00:02, 6.04MB/s]\u001b[A\n",
      " 94% 178M/190M [00:27<00:01, 6.24MB/s]\u001b[A\n",
      " 94% 179M/190M [00:27<00:01, 6.42MB/s]\u001b[A\n",
      " 95% 180M/190M [00:27<00:01, 6.46MB/s]\u001b[A\n",
      " 95% 181M/190M [00:27<00:01, 6.49MB/s]\u001b[A\n",
      " 96% 182M/190M [00:28<00:01, 6.63MB/s]\u001b[A\n",
      " 97% 183M/190M [00:28<00:00, 6.58MB/s]\u001b[A\n",
      " 97% 184M/190M [00:28<00:00, 6.34MB/s]\u001b[A\n",
      " 98% 185M/190M [00:28<00:00, 6.27MB/s]\u001b[A\n",
      " 98% 186M/190M [00:28<00:00, 6.41MB/s]\u001b[A\n",
      " 99% 187M/190M [00:28<00:00, 6.43MB/s]\u001b[A\n",
      " 99% 188M/190M [00:29<00:00, 6.40MB/s]\u001b[A\n",
      "100% 190M/190M [00:29<00:00, 6.47MB/s]\u001b[A\n"
     ]
    },
    {
     "data": {
      "text/plain": [
       "'data/taxi-trips-2022-02.parquet'"
      ]
     },
     "execution_count": 2,
     "metadata": {},
     "output_type": "execute_result"
    }
   ],
   "source": [
    "import gdown\n",
    "import os\n",
    "\n",
    "data_folder = \"data\"\n",
    "\n",
    "# Check whether the specified path exists or not\n",
    "isExist = os.path.exists(data_folder)\n",
    "if not isExist:\n",
    "    # Create a new directory because it does not exist\n",
    "    os.makedirs(data_folder)\n",
    "    print(f\"New directory {data_folder} created!\")\n",
    "\n",
    "gdown.download(\n",
    "    \"https://drive.google.com/uc?id=1xQ8heQzUkKehOUPYvrHIqQ_pDJNCH9tT\",\n",
    "    \"data/taxi-trips-2022-01.parquet\",\n",
    "    quiet=False,\n",
    ")\n",
    "gdown.download(\n",
    "    \"https://drive.google.com/uc?id=11kOFkDJIXSW2Hu0o2o-PWBhTJi0msYfH\",\n",
    "    \"data/taxi-trips-2022-02.parquet\",\n",
    "    quiet=False,\n",
    ")"
   ]
  },
  {
   "cell_type": "markdown",
   "metadata": {},
   "source": [
    "### 1-2. Loading our data\n",
    "\n",
    "Our data is composed of several columns, the most interesting ones being:\n",
    "- `hvfhs_license_num`: this is the Taxi & License Commission license number of the company operating the trip. Possible values are HV0002 (Juno), HV0003 (Uber), HV0004 (Via), HV0005 (Lyft).\n",
    "- `request_datetime`, `on_scene_datetime`, `pickup_datetime`, `dropoff_datetime`: logs datetime for ride request, when driver arrived, picked-up & dropped off passenger(s).\n",
    "- `PULocationID`, `DOLocationID`: where the trip began & ended. Those are `int` values.\n",
    "- `trip_miles`, `trip_time`: miles for passenger trip & total time in seconds of trip\n",
    "- `base_passenger_fare`: base fare excluding toll (`tolls`), tips (`tips`), taxes (`sales_tax`) and fees (`airport_fee`, `congestion_surcharge`, `bcf`). \n",
    "- `driver_pay`: total driver pay (exclusing tools, tips, commission, taxes...)\n",
    "- `shared_match_flag`: did the passenger share the vehicle with another passenger who booked separately? (Y/N)\n",
    "\n",
    "Let's load it and print the first rows."
   ]
  },
  {
   "cell_type": "code",
   "execution_count": 3,
   "metadata": {
    "tags": []
   },
   "outputs": [
    {
     "data": {
      "text/html": [
       "<div>\n",
       "<style scoped>\n",
       "    .dataframe tbody tr th:only-of-type {\n",
       "        vertical-align: middle;\n",
       "    }\n",
       "\n",
       "    .dataframe tbody tr th {\n",
       "        vertical-align: top;\n",
       "    }\n",
       "\n",
       "    .dataframe thead th {\n",
       "        text-align: right;\n",
       "    }\n",
       "</style>\n",
       "<table border=\"1\" class=\"dataframe\">\n",
       "  <thead>\n",
       "    <tr style=\"text-align: right;\">\n",
       "      <th></th>\n",
       "      <th>hvfhs_license_num</th>\n",
       "      <th>dispatching_base_num</th>\n",
       "      <th>originating_base_num</th>\n",
       "      <th>request_datetime</th>\n",
       "      <th>on_scene_datetime</th>\n",
       "      <th>pickup_datetime</th>\n",
       "      <th>dropoff_datetime</th>\n",
       "      <th>PULocationID</th>\n",
       "      <th>DOLocationID</th>\n",
       "      <th>trip_miles</th>\n",
       "      <th>...</th>\n",
       "      <th>sales_tax</th>\n",
       "      <th>congestion_surcharge</th>\n",
       "      <th>airport_fee</th>\n",
       "      <th>tips</th>\n",
       "      <th>driver_pay</th>\n",
       "      <th>shared_request_flag</th>\n",
       "      <th>shared_match_flag</th>\n",
       "      <th>access_a_ride_flag</th>\n",
       "      <th>wav_request_flag</th>\n",
       "      <th>wav_match_flag</th>\n",
       "    </tr>\n",
       "  </thead>\n",
       "  <tbody>\n",
       "    <tr>\n",
       "      <th>13103716</th>\n",
       "      <td>HV0005</td>\n",
       "      <td>B03406</td>\n",
       "      <td>None</td>\n",
       "      <td>2022-01-28 14:37:32</td>\n",
       "      <td>NaT</td>\n",
       "      <td>2022-01-28 14:43:10</td>\n",
       "      <td>2022-01-28 14:50:13</td>\n",
       "      <td>236</td>\n",
       "      <td>263</td>\n",
       "      <td>0.580</td>\n",
       "      <td>...</td>\n",
       "      <td>0.65</td>\n",
       "      <td>2.75</td>\n",
       "      <td>0.0</td>\n",
       "      <td>0.0</td>\n",
       "      <td>5.47</td>\n",
       "      <td>N</td>\n",
       "      <td>N</td>\n",
       "      <td>N</td>\n",
       "      <td>N</td>\n",
       "      <td>Y</td>\n",
       "    </tr>\n",
       "    <tr>\n",
       "      <th>2948771</th>\n",
       "      <td>HV0003</td>\n",
       "      <td>B03404</td>\n",
       "      <td>B03404</td>\n",
       "      <td>2022-01-07 23:13:02</td>\n",
       "      <td>2022-01-07 23:15:30</td>\n",
       "      <td>2022-01-07 23:17:30</td>\n",
       "      <td>2022-01-07 23:53:36</td>\n",
       "      <td>261</td>\n",
       "      <td>146</td>\n",
       "      <td>9.790</td>\n",
       "      <td>...</td>\n",
       "      <td>3.11</td>\n",
       "      <td>2.75</td>\n",
       "      <td>0.0</td>\n",
       "      <td>0.0</td>\n",
       "      <td>28.93</td>\n",
       "      <td>N</td>\n",
       "      <td>N</td>\n",
       "      <td></td>\n",
       "      <td>N</td>\n",
       "      <td>N</td>\n",
       "    </tr>\n",
       "    <tr>\n",
       "      <th>10761352</th>\n",
       "      <td>HV0005</td>\n",
       "      <td>B03406</td>\n",
       "      <td>None</td>\n",
       "      <td>2022-01-23 16:41:26</td>\n",
       "      <td>NaT</td>\n",
       "      <td>2022-01-23 16:44:31</td>\n",
       "      <td>2022-01-23 17:04:13</td>\n",
       "      <td>164</td>\n",
       "      <td>138</td>\n",
       "      <td>9.437</td>\n",
       "      <td>...</td>\n",
       "      <td>3.25</td>\n",
       "      <td>2.75</td>\n",
       "      <td>2.5</td>\n",
       "      <td>0.0</td>\n",
       "      <td>20.38</td>\n",
       "      <td>N</td>\n",
       "      <td>N</td>\n",
       "      <td>N</td>\n",
       "      <td>N</td>\n",
       "      <td>N</td>\n",
       "    </tr>\n",
       "    <tr>\n",
       "      <th>12840678</th>\n",
       "      <td>HV0003</td>\n",
       "      <td>B03404</td>\n",
       "      <td>B03404</td>\n",
       "      <td>2022-01-28 01:02:23</td>\n",
       "      <td>2022-01-28 01:03:45</td>\n",
       "      <td>2022-01-28 01:05:46</td>\n",
       "      <td>2022-01-28 01:11:07</td>\n",
       "      <td>36</td>\n",
       "      <td>37</td>\n",
       "      <td>0.760</td>\n",
       "      <td>...</td>\n",
       "      <td>0.71</td>\n",
       "      <td>0.00</td>\n",
       "      <td>0.0</td>\n",
       "      <td>0.0</td>\n",
       "      <td>5.48</td>\n",
       "      <td>N</td>\n",
       "      <td>N</td>\n",
       "      <td></td>\n",
       "      <td>N</td>\n",
       "      <td>N</td>\n",
       "    </tr>\n",
       "    <tr>\n",
       "      <th>7438686</th>\n",
       "      <td>HV000</td>\n",
       "      <td>B03404</td>\n",
       "      <td>B03404</td>\n",
       "      <td>2022-01-17 06:43:01</td>\n",
       "      <td>2022-01-17 06:44:18</td>\n",
       "      <td>2022-01-17 06:44:43</td>\n",
       "      <td>2022-01-17 07:13:53</td>\n",
       "      <td>228</td>\n",
       "      <td>42</td>\n",
       "      <td>15.720</td>\n",
       "      <td>...</td>\n",
       "      <td>4.08</td>\n",
       "      <td>2.75</td>\n",
       "      <td>0.0</td>\n",
       "      <td>0.0</td>\n",
       "      <td>31.98</td>\n",
       "      <td>N</td>\n",
       "      <td>N</td>\n",
       "      <td></td>\n",
       "      <td>N</td>\n",
       "      <td>N</td>\n",
       "    </tr>\n",
       "  </tbody>\n",
       "</table>\n",
       "<p>5 rows × 24 columns</p>\n",
       "</div>"
      ],
      "text/plain": [
       "         hvfhs_license_num dispatching_base_num originating_base_num  \\\n",
       "13103716            HV0005               B03406                 None   \n",
       "2948771             HV0003               B03404               B03404   \n",
       "10761352            HV0005               B03406                 None   \n",
       "12840678            HV0003               B03404               B03404   \n",
       "7438686              HV000               B03404               B03404   \n",
       "\n",
       "            request_datetime   on_scene_datetime     pickup_datetime  \\\n",
       "13103716 2022-01-28 14:37:32                 NaT 2022-01-28 14:43:10   \n",
       "2948771  2022-01-07 23:13:02 2022-01-07 23:15:30 2022-01-07 23:17:30   \n",
       "10761352 2022-01-23 16:41:26                 NaT 2022-01-23 16:44:31   \n",
       "12840678 2022-01-28 01:02:23 2022-01-28 01:03:45 2022-01-28 01:05:46   \n",
       "7438686  2022-01-17 06:43:01 2022-01-17 06:44:18 2022-01-17 06:44:43   \n",
       "\n",
       "            dropoff_datetime  PULocationID  DOLocationID  trip_miles  ...  \\\n",
       "13103716 2022-01-28 14:50:13           236           263       0.580  ...   \n",
       "2948771  2022-01-07 23:53:36           261           146       9.790  ...   \n",
       "10761352 2022-01-23 17:04:13           164           138       9.437  ...   \n",
       "12840678 2022-01-28 01:11:07            36            37       0.760  ...   \n",
       "7438686  2022-01-17 07:13:53           228            42      15.720  ...   \n",
       "\n",
       "          sales_tax  congestion_surcharge  airport_fee  tips  driver_pay  \\\n",
       "13103716       0.65                  2.75          0.0   0.0        5.47   \n",
       "2948771        3.11                  2.75          0.0   0.0       28.93   \n",
       "10761352       3.25                  2.75          2.5   0.0       20.38   \n",
       "12840678       0.71                  0.00          0.0   0.0        5.48   \n",
       "7438686        4.08                  2.75          0.0   0.0       31.98   \n",
       "\n",
       "          shared_request_flag  shared_match_flag  access_a_ride_flag  \\\n",
       "13103716                    N                  N                   N   \n",
       "2948771                     N                  N                       \n",
       "10761352                    N                  N                   N   \n",
       "12840678                    N                  N                       \n",
       "7438686                     N                  N                       \n",
       "\n",
       "          wav_request_flag wav_match_flag  \n",
       "13103716                 N              Y  \n",
       "2948771                  N              N  \n",
       "10761352                 N              N  \n",
       "12840678                 N              N  \n",
       "7438686                  N              N  \n",
       "\n",
       "[5 rows x 24 columns]"
      ]
     },
     "execution_count": 3,
     "metadata": {},
     "output_type": "execute_result"
    }
   ],
   "source": [
    "import pandas as pd\n",
    "\n",
    "data = pd.read_parquet(\"data/taxi-trips-2022-01.parquet\")\n",
    "data.head()"
   ]
  },
  {
   "cell_type": "markdown",
   "metadata": {},
   "source": [
    "### 1-3. Exploring our data\n",
    "\n",
    "Let's assume our goal will be to create an application able to predict the fare of a trip, from the pick-up & dropoff locations. We will eventually be using the following columns:\n",
    "- `base_passenger_fare`: our target variable\n",
    "- `hvfhs_license_num`: fare might depend on operating company (HV0003 or HV0005)\n",
    "- `request_datetime`, `on_scene_datetime`, `pickup_datetime`, `dropoff_datetime`: fare might depend on congestion & time of pickup\n",
    "- `PULocationID`, `DOLocationID`: fare will depend on pick up and drop off location\n",
    "- `trip_miles`, `trip_time`: these fields might be useful to normalize training data\n",
    "\n",
    "Let's first explore quality of these key fields. What can you see? Is data quality sufficient?"
   ]
  },
  {
   "cell_type": "code",
   "execution_count": 11,
   "metadata": {
    "tags": []
   },
   "outputs": [
    {
     "data": {
      "text/html": [
       "<div>\n",
       "<style scoped>\n",
       "    .dataframe tbody tr th:only-of-type {\n",
       "        vertical-align: middle;\n",
       "    }\n",
       "\n",
       "    .dataframe tbody tr th {\n",
       "        vertical-align: top;\n",
       "    }\n",
       "\n",
       "    .dataframe thead th {\n",
       "        text-align: right;\n",
       "    }\n",
       "</style>\n",
       "<table border=\"1\" class=\"dataframe\">\n",
       "  <thead>\n",
       "    <tr style=\"text-align: right;\">\n",
       "      <th></th>\n",
       "      <th>PULocationID</th>\n",
       "      <th>DOLocationID</th>\n",
       "      <th>trip_miles</th>\n",
       "      <th>trip_time</th>\n",
       "      <th>base_passenger_fare</th>\n",
       "      <th>tolls</th>\n",
       "      <th>bcf</th>\n",
       "      <th>sales_tax</th>\n",
       "      <th>congestion_surcharge</th>\n",
       "      <th>airport_fee</th>\n",
       "      <th>tips</th>\n",
       "      <th>driver_pay</th>\n",
       "    </tr>\n",
       "  </thead>\n",
       "  <tbody>\n",
       "    <tr>\n",
       "      <th>count</th>\n",
       "      <td>3.687898e+06</td>\n",
       "      <td>3.687898e+06</td>\n",
       "      <td>3.687898e+06</td>\n",
       "      <td>3.687898e+06</td>\n",
       "      <td>3.687898e+06</td>\n",
       "      <td>3.687898e+06</td>\n",
       "      <td>3.687898e+06</td>\n",
       "      <td>3.687898e+06</td>\n",
       "      <td>3.687898e+06</td>\n",
       "      <td>3.687898e+06</td>\n",
       "      <td>3.687898e+06</td>\n",
       "      <td>3.687898e+06</td>\n",
       "    </tr>\n",
       "    <tr>\n",
       "      <th>mean</th>\n",
       "      <td>1.380291e+02</td>\n",
       "      <td>1.413996e+02</td>\n",
       "      <td>5.115186e+00</td>\n",
       "      <td>1.020185e+03</td>\n",
       "      <td>1.962433e+01</td>\n",
       "      <td>9.007726e-01</td>\n",
       "      <td>6.222032e-01</td>\n",
       "      <td>1.708277e+00</td>\n",
       "      <td>1.079377e+00</td>\n",
       "      <td>1.471579e-01</td>\n",
       "      <td>8.055923e-01</td>\n",
       "      <td>1.564649e+01</td>\n",
       "    </tr>\n",
       "    <tr>\n",
       "      <th>std</th>\n",
       "      <td>7.577711e+01</td>\n",
       "      <td>7.807552e+01</td>\n",
       "      <td>8.906475e+01</td>\n",
       "      <td>6.863401e+02</td>\n",
       "      <td>1.555270e+01</td>\n",
       "      <td>3.419244e+00</td>\n",
       "      <td>5.281585e-01</td>\n",
       "      <td>1.312195e+00</td>\n",
       "      <td>1.351224e+00</td>\n",
       "      <td>5.921211e-01</td>\n",
       "      <td>2.450585e+00</td>\n",
       "      <td>1.229859e+01</td>\n",
       "    </tr>\n",
       "    <tr>\n",
       "      <th>min</th>\n",
       "      <td>2.000000e+00</td>\n",
       "      <td>1.000000e+00</td>\n",
       "      <td>0.000000e+00</td>\n",
       "      <td>1.000000e+00</td>\n",
       "      <td>-2.636900e+02</td>\n",
       "      <td>0.000000e+00</td>\n",
       "      <td>0.000000e+00</td>\n",
       "      <td>0.000000e+00</td>\n",
       "      <td>0.000000e+00</td>\n",
       "      <td>0.000000e+00</td>\n",
       "      <td>-3.641000e+01</td>\n",
       "      <td>-1.544000e+01</td>\n",
       "    </tr>\n",
       "    <tr>\n",
       "      <th>25%</th>\n",
       "      <td>7.400000e+01</td>\n",
       "      <td>7.500000e+01</td>\n",
       "      <td>1.520000e+00</td>\n",
       "      <td>5.490000e+02</td>\n",
       "      <td>9.850000e+00</td>\n",
       "      <td>0.000000e+00</td>\n",
       "      <td>3.000000e-01</td>\n",
       "      <td>8.500000e-01</td>\n",
       "      <td>0.000000e+00</td>\n",
       "      <td>0.000000e+00</td>\n",
       "      <td>0.000000e+00</td>\n",
       "      <td>7.680000e+00</td>\n",
       "    </tr>\n",
       "    <tr>\n",
       "      <th>50%</th>\n",
       "      <td>1.390000e+02</td>\n",
       "      <td>1.410000e+02</td>\n",
       "      <td>2.810000e+00</td>\n",
       "      <td>8.510000e+02</td>\n",
       "      <td>1.541000e+01</td>\n",
       "      <td>0.000000e+00</td>\n",
       "      <td>4.700000e-01</td>\n",
       "      <td>1.340000e+00</td>\n",
       "      <td>0.000000e+00</td>\n",
       "      <td>0.000000e+00</td>\n",
       "      <td>0.000000e+00</td>\n",
       "      <td>1.203000e+01</td>\n",
       "    </tr>\n",
       "    <tr>\n",
       "      <th>75%</th>\n",
       "      <td>2.110000e+02</td>\n",
       "      <td>2.160000e+02</td>\n",
       "      <td>5.720000e+00</td>\n",
       "      <td>1.304000e+03</td>\n",
       "      <td>2.400000e+01</td>\n",
       "      <td>0.000000e+00</td>\n",
       "      <td>7.400000e-01</td>\n",
       "      <td>2.110000e+00</td>\n",
       "      <td>2.750000e+00</td>\n",
       "      <td>0.000000e+00</td>\n",
       "      <td>0.000000e+00</td>\n",
       "      <td>1.942000e+01</td>\n",
       "    </tr>\n",
       "    <tr>\n",
       "      <th>max</th>\n",
       "      <td>2.650000e+02</td>\n",
       "      <td>2.650000e+02</td>\n",
       "      <td>1.104900e+05</td>\n",
       "      <td>1.014460e+05</td>\n",
       "      <td>3.078210e+03</td>\n",
       "      <td>4.562600e+02</td>\n",
       "      <td>9.257000e+01</td>\n",
       "      <td>1.070600e+02</td>\n",
       "      <td>1.100000e+01</td>\n",
       "      <td>6.400000e+00</td>\n",
       "      <td>2.031600e+02</td>\n",
       "      <td>1.693020e+03</td>\n",
       "    </tr>\n",
       "  </tbody>\n",
       "</table>\n",
       "</div>"
      ],
      "text/plain": [
       "       PULocationID  DOLocationID    trip_miles     trip_time  \\\n",
       "count  3.687898e+06  3.687898e+06  3.687898e+06  3.687898e+06   \n",
       "mean   1.380291e+02  1.413996e+02  5.115186e+00  1.020185e+03   \n",
       "std    7.577711e+01  7.807552e+01  8.906475e+01  6.863401e+02   \n",
       "min    2.000000e+00  1.000000e+00  0.000000e+00  1.000000e+00   \n",
       "25%    7.400000e+01  7.500000e+01  1.520000e+00  5.490000e+02   \n",
       "50%    1.390000e+02  1.410000e+02  2.810000e+00  8.510000e+02   \n",
       "75%    2.110000e+02  2.160000e+02  5.720000e+00  1.304000e+03   \n",
       "max    2.650000e+02  2.650000e+02  1.104900e+05  1.014460e+05   \n",
       "\n",
       "       base_passenger_fare         tolls           bcf     sales_tax  \\\n",
       "count         3.687898e+06  3.687898e+06  3.687898e+06  3.687898e+06   \n",
       "mean          1.962433e+01  9.007726e-01  6.222032e-01  1.708277e+00   \n",
       "std           1.555270e+01  3.419244e+00  5.281585e-01  1.312195e+00   \n",
       "min          -2.636900e+02  0.000000e+00  0.000000e+00  0.000000e+00   \n",
       "25%           9.850000e+00  0.000000e+00  3.000000e-01  8.500000e-01   \n",
       "50%           1.541000e+01  0.000000e+00  4.700000e-01  1.340000e+00   \n",
       "75%           2.400000e+01  0.000000e+00  7.400000e-01  2.110000e+00   \n",
       "max           3.078210e+03  4.562600e+02  9.257000e+01  1.070600e+02   \n",
       "\n",
       "       congestion_surcharge   airport_fee          tips    driver_pay  \n",
       "count          3.687898e+06  3.687898e+06  3.687898e+06  3.687898e+06  \n",
       "mean           1.079377e+00  1.471579e-01  8.055923e-01  1.564649e+01  \n",
       "std            1.351224e+00  5.921211e-01  2.450585e+00  1.229859e+01  \n",
       "min            0.000000e+00  0.000000e+00 -3.641000e+01 -1.544000e+01  \n",
       "25%            0.000000e+00  0.000000e+00  0.000000e+00  7.680000e+00  \n",
       "50%            0.000000e+00  0.000000e+00  0.000000e+00  1.203000e+01  \n",
       "75%            2.750000e+00  0.000000e+00  0.000000e+00  1.942000e+01  \n",
       "max            1.100000e+01  6.400000e+00  2.031600e+02  1.693020e+03  "
      ]
     },
     "execution_count": 11,
     "metadata": {},
     "output_type": "execute_result"
    }
   ],
   "source": [
    "data.describe()"
   ]
  },
  {
   "cell_type": "code",
   "execution_count": 8,
   "metadata": {
    "tags": []
   },
   "outputs": [
    {
     "name": "stdout",
     "output_type": "stream",
     "text": [
      "Missing values: 2.21%\n",
      "originating_base_num    980125 (26.58%)\n",
      "on_scene_datetime       980056 (26.57%)\n",
      "hvfhs_license_num              0 (0.0%)\n",
      "bcf                            0 (0.0%)\n",
      "wav_request_flag               0 (0.0%)\n",
      "access_a_ride_flag             0 (0.0%)\n",
      "shared_match_flag              0 (0.0%)\n",
      "shared_request_flag            0 (0.0%)\n",
      "driver_pay                     0 (0.0%)\n",
      "tips                           0 (0.0%)\n",
      "airport_fee                    0 (0.0%)\n",
      "congestion_surcharge           0 (0.0%)\n",
      "sales_tax                      0 (0.0%)\n",
      "tolls                          0 (0.0%)\n",
      "dispatching_base_num           0 (0.0%)\n",
      "base_passenger_fare            0 (0.0%)\n",
      "trip_time                      0 (0.0%)\n",
      "trip_miles                     0 (0.0%)\n",
      "DOLocationID                   0 (0.0%)\n",
      "PULocationID                   0 (0.0%)\n",
      "dropoff_datetime               0 (0.0%)\n",
      "pickup_datetime                0 (0.0%)\n",
      "request_datetime               0 (0.0%)\n",
      "wav_match_flag                 0 (0.0%)\n",
      "dtype: object\n"
     ]
    }
   ],
   "source": [
    "def missing_values(df, keep_zeros=True):\n",
    "    data_count = df.shape[0] * df.shape[1]\n",
    "    missing = missing_df = df.isna().sum()\n",
    "\n",
    "    if not keep_zeros:\n",
    "        missing_df = missing_df[missing_df > 0]\n",
    "\n",
    "    missing_df = missing_df.sort_values(ascending=False).apply(lambda m: f\"{m} ({round((m * 100) / df.shape[0], 2)}%)\")\n",
    "\n",
    "    print((\n",
    "        f\"Missing values: {round((missing.sum() / data_count) * 100, 2)}%\\n\"\n",
    "        f\"{missing_df}\"\n",
    "    ))\n",
    "\n",
    "\n",
    "missing_values(df=data, keep_zeros=True)"
   ]
  },
  {
   "cell_type": "code",
   "execution_count": 10,
   "metadata": {
    "tags": []
   },
   "outputs": [
    {
     "name": "stdout",
     "output_type": "stream",
     "text": [
      "Duplicated values: 0 (0.0%)\n"
     ]
    }
   ],
   "source": [
    "def duplicated_values(df):\n",
    "    data_count = df.shape[0] * df.shape[1]\n",
    "    duplicated = df.duplicated().sum()\n",
    "\n",
    "    print(f\"Duplicated values: {duplicated} ({round((duplicated.sum() / data_count) * 100, 2)}%)\")\n",
    "\n",
    "\n",
    "duplicated_values(df=data)"
   ]
  },
  {
   "cell_type": "code",
   "execution_count": 6,
   "metadata": {
    "tags": []
   },
   "outputs": [
    {
     "data": {
      "text/plain": [
       "array(['HV0005', 'HV0003', 'HV000'], dtype=object)"
      ]
     },
     "execution_count": 6,
     "metadata": {},
     "output_type": "execute_result"
    }
   ],
   "source": [
    "data[\"hvfhs_license_num\"].unique()"
   ]
  },
  {
   "cell_type": "code",
   "execution_count": 5,
   "metadata": {
    "tags": []
   },
   "outputs": [
    {
     "data": {
      "text/plain": [
       "array([                          'NaT', '2022-01-07T23:15:30.000000000',\n",
       "       '2022-01-28T01:03:45.000000000', ...,\n",
       "       '2022-01-05T21:42:35.000000000', '2022-01-31T16:17:41.000000000',\n",
       "       '2022-01-04T00:56:08.000000000'], dtype='datetime64[ns]')"
      ]
     },
     "execution_count": 5,
     "metadata": {},
     "output_type": "execute_result"
    }
   ],
   "source": [
    "data[\"on_scene_datetime\"].unique()"
   ]
  },
  {
   "cell_type": "markdown",
   "metadata": {},
   "source": [
    "**Conclusion:** : \n",
    "Missing values\n",
    "Invalid values\n",
    "Preprocessed required"
   ]
  },
  {
   "cell_type": "markdown",
   "metadata": {},
   "source": [
    "## 2 - Installing Great Expectations"
   ]
  },
  {
   "cell_type": "markdown",
   "metadata": {},
   "source": [
    "Great expectation allows us to:\n",
    "- define data quality rules in a language agnostic format (as config files)\n",
    "- run these data quality checks & rules on various types of data sources\n",
    "- trigger actions & alerting whenever a rule breaks\n",
    "- generate data quality reports easily from our set of rules\n",
    "\n",
    "Your environment should already contain great expectation as a python library. Otherwise you can simply follow the following commands to install it: https://docs.greatexpectations.io/docs/guides/setup/installation/local"
   ]
  },
  {
   "cell_type": "code",
   "execution_count": 12,
   "metadata": {
    "tags": []
   },
   "outputs": [
    {
     "name": "stdout",
     "output_type": "stream",
     "text": [
      "\u001b[33mWARNING: The directory '/home/jovyan/.cache/pip' or its parent directory is not owned or is not writable by the current user. The cache has been disabled. Check the permissions and owner of that directory. If executing pip with sudo, you should use sudo's -H flag.\u001b[0m\u001b[33m\n",
      "\u001b[0mgreat-expectations            0.15.50\n",
      "Note: you may need to restart the kernel to use updated packages.\n"
     ]
    }
   ],
   "source": [
    "%pip list | grep great-expectations"
   ]
  },
  {
   "cell_type": "markdown",
   "metadata": {},
   "source": [
    "## 3 - Getting to know Great Expectations"
   ]
  },
  {
   "cell_type": "markdown",
   "metadata": {},
   "source": [
    "### 3-1. Connecting to our data"
   ]
  },
  {
   "cell_type": "markdown",
   "metadata": {},
   "source": [
    "As we will see, Great expectations, works with a lot of configuration files (`.yml`, `.json`). This enables us to stay language & datasource agnostic, and to have our rules & checks documented as config and not hard coded.\n",
    "\n",
    "The main entrypoint & best practice to manage 'rules' is to have a folder `gx` where we will store all our config. \n",
    "\n",
    "Before starting implementing checks & triggers, we first need to connect to a dataset, and explain to Great Expectation how to connect to it. This can usually be best done in the following main file: `gx/great_expectations.yml`. "
   ]
  },
  {
   "cell_type": "code",
   "execution_count": 13,
   "metadata": {},
   "outputs": [
    {
     "name": "stdout",
     "output_type": "stream",
     "text": [
      "{'taxi_trips': {'class_name': 'Datasource',\n",
      "              'data_connectors': {'parquet_data_connector': {'assets': {'taxi_trips_2022': {'group_names': ['month'],\n",
      "                                                                                        'pattern': 'taxi-trips-2022-(.*)\\\\.parquet'}},\n",
      "                                                           'base_directory': '../data',\n",
      "                                                           'batch_spec_passthrough': {'reader_method': 'read_parquet',\n",
      "                                                                                     'reader_options': {}},\n",
      "                                                           'class_name': 'ConfiguredAssetFilesystemDataConnector',\n",
      "                                                           'module_name': 'great_expectations.datasource.data_connector'}},\n",
      "              'execution_engine': {'class_name': 'PandasExecutionEngine',\n",
      "                                  'module_name': 'great_expectations.execution_engine'},\n",
      "              'module_name': 'great_expectations.datasource'}}\n"
     ]
    }
   ],
   "source": [
    "import yaml\n",
    "from pprint import pprint\n",
    "\n",
    "with open(\"great_expectations/great_expectations.yml\", \"r\") as stream:\n",
    "    try:\n",
    "        ge_config = yaml.safe_load(stream)\n",
    "    except yaml.YAMLError as exc:\n",
    "        print(exc)\n",
    "\n",
    "pprint(ge_config[\"datasources\"], indent=0)"
   ]
  },
  {
   "cell_type": "markdown",
   "metadata": {},
   "source": [
    "We have already made part of our task: and told great expectation where to find our dataset, and how to read it (using Pandas & the parquet read function)."
   ]
  },
  {
   "cell_type": "markdown",
   "metadata": {},
   "source": [
    "### 3-2. Writing a first expectation\n",
    "Data quality rules (or \"expectations\") can also be written in config files and are stored in the `gx/expectations/` folder.\n",
    "We have already written one expecting the base fare not to be negative."
   ]
  },
  {
   "cell_type": "code",
   "execution_count": 14,
   "metadata": {
    "tags": []
   },
   "outputs": [
    {
     "name": "stdout",
     "output_type": "stream",
     "text": [
      "{\n",
      "    \"data_asset_type\": null,\n",
      "    \"expectation_suite_name\": \"taxi-trips-expectations\",\n",
      "    \"expectations\": [\n",
      "        {\n",
      "            \"expectation_type\": \"expect_column_min_to_be_between\",\n",
      "            \"kwargs\": {\n",
      "                \"column\": \"base_passenger_fare\",\n",
      "                \"min_value\": 0\n",
      "            },\n",
      "            \"meta\": {\n",
      "                \"notes\": {\n",
      "                    \"format\": \"markdown\",\n",
      "                    \"content\": \"Target variable should not be negative as drivers should be paid a positive amount.\"\n",
      "                }\n",
      "            }\n",
      "        }\n",
      "    ],\n",
      "    \"ge_cloud_id\": null,\n",
      "    \"meta\": {\n",
      "        \"great_expectations_version\": \"0.15.46\"\n",
      "    }\n",
      "}\n"
     ]
    }
   ],
   "source": [
    "import json\n",
    "\n",
    "# Open JSON file\n",
    "with open(\"great_expectations/expectations/taxi-trips-expectations.json\", \"r\") as f:\n",
    "    data = json.load(f)\n",
    "\n",
    "# Pretty print JSON data\n",
    "print(json.dumps(data, indent=4))"
   ]
  },
  {
   "cell_type": "markdown",
   "metadata": {},
   "source": [
    "You will have to define your own expectations afterwards, feel free to [explore the doc](https://docs.greatexpectations.io/docs/guides/expectations/how_to_create_and_edit_expectations_based_on_domain_knowledge_without_inspecting_data_directly) to understand the JSON definition of expectations."
   ]
  },
  {
   "cell_type": "markdown",
   "metadata": {},
   "source": [
    "### 3-3. Checking our data\n",
    "Now that we can connect to our data... and have defined a set of data quality rules, how do we apply these rules to our datasources? As you would expect, great expectations also uses configuration files to run data checks, as found in the `great_expectations/checkpoints/` folder. Where we bin a datasource (and particularly a data asset) to a suite of expectations."
   ]
  },
  {
   "cell_type": "code",
   "execution_count": 15,
   "metadata": {},
   "outputs": [
    {
     "name": "stdout",
     "output_type": "stream",
     "text": [
      "{'class_name': 'SimpleCheckpoint',\n",
      " 'config_version': 1.0,\n",
      " 'name': 'taxi-trips-checkpoint',\n",
      " 'run_name_template': '%Y%m%d-%H%M%S-my-run-name-template',\n",
      " 'validations': [{'batch_request': {'data_asset_name': 'taxi_trips_2022',\n",
      "                                    'data_connector_name': 'parquet_data_connector',\n",
      "                                    'data_connector_query': {'batch_filter_parameters': {'month': '02'}},\n",
      "                                    'datasource_name': 'taxi_trips'},\n",
      "                  'expectation_suite_name': 'taxi-trips-expectations'}]}\n"
     ]
    }
   ],
   "source": [
    "with open(\"great_expectations/checkpoints/taxi-trips-checkpoint.yml\", \"r\") as stream:\n",
    "    try:\n",
    "        chkp_config = yaml.safe_load(stream)\n",
    "    except yaml.YAMLError as exc:\n",
    "        print(exc)\n",
    "\n",
    "pprint(chkp_config)"
   ]
  },
  {
   "cell_type": "markdown",
   "metadata": {},
   "source": [
    "Again, take some time to [follow the documentation](https://docs.greatexpectations.io/docs/guides/validation/checkpoints/how_to_create_a_new_checkpoint/) to understand the content of this file."
   ]
  },
  {
   "cell_type": "markdown",
   "metadata": {},
   "source": [
    "Before running our checkpoint, let's introduce the `great_expectations.data_context`: this object scans your repository and stores all datasources, checkpoints & expectations you have defined. You can then handle them from your code."
   ]
  },
  {
   "cell_type": "code",
   "execution_count": 16,
   "metadata": {},
   "outputs": [
    {
     "name": "stderr",
     "output_type": "stream",
     "text": [
      " 80% 152M/190M [13:21<03:17, 190kB/s] \n"
     ]
    },
    {
     "name": "stdout",
     "output_type": "stream",
     "text": [
      "2023-03-09T14:38:23+0000 - INFO - Great Expectations logging enabled at 20 level by JupyterUX module.\n",
      "2023-03-09T14:38:23+0000 - INFO - FileDataContext loading zep config\n",
      "2023-03-09T14:38:23+0000 - INFO - GxConfig.parse_yaml() failed with errors - [{'loc': ('xdatasources',), 'msg': 'field required', 'type': 'value_error.missing'}]\n",
      "2023-03-09T14:38:23+0000 - INFO - GxConfig.parse_yaml() returning empty `xdatasources`\n",
      "2023-03-09T14:38:23+0000 - INFO - Loading 'datasources' ->\n",
      "{}\n",
      "2023-03-09T14:38:23+0000 - INFO - Loaded 'datasources' ->\n",
      "{}\n",
      "2023-03-09T14:38:23+0000 - INFO - Profiler store is not configured; omitting it from active stores\n",
      "2023-03-09T14:38:23+0000 - INFO - Profiler store is not configured; omitting it from active stores\n",
      "2023-03-09T14:38:23+0000 - INFO - Profiler store is not configured; omitting it from active stores\n",
      "2023-03-09T14:38:23+0000 - INFO - Profiler store is not configured; omitting it from active stores\n",
      "2023-03-09T14:38:23+0000 - INFO - Profiler store is not configured; omitting it from active stores\n",
      "['taxi-trips-expectations']\n",
      "['taxi_trips']\n",
      "['taxi-trips-checkpoint']\n"
     ]
    }
   ],
   "source": [
    "import great_expectations as gx\n",
    "import great_expectations.jupyter_ux\n",
    "from great_expectations.datasource.types import BatchKwargs\n",
    "\n",
    "import datetime\n",
    "\n",
    "#context = gx.get_context()\n",
    "context = gx.data_context.DataContext()\n",
    "print(context.list_expectation_suite_names())\n",
    "print([datasource[\"name\"] for datasource in context.list_datasources()])\n",
    "print(context.list_checkpoints())"
   ]
  },
  {
   "cell_type": "code",
   "execution_count": 17,
   "metadata": {
    "tags": []
   },
   "outputs": [
    {
     "data": {
      "text/plain": [
       "['taxi-trips-checkpoint']"
      ]
     },
     "execution_count": 17,
     "metadata": {},
     "output_type": "execute_result"
    }
   ],
   "source": [
    "context.list_checkpoints()"
   ]
  },
  {
   "cell_type": "markdown",
   "metadata": {},
   "source": [
    "You can now run a checkpoint"
   ]
  },
  {
   "cell_type": "code",
   "execution_count": 18,
   "metadata": {},
   "outputs": [
    {
     "name": "stdout",
     "output_type": "stream",
     "text": [
      "2023-03-09T14:38:37+0000 - INFO - \t1 expectation(s) included in expectation_suite.\n"
     ]
    },
    {
     "data": {
      "application/vnd.jupyter.widget-view+json": {
       "model_id": "652c84792c11405ba383533dfe7af571",
       "version_major": 2,
       "version_minor": 0
      },
      "text/plain": [
       "Calculating Metrics:   0%|          | 0/4 [00:00<?, ?it/s]"
      ]
     },
     "metadata": {},
     "output_type": "display_data"
    },
    {
     "data": {
      "text/plain": [
       "{\n",
       "  \"run_id\": {\n",
       "    \"run_name\": \"20230309-143831-my-run-name-template\",\n",
       "    \"run_time\": \"2023-03-09T14:38:31.384177+00:00\"\n",
       "  },\n",
       "  \"run_results\": {\n",
       "    \"ValidationResultIdentifier::taxi-trips-expectations/20230309-143831-my-run-name-template/20230309T143831.384177Z/da953f972937f5d7391b694c2b8cfefa\": {\n",
       "      \"validation_result\": {\n",
       "        \"statistics\": {\n",
       "          \"evaluated_expectations\": 1,\n",
       "          \"successful_expectations\": 0,\n",
       "          \"unsuccessful_expectations\": 1,\n",
       "          \"success_percent\": 0.0\n",
       "        },\n",
       "        \"meta\": {\n",
       "          \"great_expectations_version\": \"0.15.50\",\n",
       "          \"expectation_suite_name\": \"taxi-trips-expectations\",\n",
       "          \"run_id\": {\n",
       "            \"run_name\": \"20230309-143831-my-run-name-template\",\n",
       "            \"run_time\": \"2023-03-09T14:38:31.384177+00:00\"\n",
       "          },\n",
       "          \"batch_spec\": {\n",
       "            \"path\": \"/app/tp2/great_expectations/../data/taxi-trips-2022-02.parquet\",\n",
       "            \"reader_method\": \"read_parquet\",\n",
       "            \"reader_options\": {}\n",
       "          },\n",
       "          \"batch_markers\": {\n",
       "            \"ge_load_time\": \"20230309T143831.392340Z\",\n",
       "            \"pandas_data_fingerprint\": \"570900d9f69682fb353ed96ea9539870\"\n",
       "          },\n",
       "          \"active_batch_definition\": {\n",
       "            \"datasource_name\": \"taxi_trips\",\n",
       "            \"data_connector_name\": \"parquet_data_connector\",\n",
       "            \"data_asset_name\": \"taxi_trips_2022\",\n",
       "            \"batch_identifiers\": {\n",
       "              \"month\": \"02\"\n",
       "            }\n",
       "          },\n",
       "          \"validation_time\": \"20230309T143837.741867Z\",\n",
       "          \"checkpoint_name\": \"taxi-trips-checkpoint\",\n",
       "          \"validation_id\": null,\n",
       "          \"checkpoint_id\": null\n",
       "        },\n",
       "        \"results\": [\n",
       "          {\n",
       "            \"meta\": {},\n",
       "            \"result\": {\n",
       "              \"observed_value\": -179.9\n",
       "            },\n",
       "            \"exception_info\": {\n",
       "              \"raised_exception\": false,\n",
       "              \"exception_traceback\": null,\n",
       "              \"exception_message\": null\n",
       "            },\n",
       "            \"expectation_config\": {\n",
       "              \"meta\": {\n",
       "                \"notes\": {\n",
       "                  \"format\": \"markdown\",\n",
       "                  \"content\": \"Target variable should not be negative as drivers should be paid a positive amount.\"\n",
       "                }\n",
       "              },\n",
       "              \"kwargs\": {\n",
       "                \"column\": \"base_passenger_fare\",\n",
       "                \"min_value\": 0,\n",
       "                \"batch_id\": \"da953f972937f5d7391b694c2b8cfefa\"\n",
       "              },\n",
       "              \"expectation_type\": \"expect_column_min_to_be_between\"\n",
       "            },\n",
       "            \"success\": false\n",
       "          }\n",
       "        ],\n",
       "        \"evaluation_parameters\": {},\n",
       "        \"success\": false\n",
       "      },\n",
       "      \"actions_results\": {\n",
       "        \"store_validation_result\": {\n",
       "          \"class\": \"StoreValidationResultAction\"\n",
       "        },\n",
       "        \"store_evaluation_params\": {\n",
       "          \"class\": \"StoreEvaluationParametersAction\"\n",
       "        },\n",
       "        \"update_data_docs\": {\n",
       "          \"local_site\": \"file:///app/tp2/great_expectations/uncommitted/data_docs/local_site/validations/taxi-trips-expectations/20230309-143831-my-run-name-template/20230309T143831.384177Z/da953f972937f5d7391b694c2b8cfefa.html\",\n",
       "          \"class\": \"UpdateDataDocsAction\"\n",
       "        }\n",
       "      }\n",
       "    }\n",
       "  },\n",
       "  \"checkpoint_config\": {\n",
       "    \"notify_with\": null,\n",
       "    \"site_names\": null,\n",
       "    \"batch_request\": {},\n",
       "    \"notify_on\": null,\n",
       "    \"class_name\": \"Checkpoint\",\n",
       "    \"name\": \"taxi-trips-checkpoint\",\n",
       "    \"run_name_template\": \"%Y%m%d-%H%M%S-my-run-name-template\",\n",
       "    \"expectation_suite_name\": null,\n",
       "    \"config_version\": 1.0,\n",
       "    \"validations\": [\n",
       "      {\n",
       "        \"batch_request\": {\n",
       "          \"datasource_name\": \"taxi_trips\",\n",
       "          \"data_connector_name\": \"parquet_data_connector\",\n",
       "          \"data_asset_name\": \"taxi_trips_2022\",\n",
       "          \"data_connector_query\": {\n",
       "            \"batch_filter_parameters\": {\n",
       "              \"month\": \"02\"\n",
       "            }\n",
       "          }\n",
       "        },\n",
       "        \"expectation_suite_name\": \"taxi-trips-expectations\"\n",
       "      }\n",
       "    ],\n",
       "    \"action_list\": [\n",
       "      {\n",
       "        \"name\": \"store_validation_result\",\n",
       "        \"action\": {\n",
       "          \"class_name\": \"StoreValidationResultAction\"\n",
       "        }\n",
       "      },\n",
       "      {\n",
       "        \"name\": \"store_evaluation_params\",\n",
       "        \"action\": {\n",
       "          \"class_name\": \"StoreEvaluationParametersAction\"\n",
       "        }\n",
       "      },\n",
       "      {\n",
       "        \"name\": \"update_data_docs\",\n",
       "        \"action\": {\n",
       "          \"class_name\": \"UpdateDataDocsAction\",\n",
       "          \"site_names\": []\n",
       "        }\n",
       "      }\n",
       "    ],\n",
       "    \"template_name\": null,\n",
       "    \"expectation_suite_ge_cloud_id\": null,\n",
       "    \"evaluation_parameters\": {},\n",
       "    \"slack_webhook\": null,\n",
       "    \"runtime_configuration\": {},\n",
       "    \"module_name\": \"great_expectations.checkpoint\",\n",
       "    \"default_validation_id\": null,\n",
       "    \"profilers\": [],\n",
       "    \"ge_cloud_id\": null\n",
       "  },\n",
       "  \"success\": false\n",
       "}"
      ]
     },
     "execution_count": 18,
     "metadata": {},
     "output_type": "execute_result"
    }
   ],
   "source": [
    "context.run_checkpoint(checkpoint_name=\"taxi-trips-checkpoint\")"
   ]
  },
  {
   "cell_type": "markdown",
   "metadata": {},
   "source": [
    "Note that GE allows you to export your results in a simple html format"
   ]
  },
  {
   "cell_type": "code",
   "execution_count": 19,
   "metadata": {},
   "outputs": [],
   "source": [
    "context.open_data_docs()"
   ]
  },
  {
   "cell_type": "markdown",
   "metadata": {},
   "source": [
    "## 4 - More expectations & more data!"
   ]
  },
  {
   "cell_type": "markdown",
   "metadata": {},
   "source": [
    "### 4-1. More expectations\n",
    "Now use what you have learnt to great 2 or 3 more expectations for your data. You can look for ideas there: https://greatexpectations.io/expectations/"
   ]
  },
  {
   "cell_type": "markdown",
   "metadata": {},
   "source": [
    "TODO : Create your expectations in the `great_expectations/expectations/taxi-trips-expectations.json` file and once it's done run the code below to make sure they works.\n"
   ]
  },
  {
   "cell_type": "code",
   "execution_count": 20,
   "metadata": {},
   "outputs": [
    {
     "name": "stdout",
     "output_type": "stream",
     "text": [
      "[{'expectation_type': 'expect_column_min_to_be_between',\n",
      "  'kwargs': {'column': 'base_passenger_fare', 'min_value': 0},\n",
      "  'meta': {'notes': {'content': 'Target variable should not be negative as '\n",
      "                                'drivers should be paid a positive amount.',\n",
      "                     'format': 'markdown'}}},\n",
      " {'expectation_type': 'expect_column_values_to_be_between',\n",
      "  'kwargs': {'column': 'driver_pay', 'min_value': 0},\n",
      "  'meta': {'notes': {'content': 'Target variable should not be negative as '\n",
      "                                'drivers should be paid a positive amount.',\n",
      "                     'format': 'markdown'}}}]\n"
     ]
    }
   ],
   "source": [
    "import json\n",
    "\n",
    "with open(\"great_expectations/expectations/taxi-trips-expectations.json\") as f:\n",
    "    expectation = json.load(f)\n",
    "\n",
    "pprint(expectation[\"expectations\"])"
   ]
  },
  {
   "cell_type": "markdown",
   "metadata": {},
   "source": [
    "### 4-2. Running our new expectations\n",
    "Update your checkpoint file & run the expectations you have just created. "
   ]
  },
  {
   "cell_type": "code",
   "execution_count": 21,
   "metadata": {},
   "outputs": [
    {
     "name": "stdout",
     "output_type": "stream",
     "text": [
      "2023-03-09T14:51:40+0000 - INFO - \t2 expectation(s) included in expectation_suite.\n"
     ]
    },
    {
     "data": {
      "application/vnd.jupyter.widget-view+json": {
       "model_id": "5f9b409698194353adf39d825d200b8a",
       "version_major": 2,
       "version_minor": 0
      },
      "text/plain": [
       "Calculating Metrics:   0%|          | 0/11 [00:00<?, ?it/s]"
      ]
     },
     "metadata": {},
     "output_type": "display_data"
    }
   ],
   "source": [
    "context.run_checkpoint(checkpoint_name=\"taxi-trips-checkpoint\")\n",
    "context.open_data_docs()"
   ]
  },
  {
   "cell_type": "markdown",
   "metadata": {},
   "source": [
    "## 5 - Wrapping up"
   ]
  },
  {
   "cell_type": "markdown",
   "metadata": {},
   "source": [
    "In this short tutorial, you have seen how to configure a simple great expectations project & run a few data quality rules. The main takeaway is that GE allows you to create expectations & run them entirely with configuration, abstracting the connection to data sources behind.\n",
    "\n",
    "Other exercices you could work on:\n",
    "- Connecting to a distant datasource (s3, BigQuery...)\n",
    "- Writing your own expectation (not available in the gallery)\n",
    "- Using great expectations actions to avoid deploying if data quality is not as expected\n",
    "- Automate and schedule Data Quality test with Prefact (or any other orchestrator tool)"
   ]
  },
  {
   "cell_type": "markdown",
   "metadata": {},
   "source": []
  }
 ],
 "metadata": {
  "kernelspec": {
   "display_name": "Python 3 (ipykernel)",
   "language": "python",
   "name": "python3"
  },
  "language_info": {
   "codemirror_mode": {
    "name": "ipython",
    "version": 3
   },
   "file_extension": ".py",
   "mimetype": "text/x-python",
   "name": "python",
   "nbconvert_exporter": "python",
   "pygments_lexer": "ipython3",
   "version": "3.10.9"
  },
  "vscode": {
   "interpreter": {
    "hash": "aee8b7b246df8f9039afb4144a1f6fd8d2ca17a180786b69acc140d282b71a49"
   }
  }
 },
 "nbformat": 4,
 "nbformat_minor": 4
}
