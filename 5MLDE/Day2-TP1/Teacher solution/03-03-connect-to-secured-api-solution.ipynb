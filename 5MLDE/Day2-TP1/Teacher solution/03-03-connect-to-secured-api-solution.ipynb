{
 "cells": [
  {
   "cell_type": "markdown",
   "id": "8c3a1bf5-0ee0-4f9a-8277-c5ab2aaf846b",
   "metadata": {
    "tags": []
   },
   "source": [
    "# Part 03 - Data Management\n",
    "\n",
    "## Exercise 03 - Connect to a secured API\n",
    "\n",
    "Now that you integrated with success your first Open API data, the goal of this section is to go further and use a secured API using Authentication token. Search for any exchange rates API and try to retrieve the exchanges rate data for EUR to USD, GBP, CNY and DKK. The solution of this exercise will use [api.freecurrencyapi.com](https://api.freecurrencyapi.com/).  \n",
    "\n",
    "You can reuse the flow of the previous exercise, note that this time it will be a bit more difficult to build the request to get the data. "
   ]
  },
  {
   "cell_type": "markdown",
   "id": "8b632819-989d-41c5-9e12-0d16ec754144",
   "metadata": {},
   "source": [
    "### Get the Data with a request"
   ]
  },
  {
   "cell_type": "markdown",
   "id": "d2138b04-fd10-4203-8303-df8dac48e5ee",
   "metadata": {},
   "source": [
    "Search for any exchange rates API and try to retrieve the exchanges rate data for EUR to USD, GBP, CNY and DKK."
   ]
  },
  {
   "cell_type": "code",
   "execution_count": 1,
   "id": "5805ea94-3e62-46e5-9b77-181ef2ea89e2",
   "metadata": {
    "tags": []
   },
   "outputs": [],
   "source": [
    "import requests"
   ]
  },
  {
   "cell_type": "code",
   "execution_count": 4,
   "id": "ff75c993-2519-4566-b4dc-fc548599e8f5",
   "metadata": {
    "tags": []
   },
   "outputs": [],
   "source": [
    "# Write your token in a api-key.txt file to avoid having it directly in the code\n",
    "with open(\"api-key.txt\", \"r\") as f:\n",
    "    api_key = f.read()"
   ]
  },
  {
   "cell_type": "code",
   "execution_count": 5,
   "id": "6b386b86-389f-4aa8-b96e-3518455b9740",
   "metadata": {
    "tags": []
   },
   "outputs": [],
   "source": [
    "url = f\"https://api.freecurrencyapi.com/v1/latest?apikey={api_key}&currencies=USD%2CGBP%2CCNY%2CDKK&base_currency=EUR\""
   ]
  },
  {
   "cell_type": "code",
   "execution_count": 6,
   "id": "30ad4a6a-949d-49c7-9577-e2f2f745bb26",
   "metadata": {
    "tags": []
   },
   "outputs": [
    {
     "data": {
      "text/plain": [
       "<Response [200]>"
      ]
     },
     "execution_count": 6,
     "metadata": {},
     "output_type": "execute_result"
    }
   ],
   "source": [
    "response = requests.get(url)\n",
    "response"
   ]
  },
  {
   "cell_type": "markdown",
   "id": "fe7f9e20-d602-4da3-8259-b31cc9e6f90a",
   "metadata": {},
   "source": [
    "Get the JSON from the response"
   ]
  },
  {
   "cell_type": "code",
   "execution_count": 7,
   "id": "ac1a7d61-a6e3-4e7a-8071-eb01f67ee21d",
   "metadata": {
    "tags": []
   },
   "outputs": [
    {
     "data": {
      "text/plain": [
       "{'data': {'CNY': 7.329794, 'DKK': 7.441673, 'GBP': 0.88693, 'USD': 1.059937}}"
      ]
     },
     "execution_count": 7,
     "metadata": {},
     "output_type": "execute_result"
    }
   ],
   "source": [
    "data_json = response.json()\n",
    "data_json"
   ]
  },
  {
   "cell_type": "markdown",
   "id": "eefe1bbc-f4fa-44c2-9e1e-d593736b9b79",
   "metadata": {
    "tags": []
   },
   "source": [
    "### Save the results into variables"
   ]
  },
  {
   "cell_type": "code",
   "execution_count": 9,
   "id": "960fd021-acff-464c-abaf-44b3dab8a1cf",
   "metadata": {
    "tags": []
   },
   "outputs": [
    {
     "data": {
      "text/plain": [
       "datetime.datetime(2023, 3, 3, 13, 56, 14, 452399)"
      ]
     },
     "execution_count": 9,
     "metadata": {},
     "output_type": "execute_result"
    }
   ],
   "source": [
    "import datetime \n",
    "\n",
    "time = datetime.datetime.now()\n",
    "time"
   ]
  },
  {
   "cell_type": "code",
   "execution_count": 10,
   "id": "4f7342eb-e3eb-4356-b694-e42edcbcad19",
   "metadata": {
    "tags": []
   },
   "outputs": [
    {
     "data": {
      "text/plain": [
       "1.059937"
      ]
     },
     "execution_count": 10,
     "metadata": {},
     "output_type": "execute_result"
    }
   ],
   "source": [
    "usd_rate = data_json['data']['USD']\n",
    "usd_rate"
   ]
  },
  {
   "cell_type": "code",
   "execution_count": 12,
   "id": "5757c7c6-a257-499f-a77b-80fdb7df6cc1",
   "metadata": {
    "tags": []
   },
   "outputs": [
    {
     "data": {
      "text/plain": [
       "0.88693"
      ]
     },
     "execution_count": 12,
     "metadata": {},
     "output_type": "execute_result"
    }
   ],
   "source": [
    "gbp_rate = data_json['data']['GBP']\n",
    "gbp_rate"
   ]
  },
  {
   "cell_type": "code",
   "execution_count": 13,
   "id": "7607b917-e6f4-4669-80dd-5d7209f1f491",
   "metadata": {
    "tags": []
   },
   "outputs": [
    {
     "data": {
      "text/plain": [
       "7.329794"
      ]
     },
     "execution_count": 13,
     "metadata": {},
     "output_type": "execute_result"
    }
   ],
   "source": [
    "cny_rate = data_json['data']['CNY']\n",
    "cny_rate"
   ]
  },
  {
   "cell_type": "code",
   "execution_count": 14,
   "id": "fe0864d1-c1ce-4989-af5c-7e5f9635100b",
   "metadata": {
    "tags": []
   },
   "outputs": [
    {
     "data": {
      "text/plain": [
       "7.441673"
      ]
     },
     "execution_count": 14,
     "metadata": {},
     "output_type": "execute_result"
    }
   ],
   "source": [
    "dkk_rate = data_json['data']['DKK']\n",
    "dkk_rate"
   ]
  },
  {
   "cell_type": "markdown",
   "id": "df9dc7b1-0adf-4b7b-a697-c47b529a0316",
   "metadata": {},
   "source": [
    "### Save those values in a CSV file"
   ]
  },
  {
   "cell_type": "markdown",
   "id": "a3641dc2-e97c-4ead-b3a5-c3e4b28ad7cb",
   "metadata": {},
   "source": [
    "Create a CSV file, with the variable names as headers, and the values of those variable inserted in the first line. Save this file locally in the data folder named `data/today_EUR_rates.csv`"
   ]
  },
  {
   "cell_type": "code",
   "execution_count": 15,
   "id": "554a2a7b-b5e3-4b17-8a91-a9bc3016621b",
   "metadata": {
    "tags": []
   },
   "outputs": [],
   "source": [
    "with open('data/today_EUR_rates.csv', \"w\") as f:\n",
    "    f.write(\"time,usd_rate,gbp_rate,cny_rate,dkk_rate\\n\")\n",
    "    f.write(f\"{time},{usd_rate},{gbp_rate},{cny_rate},{dkk_rate}\")"
   ]
  },
  {
   "cell_type": "markdown",
   "id": "0fd89456-dc46-4c2e-bf09-bf9387b79d12",
   "metadata": {},
   "source": [
    "Test to read the result with the code below :"
   ]
  },
  {
   "cell_type": "code",
   "execution_count": 16,
   "id": "136f3bb1-c7a9-4fd5-898d-f2640aee805d",
   "metadata": {
    "tags": []
   },
   "outputs": [
    {
     "data": {
      "text/html": [
       "<div>\n",
       "<style scoped>\n",
       "    .dataframe tbody tr th:only-of-type {\n",
       "        vertical-align: middle;\n",
       "    }\n",
       "\n",
       "    .dataframe tbody tr th {\n",
       "        vertical-align: top;\n",
       "    }\n",
       "\n",
       "    .dataframe thead th {\n",
       "        text-align: right;\n",
       "    }\n",
       "</style>\n",
       "<table border=\"1\" class=\"dataframe\">\n",
       "  <thead>\n",
       "    <tr style=\"text-align: right;\">\n",
       "      <th></th>\n",
       "      <th>time</th>\n",
       "      <th>usd_rate</th>\n",
       "      <th>gbp_rate</th>\n",
       "      <th>cny_rate</th>\n",
       "      <th>dkk_rate</th>\n",
       "    </tr>\n",
       "  </thead>\n",
       "  <tbody>\n",
       "    <tr>\n",
       "      <th>0</th>\n",
       "      <td>2023-03-03 13:56:14.452399</td>\n",
       "      <td>1.059937</td>\n",
       "      <td>0.88693</td>\n",
       "      <td>7.329794</td>\n",
       "      <td>7.441673</td>\n",
       "    </tr>\n",
       "  </tbody>\n",
       "</table>\n",
       "</div>"
      ],
      "text/plain": [
       "                         time  usd_rate  gbp_rate  cny_rate  dkk_rate\n",
       "0  2023-03-03 13:56:14.452399  1.059937   0.88693  7.329794  7.441673"
      ]
     },
     "execution_count": 16,
     "metadata": {},
     "output_type": "execute_result"
    }
   ],
   "source": [
    "import pandas as pd\n",
    "\n",
    "eur_rates = pd.read_csv(\"data/today_EUR_rates.csv\")\n",
    "eur_rates.head()"
   ]
  },
  {
   "cell_type": "markdown",
   "id": "0dcc3bd0-a92f-4cde-839f-8e3a2dc11bf6",
   "metadata": {},
   "source": [
    "### Append to code to the local CSV"
   ]
  },
  {
   "cell_type": "markdown",
   "id": "43153451-4efc-4107-9257-ecb711e40591",
   "metadata": {},
   "source": [
    "Code the logic that will : \n",
    "- Create the `data/EUR_rates.csv` with the header if it doesn't exist\n",
    "- Append our line of value to the current file"
   ]
  },
  {
   "cell_type": "code",
   "execution_count": 17,
   "id": "1d73a5ca-ba54-419b-82a6-53aee7bbcccc",
   "metadata": {
    "tags": []
   },
   "outputs": [],
   "source": [
    "import os\n",
    "\n",
    "file_path = 'data/EUR_rates.csv'\n",
    "\n",
    "if not os.path.exists(file_path):\n",
    "    with open(file_path, \"w\") as f:\n",
    "        f.write(\"time,usd_rate,gbp_rate,cny_rate,dkk_rate\\n\")\n",
    "\n",
    "with open(file_path, \"a\") as f:\n",
    "    f.write(f\"{time},{usd_rate},{gbp_rate},{cny_rate},{dkk_rate}\\n\")"
   ]
  },
  {
   "cell_type": "markdown",
   "id": "eb72f324-ff0b-471a-9fd3-7fe0bf1d848f",
   "metadata": {},
   "source": [
    "Run the whole notebook several time and check if your CSV file is appending the new line of data with the following command :"
   ]
  },
  {
   "cell_type": "code",
   "execution_count": 18,
   "id": "0b40e4d2-3004-40a6-99e4-fc1fdbb691ab",
   "metadata": {
    "tags": []
   },
   "outputs": [
    {
     "data": {
      "text/html": [
       "<div>\n",
       "<style scoped>\n",
       "    .dataframe tbody tr th:only-of-type {\n",
       "        vertical-align: middle;\n",
       "    }\n",
       "\n",
       "    .dataframe tbody tr th {\n",
       "        vertical-align: top;\n",
       "    }\n",
       "\n",
       "    .dataframe thead th {\n",
       "        text-align: right;\n",
       "    }\n",
       "</style>\n",
       "<table border=\"1\" class=\"dataframe\">\n",
       "  <thead>\n",
       "    <tr style=\"text-align: right;\">\n",
       "      <th></th>\n",
       "      <th>time</th>\n",
       "      <th>usd_rate</th>\n",
       "      <th>gbp_rate</th>\n",
       "      <th>cny_rate</th>\n",
       "      <th>dkk_rate</th>\n",
       "    </tr>\n",
       "  </thead>\n",
       "  <tbody>\n",
       "    <tr>\n",
       "      <th>0</th>\n",
       "      <td>2023-03-03 13:56:14.452399</td>\n",
       "      <td>1.059937</td>\n",
       "      <td>0.88693</td>\n",
       "      <td>7.329794</td>\n",
       "      <td>7.441673</td>\n",
       "    </tr>\n",
       "  </tbody>\n",
       "</table>\n",
       "</div>"
      ],
      "text/plain": [
       "                         time  usd_rate  gbp_rate  cny_rate  dkk_rate\n",
       "0  2023-03-03 13:56:14.452399  1.059937   0.88693  7.329794  7.441673"
      ]
     },
     "execution_count": 18,
     "metadata": {},
     "output_type": "execute_result"
    }
   ],
   "source": [
    "eur_rates = pd.read_csv(file_path)\n",
    "eur_rates.head()"
   ]
  },
  {
   "cell_type": "markdown",
   "id": "5683ff6b-486c-48a5-8592-71448c9a4294",
   "metadata": {
    "tags": []
   },
   "source": [
    "### Wrapping up"
   ]
  },
  {
   "cell_type": "markdown",
   "id": "b27b495a-4425-4552-98a4-92764875b320",
   "metadata": {},
   "source": [
    "Congratulations ! You are now able to build an history of EUR to USD / GBP / CNY / DKK data using a token based API. This code can be scheduled every day with Prefact to update your CSV file and to slowly be able to build a daily rates datasource."
   ]
  },
  {
   "cell_type": "code",
   "execution_count": null,
   "id": "9afb1433-f7e5-4afd-94b2-b81f72241d17",
   "metadata": {},
   "outputs": [],
   "source": []
  }
 ],
 "metadata": {
  "kernelspec": {
   "display_name": "Python 3.9.12 64-bit",
   "language": "python",
   "name": "python3"
  },
  "language_info": {
   "codemirror_mode": {
    "name": "ipython",
    "version": 3
   },
   "file_extension": ".py",
   "mimetype": "text/x-python",
   "name": "python",
   "nbconvert_exporter": "python",
   "pygments_lexer": "ipython3",
   "version": "3.9.12"
  },
  "vscode": {
   "interpreter": {
    "hash": "aee8b7b246df8f9039afb4144a1f6fd8d2ca17a180786b69acc140d282b71a49"
   }
  }
 },
 "nbformat": 4,
 "nbformat_minor": 5
}
