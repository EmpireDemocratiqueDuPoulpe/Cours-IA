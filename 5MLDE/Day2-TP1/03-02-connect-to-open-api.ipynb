{
 "cells": [
  {
   "cell_type": "markdown",
   "id": "8c3a1bf5-0ee0-4f9a-8277-c5ab2aaf846b",
   "metadata": {},
   "source": [
    "<h1>Part 03 - Data Management</h1>\n",
    "\n",
    "<h2>Exercise 02 - Connect to an Open API</h2>\n",
    "\n",
    "\n",
    "<font size=\"3\">\n",
    "Goal of this section is to integrate your first API data, starting with an easy example of publicly open and free API that doesn't require any credentials to connect.\n",
    "\n",
    "With this exercise you will be able to code all the flow, from the request to the transformation of the JSON format into a CSV that is then persisted localy.\n",
    "</font>"
   ]
  },
  {
   "cell_type": "markdown",
   "id": "8b632819-989d-41c5-9e12-0d16ec754144",
   "metadata": {},
   "source": [
    "### Get the Data with a request"
   ]
  },
  {
   "cell_type": "code",
   "execution_count": 1,
   "id": "5805ea94-3e62-46e5-9b77-181ef2ea89e2",
   "metadata": {
    "tags": []
   },
   "outputs": [
    {
     "data": {
      "text/plain": [
       "'en_US.UTF-8'"
      ]
     },
     "execution_count": 1,
     "metadata": {},
     "output_type": "execute_result"
    }
   ],
   "source": [
    "import requests\n",
    "import os\n",
    "import csv\n",
    "import locale\n",
    "locale.setlocale(locale.LC_NUMERIC, \"en_US.UTF-8\")"
   ]
  },
  {
   "cell_type": "markdown",
   "id": "c6925085-a32b-43c0-a668-509f8372e456",
   "metadata": {},
   "source": [
    "Explore the [requests](https://pypi.org/project/requests/) documentation to call the https://api.coindesk.com/v1/bpi/currentprice.json API"
   ]
  },
  {
   "cell_type": "code",
   "execution_count": 2,
   "id": "30ad4a6a-949d-49c7-9577-e2f2f745bb26",
   "metadata": {
    "tags": []
   },
   "outputs": [
    {
     "data": {
      "text/plain": [
       "200"
      ]
     },
     "execution_count": 2,
     "metadata": {},
     "output_type": "execute_result"
    }
   ],
   "source": [
    "response = requests.get(\"https://api.coindesk.com/v1/bpi/currentprice.json\", headers={\"Accept\": \"application/json\"})\n",
    "response.status_code"
   ]
  },
  {
   "cell_type": "markdown",
   "id": "fe7f9e20-d602-4da3-8259-b31cc9e6f90a",
   "metadata": {},
   "source": [
    "Get the JSON from the response"
   ]
  },
  {
   "cell_type": "code",
   "execution_count": 3,
   "id": "ac1a7d61-a6e3-4e7a-8071-eb01f67ee21d",
   "metadata": {
    "tags": []
   },
   "outputs": [
    {
     "data": {
      "text/plain": [
       "{'time': {'updated': 'Mar 9, 2023 15:12:00 UTC',\n",
       "  'updatedISO': '2023-03-09T15:12:00+00:00',\n",
       "  'updateduk': 'Mar 9, 2023 at 15:12 GMT'},\n",
       " 'disclaimer': 'This data was produced from the CoinDesk Bitcoin Price Index (USD). Non-USD currency data converted using hourly conversion rate from openexchangerates.org',\n",
       " 'chartName': 'Bitcoin',\n",
       " 'bpi': {'USD': {'code': 'USD',\n",
       "   'symbol': '&#36;',\n",
       "   'rate': '21,724.7274',\n",
       "   'description': 'United States Dollar',\n",
       "   'rate_float': 21724.7274},\n",
       "  'GBP': {'code': 'GBP',\n",
       "   'symbol': '&pound;',\n",
       "   'rate': '18,153.0084',\n",
       "   'description': 'British Pound Sterling',\n",
       "   'rate_float': 18153.0084},\n",
       "  'EUR': {'code': 'EUR',\n",
       "   'symbol': '&euro;',\n",
       "   'rate': '21,163.0563',\n",
       "   'description': 'Euro',\n",
       "   'rate_float': 21163.0563}}}"
      ]
     },
     "execution_count": 3,
     "metadata": {},
     "output_type": "execute_result"
    }
   ],
   "source": [
    "data = response.json()\n",
    "data"
   ]
  },
  {
   "cell_type": "markdown",
   "id": "eefe1bbc-f4fa-44c2-9e1e-d593736b9b79",
   "metadata": {},
   "source": [
    "### Save the results into variables"
   ]
  },
  {
   "cell_type": "markdown",
   "id": "f7d42699-9b97-48f8-87ac-5a5c7408d9e5",
   "metadata": {},
   "source": [
    "Save the folowing values extracted in the JSON in dedicated variable :  \n",
    "- time = Time when the data was updated in ISO format\n",
    "- usd_rate = Rate of the BTC in USD in FLOAT format\n",
    "- eur_rate = Rate of the BTC in EUR in FLOAT format\n",
    "- gbp_rate = Rate of the BTC in GBP in FLOAT format"
   ]
  },
  {
   "cell_type": "code",
   "execution_count": 4,
   "id": "960fd021-acff-464c-abaf-44b3dab8a1cf",
   "metadata": {
    "tags": []
   },
   "outputs": [
    {
     "data": {
      "text/plain": [
       "'2023-03-09T15:12:00+00:00'"
      ]
     },
     "execution_count": 4,
     "metadata": {},
     "output_type": "execute_result"
    }
   ],
   "source": [
    "time = data[\"time\"][\"updatedISO\"]\n",
    "time"
   ]
  },
  {
   "cell_type": "code",
   "execution_count": 5,
   "id": "4f7342eb-e3eb-4356-b694-e42edcbcad19",
   "metadata": {
    "tags": []
   },
   "outputs": [
    {
     "data": {
      "text/plain": [
       "21724.7274"
      ]
     },
     "execution_count": 5,
     "metadata": {},
     "output_type": "execute_result"
    }
   ],
   "source": [
    "usd_rate = locale.atof(data[\"bpi\"][\"USD\"][\"rate\"])\n",
    "usd_rate"
   ]
  },
  {
   "cell_type": "code",
   "execution_count": 6,
   "id": "5757c7c6-a257-499f-a77b-80fdb7df6cc1",
   "metadata": {
    "tags": []
   },
   "outputs": [
    {
     "data": {
      "text/plain": [
       "21163.0563"
      ]
     },
     "execution_count": 6,
     "metadata": {},
     "output_type": "execute_result"
    }
   ],
   "source": [
    "eur_rate = locale.atof(data[\"bpi\"][\"EUR\"][\"rate\"])\n",
    "eur_rate"
   ]
  },
  {
   "cell_type": "code",
   "execution_count": 7,
   "id": "7607b917-e6f4-4669-80dd-5d7209f1f491",
   "metadata": {
    "tags": []
   },
   "outputs": [
    {
     "data": {
      "text/plain": [
       "18153.0084"
      ]
     },
     "execution_count": 7,
     "metadata": {},
     "output_type": "execute_result"
    }
   ],
   "source": [
    "gbp_rate = locale.atof(data[\"bpi\"][\"GBP\"][\"rate\"])\n",
    "gbp_rate"
   ]
  },
  {
   "cell_type": "markdown",
   "id": "77d272c1-7e14-4603-b9c9-eab667b1b37a",
   "metadata": {},
   "source": [
    "**Take a time to think :** what happens here if the JSON format coming from the API change ?"
   ]
  },
  {
   "cell_type": "markdown",
   "id": "f41cded7-fcb2-47d2-a925-96f589841ee3",
   "metadata": {},
   "source": [
    "Everything will break."
   ]
  },
  {
   "cell_type": "markdown",
   "id": "df9dc7b1-0adf-4b7b-a697-c47b529a0316",
   "metadata": {},
   "source": [
    "### Save those values in a CSV file"
   ]
  },
  {
   "cell_type": "markdown",
   "id": "a3641dc2-e97c-4ead-b3a5-c3e4b28ad7cb",
   "metadata": {},
   "source": [
    "Create a CSV file, with the variable names as headers, and the values of those variable inserted in the first line. Save this file locally in the data folder named `data/today_BTC_rates.csv`"
   ]
  },
  {
   "cell_type": "code",
   "execution_count": 8,
   "id": "554a2a7b-b5e3-4b17-8a91-a9bc3016621b",
   "metadata": {
    "tags": []
   },
   "outputs": [],
   "source": [
    "headers = [\"time\", \"usd_rate\", \"eur_rate\", \"gbp_rate\"]\n",
    "rows = [\n",
    "    {\"time\": time, \"usd_rate\": usd_rate, \"eur_rate\": eur_rate, \"gbp_rate\": gbp_rate},\n",
    "]\n",
    "\n",
    "with open(r\"data/today_BTC_rates.csv\", mode=\"w\", encoding=\"UTF8\", newline=\"\") as file:\n",
    "    writer = csv.DictWriter(file, fieldnames=headers)\n",
    "    writer.writeheader()\n",
    "    writer.writerows(rows)"
   ]
  },
  {
   "cell_type": "markdown",
   "id": "0fd89456-dc46-4c2e-bf09-bf9387b79d12",
   "metadata": {},
   "source": [
    "Test to read the result with the code below :"
   ]
  },
  {
   "cell_type": "code",
   "execution_count": 9,
   "id": "136f3bb1-c7a9-4fd5-898d-f2640aee805d",
   "metadata": {
    "tags": []
   },
   "outputs": [
    {
     "data": {
      "text/html": [
       "<div>\n",
       "<style scoped>\n",
       "    .dataframe tbody tr th:only-of-type {\n",
       "        vertical-align: middle;\n",
       "    }\n",
       "\n",
       "    .dataframe tbody tr th {\n",
       "        vertical-align: top;\n",
       "    }\n",
       "\n",
       "    .dataframe thead th {\n",
       "        text-align: right;\n",
       "    }\n",
       "</style>\n",
       "<table border=\"1\" class=\"dataframe\">\n",
       "  <thead>\n",
       "    <tr style=\"text-align: right;\">\n",
       "      <th></th>\n",
       "      <th>time</th>\n",
       "      <th>usd_rate</th>\n",
       "      <th>eur_rate</th>\n",
       "      <th>gbp_rate</th>\n",
       "    </tr>\n",
       "  </thead>\n",
       "  <tbody>\n",
       "    <tr>\n",
       "      <th>0</th>\n",
       "      <td>2023-03-09T15:12:00+00:00</td>\n",
       "      <td>21724.7274</td>\n",
       "      <td>21163.0563</td>\n",
       "      <td>18153.0084</td>\n",
       "    </tr>\n",
       "  </tbody>\n",
       "</table>\n",
       "</div>"
      ],
      "text/plain": [
       "                        time    usd_rate    eur_rate    gbp_rate\n",
       "0  2023-03-09T15:12:00+00:00  21724.7274  21163.0563  18153.0084"
      ]
     },
     "execution_count": 9,
     "metadata": {},
     "output_type": "execute_result"
    }
   ],
   "source": [
    "import pandas as pd\n",
    "\n",
    "btc_rates = pd.read_csv(\"data/today_BTC_rates.csv\")\n",
    "btc_rates.head()"
   ]
  },
  {
   "cell_type": "markdown",
   "id": "28f5ba4e-2f05-4093-85e5-2624dedcb269",
   "metadata": {},
   "source": [
    "Now everytime your run the code above, you should be able to refresh the CSV based on todays' BTC rates and integrate this information in any system workflow where it's needed."
   ]
  },
  {
   "cell_type": "markdown",
   "id": "0dcc3bd0-a92f-4cde-839f-8e3a2dc11bf6",
   "metadata": {},
   "source": [
    "### Append to code to the local CSV"
   ]
  },
  {
   "cell_type": "markdown",
   "id": "43153451-4efc-4107-9257-ecb711e40591",
   "metadata": {},
   "source": [
    "But now what if we don't want to overwrite our file to keep an history of this BTC rates in the CSV file, just appending the last line of value to our CSV ?  \n",
    "Code the logic that will : \n",
    "- Create the `data/BTC_rates.csv` with the header if it doesn't exist\n",
    "- Append our line of value to the current file"
   ]
  },
  {
   "cell_type": "code",
   "execution_count": 10,
   "id": "1d73a5ca-ba54-419b-82a6-53aee7bbcccc",
   "metadata": {
    "tags": []
   },
   "outputs": [],
   "source": [
    "headers = [\"time\", \"usd_rate\", \"eur_rate\", \"gbp_rate\"]\n",
    "\n",
    "with open(r\"data/BTC_rates.csv\", mode=\"a\", encoding=\"UTF8\", newline=\"\") as file:\n",
    "    writer = csv.DictWriter(file, fieldnames=headers)\n",
    "    \n",
    "    # Write the header if the file is empty\n",
    "    file.seek(0, os.SEEK_END)\n",
    "    if not file.tell():\n",
    "        writer.writeheader()\n",
    "    \n",
    "    writer.writerow({\"time\": time, \"usd_rate\": usd_rate, \"eur_rate\": eur_rate, \"gbp_rate\": gbp_rate})"
   ]
  },
  {
   "cell_type": "markdown",
   "id": "eb72f324-ff0b-471a-9fd3-7fe0bf1d848f",
   "metadata": {},
   "source": [
    "Run the whole notebook several time and check if your CSV file is appending the new line of data with the following command :"
   ]
  },
  {
   "cell_type": "code",
   "execution_count": 11,
   "id": "0b40e4d2-3004-40a6-99e4-fc1fdbb691ab",
   "metadata": {
    "tags": []
   },
   "outputs": [
    {
     "data": {
      "text/html": [
       "<div>\n",
       "<style scoped>\n",
       "    .dataframe tbody tr th:only-of-type {\n",
       "        vertical-align: middle;\n",
       "    }\n",
       "\n",
       "    .dataframe tbody tr th {\n",
       "        vertical-align: top;\n",
       "    }\n",
       "\n",
       "    .dataframe thead th {\n",
       "        text-align: right;\n",
       "    }\n",
       "</style>\n",
       "<table border=\"1\" class=\"dataframe\">\n",
       "  <thead>\n",
       "    <tr style=\"text-align: right;\">\n",
       "      <th></th>\n",
       "      <th>time</th>\n",
       "      <th>usd_rate</th>\n",
       "      <th>eur_rate</th>\n",
       "      <th>gbp_rate</th>\n",
       "    </tr>\n",
       "  </thead>\n",
       "  <tbody>\n",
       "    <tr>\n",
       "      <th>0</th>\n",
       "      <td>2023-03-09T14:54:00+00:00</td>\n",
       "      <td>21713.7778</td>\n",
       "      <td>21152.3898</td>\n",
       "      <td>18143.8590</td>\n",
       "    </tr>\n",
       "    <tr>\n",
       "      <th>1</th>\n",
       "      <td>2023-03-09T15:11:00+00:00</td>\n",
       "      <td>21740.5969</td>\n",
       "      <td>21178.5155</td>\n",
       "      <td>18166.2689</td>\n",
       "    </tr>\n",
       "    <tr>\n",
       "      <th>2</th>\n",
       "      <td>2023-03-09T15:11:00+00:00</td>\n",
       "      <td>21740.5969</td>\n",
       "      <td>21178.5155</td>\n",
       "      <td>18166.2689</td>\n",
       "    </tr>\n",
       "    <tr>\n",
       "      <th>3</th>\n",
       "      <td>2023-03-09T15:12:00+00:00</td>\n",
       "      <td>21724.7274</td>\n",
       "      <td>21163.0563</td>\n",
       "      <td>18153.0084</td>\n",
       "    </tr>\n",
       "  </tbody>\n",
       "</table>\n",
       "</div>"
      ],
      "text/plain": [
       "                        time    usd_rate    eur_rate    gbp_rate\n",
       "0  2023-03-09T14:54:00+00:00  21713.7778  21152.3898  18143.8590\n",
       "1  2023-03-09T15:11:00+00:00  21740.5969  21178.5155  18166.2689\n",
       "2  2023-03-09T15:11:00+00:00  21740.5969  21178.5155  18166.2689\n",
       "3  2023-03-09T15:12:00+00:00  21724.7274  21163.0563  18153.0084"
      ]
     },
     "execution_count": 11,
     "metadata": {},
     "output_type": "execute_result"
    }
   ],
   "source": [
    "btc_rates = pd.read_csv(r\"data/BTC_rates.csv\")\n",
    "btc_rates.head()"
   ]
  },
  {
   "cell_type": "markdown",
   "id": "5683ff6b-486c-48a5-8592-71448c9a4294",
   "metadata": {
    "tags": []
   },
   "source": [
    "### Wrapping up"
   ]
  },
  {
   "cell_type": "markdown",
   "id": "b27b495a-4425-4552-98a4-92764875b320",
   "metadata": {},
   "source": [
    "Congratulations ! You are now able to build an history of BTC to USD / EUR / GBP data using an Open API. This code can be scheduled every day with Prefact to update your CSV file and to slowly be able to build a daily rates datasource. In the next steps we are going to explore how to connect to an API that is protected with an Authentication system."
   ]
  }
 ],
 "metadata": {
  "kernelspec": {
   "display_name": "Python 3 (ipykernel)",
   "language": "python",
   "name": "python3"
  },
  "language_info": {
   "codemirror_mode": {
    "name": "ipython",
    "version": 3
   },
   "file_extension": ".py",
   "mimetype": "text/x-python",
   "name": "python",
   "nbconvert_exporter": "python",
   "pygments_lexer": "ipython3",
   "version": "3.10.9"
  },
  "vscode": {
   "interpreter": {
    "hash": "aee8b7b246df8f9039afb4144a1f6fd8d2ca17a180786b69acc140d282b71a49"
   }
  }
 },
 "nbformat": 4,
 "nbformat_minor": 5
}
