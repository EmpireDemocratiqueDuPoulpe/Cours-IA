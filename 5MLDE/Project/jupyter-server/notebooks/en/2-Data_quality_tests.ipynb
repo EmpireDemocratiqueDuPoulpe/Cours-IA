{
 "cells": [
  {
   "cell_type": "markdown",
   "id": "ee56d301-651c-4e42-a701-c05979a096e9",
   "metadata": {},
   "source": [
    "Imports"
   ]
  },
  {
   "cell_type": "code",
   "execution_count": 1,
   "id": "85e72dc1-1916-4843-881e-0bd45e0cb624",
   "metadata": {
    "tags": []
   },
   "outputs": [],
   "source": [
    "from pathlib import Path\n",
    "import pandas\n",
    "import yaml\n",
    "from pprint import pprint\n",
    "import great_expectations as gx"
   ]
  },
  {
   "cell_type": "markdown",
   "id": "35daa909-0fc8-460f-a436-6154be7a2645",
   "metadata": {},
   "source": [
    "Constants"
   ]
  },
  {
   "cell_type": "code",
   "execution_count": 2,
   "id": "2e414e27-1a06-4c36-bf17-9865d361cc56",
   "metadata": {
    "tags": []
   },
   "outputs": [],
   "source": [
    "# Filesystem paths\n",
    "PARENT_FOLDER = Path.cwd()\n",
    "CONFIG_FOLDER = (PARENT_FOLDER / \"..\" / \"..\" / \"config\").resolve()\n",
    "DATA_FOLDER = (PARENT_FOLDER / \"..\" / \"..\" / \"data\").resolve()\n",
    "MODELS_FOLDER = (PARENT_FOLDER / \"..\" / \"..\" / \"models\").resolve()\n",
    "TEMP_FOLDER = (PARENT_FOLDER / \"..\" / \"..\" / \"temp\").resolve()"
   ]
  },
  {
   "cell_type": "markdown",
   "id": "789acbac-132f-4dcc-9796-711cd25a791f",
   "metadata": {},
   "source": [
    "Dataset"
   ]
  },
  {
   "cell_type": "code",
   "execution_count": 3,
   "id": "4bce0b5d-4b67-4dbe-be9b-d6712140b356",
   "metadata": {},
   "outputs": [
    {
     "name": "stdout",
     "output_type": "stream",
     "text": [
      "352741 rows, 85 columns\n"
     ]
    },
    {
     "data": {
      "text/html": [
       "<div>\n",
       "<style scoped>\n",
       "    .dataframe tbody tr th:only-of-type {\n",
       "        vertical-align: middle;\n",
       "    }\n",
       "\n",
       "    .dataframe tbody tr th {\n",
       "        vertical-align: top;\n",
       "    }\n",
       "\n",
       "    .dataframe thead th {\n",
       "        text-align: right;\n",
       "    }\n",
       "</style>\n",
       "<table border=\"1\" class=\"dataframe\">\n",
       "  <thead>\n",
       "    <tr style=\"text-align: right;\">\n",
       "      <th></th>\n",
       "      <th>Flow ID</th>\n",
       "      <th>Source IP</th>\n",
       "      <th>Source Port</th>\n",
       "      <th>Destination IP</th>\n",
       "      <th>Destination Port</th>\n",
       "      <th>Protocol</th>\n",
       "      <th>Timestamp</th>\n",
       "      <th>Flow Duration</th>\n",
       "      <th>Total Fwd Packets</th>\n",
       "      <th>Total Backward Packets</th>\n",
       "      <th>...</th>\n",
       "      <th>min_seg_size_forward</th>\n",
       "      <th>Active Mean</th>\n",
       "      <th>Active Std</th>\n",
       "      <th>Active Max</th>\n",
       "      <th>Active Min</th>\n",
       "      <th>Idle Mean</th>\n",
       "      <th>Idle Std</th>\n",
       "      <th>Idle Max</th>\n",
       "      <th>Idle Min</th>\n",
       "      <th>Label</th>\n",
       "    </tr>\n",
       "  </thead>\n",
       "  <tbody>\n",
       "    <tr>\n",
       "      <th>0</th>\n",
       "      <td>172.217.6.202-10.42.0.211-443-50004-6</td>\n",
       "      <td>10.42.0.211</td>\n",
       "      <td>50004</td>\n",
       "      <td>172.217.6.202</td>\n",
       "      <td>443</td>\n",
       "      <td>6.0</td>\n",
       "      <td>13/06/2017 11:52:39</td>\n",
       "      <td>37027.0</td>\n",
       "      <td>1.0</td>\n",
       "      <td>1.0</td>\n",
       "      <td>...</td>\n",
       "      <td>32.0</td>\n",
       "      <td>0.0</td>\n",
       "      <td>0.0</td>\n",
       "      <td>0.0</td>\n",
       "      <td>0.0</td>\n",
       "      <td>0.0</td>\n",
       "      <td>0.0</td>\n",
       "      <td>0.0</td>\n",
       "      <td>0.0</td>\n",
       "      <td>Android_Adware</td>\n",
       "    </tr>\n",
       "    <tr>\n",
       "      <th>1</th>\n",
       "      <td>172.217.6.202-10.42.0.211-443-35455-6</td>\n",
       "      <td>10.42.0.211</td>\n",
       "      <td>35455</td>\n",
       "      <td>172.217.6.202</td>\n",
       "      <td>443</td>\n",
       "      <td>6.0</td>\n",
       "      <td>13/06/2017 11:52:39</td>\n",
       "      <td>36653.0</td>\n",
       "      <td>1.0</td>\n",
       "      <td>1.0</td>\n",
       "      <td>...</td>\n",
       "      <td>32.0</td>\n",
       "      <td>0.0</td>\n",
       "      <td>0.0</td>\n",
       "      <td>0.0</td>\n",
       "      <td>0.0</td>\n",
       "      <td>0.0</td>\n",
       "      <td>0.0</td>\n",
       "      <td>0.0</td>\n",
       "      <td>0.0</td>\n",
       "      <td>Android_Adware</td>\n",
       "    </tr>\n",
       "    <tr>\n",
       "      <th>2</th>\n",
       "      <td>131.253.61.68-10.42.0.211-443-51775-6</td>\n",
       "      <td>10.42.0.211</td>\n",
       "      <td>51775</td>\n",
       "      <td>131.253.61.68</td>\n",
       "      <td>443</td>\n",
       "      <td>6.0</td>\n",
       "      <td>13/06/2017 11:52:42</td>\n",
       "      <td>534099.0</td>\n",
       "      <td>8.0</td>\n",
       "      <td>12.0</td>\n",
       "      <td>...</td>\n",
       "      <td>20.0</td>\n",
       "      <td>0.0</td>\n",
       "      <td>0.0</td>\n",
       "      <td>0.0</td>\n",
       "      <td>0.0</td>\n",
       "      <td>0.0</td>\n",
       "      <td>0.0</td>\n",
       "      <td>0.0</td>\n",
       "      <td>0.0</td>\n",
       "      <td>Android_Adware</td>\n",
       "    </tr>\n",
       "    <tr>\n",
       "      <th>3</th>\n",
       "      <td>131.253.61.68-10.42.0.211-443-51775-6</td>\n",
       "      <td>10.42.0.211</td>\n",
       "      <td>51775</td>\n",
       "      <td>131.253.61.68</td>\n",
       "      <td>443</td>\n",
       "      <td>6.0</td>\n",
       "      <td>13/06/2017 11:52:43</td>\n",
       "      <td>9309.0</td>\n",
       "      <td>3.0</td>\n",
       "      <td>0.0</td>\n",
       "      <td>...</td>\n",
       "      <td>20.0</td>\n",
       "      <td>0.0</td>\n",
       "      <td>0.0</td>\n",
       "      <td>0.0</td>\n",
       "      <td>0.0</td>\n",
       "      <td>0.0</td>\n",
       "      <td>0.0</td>\n",
       "      <td>0.0</td>\n",
       "      <td>0.0</td>\n",
       "      <td>Android_Adware</td>\n",
       "    </tr>\n",
       "    <tr>\n",
       "      <th>4</th>\n",
       "      <td>131.253.61.68-10.42.0.211-443-51776-6</td>\n",
       "      <td>10.42.0.211</td>\n",
       "      <td>51776</td>\n",
       "      <td>131.253.61.68</td>\n",
       "      <td>443</td>\n",
       "      <td>6.0</td>\n",
       "      <td>13/06/2017 11:52:42</td>\n",
       "      <td>19890496.0</td>\n",
       "      <td>8.0</td>\n",
       "      <td>6.0</td>\n",
       "      <td>...</td>\n",
       "      <td>20.0</td>\n",
       "      <td>0.0</td>\n",
       "      <td>0.0</td>\n",
       "      <td>0.0</td>\n",
       "      <td>0.0</td>\n",
       "      <td>0.0</td>\n",
       "      <td>0.0</td>\n",
       "      <td>0.0</td>\n",
       "      <td>0.0</td>\n",
       "      <td>Android_Adware</td>\n",
       "    </tr>\n",
       "  </tbody>\n",
       "</table>\n",
       "<p>5 rows × 85 columns</p>\n",
       "</div>"
      ],
      "text/plain": [
       "                                 Flow ID    Source IP  Source Port  \\\n",
       "0  172.217.6.202-10.42.0.211-443-50004-6  10.42.0.211        50004   \n",
       "1  172.217.6.202-10.42.0.211-443-35455-6  10.42.0.211        35455   \n",
       "2  131.253.61.68-10.42.0.211-443-51775-6  10.42.0.211        51775   \n",
       "3  131.253.61.68-10.42.0.211-443-51775-6  10.42.0.211        51775   \n",
       "4  131.253.61.68-10.42.0.211-443-51776-6  10.42.0.211        51776   \n",
       "\n",
       "  Destination IP  Destination Port  Protocol            Timestamp  \\\n",
       "0  172.217.6.202               443       6.0  13/06/2017 11:52:39   \n",
       "1  172.217.6.202               443       6.0  13/06/2017 11:52:39   \n",
       "2  131.253.61.68               443       6.0  13/06/2017 11:52:42   \n",
       "3  131.253.61.68               443       6.0  13/06/2017 11:52:43   \n",
       "4  131.253.61.68               443       6.0  13/06/2017 11:52:42   \n",
       "\n",
       "   Flow Duration  Total Fwd Packets  Total Backward Packets  ...  \\\n",
       "0        37027.0                1.0                     1.0  ...   \n",
       "1        36653.0                1.0                     1.0  ...   \n",
       "2       534099.0                8.0                    12.0  ...   \n",
       "3         9309.0                3.0                     0.0  ...   \n",
       "4     19890496.0                8.0                     6.0  ...   \n",
       "\n",
       "   min_seg_size_forward  Active Mean  Active Std  Active Max  Active Min  \\\n",
       "0                  32.0          0.0         0.0         0.0         0.0   \n",
       "1                  32.0          0.0         0.0         0.0         0.0   \n",
       "2                  20.0          0.0         0.0         0.0         0.0   \n",
       "3                  20.0          0.0         0.0         0.0         0.0   \n",
       "4                  20.0          0.0         0.0         0.0         0.0   \n",
       "\n",
       "   Idle Mean  Idle Std  Idle Max  Idle Min           Label  \n",
       "0        0.0       0.0       0.0       0.0  Android_Adware  \n",
       "1        0.0       0.0       0.0       0.0  Android_Adware  \n",
       "2        0.0       0.0       0.0       0.0  Android_Adware  \n",
       "3        0.0       0.0       0.0       0.0  Android_Adware  \n",
       "4        0.0       0.0       0.0       0.0  Android_Adware  \n",
       "\n",
       "[5 rows x 85 columns]"
      ]
     },
     "execution_count": 3,
     "metadata": {},
     "output_type": "execute_result"
    }
   ],
   "source": [
    "data = pandas.read_csv((DATA_FOLDER / \"Android_Malware_cleaned.csv\"), delimiter=\",\", dtype={\n",
    "    \"Flow ID\": str,\n",
    "    \"Source IP\": str,\n",
    "    \"Source Port\": int,\n",
    "    \"Destination IP\": str,\n",
    "    \"Destination Port\": int,\n",
    "    \"Protocol\": float,\n",
    "    \"Timestamp\": str,\n",
    "    \"Flow Duration\": float,\n",
    "    \"Total Fwd Packets\": float,\n",
    "    \"Total Backward Packets\": float,\n",
    "    \"Total Length of Fwd Packets\": float,\n",
    "    \"Total Length of Bwd Packets\": float,\n",
    "    \"Fwd Packet Length Max\": float,\n",
    "    \"Fwd Packet Length Min\": float,\n",
    "    \"Fwd Packet Length Mean\": float,\n",
    "    \"Fwd Packet Length Std\": float,\n",
    "    \"Bwd Packet Length Max\": float,\n",
    "    \"Bwd Packet Length Min\": float,\n",
    "    \"Bwd Packet Length Mean\": float,\n",
    "    \"Bwd Packet Length Std\": float,\n",
    "    \"Flow Bytes/s\": float,\n",
    "    \"Flow Packets/s\": float,\n",
    "    \"Flow IAT Mean\": float,\n",
    "    \"Flow IAT Std\": float,\n",
    "    \"Flow IAT Max\": float,\n",
    "    \"Flow IAT Min\": float,\n",
    "    \"Fwd IAT Total\": float,\n",
    "    \"Fwd IAT Mean\": float,\n",
    "    \"Fwd IAT Std\": float,\n",
    "    \"Fwd IAT Max\": float,\n",
    "    \"Fwd IAT Min\": float,\n",
    "    \"Bwd IAT Total\": float,\n",
    "    \"Bwd IAT Mean\": float,\n",
    "    \"Bwd IAT Std\": float,\n",
    "    \"Bwd IAT Max\": float,\n",
    "    \"Bwd IAT Min\": float,\n",
    "    \"Fwd PSH Flags\": float,\n",
    "    \"Bwd PSH Flags\": float,\n",
    "    \"Fwd URG Flags\": float,\n",
    "    \"Bwd URG Flags\": float,\n",
    "    \"Fwd Header Length\": float,\n",
    "    \"Bwd Header Length\": float,\n",
    "    \"Fwd Packets/s\": float,\n",
    "    \"Bwd Packets/s\": float,\n",
    "    \"Min Packet Length\": float,\n",
    "    \"Max Packet Length\": float,\n",
    "    \"Packet Length Mean\": float,\n",
    "    \"Packet Length Std\": float,\n",
    "    \"Packet Length Variance\": float,\n",
    "    \"FIN Flag Count\": float,\n",
    "    \"SYN Flag Count\": float,\n",
    "    \"RST Flag Count\": float,\n",
    "    \"PSH Flag Count\": float,\n",
    "    \"ACK Flag Count\": float,\n",
    "    \"URG Flag Count\": float,\n",
    "    \"CWE Flag Count\": float,\n",
    "    \"ECE Flag Count\": float,\n",
    "    \"Down/Up Ratio\": float,\n",
    "    \"Average Packet Size\": float,\n",
    "    \"Avg Fwd Segment Size\": float,\n",
    "    \"Avg Bwd Segment Size\": float,\n",
    "    \"Fwd Header Length.1\": float,\n",
    "    \"Fwd Avg Bytes/Bulk\": float,\n",
    "    \"Fwd Avg Packets/Bulk\": float,\n",
    "    \"Fwd Avg Bulk Rate\": float,\n",
    "    \"Bwd Avg Bytes/Bulk\": float,\n",
    "    \"Bwd Avg Packets/Bulk\": float,\n",
    "    \"Bwd Avg Bulk Rate\": float,\n",
    "    \"Subflow Fwd Packets\": float,\n",
    "    \"Subflow Fwd Bytes\": float,\n",
    "    \"Subflow Bwd Packets\": float,\n",
    "    \"Subflow Bwd Bytes\": float,\n",
    "    \"Init_Win_bytes_forward\": float,\n",
    "    \"Init_Win_bytes_backward\": float,\n",
    "    \"act_data_pkt_fwd\": float,\n",
    "    \"min_seg_size_forward\": float,\n",
    "    \"Active Mean\": float,\n",
    "    \"Active Std\": float,\n",
    "    \"Active Max\": float,\n",
    "    \"Active Min\": float,\n",
    "    \"Idle Mean\": float,\n",
    "    \"Idle Std\": float,\n",
    "    \"Idle Max\": float,\n",
    "    \"Idle Min\": float,\n",
    "    \"Label\": str\n",
    "})\n",
    "data.columns = data.columns.str.strip()\n",
    "print(f\"{data.shape[0]} rows, {data.shape[1]} columns\")\n",
    "data.head(n=5)"
   ]
  },
  {
   "cell_type": "code",
   "execution_count": 15,
   "id": "b306727b-ce64-4ce6-b871-91237882cd96",
   "metadata": {
    "tags": []
   },
   "outputs": [
    {
     "data": {
      "text/plain": [
       "{\n",
       "  \"anonymous_usage_statistics\": {\n",
       "    \"explicit_id\": true,\n",
       "    \"usage_statistics_url\": \"https://stats.greatexpectations.io/great_expectations/v1/usage_statistics\",\n",
       "    \"enabled\": true,\n",
       "    \"explicit_url\": false,\n",
       "    \"data_context_id\": \"466fc709-08f7-404c-b9bf-a35c3fefc724\"\n",
       "  },\n",
       "  \"checkpoint_store_name\": \"checkpoint_store\",\n",
       "  \"config_variables_file_path\": \"uncommitted/config_variables.yml\",\n",
       "  \"config_version\": 3.0,\n",
       "  \"data_docs_sites\": {\n",
       "    \"local_site\": {\n",
       "      \"class_name\": \"SiteBuilder\",\n",
       "      \"show_how_to_buttons\": true,\n",
       "      \"store_backend\": {\n",
       "        \"class_name\": \"TupleFilesystemStoreBackend\",\n",
       "        \"base_directory\": \"uncommitted/data_docs/local_site/\"\n",
       "      },\n",
       "      \"site_index_builder\": {\n",
       "        \"class_name\": \"DefaultSiteIndexBuilder\"\n",
       "      }\n",
       "    }\n",
       "  },\n",
       "  \"datasources\": {},\n",
       "  \"evaluation_parameter_store_name\": \"evaluation_parameter_store\",\n",
       "  \"expectations_store_name\": \"expectations_store\",\n",
       "  \"include_rendered_content\": {\n",
       "    \"globally\": false,\n",
       "    \"expectation_validation_result\": false,\n",
       "    \"expectation_suite\": false\n",
       "  },\n",
       "  \"plugins_directory\": \"plugins/\",\n",
       "  \"stores\": {\n",
       "    \"expectations_store\": {\n",
       "      \"class_name\": \"ExpectationsStore\",\n",
       "      \"store_backend\": {\n",
       "        \"class_name\": \"TupleFilesystemStoreBackend\",\n",
       "        \"base_directory\": \"expectations/\"\n",
       "      }\n",
       "    },\n",
       "    \"validations_store\": {\n",
       "      \"class_name\": \"ValidationsStore\",\n",
       "      \"store_backend\": {\n",
       "        \"class_name\": \"TupleFilesystemStoreBackend\",\n",
       "        \"base_directory\": \"uncommitted/validations/\"\n",
       "      }\n",
       "    },\n",
       "    \"evaluation_parameter_store\": {\n",
       "      \"class_name\": \"EvaluationParameterStore\"\n",
       "    },\n",
       "    \"checkpoint_store\": {\n",
       "      \"class_name\": \"CheckpointStore\",\n",
       "      \"store_backend\": {\n",
       "        \"class_name\": \"TupleFilesystemStoreBackend\",\n",
       "        \"suppress_store_backend_id\": true,\n",
       "        \"base_directory\": \"checkpoints/\"\n",
       "      }\n",
       "    },\n",
       "    \"profiler_store\": {\n",
       "      \"class_name\": \"ProfilerStore\",\n",
       "      \"store_backend\": {\n",
       "        \"class_name\": \"TupleFilesystemStoreBackend\",\n",
       "        \"suppress_store_backend_id\": true,\n",
       "        \"base_directory\": \"profilers/\"\n",
       "      }\n",
       "    }\n",
       "  },\n",
       "  \"validations_store_name\": \"validations_store\"\n",
       "}"
      ]
     },
     "execution_count": 15,
     "metadata": {},
     "output_type": "execute_result"
    }
   ],
   "source": [
    "gx_context = gx.get_context(context_root_dir=str(CONFIG_FOLDER / \"great_expectations\"))\n",
    "gx_context"
   ]
  },
  {
   "cell_type": "markdown",
   "id": "d6e8e0eb-0cd1-4cc4-bf5c-c4dcea0f3f89",
   "metadata": {},
   "source": [
    "Reading Great Expectation yaml"
   ]
  },
  {
   "cell_type": "code",
   "execution_count": 18,
   "id": "a0809fe1-8450-4c50-93f9-0367ca5392b1",
   "metadata": {
    "tags": []
   },
   "outputs": [],
   "source": [
    "datasource_config = {\n",
    "    \"name\": \"Android_Malware\",\n",
    "    \"class_name\": \"Datasource\",\n",
    "    \"execution_engine\": {\n",
    "        \"class_name\": \"PandasExecutionEngine\",\n",
    "        \"module_name\": \"great_expectations.execution_engine\"\n",
    "    },\n",
    "    \"data_connectors\": {\n",
    "        \"csv_data_connector\": {\n",
    "            \"class_name\": \"ConfiguredAssetFilesystemDataConnector\",\n",
    "            \"module_name\": \"great_expectations.datasource.data_connector\",\n",
    "            \"base_directory\": \"/app/data\",\n",
    "            \"batch_spec_passthrough\": {\n",
    "                \"reader_method\": \"read_csv\",\n",
    "                \"reader_options\": {}\n",
    "            },\n",
    "            \"assets\": {\n",
    "                \"android_malware_2023\": {\n",
    "                    \"group_names\": [\"month\"],\n",
    "                    \"pattern\": \"Android_Malware_cleaned_2023_(.*)\\\\.csv\"\n",
    "                }\n",
    "            }\n",
    "        }\n",
    "    }\n",
    "}"
   ]
  },
  {
   "cell_type": "code",
   "execution_count": 21,
   "id": "a5254c28-7049-444b-bb43-b52c92233bc4",
   "metadata": {
    "tags": []
   },
   "outputs": [
    {
     "name": "stdout",
     "output_type": "stream",
     "text": [
      "Attempting to instantiate class from config...\n",
      "\tInstantiating as a Datasource, since class_name is Datasource\n",
      "\tSuccessfully instantiated Datasource\n",
      "\n",
      "\n",
      "ExecutionEngine class name: PandasExecutionEngine\n",
      "Data Connectors:\n",
      "\tcsv_data_connector : ConfiguredAssetFilesystemDataConnector\n",
      "\n",
      "\tAvailable data_asset_names (1 of 1):\n",
      "\t\tandroid_malware_2023 (0 of 0): []\n",
      "\n",
      "\tUnmatched data_references (3 of 4):['.ipynb_checkpoints', '.keep', 'Android_Malware.csv']\n",
      "\n"
     ]
    },
    {
     "data": {
      "text/plain": [
       "<great_expectations.datasource.new_datasource.Datasource at 0x7f6329b5cb80>"
      ]
     },
     "execution_count": 21,
     "metadata": {},
     "output_type": "execute_result"
    }
   ],
   "source": [
    "from ruamel import yaml\n",
    "\n",
    "gx_context.test_yaml_config(yaml.dump(datasource_config))\n",
    "gx_context.add_datasource(**datasource_config)"
   ]
  },
  {
   "cell_type": "code",
   "execution_count": 23,
   "id": "4d35473e-b48c-4d72-a576-318e3b61cb5a",
   "metadata": {
    "tags": []
   },
   "outputs": [
    {
     "ename": "AttributeError",
     "evalue": "module 'great_expectations' has no attribute 'BatchRequest'",
     "output_type": "error",
     "traceback": [
      "\u001b[0;31m---------------------------------------------------------------------------\u001b[0m",
      "\u001b[0;31mAttributeError\u001b[0m                            Traceback (most recent call last)",
      "Cell \u001b[0;32mIn[23], line 1\u001b[0m\n\u001b[0;32m----> 1\u001b[0m batch \u001b[38;5;241m=\u001b[39m \u001b[43mgx\u001b[49m\u001b[38;5;241;43m.\u001b[39;49m\u001b[43mBatchRequest\u001b[49m(\n\u001b[1;32m      2\u001b[0m     datasource_name\u001b[38;5;241m=\u001b[39m\u001b[38;5;124m\"\u001b[39m\u001b[38;5;124mAndroid_Malware\u001b[39m\u001b[38;5;124m\"\u001b[39m,\n\u001b[1;32m      3\u001b[0m     data_connector_name\u001b[38;5;241m=\u001b[39m\u001b[38;5;124m\"\u001b[39m\u001b[38;5;124mcsv_data_connector\u001b[39m\u001b[38;5;124m\"\u001b[39m,\n\u001b[1;32m      4\u001b[0m )\n",
      "\u001b[0;31mAttributeError\u001b[0m: module 'great_expectations' has no attribute 'BatchRequest'"
     ]
    }
   ],
   "source": [
    "batch = gx.BatchRequest(\n",
    "    datasource_name=\"Android_Malware\",\n",
    "    data_connector_name=\"csv_data_connector\",\n",
    ")"
   ]
  },
  {
   "cell_type": "code",
   "execution_count": 12,
   "id": "89b9a0b9-b49a-4818-93b8-8001be844278",
   "metadata": {
    "tags": []
   },
   "outputs": [
    {
     "ename": "AttributeError",
     "evalue": "'dict' object has no attribute 'add_pandas_filesystem'",
     "output_type": "error",
     "traceback": [
      "\u001b[0;31m---------------------------------------------------------------------------\u001b[0m",
      "\u001b[0;31mAttributeError\u001b[0m                            Traceback (most recent call last)",
      "Cell \u001b[0;32mIn[14], line 1\u001b[0m\n\u001b[0;32m----> 1\u001b[0m datasource \u001b[38;5;241m=\u001b[39m \u001b[43mgx_context\u001b[49m\u001b[38;5;241;43m.\u001b[39;49m\u001b[43mdatasources\u001b[49m\u001b[38;5;241;43m.\u001b[39;49m\u001b[43madd_pandas_filesystem\u001b[49m(name\u001b[38;5;241m=\u001b[39m\u001b[38;5;124m\"\u001b[39m\u001b[38;5;124mAndroid_Malware\u001b[39m\u001b[38;5;124m\"\u001b[39m, base_directory\u001b[38;5;241m=\u001b[39m\u001b[38;5;28mstr\u001b[39m(DATA_FOLDER))\n",
      "\u001b[0;31mAttributeError\u001b[0m: 'dict' object has no attribute 'add_pandas_filesystem'"
     ]
    }
   ],
   "source": [
    "datasource = gx_context.datasources.add_pandas_filesystem(name=\"Android_Malware\", base_directory=str(DATA_FOLDER))"
   ]
  },
  {
   "cell_type": "code",
   "execution_count": 16,
   "id": "f96c2cc2-20ea-4c09-9efc-d3fa155644e7",
   "metadata": {
    "tags": []
   },
   "outputs": [
    {
     "data": {
      "text/plain": [
       "{}"
      ]
     },
     "execution_count": 16,
     "metadata": {},
     "output_type": "execute_result"
    }
   ],
   "source": [
    "gx_context.datasources"
   ]
  },
  {
   "cell_type": "code",
   "execution_count": 11,
   "id": "d63392a3-f313-4557-9208-7ab044681d37",
   "metadata": {
    "tags": []
   },
   "outputs": [],
   "source": [
    "# gx_validator = gx_context.sources.pandas_default.read_csv((DATA_FOLDER / \"Android_Malware_cleaned.csv\"))"
   ]
  },
  {
   "cell_type": "code",
   "execution_count": null,
   "id": "3f505376-55eb-4c03-8bf8-ed7aaf367795",
   "metadata": {
    "tags": []
   },
   "outputs": [],
   "source": [
    "with (CONFIG_FOLDER / \"Android_Malware_cleaned_expectations.yaml\").open(mode=\"r\") as file:\n",
    "    try:\n",
    "        great_expectation_config = yaml.safe_load(file)\n",
    "    except yaml.YAMLError as exc:\n",
    "        print(exc)\n",
    "\n",
    "pprint(great_expectation_config[\"datasources\"], indent=0)"
   ]
  },
  {
   "cell_type": "code",
   "execution_count": null,
   "id": "c8b3b688-467c-4d75-bbd6-59f4ce2e30be",
   "metadata": {},
   "outputs": [],
   "source": []
  },
  {
   "cell_type": "code",
   "execution_count": null,
   "id": "9ab0467c-750d-4f8e-9c02-6f8295250498",
   "metadata": {},
   "outputs": [],
   "source": []
  },
  {
   "cell_type": "code",
   "execution_count": null,
   "id": "40662825-6e11-4356-9da2-32f3220cdbc7",
   "metadata": {},
   "outputs": [],
   "source": []
  }
 ],
 "metadata": {
  "kernelspec": {
   "display_name": "Python 3 (ipykernel)",
   "language": "python",
   "name": "python3"
  },
  "language_info": {
   "codemirror_mode": {
    "name": "ipython",
    "version": 3
   },
   "file_extension": ".py",
   "mimetype": "text/x-python",
   "name": "python",
   "nbconvert_exporter": "python",
   "pygments_lexer": "ipython3",
   "version": "3.10.9"
  }
 },
 "nbformat": 4,
 "nbformat_minor": 5
}
