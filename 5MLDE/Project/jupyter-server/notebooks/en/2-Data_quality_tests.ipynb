{
 "cells": [
  {
   "cell_type": "markdown",
   "source": [
    "## School project - 5MLDE\n",
    "The following notebook has been created for a school project model deployment. The subject and the questions are available in the appendix.\n",
    "\n",
    "The group members who participated in this project are:\n",
    "- AMIMI Lamine\n",
    "- BEZIN Théo\n",
    "- LECOMTE Alexis\n",
    "- PAWLOWSKI Maxence\n",
    "\n",
    "### Main index\n",
    "1. Data analysis\n",
    "2. **Data quality tests (you are here)**\n",
    "3. _Appendix_"
   ],
   "metadata": {
    "collapsed": false
   }
  },
  {
   "cell_type": "markdown",
   "source": [
    "# 2 - Data quality tests\n",
    "The purpose of this first notebook will be to explain how to setup the Great Expectations base and configuration to obtain the results available in the /config/great_expectations folder.\n",
    "\n",
    "### Index\n",
    "<ol type=\"A\">\n",
    "  <li>Initialization of the Great Expectation base</li>\n",
    "  <li>Datasource creation and configuration</li>\n",
    "  <li>Expectations Suite creation and configuration</li>\n",
    "  <li>Conclusion</li>\n",
    "</ol>"
   ],
   "metadata": {
    "collapsed": false
   }
  },
  {
   "cell_type": "markdown",
   "source": [
    "## A - Initialization of the Great Expectation base\n",
    "\n",
    "In the jupyter-server/config folder, we will initiate the Great Expectations (GX) project base with this command :\n",
    "\n",
    "`great_expectations init`\n",
    "\n",
    "Then, just press enter."
   ],
   "metadata": {
    "collapsed": false
   }
  },
  {
   "cell_type": "markdown",
   "source": [
    "## B - Datasource creation and configuration\n",
    "\n",
    "In the newly created folder (named *great_expectations* by default, we will do most of the remaining work.\n",
    "We need a new datasource for GX to work with. We can load our csv file with this command :\n",
    "\n",
    "`great_expectations datasource new`\n",
    "\n",
    "We are processing our data with Pandas, so we will choose \"Files on a filesystem (for processing with Pandas or Spark)\".\n",
    "On the next prompt, select \"Pandas\".\n",
    "We are asked to enter the path of our data directory. Since we are working from the jupyter container, the data folder path is \"jupyter-server/data\"."
   ],
   "metadata": {
    "collapsed": false
   }
  },
  {
   "cell_type": "markdown",
   "source": [
    "A new notebook will be created in the *uncommitted* folder named \"datasource_new\". Open this notebook and change the value *my_datasource* to whatever you want your datasource to be called. In this project, we named it \"android_malware\". Then, execute all cells in the notebook. If successful, the last cell will print the newly created datasource."
   ],
   "metadata": {
    "collapsed": false
   }
  },
  {
   "cell_type": "markdown",
   "source": [
    "## C - Expectations Suite creation and configuration\n",
    "\n",
    "Next step is to create the Expectation Suite by doing this command :\n",
    "`great_expectations suite new`\n",
    "\n",
    "We will use a Data Assistant to import our data file to this suite. So we will choose \"Automatically, using a Data Assistant\".\n",
    "\n",
    "Our CSV is now displayed as a choice for our suite, select it and give a name to the new suite. For this project, we named it \"android_malware_suite\".\n",
    "A new notebook is now created in the *uncommitted* folder named \"edit_android_malware_suite\".\n"
   ],
   "metadata": {
    "collapsed": false
   }
  },
  {
   "cell_type": "markdown",
   "source": [
    "The previously created notebook need some little tweaks to match our needs.\n",
    "By default, all the columns of the dataset are excluded in the \"exclude_column_names\" array. We only need the \"Flow ID\" column to be excluded. So we are removing every column from the array except this one.\n",
    "\n",
    "Finally, we can execute all cells of the suite notebook. This will generate a Data Docs presenting the expectations results"
   ],
   "metadata": {
    "collapsed": false
   }
  },
  {
   "cell_type": "markdown",
   "source": [
    "## D - Conclusion ?\n",
    "\n",
    "The next notebook is the appendix."
   ],
   "metadata": {
    "collapsed": false
   }
  },
  {
   "cell_type": "code",
   "execution_count": null,
   "outputs": [],
   "source": [],
   "metadata": {
    "collapsed": false
   }
  }
 ],
 "metadata": {
  "kernelspec": {
   "display_name": "Python 3 (ipykernel)",
   "language": "python",
   "name": "python3"
  },
  "language_info": {
   "codemirror_mode": {
    "name": "ipython",
    "version": 3
   },
   "file_extension": ".py",
   "mimetype": "text/x-python",
   "name": "python",
   "nbconvert_exporter": "python",
   "pygments_lexer": "ipython3",
   "version": "3.10.9"
  }
 },
 "nbformat": 4,
 "nbformat_minor": 5
}
