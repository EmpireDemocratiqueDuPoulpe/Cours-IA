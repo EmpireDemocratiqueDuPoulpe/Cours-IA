{
 "cells": [
  {
   "cell_type": "markdown",
   "source": [
    "## School project - 5MLDE\n",
    "The following notebook has been created for a school project model deployment. The subject and the questions are available in the appendix.\n",
    "\n",
    "The group members who participated in this project are:\n",
    "- AMIMI Lamine\n",
    "- BEZIN Théo\n",
    "- LECOMTE Alexis\n",
    "- PAWLOWSKI Maxence\n",
    "\n",
    "### Main index\n",
    "1. Data analysis\n",
    "2. **Data quality tests (you are here)**\n",
    "3. _Appendix_"
   ],
   "metadata": {
    "collapsed": false
   }
  },
  {
   "cell_type": "markdown",
   "source": [
    "# 2 - Data quality tests\n",
    "The purpose of this notebook will be to explain how to set up Great Expectations and configure it. The configuration is stored in the `jupyter-server/config/great_expectations` folder.\n",
    "\n",
    "### Index\n",
    "<ol type=\"A\">\n",
    "  <li>Initialization of Great Expectation</li>\n",
    "  <li>The Datasource</li>\n",
    "  <li>The Expectations Suite</li>\n",
    "  <li>Conclusion of the data quality tests</li>\n",
    "</ol>"
   ],
   "metadata": {
    "collapsed": false
   }
  },
  {
   "cell_type": "markdown",
   "source": [
    "## A - Initialization of Great Expectation\n",
    "We will initialize Great Expectations (GX) in the `jupyter-server/config` folder with this command:\n",
    "\n",
    "```\n",
    "great_expectations init\n",
    "```"
   ],
   "metadata": {
    "collapsed": false
   }
  },
  {
   "cell_type": "markdown",
   "source": [
    "## B - The Datasource\n",
    "We will do most of the remaining work in the newly created folder. We first need a new datasource for GX to work with. We can load our dataset file with this command:\n",
    "\n",
    "```\n",
    "great_expectations datasource new\n",
    "```\n",
    "\n",
    "We choose \"Files on a filesystem (for processing with Pandas or Spark)\" for the first prompt and \"Pandas\" for the second. We are then asked to enter the path to our data folder. Since we are working from the jupyter container, the data folder path is `app/data`. A new notebook named `datasource_new` is then created in the `jupyter-server/config/great_expectations/uncommitted` folder. Open this notebook and change the value `my_datasource` to whatever you want your datasource to be called. In this project, we named it \"android_malware\". Then, execute all cells in the notebook. If there is no problem, the last cell will print the newly created datasource."
   ],
   "metadata": {
    "collapsed": false
   }
  },
  {
   "cell_type": "markdown",
   "source": [
    "## C - The Expectations Suite\n",
    "The next step is to create the Expectation Suite by doing this command:\n",
    "\n",
    "```\n",
    "great_expectations suite new\n",
    "```\n",
    "\n",
    "We will use the Data Assistant to import our data file to this suite. At the first prompt, we choose \"Automatically, using a Data Assistant\". Our dataset is now displayed as a choice for our suite. Select it and give a name to the new suite. We named it \"android_malware_suite\". A new notebook named `edit_android_malware_suite` has been created in the `jupyter-server/config/great_expectations/uncommitted` folder.\n",
    "\n",
    "The previously created notebook need some tweaks to match our needs. By default, all the columns of the dataset are excluded in the `exclude_column_names` array. We only need the \"Flow ID\" column to be excluded, so we are removing every column from the array except this one. Finally, we can execute all the cells of the suite notebook. This will generate a Data Docs presenting the expectations results."
   ],
   "metadata": {
    "collapsed": false
   }
  },
  {
   "cell_type": "markdown",
   "source": [
    "## D - Conclusion\n",
    "The next notebook is the appendix."
   ],
   "metadata": {
    "collapsed": false
   }
  }
 ],
 "metadata": {
  "kernelspec": {
   "display_name": "Python 3 (ipykernel)",
   "language": "python",
   "name": "python3"
  },
  "language_info": {
   "codemirror_mode": {
    "name": "ipython",
    "version": 3
   },
   "file_extension": ".py",
   "mimetype": "text/x-python",
   "name": "python",
   "nbconvert_exporter": "python",
   "pygments_lexer": "ipython3",
   "version": "3.10.9"
  }
 },
 "nbformat": 4,
 "nbformat_minor": 5
}
