{
 "cells": [
  {
   "cell_type": "markdown",
   "id": "1ba2f99a-9ca4-4ab3-84d4-3609fd4a75f0",
   "metadata": {},
   "source": [
    "Imports"
   ]
  },
  {
   "cell_type": "code",
   "execution_count": 1,
   "id": "67ceeace-17b2-4818-b256-39876b11b192",
   "metadata": {
    "tags": []
   },
   "outputs": [],
   "source": [
    "# OS and filesystem\n",
    "from pathlib import Path\n",
    "\n",
    "# Data\n",
    "import pandas\n",
    "from matplotlib import pyplot\n",
    "import matplotx\n",
    "\n",
    "# Console output\n",
    "from colorama import Fore, Style"
   ]
  },
  {
   "cell_type": "markdown",
   "id": "035f1d23-3112-44f3-bb6f-ebafa0bcc767",
   "metadata": {},
   "source": [
    "Constants"
   ]
  },
  {
   "cell_type": "code",
   "execution_count": 2,
   "id": "fb2549ba-393a-40e4-80c0-6960a7ecc43b",
   "metadata": {
    "tags": []
   },
   "outputs": [],
   "source": [
    "# Filesystem paths\n",
    "PARENT_FOLDER = Path.cwd()\n",
    "CONFIG_FOLDER = (PARENT_FOLDER / \"..\" / \"..\" / \"config\").resolve()\n",
    "DATA_FOLDER = (PARENT_FOLDER / \"..\" / \"..\" / \"data\").resolve()\n",
    "MODELS_FOLDER = (PARENT_FOLDER / \"..\" / \"..\" / \"models\").resolve()\n",
    "TEMP_FOLDER = (PARENT_FOLDER / \"..\" / \"..\" / \"temp\").resolve()"
   ]
  },
  {
   "cell_type": "markdown",
   "id": "40bc0f3a-f01b-4496-8f3f-346d82534f06",
   "metadata": {},
   "source": [
    "Dataset"
   ]
  },
  {
   "cell_type": "code",
   "execution_count": 3,
   "id": "cc5bd0d2-41f3-44fd-b84c-6ee9347b9c24",
   "metadata": {
    "tags": []
   },
   "outputs": [
    {
     "name": "stderr",
     "output_type": "stream",
     "text": [
      "C:\\Users\\pixxa\\AppData\\Local\\Temp\\ipykernel_13812\\120255162.py:1: DtypeWarning: Columns (56,58) have mixed types. Specify dtype option on import or set low_memory=False.\n",
      "  data = pandas.read_csv((DATA_FOLDER / \"Android_Malware.csv\"), index_col=0, delimiter=\",\", dtype={\n"
     ]
    },
    {
     "name": "stdout",
     "output_type": "stream",
     "text": [
      "355630 rows, 85 columns\n"
     ]
    },
    {
     "data": {
      "text/plain": "                                 Flow ID    Source IP  Source Port  \\\n0  172.217.6.202-10.42.0.211-443-50004-6  10.42.0.211        50004   \n1  172.217.6.202-10.42.0.211-443-35455-6  10.42.0.211        35455   \n2  131.253.61.68-10.42.0.211-443-51775-6  10.42.0.211        51775   \n3  131.253.61.68-10.42.0.211-443-51775-6  10.42.0.211        51775   \n4  131.253.61.68-10.42.0.211-443-51776-6  10.42.0.211        51776   \n\n  Destination IP  Destination Port  Protocol            Timestamp  \\\n0  172.217.6.202             443.0       6.0  13/06/2017 11:52:39   \n1  172.217.6.202             443.0       6.0  13/06/2017 11:52:39   \n2  131.253.61.68             443.0       6.0  13/06/2017 11:52:42   \n3  131.253.61.68             443.0       6.0  13/06/2017 11:52:43   \n4  131.253.61.68             443.0       6.0  13/06/2017 11:52:42   \n\n   Flow Duration  Total Fwd Packets  Total Backward Packets  ...  \\\n0          37027                  1                       1  ...   \n1          36653                  1                       1  ...   \n2         534099                  8                      12  ...   \n3           9309                  3                       0  ...   \n4       19890496                  8                       6  ...   \n\n   min_seg_size_forward  Active Mean  Active Std  Active Max  Active Min  \\\n0                  32.0          0.0         0.0         0.0         0.0   \n1                  32.0          0.0         0.0         0.0         0.0   \n2                  20.0          0.0         0.0         0.0         0.0   \n3                  20.0          0.0         0.0         0.0         0.0   \n4                  20.0          0.0         0.0         0.0         0.0   \n\n   Idle Mean  Idle Std  Idle Max  Idle Min           Label  \n0        0.0       0.0       0.0       0.0  Android_Adware  \n1        0.0       0.0       0.0       0.0  Android_Adware  \n2        0.0       0.0       0.0       0.0  Android_Adware  \n3        0.0       0.0       0.0       0.0  Android_Adware  \n4        0.0       0.0       0.0       0.0  Android_Adware  \n\n[5 rows x 85 columns]",
      "text/html": "<div>\n<style scoped>\n    .dataframe tbody tr th:only-of-type {\n        vertical-align: middle;\n    }\n\n    .dataframe tbody tr th {\n        vertical-align: top;\n    }\n\n    .dataframe thead th {\n        text-align: right;\n    }\n</style>\n<table border=\"1\" class=\"dataframe\">\n  <thead>\n    <tr style=\"text-align: right;\">\n      <th></th>\n      <th>Flow ID</th>\n      <th>Source IP</th>\n      <th>Source Port</th>\n      <th>Destination IP</th>\n      <th>Destination Port</th>\n      <th>Protocol</th>\n      <th>Timestamp</th>\n      <th>Flow Duration</th>\n      <th>Total Fwd Packets</th>\n      <th>Total Backward Packets</th>\n      <th>...</th>\n      <th>min_seg_size_forward</th>\n      <th>Active Mean</th>\n      <th>Active Std</th>\n      <th>Active Max</th>\n      <th>Active Min</th>\n      <th>Idle Mean</th>\n      <th>Idle Std</th>\n      <th>Idle Max</th>\n      <th>Idle Min</th>\n      <th>Label</th>\n    </tr>\n  </thead>\n  <tbody>\n    <tr>\n      <th>0</th>\n      <td>172.217.6.202-10.42.0.211-443-50004-6</td>\n      <td>10.42.0.211</td>\n      <td>50004</td>\n      <td>172.217.6.202</td>\n      <td>443.0</td>\n      <td>6.0</td>\n      <td>13/06/2017 11:52:39</td>\n      <td>37027</td>\n      <td>1</td>\n      <td>1</td>\n      <td>...</td>\n      <td>32.0</td>\n      <td>0.0</td>\n      <td>0.0</td>\n      <td>0.0</td>\n      <td>0.0</td>\n      <td>0.0</td>\n      <td>0.0</td>\n      <td>0.0</td>\n      <td>0.0</td>\n      <td>Android_Adware</td>\n    </tr>\n    <tr>\n      <th>1</th>\n      <td>172.217.6.202-10.42.0.211-443-35455-6</td>\n      <td>10.42.0.211</td>\n      <td>35455</td>\n      <td>172.217.6.202</td>\n      <td>443.0</td>\n      <td>6.0</td>\n      <td>13/06/2017 11:52:39</td>\n      <td>36653</td>\n      <td>1</td>\n      <td>1</td>\n      <td>...</td>\n      <td>32.0</td>\n      <td>0.0</td>\n      <td>0.0</td>\n      <td>0.0</td>\n      <td>0.0</td>\n      <td>0.0</td>\n      <td>0.0</td>\n      <td>0.0</td>\n      <td>0.0</td>\n      <td>Android_Adware</td>\n    </tr>\n    <tr>\n      <th>2</th>\n      <td>131.253.61.68-10.42.0.211-443-51775-6</td>\n      <td>10.42.0.211</td>\n      <td>51775</td>\n      <td>131.253.61.68</td>\n      <td>443.0</td>\n      <td>6.0</td>\n      <td>13/06/2017 11:52:42</td>\n      <td>534099</td>\n      <td>8</td>\n      <td>12</td>\n      <td>...</td>\n      <td>20.0</td>\n      <td>0.0</td>\n      <td>0.0</td>\n      <td>0.0</td>\n      <td>0.0</td>\n      <td>0.0</td>\n      <td>0.0</td>\n      <td>0.0</td>\n      <td>0.0</td>\n      <td>Android_Adware</td>\n    </tr>\n    <tr>\n      <th>3</th>\n      <td>131.253.61.68-10.42.0.211-443-51775-6</td>\n      <td>10.42.0.211</td>\n      <td>51775</td>\n      <td>131.253.61.68</td>\n      <td>443.0</td>\n      <td>6.0</td>\n      <td>13/06/2017 11:52:43</td>\n      <td>9309</td>\n      <td>3</td>\n      <td>0</td>\n      <td>...</td>\n      <td>20.0</td>\n      <td>0.0</td>\n      <td>0.0</td>\n      <td>0.0</td>\n      <td>0.0</td>\n      <td>0.0</td>\n      <td>0.0</td>\n      <td>0.0</td>\n      <td>0.0</td>\n      <td>Android_Adware</td>\n    </tr>\n    <tr>\n      <th>4</th>\n      <td>131.253.61.68-10.42.0.211-443-51776-6</td>\n      <td>10.42.0.211</td>\n      <td>51776</td>\n      <td>131.253.61.68</td>\n      <td>443.0</td>\n      <td>6.0</td>\n      <td>13/06/2017 11:52:42</td>\n      <td>19890496</td>\n      <td>8</td>\n      <td>6</td>\n      <td>...</td>\n      <td>20.0</td>\n      <td>0.0</td>\n      <td>0.0</td>\n      <td>0.0</td>\n      <td>0.0</td>\n      <td>0.0</td>\n      <td>0.0</td>\n      <td>0.0</td>\n      <td>0.0</td>\n      <td>Android_Adware</td>\n    </tr>\n  </tbody>\n</table>\n<p>5 rows × 85 columns</p>\n</div>"
     },
     "execution_count": 3,
     "metadata": {},
     "output_type": "execute_result"
    }
   ],
   "source": [
    "data = pandas.read_csv((DATA_FOLDER / \"Android_Malware.csv\"), index_col=0, delimiter=\",\", dtype={\n",
    "    \"Flow ID\": str,\n",
    "    \"Source IP\": str,\n",
    "    \"Source Port\": int,\n",
    "    \"Destination IP\": str,\n",
    "    \"Destination Port\": int,\n",
    "    \"Protocol\": float,\n",
    "    \"Timestamp\": str,\n",
    "    \"Flow Duration\": float,\n",
    "    \"Total Fwd Packets\": float,\n",
    "    \"Total Backward Packets\": float,\n",
    "    \"Total Length of Fwd Packets\": float,\n",
    "    \"Total Length of Bwd Packets\": float,\n",
    "    \"Fwd Packet Length Max\": float,\n",
    "    \"Fwd Packet Length Min\": float,\n",
    "    \"Fwd Packet Length Mean\": float,\n",
    "    \"Fwd Packet Length Std\": float,\n",
    "    \"Bwd Packet Length Max\": float,\n",
    "    \"Bwd Packet Length Min\": float,\n",
    "    \"Bwd Packet Length Mean\": float,\n",
    "    \"Bwd Packet Length Std\": float,\n",
    "    \"Flow Bytes/s\": float,\n",
    "    \"Flow Packets/s\": float,\n",
    "    \"Flow IAT Mean\": float,\n",
    "    \"Flow IAT Std\": float,\n",
    "    \"Flow IAT Max\": float,\n",
    "    \"Flow IAT Min\": float,\n",
    "    \"Fwd IAT Total\": float,\n",
    "    \"Fwd IAT Mean\": float,\n",
    "    \"Fwd IAT Std\": float,\n",
    "    \"Fwd IAT Max\": float,\n",
    "    \"Fwd IAT Min\": float,\n",
    "    \"Bwd IAT Total\": float,\n",
    "    \"Bwd IAT Mean\": float,\n",
    "    \"Bwd IAT Std\": float,\n",
    "    \"Bwd IAT Max\": float,\n",
    "    \"Bwd IAT Min\": float,\n",
    "    \"Fwd PSH Flags\": float,\n",
    "    \"Bwd PSH Flags\": float,\n",
    "    \"Fwd URG Flags\": float,\n",
    "    \"Bwd URG Flags\": float,\n",
    "    \"Fwd Header Length\": float,\n",
    "    \"Bwd Header Length\": float,\n",
    "    \"Fwd Packets/s\": float,\n",
    "    \"Bwd Packets/s\": float,\n",
    "    \"Min Packet Length\": float,\n",
    "    \"Max Packet Length\": float,\n",
    "    \"Packet Length Mean\": float,\n",
    "    \"Packet Length Std\": float,\n",
    "    \"Packet Length Variance\": float,\n",
    "    \"FIN Flag Count\": float,\n",
    "    \"SYN Flag Count\": float,\n",
    "    \"RST Flag Count\": float,\n",
    "    \"PSH Flag Count\": float,\n",
    "    \"ACK Flag Count\": float,\n",
    "    \"URG Flag Count\": float,\n",
    "    \"CWE Flag Count\": \"object\",  # Change later\n",
    "    \"ECE Flag Count\": float,\n",
    "    \"Down/Up Ratio\": \"object\",  # Change later\n",
    "    \"Average Packet Size\": float,\n",
    "    \"Avg Fwd Segment Size\": float,\n",
    "    \"Avg Bwd Segment Size\": float,\n",
    "    \"Fwd Header Length.1\": float,\n",
    "    \"Fwd Avg Bytes/Bulk\": \"object\",  # Change later\n",
    "    \"Fwd Avg Packets/Bulk\": float,\n",
    "    \"Fwd Avg Bulk Rate\": float,\n",
    "    \"Bwd Avg Bytes/Bulk\": float,\n",
    "    \"Bwd Avg Packets/Bulk\": float,\n",
    "    \"Bwd Avg Bulk Rate\": float,\n",
    "    \"Subflow Fwd Packets\": float,\n",
    "    \"Subflow Fwd Bytes\": float,\n",
    "    \"Subflow Bwd Packets\": float,\n",
    "    \"Subflow Bwd Bytes\": float,\n",
    "    \"Init_Win_bytes_forward\": float,\n",
    "    \"Init_Win_bytes_backward\": float,\n",
    "    \"act_data_pkt_fwd\": float,\n",
    "    \"min_seg_size_forward\": float,\n",
    "    \"Active Mean\": float,\n",
    "    \"Active Std\": float,\n",
    "    \"Active Max\": float,\n",
    "    \"Active Min\": float,\n",
    "    \"Idle Mean\": float,\n",
    "    \"Idle Std\": float,\n",
    "    \"Idle Max\": float,\n",
    "    \"Idle Min\": float,\n",
    "    \"Label\": str\n",
    "})\n",
    "data.columns = data.columns.str.strip()\n",
    "print(f\"{data.shape[0]} rows, {data.shape[1]} columns\")\n",
    "data.head(n=5)"
   ]
  },
  {
   "cell_type": "markdown",
   "id": "3a9210ca-4a6b-488b-944c-3a20264c4423",
   "metadata": {},
   "source": [
    "Duplicated values"
   ]
  },
  {
   "cell_type": "code",
   "execution_count": 4,
   "id": "1a11af94-eea9-4728-b3fd-603325e6843f",
   "metadata": {
    "tags": []
   },
   "outputs": [
    {
     "name": "stdout",
     "output_type": "stream",
     "text": [
      "\u001B[1mDuplicated values:\u001B[0m 2885 (0.01%)\n",
      "                                    Flow ID       Source IP  Source Port  \\\n",
      "90    203.205.158.60-10.42.0.211-80-48574-6  203.205.158.60           80   \n",
      "94    10.42.0.211-111.206.25.159-33521-80-6  111.206.25.159           80   \n",
      "438   10.42.0.211-106.39.169.66-38659-443-6     10.42.0.211        38659   \n",
      "475    10.42.0.211-119.146.74.34-36805-80-6   119.146.74.34           80   \n",
      "476    10.42.0.211-119.146.74.48-33523-80-6   119.146.74.48           80   \n",
      "..                                      ...             ...          ...   \n",
      "406   10.42.0.211-118.178.143.65-50070-80-6     10.42.0.211        50070   \n",
      "407    140.205.61.26-10.42.0.211-80-47648-6     10.42.0.211        47648   \n",
      "408    140.205.61.26-10.42.0.211-80-47648-6     10.42.0.211        47648   \n",
      "409   10.42.0.211-121.41.62.82-44183-1088-6     10.42.0.211        44183   \n",
      "410  10.42.0.211-101.37.105.10-48779-6880-6     10.42.0.211        48779   \n",
      "\n",
      "     Destination IP  Destination Port  Protocol            Timestamp  \\\n",
      "90      10.42.0.211           48574.0       6.0  27/06/2017 02:23:49   \n",
      "94      10.42.0.211           33521.0       6.0  27/06/2017 02:23:49   \n",
      "438   106.39.169.66             443.0       6.0  27/06/2017 02:29:27   \n",
      "475     10.42.0.211           36805.0       6.0  27/06/2017 02:29:30   \n",
      "476     10.42.0.211           33523.0       6.0  27/06/2017 02:29:30   \n",
      "..              ...               ...       ...                  ...   \n",
      "406  118.178.143.65              80.0       6.0  30/06/2017 02:48:06   \n",
      "407   140.205.61.26              80.0       6.0  30/06/2017 02:48:17   \n",
      "408   140.205.61.26              80.0       6.0  30/06/2017 02:48:18   \n",
      "409    121.41.62.82            1088.0       6.0  30/06/2017 02:48:17   \n",
      "410   101.37.105.10            6880.0       6.0  30/06/2017 02:48:21   \n",
      "\n",
      "     Flow Duration  Total Fwd Packets  Total Backward Packets  ...  \\\n",
      "90               4                  2                       0  ...   \n",
      "94               8                  2                       0  ...   \n",
      "438              5                  2                       0  ...   \n",
      "475             10                  2                       0  ...   \n",
      "476              8                  2                       0  ...   \n",
      "..             ...                ...                     ...  ...   \n",
      "406        8769698                  4                       4  ...   \n",
      "407         892843                  5                       6  ...   \n",
      "408            109                  2                       0  ...   \n",
      "409       12192623                  2                       0  ...   \n",
      "410       16057007                  2                       0  ...   \n",
      "\n",
      "     min_seg_size_forward  Active Mean  Active Std  Active Max  Active Min  \\\n",
      "90                   32.0          0.0         0.0         0.0         0.0   \n",
      "94                   20.0          0.0         0.0         0.0         0.0   \n",
      "438                  20.0          0.0         0.0         0.0         0.0   \n",
      "475                  20.0          0.0         0.0         0.0         0.0   \n",
      "476                  20.0          0.0         0.0         0.0         0.0   \n",
      "..                    ...          ...         ...         ...         ...   \n",
      "406                  32.0          0.0         0.0         0.0         0.0   \n",
      "407                  20.0          0.0         0.0         0.0         0.0   \n",
      "408                  20.0          0.0         0.0         0.0         0.0   \n",
      "409                  32.0          0.0         0.0         0.0         0.0   \n",
      "410                  20.0          0.0         0.0         0.0         0.0   \n",
      "\n",
      "     Idle Mean  Idle Std  Idle Max  Idle Min                Label  \n",
      "90         0.0       0.0       0.0       0.0    Android_Scareware  \n",
      "94         0.0       0.0       0.0       0.0    Android_Scareware  \n",
      "438        0.0       0.0       0.0       0.0    Android_Scareware  \n",
      "475        0.0       0.0       0.0       0.0    Android_Scareware  \n",
      "476        0.0       0.0       0.0       0.0    Android_Scareware  \n",
      "..         ...       ...       ...       ...                  ...  \n",
      "406        0.0       0.0       0.0       0.0  Android_SMS_Malware  \n",
      "407        0.0       0.0       0.0       0.0  Android_SMS_Malware  \n",
      "408        0.0       0.0       0.0       0.0  Android_SMS_Malware  \n",
      "409        0.0       0.0       0.0       0.0  Android_SMS_Malware  \n",
      "410        0.0       0.0       0.0       0.0  Android_SMS_Malware  \n",
      "\n",
      "[5770 rows x 85 columns]\n"
     ]
    }
   ],
   "source": [
    "def duplicated_values(df, df_name: str = None) -> None:\n",
    "    # Compute the dataset size, the count of duplicated value and the list of duplicated values\n",
    "    data_count = df.shape[0] * df.shape[1]\n",
    "    duplicated_count = df.duplicated().sum()\n",
    "    duplicated = df[df.duplicated(keep=False)] if (duplicated_count > 0) else None\n",
    "\n",
    "    # Show the result\n",
    "    df_name = f\" ({df_name})\" if df_name is not None else \"\"\n",
    "    print(f\"{Style.BRIGHT}Duplicated values{df_name}:{Style.RESET_ALL} {duplicated_count} ({round((duplicated_count.sum() / data_count) * 100, 2)}%)\")\n",
    "    if duplicated is not None:\n",
    "        print(duplicated)\n",
    "\n",
    "\n",
    "duplicated_values(df=data)"
   ]
  },
  {
   "cell_type": "code",
   "execution_count": 5,
   "id": "35595234-bfd2-45b5-ae2e-13495690e8ca",
   "metadata": {
    "tags": []
   },
   "outputs": [
    {
     "name": "stdout",
     "output_type": "stream",
     "text": [
      "\u001B[1mDuplicated values:\u001B[0m 0 (0.0%)\n"
     ]
    }
   ],
   "source": [
    "data.drop_duplicates(keep=\"first\", inplace=True)\n",
    "duplicated_values(df=data)"
   ]
  },
  {
   "cell_type": "markdown",
   "id": "480e0d3d-1318-419b-b9ec-f8e59bfcd012",
   "metadata": {},
   "source": [
    "Null and empty values"
   ]
  },
  {
   "cell_type": "code",
   "execution_count": 6,
   "id": "ca0f75c2-be6a-4ebd-8727-70999ffc099b",
   "metadata": {
    "tags": []
   },
   "outputs": [
    {
     "name": "stdout",
     "output_type": "stream",
     "text": [
      "\u001B[1mMissing values:\u001B[0m 0.0%\n",
      "\u001B[2m\u001B[37mFwd Avg Packets/Bulk       4 (0.0%)\n",
      "Fwd Avg Bulk Rate          4 (0.0%)\n",
      "Bwd Avg Packets/Bulk       4 (0.0%)\n",
      "Bwd Avg Bulk Rate          4 (0.0%)\n",
      "Subflow Fwd Packets        4 (0.0%)\n",
      "Subflow Fwd Bytes          4 (0.0%)\n",
      "Subflow Bwd Packets        4 (0.0%)\n",
      "Subflow Bwd Bytes          4 (0.0%)\n",
      "Init_Win_bytes_forward     4 (0.0%)\n",
      "Init_Win_bytes_backward    4 (0.0%)\n",
      "act_data_pkt_fwd           4 (0.0%)\n",
      "min_seg_size_forward       4 (0.0%)\n",
      "Active Mean                4 (0.0%)\n",
      "Active Std                 4 (0.0%)\n",
      "Active Max                 4 (0.0%)\n",
      "Active Min                 4 (0.0%)\n",
      "Idle Mean                  4 (0.0%)\n",
      "Idle Std                   4 (0.0%)\n",
      "Idle Max                   4 (0.0%)\n",
      "Bwd Avg Bytes/Bulk         4 (0.0%)\n",
      "Idle Min                   4 (0.0%)\n",
      "Fwd Header Length.1        3 (0.0%)\n",
      "Avg Bwd Segment Size       3 (0.0%)\n",
      "Avg Fwd Segment Size       3 (0.0%)\n",
      "Average Packet Size        3 (0.0%)\n",
      "Fwd Avg Bytes/Bulk         3 (0.0%)\n",
      "Down/Up Ratio              2 (0.0%)\n",
      "ECE Flag Count             2 (0.0%)\n",
      "Bwd Packets/s              1 (0.0%)\n",
      "FIN Flag Count             1 (0.0%)\n",
      "Min Packet Length          1 (0.0%)\n",
      "Max Packet Length          1 (0.0%)\n",
      "Packet Length Mean         1 (0.0%)\n",
      "Packet Length Std          1 (0.0%)\n",
      "Packet Length Variance     1 (0.0%)\n",
      "ACK Flag Count             1 (0.0%)\n",
      "SYN Flag Count             1 (0.0%)\n",
      "RST Flag Count             1 (0.0%)\n",
      "PSH Flag Count             1 (0.0%)\n",
      "URG Flag Count             1 (0.0%)\n",
      "CWE Flag Count             1 (0.0%)\n",
      "Flow ID                    1 (0.0%)\n",
      "dtype: object\u001B[0m\n"
     ]
    }
   ],
   "source": [
    "def missing_values(df, df_name: str = None, keep_zeros=True) -> None:\n",
    "    # Compute the dataset size and the count of missing value\n",
    "    data_count = df.shape[0] * df.shape[1]\n",
    "    missing = missing_df = df.isna().sum()\n",
    "\n",
    "    # Filter out column with zero missing value\n",
    "    if not keep_zeros:\n",
    "        missing_df = missing_df[missing_df > 0]\n",
    "\n",
    "    # Calculate the percent of missing values\n",
    "    missing_df = missing_df.sort_values(ascending=False).apply(lambda m: f\"{m} ({round((m * 100) / df.shape[0], 2)}%)\")\n",
    "\n",
    "    # Show the result\n",
    "    df_name = f\" ({df_name})\" if df_name is not None else \"\"\n",
    "    print((\n",
    "        f\"{Style.BRIGHT}Missing values{df_name}:{Style.RESET_ALL} {round((missing.sum() / data_count) * 100, 2)}%\\n\"\n",
    "        f\"{Style.DIM}{Fore.WHITE}{missing_df}{Style.RESET_ALL}\"\n",
    "    ))\n",
    "\n",
    "\n",
    "missing_values(df=data, keep_zeros=False)"
   ]
  },
  {
   "cell_type": "code",
   "execution_count": 7,
   "id": "1e572f5b-ce38-4b1b-85d7-f30030a5130e",
   "metadata": {
    "tags": []
   },
   "outputs": [
    {
     "name": "stdout",
     "output_type": "stream",
     "text": [
      "\u001B[1mMissing values:\u001B[0m 0.0%\n",
      "\u001B[2m\u001B[37mSeries([], dtype: int64)\u001B[0m\n"
     ]
    }
   ],
   "source": [
    "data.dropna(inplace=True)\n",
    "missing_values(df=data, keep_zeros=False)"
   ]
  },
  {
   "cell_type": "markdown",
   "id": "31bae6ed-863a-4cf9-8295-9ca4ff83985a",
   "metadata": {},
   "source": [
    "Clean columns with invalid type"
   ]
  },
  {
   "cell_type": "code",
   "execution_count": 8,
   "id": "70aa2103-5076-496c-815c-363bee987721",
   "metadata": {
    "tags": []
   },
   "outputs": [
    {
     "data": {
      "text/plain": "0    1.0\nName: CWE Flag Count, dtype: float64"
     },
     "execution_count": 8,
     "metadata": {},
     "output_type": "execute_result"
    }
   ],
   "source": [
    "data.drop(data.loc[data[\"CWE Flag Count\"] == \"SCAREWARE\"].index, inplace=True)\n",
    "data[\"CWE Flag Count\"] = data[\"CWE Flag Count\"].astype(int)\n",
    "data[\"CWE Flag Count\"].value_counts(normalize=True)"
   ]
  },
  {
   "cell_type": "code",
   "execution_count": 9,
   "id": "3d7b0173-2a44-478b-8c3f-fdb8b1eb30c1",
   "metadata": {
    "tags": []
   },
   "outputs": [
    {
     "data": {
      "text/plain": "0.0    1.0\nName: Fwd Avg Bytes/Bulk, dtype: float64"
     },
     "execution_count": 9,
     "metadata": {},
     "output_type": "execute_result"
    }
   ],
   "source": [
    "data.drop(data.loc[data[\"Fwd Avg Bytes/Bulk\"] == \"BENIGN\"].index, inplace=True)\n",
    "data[\"Fwd Avg Bytes/Bulk\"] = data[\"Fwd Avg Bytes/Bulk\"].astype(float)\n",
    "data[\"Fwd Avg Bytes/Bulk\"].value_counts(normalize=True)"
   ]
  },
  {
   "cell_type": "code",
   "execution_count": 10,
   "id": "b2dab587-9f8f-4ca3-8561-afff59b2d725",
   "metadata": {
    "tags": []
   },
   "outputs": [
    {
     "data": {
      "text/plain": "0.0     0.491565\n1.0     0.474189\n2.0     0.025262\n3.0     0.006668\n4.0     0.001434\n5.0     0.000405\n6.0     0.000150\n8.0     0.000125\n7.0     0.000099\n12.0    0.000037\n9.0     0.000023\n10.0    0.000020\n11.0    0.000020\n75.0    0.000003\nName: Down/Up Ratio, dtype: float64"
     },
     "execution_count": 10,
     "metadata": {},
     "output_type": "execute_result"
    }
   ],
   "source": [
    "data.drop(data.loc[data[\"Down/Up Ratio\"] == \"BENIGN\"].index, inplace=True)\n",
    "data[\"Down/Up Ratio\"] = data[\"Down/Up Ratio\"].astype(float)\n",
    "data[\"Down/Up Ratio\"].value_counts(normalize=True)"
   ]
  },
  {
   "cell_type": "markdown",
   "id": "4890c888-24aa-4821-b4ab-9ddfee8a3152",
   "metadata": {},
   "source": [
    "Distribution of Y label"
   ]
  },
  {
   "cell_type": "code",
   "execution_count": 11,
   "id": "0453b2de-25f4-4b5b-b0c0-2369ae229997",
   "metadata": {
    "tags": []
   },
   "outputs": [
    {
     "data": {
      "text/plain": "<Figure size 640x480 with 1 Axes>",
      "image/png": "[encoded data removed]"
     },
     "metadata": {},
     "output_type": "display_data"
    }
   ],
   "source": [
    "data[\"Label\"].value_counts().plot(kind=\"pie\")\n",
    "pyplot.ylabel(\"\")\n",
    "pyplot.show()"
   ]
  },
  {
   "cell_type": "markdown",
   "id": "4a03e785-bcca-45e6-8ed3-327ddbdb3fee",
   "metadata": {},
   "source": [
    "Profiler"
   ]
  },
  {
   "cell_type": "code",
   "execution_count": 12,
   "id": "ea89bad6-0e90-4e7a-9908-92785aec8c20",
   "metadata": {},
   "outputs": [],
   "source": [
    "# results = ProfileReport(data_android.head(20000), title=\"Android Malware Pandas Profiling Report\")\n",
    "# results.to_file('report.html')"
   ]
  },
  {
   "cell_type": "markdown",
   "id": "31716c78-da9f-420a-9c72-34fce260492c",
   "metadata": {},
   "source": [
    "Save dataset"
   ]
  },
  {
   "cell_type": "code",
   "execution_count": 13,
   "id": "2535979b-3c60-48c4-bdd7-33e85ba259be",
   "metadata": {
    "tags": []
   },
   "outputs": [],
   "source": [
    "data.to_csv((DATA_FOLDER / \"Android_Malware_cleaned.csv\"), sep=\",\", index=False, mode=\"w\")"
   ]
  },
  {
   "cell_type": "code",
   "execution_count": null,
   "outputs": [],
   "source": [],
   "metadata": {
    "collapsed": false
   }
  }
 ],
 "metadata": {
  "kernelspec": {
   "display_name": "Python 3 (ipykernel)",
   "language": "python",
   "name": "python3"
  },
  "language_info": {
   "codemirror_mode": {
    "name": "ipython",
    "version": 3
   },
   "file_extension": ".py",
   "mimetype": "text/x-python",
   "name": "python",
   "nbconvert_exporter": "python",
   "pygments_lexer": "ipython3",
   "version": "3.10.9"
  }
 },
 "nbformat": 4,
 "nbformat_minor": 5
}
