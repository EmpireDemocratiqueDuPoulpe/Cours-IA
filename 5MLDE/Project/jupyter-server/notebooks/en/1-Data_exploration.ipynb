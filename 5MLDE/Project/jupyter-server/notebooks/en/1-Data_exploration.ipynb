{
 "cells": [
  {
   "cell_type": "markdown",
   "id": "1ba2f99a-9ca4-4ab3-84d4-3609fd4a75f0",
   "metadata": {},
   "source": [
    "Imports"
   ]
  },
  {
   "cell_type": "code",
   "execution_count": 1,
   "id": "67ceeace-17b2-4818-b256-39876b11b192",
   "metadata": {
    "tags": []
   },
   "outputs": [],
   "source": [
    "# OS and filesystem\n",
    "from pathlib import Path\n",
    "\n",
    "# Data\n",
    "import pandas\n",
    "from matplotlib import pyplot\n",
    "import matplotx\n",
    "\n",
    "# Console output\n",
    "from colorama import Fore, Style"
   ]
  },
  {
   "cell_type": "markdown",
   "id": "035f1d23-3112-44f3-bb6f-ebafa0bcc767",
   "metadata": {},
   "source": [
    "Constants"
   ]
  },
  {
   "cell_type": "code",
   "execution_count": 2,
   "id": "fb2549ba-393a-40e4-80c0-6960a7ecc43b",
   "metadata": {
    "tags": []
   },
   "outputs": [],
   "source": [
    "# Filesystem paths\n",
    "PARENT_FOLDER = Path.cwd()\n",
    "CONFIG_FOLDER = (PARENT_FOLDER / \"..\" / \"..\" / \"config\").resolve()\n",
    "DATA_FOLDER = (PARENT_FOLDER / \"..\" / \"..\" / \"data\").resolve()\n",
    "MODELS_FOLDER = (PARENT_FOLDER / \"..\" / \"..\" / \"models\").resolve()\n",
    "TEMP_FOLDER = (PARENT_FOLDER / \"..\" / \"..\" / \"temp\").resolve()"
   ]
  },
  {
   "cell_type": "markdown",
   "id": "40bc0f3a-f01b-4496-8f3f-346d82534f06",
   "metadata": {},
   "source": [
    "Dataset"
   ]
  },
  {
   "cell_type": "code",
   "execution_count": 3,
   "id": "cc5bd0d2-41f3-44fd-b84c-6ee9347b9c24",
   "metadata": {
    "tags": []
   },
   "outputs": [
    {
     "name": "stderr",
     "output_type": "stream",
     "text": [
      "/tmp/ipykernel_3998/339254367.py:1: DtypeWarning: Columns (56,58) have mixed types. Specify dtype option on import or set low_memory=False.\n",
      "  data = pandas.read_csv((DATA_FOLDER / \"Android_Malware.csv\"), index_col=0, delimiter=\",\", dtype={\n"
     ]
    },
    {
     "name": "stdout",
     "output_type": "stream",
     "text": [
      "355630 rows, 85 columns\n"
     ]
    },
    {
     "data": {
      "text/html": [
       "<div>\n",
       "<style scoped>\n",
       "    .dataframe tbody tr th:only-of-type {\n",
       "        vertical-align: middle;\n",
       "    }\n",
       "\n",
       "    .dataframe tbody tr th {\n",
       "        vertical-align: top;\n",
       "    }\n",
       "\n",
       "    .dataframe thead th {\n",
       "        text-align: right;\n",
       "    }\n",
       "</style>\n",
       "<table border=\"1\" class=\"dataframe\">\n",
       "  <thead>\n",
       "    <tr style=\"text-align: right;\">\n",
       "      <th></th>\n",
       "      <th>Flow ID</th>\n",
       "      <th>Source IP</th>\n",
       "      <th>Source Port</th>\n",
       "      <th>Destination IP</th>\n",
       "      <th>Destination Port</th>\n",
       "      <th>Protocol</th>\n",
       "      <th>Timestamp</th>\n",
       "      <th>Flow Duration</th>\n",
       "      <th>Total Fwd Packets</th>\n",
       "      <th>Total Backward Packets</th>\n",
       "      <th>...</th>\n",
       "      <th>min_seg_size_forward</th>\n",
       "      <th>Active Mean</th>\n",
       "      <th>Active Std</th>\n",
       "      <th>Active Max</th>\n",
       "      <th>Active Min</th>\n",
       "      <th>Idle Mean</th>\n",
       "      <th>Idle Std</th>\n",
       "      <th>Idle Max</th>\n",
       "      <th>Idle Min</th>\n",
       "      <th>Label</th>\n",
       "    </tr>\n",
       "  </thead>\n",
       "  <tbody>\n",
       "    <tr>\n",
       "      <th>0</th>\n",
       "      <td>172.217.6.202-10.42.0.211-443-50004-6</td>\n",
       "      <td>10.42.0.211</td>\n",
       "      <td>50004</td>\n",
       "      <td>172.217.6.202</td>\n",
       "      <td>443.0</td>\n",
       "      <td>6.0</td>\n",
       "      <td>13/06/2017 11:52:39</td>\n",
       "      <td>37027</td>\n",
       "      <td>1</td>\n",
       "      <td>1</td>\n",
       "      <td>...</td>\n",
       "      <td>32.0</td>\n",
       "      <td>0.0</td>\n",
       "      <td>0.0</td>\n",
       "      <td>0.0</td>\n",
       "      <td>0.0</td>\n",
       "      <td>0.0</td>\n",
       "      <td>0.0</td>\n",
       "      <td>0.0</td>\n",
       "      <td>0.0</td>\n",
       "      <td>Android_Adware</td>\n",
       "    </tr>\n",
       "    <tr>\n",
       "      <th>1</th>\n",
       "      <td>172.217.6.202-10.42.0.211-443-35455-6</td>\n",
       "      <td>10.42.0.211</td>\n",
       "      <td>35455</td>\n",
       "      <td>172.217.6.202</td>\n",
       "      <td>443.0</td>\n",
       "      <td>6.0</td>\n",
       "      <td>13/06/2017 11:52:39</td>\n",
       "      <td>36653</td>\n",
       "      <td>1</td>\n",
       "      <td>1</td>\n",
       "      <td>...</td>\n",
       "      <td>32.0</td>\n",
       "      <td>0.0</td>\n",
       "      <td>0.0</td>\n",
       "      <td>0.0</td>\n",
       "      <td>0.0</td>\n",
       "      <td>0.0</td>\n",
       "      <td>0.0</td>\n",
       "      <td>0.0</td>\n",
       "      <td>0.0</td>\n",
       "      <td>Android_Adware</td>\n",
       "    </tr>\n",
       "    <tr>\n",
       "      <th>2</th>\n",
       "      <td>131.253.61.68-10.42.0.211-443-51775-6</td>\n",
       "      <td>10.42.0.211</td>\n",
       "      <td>51775</td>\n",
       "      <td>131.253.61.68</td>\n",
       "      <td>443.0</td>\n",
       "      <td>6.0</td>\n",
       "      <td>13/06/2017 11:52:42</td>\n",
       "      <td>534099</td>\n",
       "      <td>8</td>\n",
       "      <td>12</td>\n",
       "      <td>...</td>\n",
       "      <td>20.0</td>\n",
       "      <td>0.0</td>\n",
       "      <td>0.0</td>\n",
       "      <td>0.0</td>\n",
       "      <td>0.0</td>\n",
       "      <td>0.0</td>\n",
       "      <td>0.0</td>\n",
       "      <td>0.0</td>\n",
       "      <td>0.0</td>\n",
       "      <td>Android_Adware</td>\n",
       "    </tr>\n",
       "    <tr>\n",
       "      <th>3</th>\n",
       "      <td>131.253.61.68-10.42.0.211-443-51775-6</td>\n",
       "      <td>10.42.0.211</td>\n",
       "      <td>51775</td>\n",
       "      <td>131.253.61.68</td>\n",
       "      <td>443.0</td>\n",
       "      <td>6.0</td>\n",
       "      <td>13/06/2017 11:52:43</td>\n",
       "      <td>9309</td>\n",
       "      <td>3</td>\n",
       "      <td>0</td>\n",
       "      <td>...</td>\n",
       "      <td>20.0</td>\n",
       "      <td>0.0</td>\n",
       "      <td>0.0</td>\n",
       "      <td>0.0</td>\n",
       "      <td>0.0</td>\n",
       "      <td>0.0</td>\n",
       "      <td>0.0</td>\n",
       "      <td>0.0</td>\n",
       "      <td>0.0</td>\n",
       "      <td>Android_Adware</td>\n",
       "    </tr>\n",
       "    <tr>\n",
       "      <th>4</th>\n",
       "      <td>131.253.61.68-10.42.0.211-443-51776-6</td>\n",
       "      <td>10.42.0.211</td>\n",
       "      <td>51776</td>\n",
       "      <td>131.253.61.68</td>\n",
       "      <td>443.0</td>\n",
       "      <td>6.0</td>\n",
       "      <td>13/06/2017 11:52:42</td>\n",
       "      <td>19890496</td>\n",
       "      <td>8</td>\n",
       "      <td>6</td>\n",
       "      <td>...</td>\n",
       "      <td>20.0</td>\n",
       "      <td>0.0</td>\n",
       "      <td>0.0</td>\n",
       "      <td>0.0</td>\n",
       "      <td>0.0</td>\n",
       "      <td>0.0</td>\n",
       "      <td>0.0</td>\n",
       "      <td>0.0</td>\n",
       "      <td>0.0</td>\n",
       "      <td>Android_Adware</td>\n",
       "    </tr>\n",
       "  </tbody>\n",
       "</table>\n",
       "<p>5 rows × 85 columns</p>\n",
       "</div>"
      ],
      "text/plain": [
       "                                 Flow ID    Source IP  Source Port  \\\n",
       "0  172.217.6.202-10.42.0.211-443-50004-6  10.42.0.211        50004   \n",
       "1  172.217.6.202-10.42.0.211-443-35455-6  10.42.0.211        35455   \n",
       "2  131.253.61.68-10.42.0.211-443-51775-6  10.42.0.211        51775   \n",
       "3  131.253.61.68-10.42.0.211-443-51775-6  10.42.0.211        51775   \n",
       "4  131.253.61.68-10.42.0.211-443-51776-6  10.42.0.211        51776   \n",
       "\n",
       "  Destination IP  Destination Port  Protocol            Timestamp  \\\n",
       "0  172.217.6.202             443.0       6.0  13/06/2017 11:52:39   \n",
       "1  172.217.6.202             443.0       6.0  13/06/2017 11:52:39   \n",
       "2  131.253.61.68             443.0       6.0  13/06/2017 11:52:42   \n",
       "3  131.253.61.68             443.0       6.0  13/06/2017 11:52:43   \n",
       "4  131.253.61.68             443.0       6.0  13/06/2017 11:52:42   \n",
       "\n",
       "   Flow Duration  Total Fwd Packets  Total Backward Packets  ...  \\\n",
       "0          37027                  1                       1  ...   \n",
       "1          36653                  1                       1  ...   \n",
       "2         534099                  8                      12  ...   \n",
       "3           9309                  3                       0  ...   \n",
       "4       19890496                  8                       6  ...   \n",
       "\n",
       "   min_seg_size_forward  Active Mean  Active Std  Active Max  Active Min  \\\n",
       "0                  32.0          0.0         0.0         0.0         0.0   \n",
       "1                  32.0          0.0         0.0         0.0         0.0   \n",
       "2                  20.0          0.0         0.0         0.0         0.0   \n",
       "3                  20.0          0.0         0.0         0.0         0.0   \n",
       "4                  20.0          0.0         0.0         0.0         0.0   \n",
       "\n",
       "   Idle Mean  Idle Std  Idle Max  Idle Min           Label  \n",
       "0        0.0       0.0       0.0       0.0  Android_Adware  \n",
       "1        0.0       0.0       0.0       0.0  Android_Adware  \n",
       "2        0.0       0.0       0.0       0.0  Android_Adware  \n",
       "3        0.0       0.0       0.0       0.0  Android_Adware  \n",
       "4        0.0       0.0       0.0       0.0  Android_Adware  \n",
       "\n",
       "[5 rows x 85 columns]"
      ]
     },
     "execution_count": 3,
     "metadata": {},
     "output_type": "execute_result"
    }
   ],
   "source": [
    "data = pandas.read_csv((DATA_FOLDER / \"Android_Malware.csv\"), index_col=0, delimiter=\",\", dtype={\n",
    "    \"Flow ID\": str,\n",
    "    \"Source IP\": str,\n",
    "    \"Source Port\": int,\n",
    "    \"Destination IP\": str,\n",
    "    \"Destination Port\": int,\n",
    "    \"Protocol\": float,\n",
    "    \"Timestamp\": str,\n",
    "    \"Flow Duration\": float,\n",
    "    \"Total Fwd Packets\": float,\n",
    "    \"Total Backward Packets\": float,\n",
    "    \"Total Length of Fwd Packets\": float,\n",
    "    \"Total Length of Bwd Packets\": float,\n",
    "    \"Fwd Packet Length Max\": float,\n",
    "    \"Fwd Packet Length Min\": float,\n",
    "    \"Fwd Packet Length Mean\": float,\n",
    "    \"Fwd Packet Length Std\": float,\n",
    "    \"Bwd Packet Length Max\": float,\n",
    "    \"Bwd Packet Length Min\": float,\n",
    "    \"Bwd Packet Length Mean\": float,\n",
    "    \"Bwd Packet Length Std\": float,\n",
    "    \"Flow Bytes/s\": float,\n",
    "    \"Flow Packets/s\": float,\n",
    "    \"Flow IAT Mean\": float,\n",
    "    \"Flow IAT Std\": float,\n",
    "    \"Flow IAT Max\": float,\n",
    "    \"Flow IAT Min\": float,\n",
    "    \"Fwd IAT Total\": float,\n",
    "    \"Fwd IAT Mean\": float,\n",
    "    \"Fwd IAT Std\": float,\n",
    "    \"Fwd IAT Max\": float,\n",
    "    \"Fwd IAT Min\": float,\n",
    "    \"Bwd IAT Total\": float,\n",
    "    \"Bwd IAT Mean\": float,\n",
    "    \"Bwd IAT Std\": float,\n",
    "    \"Bwd IAT Max\": float,\n",
    "    \"Bwd IAT Min\": float,\n",
    "    \"Fwd PSH Flags\": float,\n",
    "    \"Bwd PSH Flags\": float,\n",
    "    \"Fwd URG Flags\": float,\n",
    "    \"Bwd URG Flags\": float,\n",
    "    \"Fwd Header Length\": float,\n",
    "    \"Bwd Header Length\": float,\n",
    "    \"Fwd Packets/s\": float,\n",
    "    \"Bwd Packets/s\": float,\n",
    "    \"Min Packet Length\": float,\n",
    "    \"Max Packet Length\": float,\n",
    "    \"Packet Length Mean\": float,\n",
    "    \"Packet Length Std\": float,\n",
    "    \"Packet Length Variance\": float,\n",
    "    \"FIN Flag Count\": float,\n",
    "    \"SYN Flag Count\": float,\n",
    "    \"RST Flag Count\": float,\n",
    "    \"PSH Flag Count\": float,\n",
    "    \"ACK Flag Count\": float,\n",
    "    \"URG Flag Count\": float,\n",
    "    \"CWE Flag Count\": \"object\",  # Change later\n",
    "    \"ECE Flag Count\": float,\n",
    "    \"Down/Up Ratio\": \"object\",  # Change later\n",
    "    \"Average Packet Size\": float,\n",
    "    \"Avg Fwd Segment Size\": float,\n",
    "    \"Avg Bwd Segment Size\": float,\n",
    "    \"Fwd Header Length.1\": float,\n",
    "    \"Fwd Avg Bytes/Bulk\": \"object\",  # Change later\n",
    "    \"Fwd Avg Packets/Bulk\": float,\n",
    "    \"Fwd Avg Bulk Rate\": float,\n",
    "    \"Bwd Avg Bytes/Bulk\": float,\n",
    "    \"Bwd Avg Packets/Bulk\": float,\n",
    "    \"Bwd Avg Bulk Rate\": float,\n",
    "    \"Subflow Fwd Packets\": float,\n",
    "    \"Subflow Fwd Bytes\": float,\n",
    "    \"Subflow Bwd Packets\": float,\n",
    "    \"Subflow Bwd Bytes\": float,\n",
    "    \"Init_Win_bytes_forward\": float,\n",
    "    \"Init_Win_bytes_backward\": float,\n",
    "    \"act_data_pkt_fwd\": float,\n",
    "    \"min_seg_size_forward\": float,\n",
    "    \"Active Mean\": float,\n",
    "    \"Active Std\": float,\n",
    "    \"Active Max\": float,\n",
    "    \"Active Min\": float,\n",
    "    \"Idle Mean\": float,\n",
    "    \"Idle Std\": float,\n",
    "    \"Idle Max\": float,\n",
    "    \"Idle Min\": float,\n",
    "    \"Label\": str\n",
    "})\n",
    "data.columns = data.columns.str.strip()\n",
    "print(f\"{data.shape[0]} rows, {data.shape[1]} columns\")\n",
    "data.head(n=5)"
   ]
  },
  {
   "cell_type": "markdown",
   "id": "3a9210ca-4a6b-488b-944c-3a20264c4423",
   "metadata": {},
   "source": [
    "Duplicated values"
   ]
  },
  {
   "cell_type": "code",
   "execution_count": 4,
   "id": "1a11af94-eea9-4728-b3fd-603325e6843f",
   "metadata": {
    "tags": []
   },
   "outputs": [
    {
     "name": "stdout",
     "output_type": "stream",
     "text": [
      "\u001B[1mDuplicated values:\u001B[0m 2885 (0.01%)\n",
      "                                    Flow ID       Source IP  Source Port  \\\n",
      "90    203.205.158.60-10.42.0.211-80-48574-6  203.205.158.60           80   \n",
      "94    10.42.0.211-111.206.25.159-33521-80-6  111.206.25.159           80   \n",
      "438   10.42.0.211-106.39.169.66-38659-443-6     10.42.0.211        38659   \n",
      "475    10.42.0.211-119.146.74.34-36805-80-6   119.146.74.34           80   \n",
      "476    10.42.0.211-119.146.74.48-33523-80-6   119.146.74.48           80   \n",
      "..                                      ...             ...          ...   \n",
      "406   10.42.0.211-118.178.143.65-50070-80-6     10.42.0.211        50070   \n",
      "407    140.205.61.26-10.42.0.211-80-47648-6     10.42.0.211        47648   \n",
      "408    140.205.61.26-10.42.0.211-80-47648-6     10.42.0.211        47648   \n",
      "409   10.42.0.211-121.41.62.82-44183-1088-6     10.42.0.211        44183   \n",
      "410  10.42.0.211-101.37.105.10-48779-6880-6     10.42.0.211        48779   \n",
      "\n",
      "     Destination IP  Destination Port  Protocol            Timestamp  \\\n",
      "90      10.42.0.211           48574.0       6.0  27/06/2017 02:23:49   \n",
      "94      10.42.0.211           33521.0       6.0  27/06/2017 02:23:49   \n",
      "438   106.39.169.66             443.0       6.0  27/06/2017 02:29:27   \n",
      "475     10.42.0.211           36805.0       6.0  27/06/2017 02:29:30   \n",
      "476     10.42.0.211           33523.0       6.0  27/06/2017 02:29:30   \n",
      "..              ...               ...       ...                  ...   \n",
      "406  118.178.143.65              80.0       6.0  30/06/2017 02:48:06   \n",
      "407   140.205.61.26              80.0       6.0  30/06/2017 02:48:17   \n",
      "408   140.205.61.26              80.0       6.0  30/06/2017 02:48:18   \n",
      "409    121.41.62.82            1088.0       6.0  30/06/2017 02:48:17   \n",
      "410   101.37.105.10            6880.0       6.0  30/06/2017 02:48:21   \n",
      "\n",
      "     Flow Duration  Total Fwd Packets  Total Backward Packets  ...  \\\n",
      "90               4                  2                       0  ...   \n",
      "94               8                  2                       0  ...   \n",
      "438              5                  2                       0  ...   \n",
      "475             10                  2                       0  ...   \n",
      "476              8                  2                       0  ...   \n",
      "..             ...                ...                     ...  ...   \n",
      "406        8769698                  4                       4  ...   \n",
      "407         892843                  5                       6  ...   \n",
      "408            109                  2                       0  ...   \n",
      "409       12192623                  2                       0  ...   \n",
      "410       16057007                  2                       0  ...   \n",
      "\n",
      "     min_seg_size_forward  Active Mean  Active Std  Active Max  Active Min  \\\n",
      "90                   32.0          0.0         0.0         0.0         0.0   \n",
      "94                   20.0          0.0         0.0         0.0         0.0   \n",
      "438                  20.0          0.0         0.0         0.0         0.0   \n",
      "475                  20.0          0.0         0.0         0.0         0.0   \n",
      "476                  20.0          0.0         0.0         0.0         0.0   \n",
      "..                    ...          ...         ...         ...         ...   \n",
      "406                  32.0          0.0         0.0         0.0         0.0   \n",
      "407                  20.0          0.0         0.0         0.0         0.0   \n",
      "408                  20.0          0.0         0.0         0.0         0.0   \n",
      "409                  32.0          0.0         0.0         0.0         0.0   \n",
      "410                  20.0          0.0         0.0         0.0         0.0   \n",
      "\n",
      "     Idle Mean  Idle Std  Idle Max  Idle Min                Label  \n",
      "90         0.0       0.0       0.0       0.0    Android_Scareware  \n",
      "94         0.0       0.0       0.0       0.0    Android_Scareware  \n",
      "438        0.0       0.0       0.0       0.0    Android_Scareware  \n",
      "475        0.0       0.0       0.0       0.0    Android_Scareware  \n",
      "476        0.0       0.0       0.0       0.0    Android_Scareware  \n",
      "..         ...       ...       ...       ...                  ...  \n",
      "406        0.0       0.0       0.0       0.0  Android_SMS_Malware  \n",
      "407        0.0       0.0       0.0       0.0  Android_SMS_Malware  \n",
      "408        0.0       0.0       0.0       0.0  Android_SMS_Malware  \n",
      "409        0.0       0.0       0.0       0.0  Android_SMS_Malware  \n",
      "410        0.0       0.0       0.0       0.0  Android_SMS_Malware  \n",
      "\n",
      "[5770 rows x 85 columns]\n"
     ]
    }
   ],
   "source": [
    "def duplicated_values(df, df_name: str = None) -> None:\n",
    "    # Compute the dataset size, the count of duplicated value and the list of duplicated values\n",
    "    data_count = df.shape[0] * df.shape[1]\n",
    "    duplicated_count = df.duplicated().sum()\n",
    "    duplicated = df[df.duplicated(keep=False)] if (duplicated_count > 0) else None\n",
    "\n",
    "    # Show the result\n",
    "    df_name = f\" ({df_name})\" if df_name is not None else \"\"\n",
    "    print(f\"{Style.BRIGHT}Duplicated values{df_name}:{Style.RESET_ALL} {duplicated_count} ({round((duplicated_count.sum() / data_count) * 100, 2)}%)\")\n",
    "    if duplicated is not None:\n",
    "        print(duplicated)\n",
    "\n",
    "\n",
    "duplicated_values(df=data)"
   ]
  },
  {
   "cell_type": "code",
   "execution_count": 5,
   "id": "35595234-bfd2-45b5-ae2e-13495690e8ca",
   "metadata": {
    "tags": []
   },
   "outputs": [
    {
     "name": "stdout",
     "output_type": "stream",
     "text": [
      "\u001B[1mDuplicated values:\u001B[0m 0 (0.0%)\n"
     ]
    }
   ],
   "source": [
    "data.drop_duplicates(keep=\"first\", inplace=True)\n",
    "duplicated_values(df=data)"
   ]
  },
  {
   "cell_type": "markdown",
   "id": "480e0d3d-1318-419b-b9ec-f8e59bfcd012",
   "metadata": {},
   "source": [
    "Null and empty values"
   ]
  },
  {
   "cell_type": "code",
   "execution_count": 6,
   "id": "ca0f75c2-be6a-4ebd-8727-70999ffc099b",
   "metadata": {
    "tags": []
   },
   "outputs": [
    {
     "name": "stdout",
     "output_type": "stream",
     "text": [
      "\u001B[1mMissing values:\u001B[0m 0.0%\n",
      "\u001B[2m\u001B[37mFwd Avg Packets/Bulk       4 (0.0%)\n",
      "Fwd Avg Bulk Rate          4 (0.0%)\n",
      "Bwd Avg Packets/Bulk       4 (0.0%)\n",
      "Bwd Avg Bulk Rate          4 (0.0%)\n",
      "Subflow Fwd Packets        4 (0.0%)\n",
      "Subflow Fwd Bytes          4 (0.0%)\n",
      "Subflow Bwd Packets        4 (0.0%)\n",
      "Subflow Bwd Bytes          4 (0.0%)\n",
      "Init_Win_bytes_forward     4 (0.0%)\n",
      "Init_Win_bytes_backward    4 (0.0%)\n",
      "act_data_pkt_fwd           4 (0.0%)\n",
      "min_seg_size_forward       4 (0.0%)\n",
      "Active Mean                4 (0.0%)\n",
      "Active Std                 4 (0.0%)\n",
      "Active Max                 4 (0.0%)\n",
      "Active Min                 4 (0.0%)\n",
      "Idle Mean                  4 (0.0%)\n",
      "Idle Std                   4 (0.0%)\n",
      "Idle Max                   4 (0.0%)\n",
      "Bwd Avg Bytes/Bulk         4 (0.0%)\n",
      "Idle Min                   4 (0.0%)\n",
      "Fwd Header Length.1        3 (0.0%)\n",
      "Avg Bwd Segment Size       3 (0.0%)\n",
      "Avg Fwd Segment Size       3 (0.0%)\n",
      "Average Packet Size        3 (0.0%)\n",
      "Fwd Avg Bytes/Bulk         3 (0.0%)\n",
      "Down/Up Ratio              2 (0.0%)\n",
      "ECE Flag Count             2 (0.0%)\n",
      "Bwd Packets/s              1 (0.0%)\n",
      "FIN Flag Count             1 (0.0%)\n",
      "Min Packet Length          1 (0.0%)\n",
      "Max Packet Length          1 (0.0%)\n",
      "Packet Length Mean         1 (0.0%)\n",
      "Packet Length Std          1 (0.0%)\n",
      "Packet Length Variance     1 (0.0%)\n",
      "ACK Flag Count             1 (0.0%)\n",
      "SYN Flag Count             1 (0.0%)\n",
      "RST Flag Count             1 (0.0%)\n",
      "PSH Flag Count             1 (0.0%)\n",
      "URG Flag Count             1 (0.0%)\n",
      "CWE Flag Count             1 (0.0%)\n",
      "Flow ID                    1 (0.0%)\n",
      "dtype: object\u001B[0m\n"
     ]
    }
   ],
   "source": [
    "def missing_values(df, df_name: str = None, keep_zeros=True) -> None:\n",
    "    # Compute the dataset size and the count of missing value\n",
    "    data_count = df.shape[0] * df.shape[1]\n",
    "    missing = missing_df = df.isna().sum()\n",
    "\n",
    "    # Filter out column with zero missing value\n",
    "    if not keep_zeros:\n",
    "        missing_df = missing_df[missing_df > 0]\n",
    "\n",
    "    # Calculate the percent of missing values\n",
    "    missing_df = missing_df.sort_values(ascending=False).apply(lambda m: f\"{m} ({round((m * 100) / df.shape[0], 2)}%)\")\n",
    "\n",
    "    # Show the result\n",
    "    df_name = f\" ({df_name})\" if df_name is not None else \"\"\n",
    "    print((\n",
    "        f\"{Style.BRIGHT}Missing values{df_name}:{Style.RESET_ALL} {round((missing.sum() / data_count) * 100, 2)}%\\n\"\n",
    "        f\"{Style.DIM}{Fore.WHITE}{missing_df}{Style.RESET_ALL}\"\n",
    "    ))\n",
    "\n",
    "\n",
    "missing_values(df=data, keep_zeros=False)"
   ]
  },
  {
   "cell_type": "code",
   "execution_count": 7,
   "id": "1e572f5b-ce38-4b1b-85d7-f30030a5130e",
   "metadata": {
    "tags": []
   },
   "outputs": [
    {
     "name": "stdout",
     "output_type": "stream",
     "text": [
      "\u001B[1mMissing values:\u001B[0m 0.0%\n",
      "\u001B[2m\u001B[37mSeries([], dtype: int64)\u001B[0m\n"
     ]
    }
   ],
   "source": [
    "data.dropna(inplace=True)\n",
    "missing_values(df=data, keep_zeros=False)"
   ]
  },
  {
   "cell_type": "markdown",
   "id": "31bae6ed-863a-4cf9-8295-9ca4ff83985a",
   "metadata": {},
   "source": [
    "Clean columns with invalid type"
   ]
  },
  {
   "cell_type": "code",
   "execution_count": 8,
   "id": "70aa2103-5076-496c-815c-363bee987721",
   "metadata": {
    "tags": []
   },
   "outputs": [
    {
     "data": {
      "text/plain": [
       "0    1.0\n",
       "Name: CWE Flag Count, dtype: float64"
      ]
     },
     "execution_count": 8,
     "metadata": {},
     "output_type": "execute_result"
    }
   ],
   "source": [
    "data.drop(data.loc[data[\"CWE Flag Count\"] == \"SCAREWARE\"].index, inplace=True)\n",
    "data[\"CWE Flag Count\"] = data[\"CWE Flag Count\"].astype(int)\n",
    "data[\"CWE Flag Count\"].value_counts(normalize=True)"
   ]
  },
  {
   "cell_type": "code",
   "execution_count": 9,
   "id": "3d7b0173-2a44-478b-8c3f-fdb8b1eb30c1",
   "metadata": {
    "tags": []
   },
   "outputs": [
    {
     "data": {
      "text/plain": [
       "0.0    1.0\n",
       "Name: Fwd Avg Bytes/Bulk, dtype: float64"
      ]
     },
     "execution_count": 9,
     "metadata": {},
     "output_type": "execute_result"
    }
   ],
   "source": [
    "data.drop(data.loc[data[\"Fwd Avg Bytes/Bulk\"] == \"BENIGN\"].index, inplace=True)\n",
    "data[\"Fwd Avg Bytes/Bulk\"] = data[\"Fwd Avg Bytes/Bulk\"].astype(float)\n",
    "data[\"Fwd Avg Bytes/Bulk\"].value_counts(normalize=True)"
   ]
  },
  {
   "cell_type": "code",
   "execution_count": 10,
   "id": "b2dab587-9f8f-4ca3-8561-afff59b2d725",
   "metadata": {
    "tags": []
   },
   "outputs": [
    {
     "data": {
      "text/plain": [
       "0.0     0.491565\n",
       "1.0     0.474189\n",
       "2.0     0.025262\n",
       "3.0     0.006668\n",
       "4.0     0.001434\n",
       "5.0     0.000405\n",
       "6.0     0.000150\n",
       "8.0     0.000125\n",
       "7.0     0.000099\n",
       "12.0    0.000037\n",
       "9.0     0.000023\n",
       "10.0    0.000020\n",
       "11.0    0.000020\n",
       "75.0    0.000003\n",
       "Name: Down/Up Ratio, dtype: float64"
      ]
     },
     "execution_count": 10,
     "metadata": {},
     "output_type": "execute_result"
    }
   ],
   "source": [
    "data.drop(data.loc[data[\"Down/Up Ratio\"] == \"BENIGN\"].index, inplace=True)\n",
    "data[\"Down/Up Ratio\"] = data[\"Down/Up Ratio\"].astype(float)\n",
    "data[\"Down/Up Ratio\"].value_counts(normalize=True)"
   ]
  },
  {
   "cell_type": "markdown",
   "id": "4890c888-24aa-4821-b4ab-9ddfee8a3152",
   "metadata": {},
   "source": [
    "Distribution of Y label"
   ]
  },
  {
   "cell_type": "code",
   "execution_count": 11,
   "id": "0453b2de-25f4-4b5b-b0c0-2369ae229997",
   "metadata": {
    "tags": []
   },
   "outputs": [
    {
     "data": {
      "image/png": "[encoded data removed]",
      "text/plain": [
       "<Figure size 640x480 with 1 Axes>"
      ]
     },
     "metadata": {},
     "output_type": "display_data"
    }
   ],
   "source": [
    "data[\"Label\"].value_counts().plot(kind=\"pie\")\n",
    "pyplot.ylabel(\"\")\n",
    "pyplot.show()"
   ]
  },
  {
   "cell_type": "markdown",
   "id": "4a03e785-bcca-45e6-8ed3-327ddbdb3fee",
   "metadata": {},
   "source": [
    "Profiler"
   ]
  },
  {
   "cell_type": "code",
   "execution_count": 12,
   "id": "ea89bad6-0e90-4e7a-9908-92785aec8c20",
   "metadata": {},
   "outputs": [],
   "source": [
    "# results = ProfileReport(data_android.head(20000), title=\"Android Malware Pandas Profiling Report\")\n",
    "# results.to_file('report.html')"
   ]
  },
  {
   "cell_type": "markdown",
   "id": "31716c78-da9f-420a-9c72-34fce260492c",
   "metadata": {},
   "source": [
    "Save dataset"
   ]
  },
  {
   "cell_type": "code",
   "execution_count": 13,
   "id": "2535979b-3c60-48c4-bdd7-33e85ba259be",
   "metadata": {
    "tags": []
   },
   "outputs": [],
   "source": [
    "data.to_csv((DATA_FOLDER / \"Android_Malware_cleaned.csv\"), sep=\",\", index=False, mode=\"w\")"
   ]
  },
  {
   "cell_type": "code",
   "execution_count": 26,
   "outputs": [
    {
     "data": {
      "text/plain": "{'Source IP': '10.42.0.211',\n 'Source Port': 50004,\n 'Destination IP': '172.217.6.202',\n 'Destination Port': 443.0,\n 'Protocol': 6.0,\n 'Timestamp': '13/06/2017 11:52:39',\n 'Flow Duration': 37027,\n 'Total Fwd Packets': 1,\n 'Total Backward Packets': 1,\n 'Total Length of Fwd Packets': 0.0,\n 'Total Length of Bwd Packets': 0.0,\n 'Fwd Packet Length Max': 0.0,\n 'Fwd Packet Length Min': 0.0,\n 'Fwd Packet Length Mean': 0.0,\n 'Fwd Packet Length Std': 0.0,\n 'Bwd Packet Length Max': 0.0,\n 'Bwd Packet Length Min': 0.0,\n 'Bwd Packet Length Mean': 0.0,\n 'Bwd Packet Length Std': 0.0,\n 'Flow Bytes/s': 0.0,\n 'Flow Packets/s': 54.01463796688903,\n 'Flow IAT Mean': 37027.0,\n 'Flow IAT Std': 0.0,\n 'Flow IAT Max': 37027.0,\n 'Flow IAT Min': 37027.0,\n 'Fwd IAT Total': 0.0,\n 'Fwd IAT Mean': 0.0,\n 'Fwd IAT Std': 0.0,\n 'Fwd IAT Max': 0.0,\n 'Fwd IAT Min': 0.0,\n 'Bwd IAT Total': 0.0,\n 'Bwd IAT Mean': 0.0,\n 'Bwd IAT Std': 0.0,\n 'Bwd IAT Max': 0.0,\n 'Bwd IAT Min': 0.0,\n 'Fwd PSH Flags': 0.0,\n 'Bwd PSH Flags': 0.0,\n 'Fwd URG Flags': 0,\n 'Bwd URG Flags': 0,\n 'Fwd Header Length': 32,\n 'Bwd Header Length': 32,\n 'Fwd Packets/s': 27.00731898344452,\n 'Bwd Packets/s': 27.00731898344452,\n 'Min Packet Length': 0.0,\n 'Max Packet Length': 0.0,\n 'Packet Length Mean': 0.0,\n 'Packet Length Std': 0.0,\n 'Packet Length Variance': 0.0,\n 'FIN Flag Count': 0.0,\n 'SYN Flag Count': 0.0,\n 'RST Flag Count': 0.0,\n 'PSH Flag Count': 0.0,\n 'ACK Flag Count': 1.0,\n 'URG Flag Count': 1.0,\n 'CWE Flag Count': 0,\n 'ECE Flag Count': 0.0,\n 'Down/Up Ratio': 1.0,\n 'Average Packet Size': 0.0,\n 'Avg Fwd Segment Size': 0.0,\n 'Avg Bwd Segment Size': 0.0,\n 'Fwd Header Length.1': 32.0,\n 'Fwd Avg Bytes/Bulk': 0.0,\n 'Fwd Avg Packets/Bulk': 0.0,\n 'Fwd Avg Bulk Rate': 0.0,\n 'Bwd Avg Bytes/Bulk': 0.0,\n 'Bwd Avg Packets/Bulk': 0.0,\n 'Bwd Avg Bulk Rate': 0.0,\n 'Subflow Fwd Packets': 1.0,\n 'Subflow Fwd Bytes': 0.0,\n 'Subflow Bwd Packets': 1.0,\n 'Subflow Bwd Bytes': 0.0,\n 'Init_Win_bytes_forward': 2994.0,\n 'Init_Win_bytes_backward': 362.0,\n 'act_data_pkt_fwd': 0.0,\n 'min_seg_size_forward': 32.0,\n 'Active Mean': 0.0,\n 'Active Std': 0.0,\n 'Active Max': 0.0,\n 'Active Min': 0.0,\n 'Idle Mean': 0.0,\n 'Idle Std': 0.0,\n 'Idle Max': 0.0,\n 'Idle Min': 0.0}"
     },
     "execution_count": 26,
     "metadata": {},
     "output_type": "execute_result"
    }
   ],
   "source": [
    "payload = data.iloc[0].drop([\"Flow ID\", \"Label\"]).to_dict()\n",
    "payload"
   ],
   "metadata": {
    "collapsed": false
   }
  },
  {
   "cell_type": "code",
   "execution_count": 61,
   "outputs": [],
   "source": [
    "from sklearn.compose import ColumnTransformer\n",
    "from sklearn.preprocessing import StandardScaler, OneHotEncoder\n",
    "from sklearn.impute import SimpleImputer\n",
    "from sklearn.pipeline import Pipeline\n",
    "\n",
    "numeric_transformer = Pipeline(steps=[\n",
    "    (\"imputer\", SimpleImputer(strategy=\"mean\")),\n",
    "    (\"scaler\", StandardScaler())\n",
    "])\n",
    "categorical_transformer = Pipeline(steps=[\n",
    "    (\"imputer\", SimpleImputer(strategy=\"constant\")),\n",
    "    (\"encoder\", OneHotEncoder(handle_unknown=\"ignore\"))\n",
    "])\n",
    "\n",
    "\n",
    "numeric_features = [\"Source Port\", \"Destination Port\", \"Protocol\", \"Flow Duration\", \"Total Fwd Packets\", \"Total Backward Packets\", \"Total Length of Fwd Packets\", \"Total Length of Bwd Packets\", \"Fwd Packet Length Max\", \"Fwd Packet Length Min\", \"Fwd Packet Length Mean\", \"Fwd Packet Length Std\", \"Bwd Packet Length Max\", \"Bwd Packet Length Min\", \"Bwd Packet Length Mean\", \"Bwd Packet Length Std\", \"Flow Bytes/s\", \"Flow Packets/s\", \"Flow IAT Mean\", \"Flow IAT Std\", \"Flow IAT Max\", \"Flow IAT Min\", \"Fwd IAT Total\", \"Fwd IAT Mean\", \"Fwd IAT Std\", \"Fwd IAT Max\", \"Fwd IAT Min\", \"Bwd IAT Total\", \"Bwd IAT Mean\", \"Bwd IAT Std\", \"Bwd IAT Max\", \"Bwd IAT Min\", \"Fwd PSH Flags\", \"Bwd PSH Flags\", \"Fwd URG Flags\", \"Bwd URG Flags\", \"Fwd Header Length\", \"Bwd Header Length\", \"Fwd Packets/s\", \"Bwd Packets/s\", \"Min Packet Length\", \"Max Packet Length\", \"Packet Length Mean\", \"Packet Length Std\", \"Packet Length Variance\", \"FIN Flag Count\", \"SYN Flag Count\", \"RST Flag Count\", \"PSH Flag Count\", \"ACK Flag Count\", \"URG Flag Count\", \"CWE Flag Count\", \"ECE Flag Count\", \"Down/Up Ratio\", \"Average Packet Size\", \"Avg Fwd Segment Size\", \"Avg Bwd Segment Size\", \"Fwd Header Length.1\", \"Fwd Avg Bytes/Bulk\", \"Fwd Avg Packets/Bulk\", \"Fwd Avg Bulk Rate\", \"Bwd Avg Bytes/Bulk\", \"Bwd Avg Packets/Bulk\", \"Bwd Avg Bulk Rate\", \"Subflow Fwd Packets\", \"Subflow Fwd Bytes\", \"Subflow Bwd Packets\", \"Subflow Bwd Bytes\", \"Init_Win_bytes_forward\", \"Init_Win_bytes_backward\", \"act_data_pkt_fwd\", \"min_seg_size_forward\", \"Active Mean\", \"Active Std\", \"Active Max\", \"Active Min\", \"Idle Mean\", \"Idle Std\", \"Idle Max\", \"Idle Min\"]\n",
    "categorical_features = [\"Source IP\", \"Destination IP\", \"Timestamp\"]\n",
    "\n",
    "preprocessor = ColumnTransformer(\n",
    "    transformers=[\n",
    "        (\"numeric\", numeric_transformer, numeric_features),\n",
    "        (\"categorical\", categorical_transformer, categorical_features),\n",
    "    ]\n",
    ")\n",
    "# preprocessor.fit_transform(data_x)"
   ],
   "metadata": {
    "collapsed": false
   }
  },
  {
   "cell_type": "code",
   "execution_count": 36,
   "outputs": [
    {
     "data": {
      "text/plain": "     Source IP  Source Port Destination IP  Destination Port  Protocol  \\\n0  10.42.0.211        50004  172.217.6.202             443.0       6.0   \n\n             Timestamp  Flow Duration  Total Fwd Packets  \\\n0  13/06/2017 11:52:39          37027                  1   \n\n   Total Backward Packets  Total Length of Fwd Packets  ...  act_data_pkt_fwd  \\\n0                       1                          0.0  ...               0.0   \n\n   min_seg_size_forward  Active Mean  Active Std  Active Max  Active Min  \\\n0                  32.0          0.0         0.0         0.0         0.0   \n\n   Idle Mean  Idle Std  Idle Max  Idle Min  \n0        0.0       0.0       0.0       0.0  \n\n[1 rows x 83 columns]",
      "text/html": "<div>\n<style scoped>\n    .dataframe tbody tr th:only-of-type {\n        vertical-align: middle;\n    }\n\n    .dataframe tbody tr th {\n        vertical-align: top;\n    }\n\n    .dataframe thead th {\n        text-align: right;\n    }\n</style>\n<table border=\"1\" class=\"dataframe\">\n  <thead>\n    <tr style=\"text-align: right;\">\n      <th></th>\n      <th>Source IP</th>\n      <th>Source Port</th>\n      <th>Destination IP</th>\n      <th>Destination Port</th>\n      <th>Protocol</th>\n      <th>Timestamp</th>\n      <th>Flow Duration</th>\n      <th>Total Fwd Packets</th>\n      <th>Total Backward Packets</th>\n      <th>Total Length of Fwd Packets</th>\n      <th>...</th>\n      <th>act_data_pkt_fwd</th>\n      <th>min_seg_size_forward</th>\n      <th>Active Mean</th>\n      <th>Active Std</th>\n      <th>Active Max</th>\n      <th>Active Min</th>\n      <th>Idle Mean</th>\n      <th>Idle Std</th>\n      <th>Idle Max</th>\n      <th>Idle Min</th>\n    </tr>\n  </thead>\n  <tbody>\n    <tr>\n      <th>0</th>\n      <td>10.42.0.211</td>\n      <td>50004</td>\n      <td>172.217.6.202</td>\n      <td>443.0</td>\n      <td>6.0</td>\n      <td>13/06/2017 11:52:39</td>\n      <td>37027</td>\n      <td>1</td>\n      <td>1</td>\n      <td>0.0</td>\n      <td>...</td>\n      <td>0.0</td>\n      <td>32.0</td>\n      <td>0.0</td>\n      <td>0.0</td>\n      <td>0.0</td>\n      <td>0.0</td>\n      <td>0.0</td>\n      <td>0.0</td>\n      <td>0.0</td>\n      <td>0.0</td>\n    </tr>\n  </tbody>\n</table>\n<p>1 rows × 83 columns</p>\n</div>"
     },
     "execution_count": 36,
     "metadata": {},
     "output_type": "execute_result"
    }
   ],
   "source": [],
   "metadata": {
    "collapsed": false
   }
  },
  {
   "cell_type": "code",
   "execution_count": 62,
   "outputs": [
    {
     "data": {
      "text/plain": "array([[0., 0., 0., 0., 0., 0., 0., 0., 0., 0., 0., 0., 0., 0., 0., 0.,\n        0., 0., 0., 0., 0., 0., 0., 0., 0., 0., 0., 0., 0., 0., 0., 0.,\n        0., 0., 0., 0., 0., 0., 0., 0., 0., 0., 0., 0., 0., 0., 0., 0.,\n        0., 0., 0., 0., 0., 0., 0., 0., 0., 0., 0., 0., 0., 0., 0., 0.,\n        0., 0., 0., 0., 0., 0., 0., 0., 0., 0., 0., 0., 0., 0., 0., 0.,\n        1., 1., 1.]])"
     },
     "execution_count": 62,
     "metadata": {},
     "output_type": "execute_result"
    }
   ],
   "source": [
    "payload_2 = preprocessor.fit_transform(pandas.DataFrame([payload]))\n",
    "payload_2"
   ],
   "metadata": {
    "collapsed": false
   }
  },
  {
   "cell_type": "code",
   "execution_count": 59,
   "outputs": [],
   "source": [
    "from sklearn.model_selection import train_test_split\n",
    "\n",
    "data2 = data.sample(n=5000)\n",
    "data_x = data2.drop([\"Label\", \"Flow ID\"], axis=1)\n",
    "data_y = data2[\"Label\"]\n",
    "\n",
    "x_train, x_test, y_train, y_test = train_test_split(data_x, data_y, test_size=0.20)"
   ],
   "metadata": {
    "collapsed": false
   }
  },
  {
   "cell_type": "code",
   "execution_count": 63,
   "outputs": [
    {
     "data": {
      "text/plain": "Pipeline(steps=[('preprocessor',\n                 ColumnTransformer(transformers=[('numeric',\n                                                  Pipeline(steps=[('imputer',\n                                                                   SimpleImputer()),\n                                                                  ('scaler',\n                                                                   StandardScaler())]),\n                                                  ['Source Port',\n                                                   'Destination Port',\n                                                   'Protocol', 'Flow Duration',\n                                                   'Total Fwd Packets',\n                                                   'Total Backward Packets',\n                                                   'Total Length of Fwd '\n                                                   'Packets',\n                                                   'Total Length of Bwd '\n                                                   'Packets',\n                                                   'Fwd Packet Length Max',\n                                                   'Fwd Packet Length Min',\n                                                   'Fwd...\n                                                   'Flow IAT Max',\n                                                   'Flow IAT Min',\n                                                   'Fwd IAT Total',\n                                                   'Fwd IAT Mean',\n                                                   'Fwd IAT Std', 'Fwd IAT Max',\n                                                   'Fwd IAT Min',\n                                                   'Bwd IAT Total',\n                                                   'Bwd IAT Mean',\n                                                   'Bwd IAT Std', ...]),\n                                                 ('categorical',\n                                                  Pipeline(steps=[('imputer',\n                                                                   SimpleImputer(strategy='constant')),\n                                                                  ('encoder',\n                                                                   OneHotEncoder(handle_unknown='ignore'))]),\n                                                  ['Source IP',\n                                                   'Destination IP',\n                                                   'Timestamp'])])),\n                ('k_neighbors_classifier', KNeighborsClassifier())])",
      "text/html": "<style>#sk-container-id-3 {color: black;background-color: white;}#sk-container-id-3 pre{padding: 0;}#sk-container-id-3 div.sk-toggleable {background-color: white;}#sk-container-id-3 label.sk-toggleable__label {cursor: pointer;display: block;width: 100%;margin-bottom: 0;padding: 0.3em;box-sizing: border-box;text-align: center;}#sk-container-id-3 label.sk-toggleable__label-arrow:before {content: \"▸\";float: left;margin-right: 0.25em;color: #696969;}#sk-container-id-3 label.sk-toggleable__label-arrow:hover:before {color: black;}#sk-container-id-3 div.sk-estimator:hover label.sk-toggleable__label-arrow:before {color: black;}#sk-container-id-3 div.sk-toggleable__content {max-height: 0;max-width: 0;overflow: hidden;text-align: left;background-color: #f0f8ff;}#sk-container-id-3 div.sk-toggleable__content pre {margin: 0.2em;color: black;border-radius: 0.25em;background-color: #f0f8ff;}#sk-container-id-3 input.sk-toggleable__control:checked~div.sk-toggleable__content {max-height: 200px;max-width: 100%;overflow: auto;}#sk-container-id-3 input.sk-toggleable__control:checked~label.sk-toggleable__label-arrow:before {content: \"▾\";}#sk-container-id-3 div.sk-estimator input.sk-toggleable__control:checked~label.sk-toggleable__label {background-color: #d4ebff;}#sk-container-id-3 div.sk-label input.sk-toggleable__control:checked~label.sk-toggleable__label {background-color: #d4ebff;}#sk-container-id-3 input.sk-hidden--visually {border: 0;clip: rect(1px 1px 1px 1px);clip: rect(1px, 1px, 1px, 1px);height: 1px;margin: -1px;overflow: hidden;padding: 0;position: absolute;width: 1px;}#sk-container-id-3 div.sk-estimator {font-family: monospace;background-color: #f0f8ff;border: 1px dotted black;border-radius: 0.25em;box-sizing: border-box;margin-bottom: 0.5em;}#sk-container-id-3 div.sk-estimator:hover {background-color: #d4ebff;}#sk-container-id-3 div.sk-parallel-item::after {content: \"\";width: 100%;border-bottom: 1px solid gray;flex-grow: 1;}#sk-container-id-3 div.sk-label:hover label.sk-toggleable__label {background-color: #d4ebff;}#sk-container-id-3 div.sk-serial::before {content: \"\";position: absolute;border-left: 1px solid gray;box-sizing: border-box;top: 0;bottom: 0;left: 50%;z-index: 0;}#sk-container-id-3 div.sk-serial {display: flex;flex-direction: column;align-items: center;background-color: white;padding-right: 0.2em;padding-left: 0.2em;position: relative;}#sk-container-id-3 div.sk-item {position: relative;z-index: 1;}#sk-container-id-3 div.sk-parallel {display: flex;align-items: stretch;justify-content: center;background-color: white;position: relative;}#sk-container-id-3 div.sk-item::before, #sk-container-id-3 div.sk-parallel-item::before {content: \"\";position: absolute;border-left: 1px solid gray;box-sizing: border-box;top: 0;bottom: 0;left: 50%;z-index: -1;}#sk-container-id-3 div.sk-parallel-item {display: flex;flex-direction: column;z-index: 1;position: relative;background-color: white;}#sk-container-id-3 div.sk-parallel-item:first-child::after {align-self: flex-end;width: 50%;}#sk-container-id-3 div.sk-parallel-item:last-child::after {align-self: flex-start;width: 50%;}#sk-container-id-3 div.sk-parallel-item:only-child::after {width: 0;}#sk-container-id-3 div.sk-dashed-wrapped {border: 1px dashed gray;margin: 0 0.4em 0.5em 0.4em;box-sizing: border-box;padding-bottom: 0.4em;background-color: white;}#sk-container-id-3 div.sk-label label {font-family: monospace;font-weight: bold;display: inline-block;line-height: 1.2em;}#sk-container-id-3 div.sk-label-container {text-align: center;}#sk-container-id-3 div.sk-container {/* jupyter's `normalize.less` sets `[hidden] { display: none; }` but bootstrap.min.css set `[hidden] { display: none !important; }` so we also need the `!important` here to be able to override the default hidden behavior on the sphinx rendered scikit-learn.org. See: https://github.com/scikit-learn/scikit-learn/issues/21755 */display: inline-block !important;position: relative;}#sk-container-id-3 div.sk-text-repr-fallback {display: none;}</style><div id=\"sk-container-id-3\" class=\"sk-top-container\"><div class=\"sk-text-repr-fallback\"><pre>Pipeline(steps=[(&#x27;preprocessor&#x27;,\n                 ColumnTransformer(transformers=[(&#x27;numeric&#x27;,\n                                                  Pipeline(steps=[(&#x27;imputer&#x27;,\n                                                                   SimpleImputer()),\n                                                                  (&#x27;scaler&#x27;,\n                                                                   StandardScaler())]),\n                                                  [&#x27;Source Port&#x27;,\n                                                   &#x27;Destination Port&#x27;,\n                                                   &#x27;Protocol&#x27;, &#x27;Flow Duration&#x27;,\n                                                   &#x27;Total Fwd Packets&#x27;,\n                                                   &#x27;Total Backward Packets&#x27;,\n                                                   &#x27;Total Length of Fwd &#x27;\n                                                   &#x27;Packets&#x27;,\n                                                   &#x27;Total Length of Bwd &#x27;\n                                                   &#x27;Packets&#x27;,\n                                                   &#x27;Fwd Packet Length Max&#x27;,\n                                                   &#x27;Fwd Packet Length Min&#x27;,\n                                                   &#x27;Fwd...\n                                                   &#x27;Flow IAT Max&#x27;,\n                                                   &#x27;Flow IAT Min&#x27;,\n                                                   &#x27;Fwd IAT Total&#x27;,\n                                                   &#x27;Fwd IAT Mean&#x27;,\n                                                   &#x27;Fwd IAT Std&#x27;, &#x27;Fwd IAT Max&#x27;,\n                                                   &#x27;Fwd IAT Min&#x27;,\n                                                   &#x27;Bwd IAT Total&#x27;,\n                                                   &#x27;Bwd IAT Mean&#x27;,\n                                                   &#x27;Bwd IAT Std&#x27;, ...]),\n                                                 (&#x27;categorical&#x27;,\n                                                  Pipeline(steps=[(&#x27;imputer&#x27;,\n                                                                   SimpleImputer(strategy=&#x27;constant&#x27;)),\n                                                                  (&#x27;encoder&#x27;,\n                                                                   OneHotEncoder(handle_unknown=&#x27;ignore&#x27;))]),\n                                                  [&#x27;Source IP&#x27;,\n                                                   &#x27;Destination IP&#x27;,\n                                                   &#x27;Timestamp&#x27;])])),\n                (&#x27;k_neighbors_classifier&#x27;, KNeighborsClassifier())])</pre><b>In a Jupyter environment, please rerun this cell to show the HTML representation or trust the notebook. <br />On GitHub, the HTML representation is unable to render, please try loading this page with nbviewer.org.</b></div><div class=\"sk-container\" hidden><div class=\"sk-item sk-dashed-wrapped\"><div class=\"sk-label-container\"><div class=\"sk-label sk-toggleable\"><input class=\"sk-toggleable__control sk-hidden--visually\" id=\"sk-estimator-id-19\" type=\"checkbox\" ><label for=\"sk-estimator-id-19\" class=\"sk-toggleable__label sk-toggleable__label-arrow\">Pipeline</label><div class=\"sk-toggleable__content\"><pre>Pipeline(steps=[(&#x27;preprocessor&#x27;,\n                 ColumnTransformer(transformers=[(&#x27;numeric&#x27;,\n                                                  Pipeline(steps=[(&#x27;imputer&#x27;,\n                                                                   SimpleImputer()),\n                                                                  (&#x27;scaler&#x27;,\n                                                                   StandardScaler())]),\n                                                  [&#x27;Source Port&#x27;,\n                                                   &#x27;Destination Port&#x27;,\n                                                   &#x27;Protocol&#x27;, &#x27;Flow Duration&#x27;,\n                                                   &#x27;Total Fwd Packets&#x27;,\n                                                   &#x27;Total Backward Packets&#x27;,\n                                                   &#x27;Total Length of Fwd &#x27;\n                                                   &#x27;Packets&#x27;,\n                                                   &#x27;Total Length of Bwd &#x27;\n                                                   &#x27;Packets&#x27;,\n                                                   &#x27;Fwd Packet Length Max&#x27;,\n                                                   &#x27;Fwd Packet Length Min&#x27;,\n                                                   &#x27;Fwd...\n                                                   &#x27;Flow IAT Max&#x27;,\n                                                   &#x27;Flow IAT Min&#x27;,\n                                                   &#x27;Fwd IAT Total&#x27;,\n                                                   &#x27;Fwd IAT Mean&#x27;,\n                                                   &#x27;Fwd IAT Std&#x27;, &#x27;Fwd IAT Max&#x27;,\n                                                   &#x27;Fwd IAT Min&#x27;,\n                                                   &#x27;Bwd IAT Total&#x27;,\n                                                   &#x27;Bwd IAT Mean&#x27;,\n                                                   &#x27;Bwd IAT Std&#x27;, ...]),\n                                                 (&#x27;categorical&#x27;,\n                                                  Pipeline(steps=[(&#x27;imputer&#x27;,\n                                                                   SimpleImputer(strategy=&#x27;constant&#x27;)),\n                                                                  (&#x27;encoder&#x27;,\n                                                                   OneHotEncoder(handle_unknown=&#x27;ignore&#x27;))]),\n                                                  [&#x27;Source IP&#x27;,\n                                                   &#x27;Destination IP&#x27;,\n                                                   &#x27;Timestamp&#x27;])])),\n                (&#x27;k_neighbors_classifier&#x27;, KNeighborsClassifier())])</pre></div></div></div><div class=\"sk-serial\"><div class=\"sk-item sk-dashed-wrapped\"><div class=\"sk-label-container\"><div class=\"sk-label sk-toggleable\"><input class=\"sk-toggleable__control sk-hidden--visually\" id=\"sk-estimator-id-20\" type=\"checkbox\" ><label for=\"sk-estimator-id-20\" class=\"sk-toggleable__label sk-toggleable__label-arrow\">preprocessor: ColumnTransformer</label><div class=\"sk-toggleable__content\"><pre>ColumnTransformer(transformers=[(&#x27;numeric&#x27;,\n                                 Pipeline(steps=[(&#x27;imputer&#x27;, SimpleImputer()),\n                                                 (&#x27;scaler&#x27;, StandardScaler())]),\n                                 [&#x27;Source Port&#x27;, &#x27;Destination Port&#x27;, &#x27;Protocol&#x27;,\n                                  &#x27;Flow Duration&#x27;, &#x27;Total Fwd Packets&#x27;,\n                                  &#x27;Total Backward Packets&#x27;,\n                                  &#x27;Total Length of Fwd Packets&#x27;,\n                                  &#x27;Total Length of Bwd Packets&#x27;,\n                                  &#x27;Fwd Packet Length Max&#x27;,\n                                  &#x27;Fwd Packet Length Min&#x27;,\n                                  &#x27;Fwd Packet Length Mean&#x27;,\n                                  &#x27;Fwd Packet Length St...\n                                  &#x27;Flow Packets/s&#x27;, &#x27;Flow IAT Mean&#x27;,\n                                  &#x27;Flow IAT Std&#x27;, &#x27;Flow IAT Max&#x27;,\n                                  &#x27;Flow IAT Min&#x27;, &#x27;Fwd IAT Total&#x27;,\n                                  &#x27;Fwd IAT Mean&#x27;, &#x27;Fwd IAT Std&#x27;, &#x27;Fwd IAT Max&#x27;,\n                                  &#x27;Fwd IAT Min&#x27;, &#x27;Bwd IAT Total&#x27;,\n                                  &#x27;Bwd IAT Mean&#x27;, &#x27;Bwd IAT Std&#x27;, ...]),\n                                (&#x27;categorical&#x27;,\n                                 Pipeline(steps=[(&#x27;imputer&#x27;,\n                                                  SimpleImputer(strategy=&#x27;constant&#x27;)),\n                                                 (&#x27;encoder&#x27;,\n                                                  OneHotEncoder(handle_unknown=&#x27;ignore&#x27;))]),\n                                 [&#x27;Source IP&#x27;, &#x27;Destination IP&#x27;, &#x27;Timestamp&#x27;])])</pre></div></div></div><div class=\"sk-parallel\"><div class=\"sk-parallel-item\"><div class=\"sk-item\"><div class=\"sk-label-container\"><div class=\"sk-label sk-toggleable\"><input class=\"sk-toggleable__control sk-hidden--visually\" id=\"sk-estimator-id-21\" type=\"checkbox\" ><label for=\"sk-estimator-id-21\" class=\"sk-toggleable__label sk-toggleable__label-arrow\">numeric</label><div class=\"sk-toggleable__content\"><pre>[&#x27;Source Port&#x27;, &#x27;Destination Port&#x27;, &#x27;Protocol&#x27;, &#x27;Flow Duration&#x27;, &#x27;Total Fwd Packets&#x27;, &#x27;Total Backward Packets&#x27;, &#x27;Total Length of Fwd Packets&#x27;, &#x27;Total Length of Bwd Packets&#x27;, &#x27;Fwd Packet Length Max&#x27;, &#x27;Fwd Packet Length Min&#x27;, &#x27;Fwd Packet Length Mean&#x27;, &#x27;Fwd Packet Length Std&#x27;, &#x27;Bwd Packet Length Max&#x27;, &#x27;Bwd Packet Length Min&#x27;, &#x27;Bwd Packet Length Mean&#x27;, &#x27;Bwd Packet Length Std&#x27;, &#x27;Flow Bytes/s&#x27;, &#x27;Flow Packets/s&#x27;, &#x27;Flow IAT Mean&#x27;, &#x27;Flow IAT Std&#x27;, &#x27;Flow IAT Max&#x27;, &#x27;Flow IAT Min&#x27;, &#x27;Fwd IAT Total&#x27;, &#x27;Fwd IAT Mean&#x27;, &#x27;Fwd IAT Std&#x27;, &#x27;Fwd IAT Max&#x27;, &#x27;Fwd IAT Min&#x27;, &#x27;Bwd IAT Total&#x27;, &#x27;Bwd IAT Mean&#x27;, &#x27;Bwd IAT Std&#x27;, &#x27;Bwd IAT Max&#x27;, &#x27;Bwd IAT Min&#x27;, &#x27;Fwd PSH Flags&#x27;, &#x27;Bwd PSH Flags&#x27;, &#x27;Fwd URG Flags&#x27;, &#x27;Bwd URG Flags&#x27;, &#x27;Fwd Header Length&#x27;, &#x27;Bwd Header Length&#x27;, &#x27;Fwd Packets/s&#x27;, &#x27;Bwd Packets/s&#x27;, &#x27;Min Packet Length&#x27;, &#x27;Max Packet Length&#x27;, &#x27;Packet Length Mean&#x27;, &#x27;Packet Length Std&#x27;, &#x27;Packet Length Variance&#x27;, &#x27;FIN Flag Count&#x27;, &#x27;SYN Flag Count&#x27;, &#x27;RST Flag Count&#x27;, &#x27;PSH Flag Count&#x27;, &#x27;ACK Flag Count&#x27;, &#x27;URG Flag Count&#x27;, &#x27;CWE Flag Count&#x27;, &#x27;ECE Flag Count&#x27;, &#x27;Down/Up Ratio&#x27;, &#x27;Average Packet Size&#x27;, &#x27;Avg Fwd Segment Size&#x27;, &#x27;Avg Bwd Segment Size&#x27;, &#x27;Fwd Header Length.1&#x27;, &#x27;Fwd Avg Bytes/Bulk&#x27;, &#x27;Fwd Avg Packets/Bulk&#x27;, &#x27;Fwd Avg Bulk Rate&#x27;, &#x27;Bwd Avg Bytes/Bulk&#x27;, &#x27;Bwd Avg Packets/Bulk&#x27;, &#x27;Bwd Avg Bulk Rate&#x27;, &#x27;Subflow Fwd Packets&#x27;, &#x27;Subflow Fwd Bytes&#x27;, &#x27;Subflow Bwd Packets&#x27;, &#x27;Subflow Bwd Bytes&#x27;, &#x27;Init_Win_bytes_forward&#x27;, &#x27;Init_Win_bytes_backward&#x27;, &#x27;act_data_pkt_fwd&#x27;, &#x27;min_seg_size_forward&#x27;, &#x27;Active Mean&#x27;, &#x27;Active Std&#x27;, &#x27;Active Max&#x27;, &#x27;Active Min&#x27;, &#x27;Idle Mean&#x27;, &#x27;Idle Std&#x27;, &#x27;Idle Max&#x27;, &#x27;Idle Min&#x27;]</pre></div></div></div><div class=\"sk-serial\"><div class=\"sk-item\"><div class=\"sk-serial\"><div class=\"sk-item\"><div class=\"sk-estimator sk-toggleable\"><input class=\"sk-toggleable__control sk-hidden--visually\" id=\"sk-estimator-id-22\" type=\"checkbox\" ><label for=\"sk-estimator-id-22\" class=\"sk-toggleable__label sk-toggleable__label-arrow\">SimpleImputer</label><div class=\"sk-toggleable__content\"><pre>SimpleImputer()</pre></div></div></div><div class=\"sk-item\"><div class=\"sk-estimator sk-toggleable\"><input class=\"sk-toggleable__control sk-hidden--visually\" id=\"sk-estimator-id-23\" type=\"checkbox\" ><label for=\"sk-estimator-id-23\" class=\"sk-toggleable__label sk-toggleable__label-arrow\">StandardScaler</label><div class=\"sk-toggleable__content\"><pre>StandardScaler()</pre></div></div></div></div></div></div></div></div><div class=\"sk-parallel-item\"><div class=\"sk-item\"><div class=\"sk-label-container\"><div class=\"sk-label sk-toggleable\"><input class=\"sk-toggleable__control sk-hidden--visually\" id=\"sk-estimator-id-24\" type=\"checkbox\" ><label for=\"sk-estimator-id-24\" class=\"sk-toggleable__label sk-toggleable__label-arrow\">categorical</label><div class=\"sk-toggleable__content\"><pre>[&#x27;Source IP&#x27;, &#x27;Destination IP&#x27;, &#x27;Timestamp&#x27;]</pre></div></div></div><div class=\"sk-serial\"><div class=\"sk-item\"><div class=\"sk-serial\"><div class=\"sk-item\"><div class=\"sk-estimator sk-toggleable\"><input class=\"sk-toggleable__control sk-hidden--visually\" id=\"sk-estimator-id-25\" type=\"checkbox\" ><label for=\"sk-estimator-id-25\" class=\"sk-toggleable__label sk-toggleable__label-arrow\">SimpleImputer</label><div class=\"sk-toggleable__content\"><pre>SimpleImputer(strategy=&#x27;constant&#x27;)</pre></div></div></div><div class=\"sk-item\"><div class=\"sk-estimator sk-toggleable\"><input class=\"sk-toggleable__control sk-hidden--visually\" id=\"sk-estimator-id-26\" type=\"checkbox\" ><label for=\"sk-estimator-id-26\" class=\"sk-toggleable__label sk-toggleable__label-arrow\">OneHotEncoder</label><div class=\"sk-toggleable__content\"><pre>OneHotEncoder(handle_unknown=&#x27;ignore&#x27;)</pre></div></div></div></div></div></div></div></div></div></div><div class=\"sk-item\"><div class=\"sk-estimator sk-toggleable\"><input class=\"sk-toggleable__control sk-hidden--visually\" id=\"sk-estimator-id-27\" type=\"checkbox\" ><label for=\"sk-estimator-id-27\" class=\"sk-toggleable__label sk-toggleable__label-arrow\">KNeighborsClassifier</label><div class=\"sk-toggleable__content\"><pre>KNeighborsClassifier()</pre></div></div></div></div></div></div></div>"
     },
     "execution_count": 63,
     "metadata": {},
     "output_type": "execute_result"
    }
   ],
   "source": [
    "from sklearn.neighbors import KNeighborsClassifier\n",
    "\n",
    "pipeline = Pipeline(steps=[\n",
    "    (\"preprocessor\", preprocessor),\n",
    "    (\"k_neighbors_classifier\", KNeighborsClassifier())\n",
    "])\n",
    "\n",
    "pipeline.fit(x_train, y_train)"
   ],
   "metadata": {
    "collapsed": false
   }
  },
  {
   "cell_type": "code",
   "execution_count": 64,
   "outputs": [
    {
     "data": {
      "text/plain": "        Source IP  Source Port   Destination IP  Destination Port  Protocol  \\\n2316  10.42.0.211        34894    137.175.31.97              80.0       6.0   \n409   10.42.0.211        44183     121.41.62.82            1088.0       6.0   \n2195  10.42.0.211        56114        10.42.0.1              53.0      17.0   \n2719    10.42.0.1        48925  239.255.255.250            1900.0      17.0   \n3141  10.42.0.211         6854        10.42.0.1              53.0      17.0   \n...           ...          ...              ...               ...       ...   \n3694  10.42.0.211        54258        10.42.0.1              53.0      17.0   \n538   10.42.0.211        55072    104.88.88.137              80.0       6.0   \n3483  10.42.0.211        22947        10.42.0.1              53.0      17.0   \n283   10.42.0.211        52523    172.217.11.35             443.0       6.0   \n1220  10.42.0.211        40148       31.13.71.7             443.0       6.0   \n\n                Timestamp  Flow Duration  Total Fwd Packets  \\\n2316  15/06/2017 04:36:48         174618                  3   \n409   30/06/2017 02:48:17       12192623                  2   \n2195  30/06/2017 10:18:05          32183                  1   \n2719  13/06/2017 08:34:20        3003121                  4   \n3141  13/06/2017 04:33:51           1090                  1   \n...                   ...            ...                ...   \n3694  15/06/2017 01:56:45          30894                  1   \n538   12/07/2017 01:36:27          23168                  1   \n3483  14/06/2017 11:42:47          31866                  1   \n283   27/06/2017 06:04:32        2400385                104   \n1220  15/06/2017 10:35:54         303871                  9   \n\n      Total Backward Packets  Total Length of Fwd Packets  ...  \\\n2316                       4                        657.0  ...   \n409                        0                          0.0  ...   \n2195                       1                         30.0  ...   \n2719                       0                        688.0  ...   \n3141                       1                         36.0  ...   \n...                      ...                          ...  ...   \n3694                       1                         29.0  ...   \n538                        1                          0.0  ...   \n3483                       1                         33.0  ...   \n283                      145                       2479.0  ...   \n1220                       7                        335.0  ...   \n\n      act_data_pkt_fwd  min_seg_size_forward  Active Mean  Active Std  \\\n2316               1.0                  32.0          0.0         0.0   \n409                0.0                  32.0          0.0         0.0   \n2195               0.0                  32.0          0.0         0.0   \n2719               3.0                  32.0          0.0         0.0   \n3141               0.0                  40.0          0.0         0.0   \n...                ...                   ...          ...         ...   \n3694               0.0                  32.0          0.0         0.0   \n538                0.0                  32.0          0.0         0.0   \n3483               0.0                  32.0          0.0         0.0   \n283                5.0                  32.0          0.0         0.0   \n1220               2.0                  32.0          0.0         0.0   \n\n      Active Max  Active Min  Idle Mean  Idle Std  Idle Max  Idle Min  \n2316         0.0         0.0        0.0       0.0       0.0       0.0  \n409          0.0         0.0        0.0       0.0       0.0       0.0  \n2195         0.0         0.0        0.0       0.0       0.0       0.0  \n2719         0.0         0.0        0.0       0.0       0.0       0.0  \n3141         0.0         0.0        0.0       0.0       0.0       0.0  \n...          ...         ...        ...       ...       ...       ...  \n3694         0.0         0.0        0.0       0.0       0.0       0.0  \n538          0.0         0.0        0.0       0.0       0.0       0.0  \n3483         0.0         0.0        0.0       0.0       0.0       0.0  \n283          0.0         0.0        0.0       0.0       0.0       0.0  \n1220         0.0         0.0        0.0       0.0       0.0       0.0  \n\n[1000 rows x 83 columns]",
      "text/html": "<div>\n<style scoped>\n    .dataframe tbody tr th:only-of-type {\n        vertical-align: middle;\n    }\n\n    .dataframe tbody tr th {\n        vertical-align: top;\n    }\n\n    .dataframe thead th {\n        text-align: right;\n    }\n</style>\n<table border=\"1\" class=\"dataframe\">\n  <thead>\n    <tr style=\"text-align: right;\">\n      <th></th>\n      <th>Source IP</th>\n      <th>Source Port</th>\n      <th>Destination IP</th>\n      <th>Destination Port</th>\n      <th>Protocol</th>\n      <th>Timestamp</th>\n      <th>Flow Duration</th>\n      <th>Total Fwd Packets</th>\n      <th>Total Backward Packets</th>\n      <th>Total Length of Fwd Packets</th>\n      <th>...</th>\n      <th>act_data_pkt_fwd</th>\n      <th>min_seg_size_forward</th>\n      <th>Active Mean</th>\n      <th>Active Std</th>\n      <th>Active Max</th>\n      <th>Active Min</th>\n      <th>Idle Mean</th>\n      <th>Idle Std</th>\n      <th>Idle Max</th>\n      <th>Idle Min</th>\n    </tr>\n  </thead>\n  <tbody>\n    <tr>\n      <th>2316</th>\n      <td>10.42.0.211</td>\n      <td>34894</td>\n      <td>137.175.31.97</td>\n      <td>80.0</td>\n      <td>6.0</td>\n      <td>15/06/2017 04:36:48</td>\n      <td>174618</td>\n      <td>3</td>\n      <td>4</td>\n      <td>657.0</td>\n      <td>...</td>\n      <td>1.0</td>\n      <td>32.0</td>\n      <td>0.0</td>\n      <td>0.0</td>\n      <td>0.0</td>\n      <td>0.0</td>\n      <td>0.0</td>\n      <td>0.0</td>\n      <td>0.0</td>\n      <td>0.0</td>\n    </tr>\n    <tr>\n      <th>409</th>\n      <td>10.42.0.211</td>\n      <td>44183</td>\n      <td>121.41.62.82</td>\n      <td>1088.0</td>\n      <td>6.0</td>\n      <td>30/06/2017 02:48:17</td>\n      <td>12192623</td>\n      <td>2</td>\n      <td>0</td>\n      <td>0.0</td>\n      <td>...</td>\n      <td>0.0</td>\n      <td>32.0</td>\n      <td>0.0</td>\n      <td>0.0</td>\n      <td>0.0</td>\n      <td>0.0</td>\n      <td>0.0</td>\n      <td>0.0</td>\n      <td>0.0</td>\n      <td>0.0</td>\n    </tr>\n    <tr>\n      <th>2195</th>\n      <td>10.42.0.211</td>\n      <td>56114</td>\n      <td>10.42.0.1</td>\n      <td>53.0</td>\n      <td>17.0</td>\n      <td>30/06/2017 10:18:05</td>\n      <td>32183</td>\n      <td>1</td>\n      <td>1</td>\n      <td>30.0</td>\n      <td>...</td>\n      <td>0.0</td>\n      <td>32.0</td>\n      <td>0.0</td>\n      <td>0.0</td>\n      <td>0.0</td>\n      <td>0.0</td>\n      <td>0.0</td>\n      <td>0.0</td>\n      <td>0.0</td>\n      <td>0.0</td>\n    </tr>\n    <tr>\n      <th>2719</th>\n      <td>10.42.0.1</td>\n      <td>48925</td>\n      <td>239.255.255.250</td>\n      <td>1900.0</td>\n      <td>17.0</td>\n      <td>13/06/2017 08:34:20</td>\n      <td>3003121</td>\n      <td>4</td>\n      <td>0</td>\n      <td>688.0</td>\n      <td>...</td>\n      <td>3.0</td>\n      <td>32.0</td>\n      <td>0.0</td>\n      <td>0.0</td>\n      <td>0.0</td>\n      <td>0.0</td>\n      <td>0.0</td>\n      <td>0.0</td>\n      <td>0.0</td>\n      <td>0.0</td>\n    </tr>\n    <tr>\n      <th>3141</th>\n      <td>10.42.0.211</td>\n      <td>6854</td>\n      <td>10.42.0.1</td>\n      <td>53.0</td>\n      <td>17.0</td>\n      <td>13/06/2017 04:33:51</td>\n      <td>1090</td>\n      <td>1</td>\n      <td>1</td>\n      <td>36.0</td>\n      <td>...</td>\n      <td>0.0</td>\n      <td>40.0</td>\n      <td>0.0</td>\n      <td>0.0</td>\n      <td>0.0</td>\n      <td>0.0</td>\n      <td>0.0</td>\n      <td>0.0</td>\n      <td>0.0</td>\n      <td>0.0</td>\n    </tr>\n    <tr>\n      <th>...</th>\n      <td>...</td>\n      <td>...</td>\n      <td>...</td>\n      <td>...</td>\n      <td>...</td>\n      <td>...</td>\n      <td>...</td>\n      <td>...</td>\n      <td>...</td>\n      <td>...</td>\n      <td>...</td>\n      <td>...</td>\n      <td>...</td>\n      <td>...</td>\n      <td>...</td>\n      <td>...</td>\n      <td>...</td>\n      <td>...</td>\n      <td>...</td>\n      <td>...</td>\n      <td>...</td>\n    </tr>\n    <tr>\n      <th>3694</th>\n      <td>10.42.0.211</td>\n      <td>54258</td>\n      <td>10.42.0.1</td>\n      <td>53.0</td>\n      <td>17.0</td>\n      <td>15/06/2017 01:56:45</td>\n      <td>30894</td>\n      <td>1</td>\n      <td>1</td>\n      <td>29.0</td>\n      <td>...</td>\n      <td>0.0</td>\n      <td>32.0</td>\n      <td>0.0</td>\n      <td>0.0</td>\n      <td>0.0</td>\n      <td>0.0</td>\n      <td>0.0</td>\n      <td>0.0</td>\n      <td>0.0</td>\n      <td>0.0</td>\n    </tr>\n    <tr>\n      <th>538</th>\n      <td>10.42.0.211</td>\n      <td>55072</td>\n      <td>104.88.88.137</td>\n      <td>80.0</td>\n      <td>6.0</td>\n      <td>12/07/2017 01:36:27</td>\n      <td>23168</td>\n      <td>1</td>\n      <td>1</td>\n      <td>0.0</td>\n      <td>...</td>\n      <td>0.0</td>\n      <td>32.0</td>\n      <td>0.0</td>\n      <td>0.0</td>\n      <td>0.0</td>\n      <td>0.0</td>\n      <td>0.0</td>\n      <td>0.0</td>\n      <td>0.0</td>\n      <td>0.0</td>\n    </tr>\n    <tr>\n      <th>3483</th>\n      <td>10.42.0.211</td>\n      <td>22947</td>\n      <td>10.42.0.1</td>\n      <td>53.0</td>\n      <td>17.0</td>\n      <td>14/06/2017 11:42:47</td>\n      <td>31866</td>\n      <td>1</td>\n      <td>1</td>\n      <td>33.0</td>\n      <td>...</td>\n      <td>0.0</td>\n      <td>32.0</td>\n      <td>0.0</td>\n      <td>0.0</td>\n      <td>0.0</td>\n      <td>0.0</td>\n      <td>0.0</td>\n      <td>0.0</td>\n      <td>0.0</td>\n      <td>0.0</td>\n    </tr>\n    <tr>\n      <th>283</th>\n      <td>10.42.0.211</td>\n      <td>52523</td>\n      <td>172.217.11.35</td>\n      <td>443.0</td>\n      <td>6.0</td>\n      <td>27/06/2017 06:04:32</td>\n      <td>2400385</td>\n      <td>104</td>\n      <td>145</td>\n      <td>2479.0</td>\n      <td>...</td>\n      <td>5.0</td>\n      <td>32.0</td>\n      <td>0.0</td>\n      <td>0.0</td>\n      <td>0.0</td>\n      <td>0.0</td>\n      <td>0.0</td>\n      <td>0.0</td>\n      <td>0.0</td>\n      <td>0.0</td>\n    </tr>\n    <tr>\n      <th>1220</th>\n      <td>10.42.0.211</td>\n      <td>40148</td>\n      <td>31.13.71.7</td>\n      <td>443.0</td>\n      <td>6.0</td>\n      <td>15/06/2017 10:35:54</td>\n      <td>303871</td>\n      <td>9</td>\n      <td>7</td>\n      <td>335.0</td>\n      <td>...</td>\n      <td>2.0</td>\n      <td>32.0</td>\n      <td>0.0</td>\n      <td>0.0</td>\n      <td>0.0</td>\n      <td>0.0</td>\n      <td>0.0</td>\n      <td>0.0</td>\n      <td>0.0</td>\n      <td>0.0</td>\n    </tr>\n  </tbody>\n</table>\n<p>1000 rows × 83 columns</p>\n</div>"
     },
     "execution_count": 64,
     "metadata": {},
     "output_type": "execute_result"
    }
   ],
   "source": [
    "x_test"
   ],
   "metadata": {
    "collapsed": false
   }
  },
  {
   "cell_type": "code",
   "execution_count": 65,
   "outputs": [
    {
     "data": {
      "text/plain": "     Source IP  Source Port Destination IP  Destination Port  Protocol  \\\n0  10.42.0.211        50004  172.217.6.202             443.0       6.0   \n\n             Timestamp  Flow Duration  Total Fwd Packets  \\\n0  13/06/2017 11:52:39          37027                  1   \n\n   Total Backward Packets  Total Length of Fwd Packets  ...  act_data_pkt_fwd  \\\n0                       1                          0.0  ...               0.0   \n\n   min_seg_size_forward  Active Mean  Active Std  Active Max  Active Min  \\\n0                  32.0          0.0         0.0         0.0         0.0   \n\n   Idle Mean  Idle Std  Idle Max  Idle Min  \n0        0.0       0.0       0.0       0.0  \n\n[1 rows x 83 columns]",
      "text/html": "<div>\n<style scoped>\n    .dataframe tbody tr th:only-of-type {\n        vertical-align: middle;\n    }\n\n    .dataframe tbody tr th {\n        vertical-align: top;\n    }\n\n    .dataframe thead th {\n        text-align: right;\n    }\n</style>\n<table border=\"1\" class=\"dataframe\">\n  <thead>\n    <tr style=\"text-align: right;\">\n      <th></th>\n      <th>Source IP</th>\n      <th>Source Port</th>\n      <th>Destination IP</th>\n      <th>Destination Port</th>\n      <th>Protocol</th>\n      <th>Timestamp</th>\n      <th>Flow Duration</th>\n      <th>Total Fwd Packets</th>\n      <th>Total Backward Packets</th>\n      <th>Total Length of Fwd Packets</th>\n      <th>...</th>\n      <th>act_data_pkt_fwd</th>\n      <th>min_seg_size_forward</th>\n      <th>Active Mean</th>\n      <th>Active Std</th>\n      <th>Active Max</th>\n      <th>Active Min</th>\n      <th>Idle Mean</th>\n      <th>Idle Std</th>\n      <th>Idle Max</th>\n      <th>Idle Min</th>\n    </tr>\n  </thead>\n  <tbody>\n    <tr>\n      <th>0</th>\n      <td>10.42.0.211</td>\n      <td>50004</td>\n      <td>172.217.6.202</td>\n      <td>443.0</td>\n      <td>6.0</td>\n      <td>13/06/2017 11:52:39</td>\n      <td>37027</td>\n      <td>1</td>\n      <td>1</td>\n      <td>0.0</td>\n      <td>...</td>\n      <td>0.0</td>\n      <td>32.0</td>\n      <td>0.0</td>\n      <td>0.0</td>\n      <td>0.0</td>\n      <td>0.0</td>\n      <td>0.0</td>\n      <td>0.0</td>\n      <td>0.0</td>\n      <td>0.0</td>\n    </tr>\n  </tbody>\n</table>\n<p>1 rows × 83 columns</p>\n</div>"
     },
     "execution_count": 65,
     "metadata": {},
     "output_type": "execute_result"
    }
   ],
   "source": [
    "pandas.DataFrame([payload])"
   ],
   "metadata": {
    "collapsed": false
   }
  },
  {
   "cell_type": "code",
   "execution_count": 67,
   "outputs": [
    {
     "data": {
      "text/plain": "'Android_Scareware'"
     },
     "execution_count": 67,
     "metadata": {},
     "output_type": "execute_result"
    }
   ],
   "source": [
    "pipeline.predict(pandas.DataFrame([payload]))[0]"
   ],
   "metadata": {
    "collapsed": false
   }
  },
  {
   "cell_type": "code",
   "execution_count": null,
   "outputs": [],
   "source": [],
   "metadata": {
    "collapsed": false
   }
  }
 ],
 "metadata": {
  "kernelspec": {
   "display_name": "Python 3 (ipykernel)",
   "language": "python",
   "name": "python3"
  },
  "language_info": {
   "codemirror_mode": {
    "name": "ipython",
    "version": 3
   },
   "file_extension": ".py",
   "mimetype": "text/x-python",
   "name": "python",
   "nbconvert_exporter": "python",
   "pygments_lexer": "ipython3",
   "version": "3.10.9"
  }
 },
 "nbformat": 4,
 "nbformat_minor": 5
}
