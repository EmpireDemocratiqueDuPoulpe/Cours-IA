{
 "cells": [
  {
   "attachments": {},
   "cell_type": "markdown",
   "metadata": {},
   "source": [
    "## School project - 5MLDE"
   ]
  },
  {
   "attachments": {},
   "cell_type": "markdown",
   "metadata": {},
   "source": [
    "The following notebook was created for a school project to create an anime recommendation system. The subject and the questions are available in the appendix.\n",
    "\n",
    "The group members who participated in this project are:\n",
    "\n",
    "    AMIMI Lamine\n",
    "    BEZIN Théo\n",
    "    LECOMTE Alexis\n",
    "    PAWLOWSKI Maxence\n"
   ]
  },
  {
   "cell_type": "markdown",
   "metadata": {},
   "source": []
  },
  {
   "attachments": {},
   "cell_type": "markdown",
   "metadata": {},
   "source": [
    "## 1 - Data analysis"
   ]
  },
  {
   "cell_type": "code",
   "execution_count": 5,
   "metadata": {},
   "outputs": [],
   "source": [
    "\n",
    "\n",
    "# OS and filesystem\n",
    "from pathlib import Path\n",
    "\n",
    "# Math\n",
    "import numpy\n",
    "\n",
    "# Data\n",
    "import pandas\n",
    "from matplotlib import pyplot\n",
    "import matplotx\n",
    "\n",
    "# Console output\n",
    "from colorama import Fore, Style\n",
    "\n",
    "# Misc.\n",
    "from ast import literal_eval\n",
    "\n",
    "from pandas_profiling import ProfileReport\n"
   ]
  },
  {
   "cell_type": "code",
   "execution_count": 6,
   "metadata": {},
   "outputs": [],
   "source": [
    "pyplot.rcParams.update(pyplot.rcParamsDefault)\n",
    "pyplot.style.use(matplotx.styles.dracula)  # Set the matplotlib style"
   ]
  },
  {
   "cell_type": "code",
   "execution_count": 7,
   "metadata": {},
   "outputs": [],
   "source": [
    "# Filesystem paths\n",
    "PARENT_FOLDER = Path.cwd()\n",
    "DATA_FOLDER = (PARENT_FOLDER / \"..\" / \"..\" / \"data\").resolve()\n",
    "MODELS_FOLDER = (PARENT_FOLDER / \"..\" / \"..\" / \"models\").resolve()\n",
    "\n",
    "# Plots\n",
    "FIG_SIZE = (12, 7)\n",
    "\n",
    "# Misc.\n",
    "RANDOM_STATE = 2077"
   ]
  },
  {
   "attachments": {},
   "cell_type": "markdown",
   "metadata": {},
   "source": [
    "### Dataset loading"
   ]
  },
  {
   "cell_type": "code",
   "execution_count": 69,
   "metadata": {},
   "outputs": [
    {
     "name": "stderr",
     "output_type": "stream",
     "text": [
      "C:\\Users\\alamine\\Anaconda3\\lib\\site-packages\\IPython\\core\\interactiveshell.py:3444: DtypeWarning: Columns (56,58,63) have mixed types.Specify dtype option on import or set low_memory=False.\n",
      "  exec(code_obj, self.user_global_ns, self.user_ns)\n"
     ]
    },
    {
     "data": {
      "text/plain": "        Unnamed: 0                                  Flow ID     Source IP  \\\n0                0    172.217.6.202-10.42.0.211-443-50004-6   10.42.0.211   \n1                1    172.217.6.202-10.42.0.211-443-35455-6   10.42.0.211   \n2                2    131.253.61.68-10.42.0.211-443-51775-6   10.42.0.211   \n3                3    131.253.61.68-10.42.0.211-443-51775-6   10.42.0.211   \n4                4    131.253.61.68-10.42.0.211-443-51776-6   10.42.0.211   \n...            ...                                      ...           ...   \n355625         405      172.217.7.14-10.42.0.211-80-38405-6  172.217.7.14   \n355626         406         10.42.0.211-10.42.0.1-7632-53-17   10.42.0.211   \n355627         407  10.42.0.211-104.192.110.245-45970-443-6   10.42.0.211   \n355628         408        10.42.0.211-10.42.0.1-51982-53-17   10.42.0.211   \n355629         409         10.42.0.211-10.42.0.1-9320-53-17   10.42.0.211   \n\n        Source Port   Destination IP  Destination Port  Protocol  \\\n0             50004    172.217.6.202             443.0       6.0   \n1             35455    172.217.6.202             443.0       6.0   \n2             51775    131.253.61.68             443.0       6.0   \n3             51775    131.253.61.68             443.0       6.0   \n4             51776    131.253.61.68             443.0       6.0   \n...             ...              ...               ...       ...   \n355625           80      10.42.0.211           38405.0       6.0   \n355626         7632        10.42.0.1              53.0      17.0   \n355627        45970  104.192.110.245             443.0       6.0   \n355628        51982        10.42.0.1              53.0      17.0   \n355629         9320        10.42.0.1              53.0      17.0   \n\n                  Timestamp  Flow Duration  Total Fwd Packets  ...  \\\n0       13/06/2017 11:52:39          37027                  1  ...   \n1       13/06/2017 11:52:39          36653                  1  ...   \n2       13/06/2017 11:52:42         534099                  8  ...   \n3       13/06/2017 11:52:43           9309                  3  ...   \n4       13/06/2017 11:52:42       19890496                  8  ...   \n...                     ...            ...                ...  ...   \n355625  17/06/2017 01:29:11         126711                  1  ...   \n355626  17/06/2017 01:30:33          48012                  1  ...   \n355627  17/06/2017 01:29:45       20028018                 11  ...   \n355628  17/06/2017 01:29:45         347926                  1  ...   \n355629  17/06/2017 01:30:33         125473                  1  ...   \n\n        min_seg_size_forward  Active Mean  Active Std  Active Max  Active Min  \\\n0                       32.0          0.0         0.0         0.0         0.0   \n1                       32.0          0.0         0.0         0.0         0.0   \n2                       20.0          0.0         0.0         0.0         0.0   \n3                       20.0          0.0         0.0         0.0         0.0   \n4                       20.0          0.0         0.0         0.0         0.0   \n...                      ...          ...         ...         ...         ...   \n355625                  32.0          0.0         0.0         0.0         0.0   \n355626                  32.0          0.0         0.0         0.0         0.0   \n355627                  20.0     367528.0         0.0    367528.0    367528.0   \n355628                  20.0          0.0         0.0         0.0         0.0   \n355629                  32.0          0.0         0.0         0.0         0.0   \n\n         Idle Mean  Idle Std    Idle Max    Idle Min           Label  \n0              0.0       0.0         0.0         0.0  Android_Adware  \n1              0.0       0.0         0.0         0.0  Android_Adware  \n2              0.0       0.0         0.0         0.0  Android_Adware  \n3              0.0       0.0         0.0         0.0  Android_Adware  \n4              0.0       0.0         0.0         0.0  Android_Adware  \n...            ...       ...         ...         ...             ...  \n355625         0.0       0.0         0.0         0.0          Benign  \n355626         0.0       0.0         0.0         0.0          Benign  \n355627  19660490.0       0.0  19660490.0  19660490.0          Benign  \n355628         0.0       0.0         0.0         0.0          Benign  \n355629         0.0       0.0         0.0         0.0          Benign  \n\n[355630 rows x 86 columns]",
      "text/html": "<div>\n<style scoped>\n    .dataframe tbody tr th:only-of-type {\n        vertical-align: middle;\n    }\n\n    .dataframe tbody tr th {\n        vertical-align: top;\n    }\n\n    .dataframe thead th {\n        text-align: right;\n    }\n</style>\n<table border=\"1\" class=\"dataframe\">\n  <thead>\n    <tr style=\"text-align: right;\">\n      <th></th>\n      <th>Unnamed: 0</th>\n      <th>Flow ID</th>\n      <th>Source IP</th>\n      <th>Source Port</th>\n      <th>Destination IP</th>\n      <th>Destination Port</th>\n      <th>Protocol</th>\n      <th>Timestamp</th>\n      <th>Flow Duration</th>\n      <th>Total Fwd Packets</th>\n      <th>...</th>\n      <th>min_seg_size_forward</th>\n      <th>Active Mean</th>\n      <th>Active Std</th>\n      <th>Active Max</th>\n      <th>Active Min</th>\n      <th>Idle Mean</th>\n      <th>Idle Std</th>\n      <th>Idle Max</th>\n      <th>Idle Min</th>\n      <th>Label</th>\n    </tr>\n  </thead>\n  <tbody>\n    <tr>\n      <th>0</th>\n      <td>0</td>\n      <td>172.217.6.202-10.42.0.211-443-50004-6</td>\n      <td>10.42.0.211</td>\n      <td>50004</td>\n      <td>172.217.6.202</td>\n      <td>443.0</td>\n      <td>6.0</td>\n      <td>13/06/2017 11:52:39</td>\n      <td>37027</td>\n      <td>1</td>\n      <td>...</td>\n      <td>32.0</td>\n      <td>0.0</td>\n      <td>0.0</td>\n      <td>0.0</td>\n      <td>0.0</td>\n      <td>0.0</td>\n      <td>0.0</td>\n      <td>0.0</td>\n      <td>0.0</td>\n      <td>Android_Adware</td>\n    </tr>\n    <tr>\n      <th>1</th>\n      <td>1</td>\n      <td>172.217.6.202-10.42.0.211-443-35455-6</td>\n      <td>10.42.0.211</td>\n      <td>35455</td>\n      <td>172.217.6.202</td>\n      <td>443.0</td>\n      <td>6.0</td>\n      <td>13/06/2017 11:52:39</td>\n      <td>36653</td>\n      <td>1</td>\n      <td>...</td>\n      <td>32.0</td>\n      <td>0.0</td>\n      <td>0.0</td>\n      <td>0.0</td>\n      <td>0.0</td>\n      <td>0.0</td>\n      <td>0.0</td>\n      <td>0.0</td>\n      <td>0.0</td>\n      <td>Android_Adware</td>\n    </tr>\n    <tr>\n      <th>2</th>\n      <td>2</td>\n      <td>131.253.61.68-10.42.0.211-443-51775-6</td>\n      <td>10.42.0.211</td>\n      <td>51775</td>\n      <td>131.253.61.68</td>\n      <td>443.0</td>\n      <td>6.0</td>\n      <td>13/06/2017 11:52:42</td>\n      <td>534099</td>\n      <td>8</td>\n      <td>...</td>\n      <td>20.0</td>\n      <td>0.0</td>\n      <td>0.0</td>\n      <td>0.0</td>\n      <td>0.0</td>\n      <td>0.0</td>\n      <td>0.0</td>\n      <td>0.0</td>\n      <td>0.0</td>\n      <td>Android_Adware</td>\n    </tr>\n    <tr>\n      <th>3</th>\n      <td>3</td>\n      <td>131.253.61.68-10.42.0.211-443-51775-6</td>\n      <td>10.42.0.211</td>\n      <td>51775</td>\n      <td>131.253.61.68</td>\n      <td>443.0</td>\n      <td>6.0</td>\n      <td>13/06/2017 11:52:43</td>\n      <td>9309</td>\n      <td>3</td>\n      <td>...</td>\n      <td>20.0</td>\n      <td>0.0</td>\n      <td>0.0</td>\n      <td>0.0</td>\n      <td>0.0</td>\n      <td>0.0</td>\n      <td>0.0</td>\n      <td>0.0</td>\n      <td>0.0</td>\n      <td>Android_Adware</td>\n    </tr>\n    <tr>\n      <th>4</th>\n      <td>4</td>\n      <td>131.253.61.68-10.42.0.211-443-51776-6</td>\n      <td>10.42.0.211</td>\n      <td>51776</td>\n      <td>131.253.61.68</td>\n      <td>443.0</td>\n      <td>6.0</td>\n      <td>13/06/2017 11:52:42</td>\n      <td>19890496</td>\n      <td>8</td>\n      <td>...</td>\n      <td>20.0</td>\n      <td>0.0</td>\n      <td>0.0</td>\n      <td>0.0</td>\n      <td>0.0</td>\n      <td>0.0</td>\n      <td>0.0</td>\n      <td>0.0</td>\n      <td>0.0</td>\n      <td>Android_Adware</td>\n    </tr>\n    <tr>\n      <th>...</th>\n      <td>...</td>\n      <td>...</td>\n      <td>...</td>\n      <td>...</td>\n      <td>...</td>\n      <td>...</td>\n      <td>...</td>\n      <td>...</td>\n      <td>...</td>\n      <td>...</td>\n      <td>...</td>\n      <td>...</td>\n      <td>...</td>\n      <td>...</td>\n      <td>...</td>\n      <td>...</td>\n      <td>...</td>\n      <td>...</td>\n      <td>...</td>\n      <td>...</td>\n      <td>...</td>\n    </tr>\n    <tr>\n      <th>355625</th>\n      <td>405</td>\n      <td>172.217.7.14-10.42.0.211-80-38405-6</td>\n      <td>172.217.7.14</td>\n      <td>80</td>\n      <td>10.42.0.211</td>\n      <td>38405.0</td>\n      <td>6.0</td>\n      <td>17/06/2017 01:29:11</td>\n      <td>126711</td>\n      <td>1</td>\n      <td>...</td>\n      <td>32.0</td>\n      <td>0.0</td>\n      <td>0.0</td>\n      <td>0.0</td>\n      <td>0.0</td>\n      <td>0.0</td>\n      <td>0.0</td>\n      <td>0.0</td>\n      <td>0.0</td>\n      <td>Benign</td>\n    </tr>\n    <tr>\n      <th>355626</th>\n      <td>406</td>\n      <td>10.42.0.211-10.42.0.1-7632-53-17</td>\n      <td>10.42.0.211</td>\n      <td>7632</td>\n      <td>10.42.0.1</td>\n      <td>53.0</td>\n      <td>17.0</td>\n      <td>17/06/2017 01:30:33</td>\n      <td>48012</td>\n      <td>1</td>\n      <td>...</td>\n      <td>32.0</td>\n      <td>0.0</td>\n      <td>0.0</td>\n      <td>0.0</td>\n      <td>0.0</td>\n      <td>0.0</td>\n      <td>0.0</td>\n      <td>0.0</td>\n      <td>0.0</td>\n      <td>Benign</td>\n    </tr>\n    <tr>\n      <th>355627</th>\n      <td>407</td>\n      <td>10.42.0.211-104.192.110.245-45970-443-6</td>\n      <td>10.42.0.211</td>\n      <td>45970</td>\n      <td>104.192.110.245</td>\n      <td>443.0</td>\n      <td>6.0</td>\n      <td>17/06/2017 01:29:45</td>\n      <td>20028018</td>\n      <td>11</td>\n      <td>...</td>\n      <td>20.0</td>\n      <td>367528.0</td>\n      <td>0.0</td>\n      <td>367528.0</td>\n      <td>367528.0</td>\n      <td>19660490.0</td>\n      <td>0.0</td>\n      <td>19660490.0</td>\n      <td>19660490.0</td>\n      <td>Benign</td>\n    </tr>\n    <tr>\n      <th>355628</th>\n      <td>408</td>\n      <td>10.42.0.211-10.42.0.1-51982-53-17</td>\n      <td>10.42.0.211</td>\n      <td>51982</td>\n      <td>10.42.0.1</td>\n      <td>53.0</td>\n      <td>17.0</td>\n      <td>17/06/2017 01:29:45</td>\n      <td>347926</td>\n      <td>1</td>\n      <td>...</td>\n      <td>20.0</td>\n      <td>0.0</td>\n      <td>0.0</td>\n      <td>0.0</td>\n      <td>0.0</td>\n      <td>0.0</td>\n      <td>0.0</td>\n      <td>0.0</td>\n      <td>0.0</td>\n      <td>Benign</td>\n    </tr>\n    <tr>\n      <th>355629</th>\n      <td>409</td>\n      <td>10.42.0.211-10.42.0.1-9320-53-17</td>\n      <td>10.42.0.211</td>\n      <td>9320</td>\n      <td>10.42.0.1</td>\n      <td>53.0</td>\n      <td>17.0</td>\n      <td>17/06/2017 01:30:33</td>\n      <td>125473</td>\n      <td>1</td>\n      <td>...</td>\n      <td>32.0</td>\n      <td>0.0</td>\n      <td>0.0</td>\n      <td>0.0</td>\n      <td>0.0</td>\n      <td>0.0</td>\n      <td>0.0</td>\n      <td>0.0</td>\n      <td>0.0</td>\n      <td>Benign</td>\n    </tr>\n  </tbody>\n</table>\n<p>355630 rows × 86 columns</p>\n</div>"
     },
     "execution_count": 69,
     "metadata": {},
     "output_type": "execute_result"
    }
   ],
   "source": [
    "data_android = pandas.read_csv((DATA_FOLDER / \"Android_Malware.csv\"))\n",
    "data_android.columns = data_android.columns.str.strip()\n",
    "data_android"
   ]
  },
  {
   "cell_type": "code",
   "execution_count": 69,
   "outputs": [],
   "source": [],
   "metadata": {
    "collapsed": false
   }
  },
  {
   "attachments": {},
   "cell_type": "markdown",
   "metadata": {},
   "source": [
    "#### Duplicated values"
   ]
  },
  {
   "cell_type": "code",
   "execution_count": 70,
   "metadata": {},
   "outputs": [
    {
     "name": "stdout",
     "output_type": "stream",
     "text": [
      "\u001B[1mDuplicated values (Android):\u001B[0m 2885 (0.01%)\n",
      "        Unnamed: 0                                 Flow ID       Source IP  \\\n",
      "205925          90   203.205.158.60-10.42.0.211-80-48574-6  203.205.158.60   \n",
      "205929          94   10.42.0.211-111.206.25.159-33521-80-6  111.206.25.159   \n",
      "206273         438   10.42.0.211-106.39.169.66-38659-443-6     10.42.0.211   \n",
      "206310         475    10.42.0.211-119.146.74.34-36805-80-6   119.146.74.34   \n",
      "206311         476    10.42.0.211-119.146.74.48-33523-80-6   119.146.74.48   \n",
      "...            ...                                     ...             ...   \n",
      "328145         406   10.42.0.211-118.178.143.65-50070-80-6     10.42.0.211   \n",
      "328146         407    140.205.61.26-10.42.0.211-80-47648-6     10.42.0.211   \n",
      "328147         408    140.205.61.26-10.42.0.211-80-47648-6     10.42.0.211   \n",
      "328148         409   10.42.0.211-121.41.62.82-44183-1088-6     10.42.0.211   \n",
      "328149         410  10.42.0.211-101.37.105.10-48779-6880-6     10.42.0.211   \n",
      "\n",
      "        Source Port  Destination IP  Destination Port  Protocol  \\\n",
      "205925           80     10.42.0.211           48574.0       6.0   \n",
      "205929           80     10.42.0.211           33521.0       6.0   \n",
      "206273        38659   106.39.169.66             443.0       6.0   \n",
      "206310           80     10.42.0.211           36805.0       6.0   \n",
      "206311           80     10.42.0.211           33523.0       6.0   \n",
      "...             ...             ...               ...       ...   \n",
      "328145        50070  118.178.143.65              80.0       6.0   \n",
      "328146        47648   140.205.61.26              80.0       6.0   \n",
      "328147        47648   140.205.61.26              80.0       6.0   \n",
      "328148        44183    121.41.62.82            1088.0       6.0   \n",
      "328149        48779   101.37.105.10            6880.0       6.0   \n",
      "\n",
      "                  Timestamp  Flow Duration  Total Fwd Packets  ...  \\\n",
      "205925  27/06/2017 02:23:49              4                  2  ...   \n",
      "205929  27/06/2017 02:23:49              8                  2  ...   \n",
      "206273  27/06/2017 02:29:27              5                  2  ...   \n",
      "206310  27/06/2017 02:29:30             10                  2  ...   \n",
      "206311  27/06/2017 02:29:30              8                  2  ...   \n",
      "...                     ...            ...                ...  ...   \n",
      "328145  30/06/2017 02:48:06        8769698                  4  ...   \n",
      "328146  30/06/2017 02:48:17         892843                  5  ...   \n",
      "328147  30/06/2017 02:48:18            109                  2  ...   \n",
      "328148  30/06/2017 02:48:17       12192623                  2  ...   \n",
      "328149  30/06/2017 02:48:21       16057007                  2  ...   \n",
      "\n",
      "        min_seg_size_forward  Active Mean  Active Std  Active Max  Active Min  \\\n",
      "205925                  32.0          0.0         0.0         0.0         0.0   \n",
      "205929                  20.0          0.0         0.0         0.0         0.0   \n",
      "206273                  20.0          0.0         0.0         0.0         0.0   \n",
      "206310                  20.0          0.0         0.0         0.0         0.0   \n",
      "206311                  20.0          0.0         0.0         0.0         0.0   \n",
      "...                      ...          ...         ...         ...         ...   \n",
      "328145                  32.0          0.0         0.0         0.0         0.0   \n",
      "328146                  20.0          0.0         0.0         0.0         0.0   \n",
      "328147                  20.0          0.0         0.0         0.0         0.0   \n",
      "328148                  32.0          0.0         0.0         0.0         0.0   \n",
      "328149                  20.0          0.0         0.0         0.0         0.0   \n",
      "\n",
      "        Idle Mean  Idle Std  Idle Max  Idle Min                Label  \n",
      "205925        0.0       0.0       0.0       0.0    Android_Scareware  \n",
      "205929        0.0       0.0       0.0       0.0    Android_Scareware  \n",
      "206273        0.0       0.0       0.0       0.0    Android_Scareware  \n",
      "206310        0.0       0.0       0.0       0.0    Android_Scareware  \n",
      "206311        0.0       0.0       0.0       0.0    Android_Scareware  \n",
      "...           ...       ...       ...       ...                  ...  \n",
      "328145        0.0       0.0       0.0       0.0  Android_SMS_Malware  \n",
      "328146        0.0       0.0       0.0       0.0  Android_SMS_Malware  \n",
      "328147        0.0       0.0       0.0       0.0  Android_SMS_Malware  \n",
      "328148        0.0       0.0       0.0       0.0  Android_SMS_Malware  \n",
      "328149        0.0       0.0       0.0       0.0  Android_SMS_Malware  \n",
      "\n",
      "[5770 rows x 86 columns]\n"
     ]
    }
   ],
   "source": [
    "def duplicated_values(df, df_name: str = None) -> None:\n",
    "    # Compute the dataset size, the count of duplicated value and the list of duplicated values\n",
    "    data_count = df.shape[0] * df.shape[1]\n",
    "    duplicated_count = df.duplicated().sum()\n",
    "    duplicated = df[df.duplicated(keep=False)] if (duplicated_count > 0) else None\n",
    "\n",
    "    # Show the result\n",
    "    df_name = f\" ({df_name})\" if df_name is not None else \"\"\n",
    "    print(f\"{Style.BRIGHT}Duplicated values{df_name}:{Style.RESET_ALL} {duplicated_count} ({round((duplicated_count.sum() / data_count) * 100, 2)}%)\")\n",
    "    if duplicated is not None:\n",
    "        print(duplicated)\n",
    "\n",
    "\n",
    "duplicated_values(df=data_android, df_name=\"Android\")"
   ]
  },
  {
   "attachments": {},
   "cell_type": "markdown",
   "metadata": {},
   "source": [
    "There is only 0.01% of duplicated values, we can afford to delete the rows where there are duplicated values"
   ]
  },
  {
   "cell_type": "code",
   "execution_count": 71,
   "metadata": {},
   "outputs": [],
   "source": [
    "data_android.drop_duplicates(keep=\"first\", inplace=True)"
   ]
  },
  {
   "attachments": {},
   "cell_type": "markdown",
   "metadata": {},
   "source": [
    "#### Null and empty values"
   ]
  },
  {
   "cell_type": "code",
   "execution_count": 72,
   "metadata": {},
   "outputs": [
    {
     "name": "stdout",
     "output_type": "stream",
     "text": [
      "\u001B[1mMissing values (Android):\u001B[0m 0.0%\n",
      "\u001B[2m\u001B[37mFwd Avg Bulk Rate       4 (0.0%)\n",
      "act_data_pkt_fwd        4 (0.0%)\n",
      "Fwd Avg Packets/Bulk    4 (0.0%)\n",
      "Bwd Avg Bytes/Bulk      4 (0.0%)\n",
      "Bwd Avg Packets/Bulk    4 (0.0%)\n",
      "                          ...   \n",
      "Fwd IAT Total           0 (0.0%)\n",
      "Flow IAT Min            0 (0.0%)\n",
      "Flow IAT Max            0 (0.0%)\n",
      "Flow IAT Std            0 (0.0%)\n",
      "Label                   0 (0.0%)\n",
      "Length: 86, dtype: object\u001B[0m\n"
     ]
    }
   ],
   "source": [
    "def missing_values(df, df_name: str = None, keep_zeros=True) -> None:\n",
    "    # Compute the dataset size and the count of missing value\n",
    "    data_count = df.shape[0] * df.shape[1]\n",
    "    missing = missing_df = df.isna().sum()\n",
    "\n",
    "    # Filter out column with zero missing value\n",
    "    if not keep_zeros:\n",
    "        missing_df = missing_df[missing_df > 0]\n",
    "\n",
    "    # Calculate the percent of missing values\n",
    "    missing_df = missing_df.sort_values(ascending=False).apply(lambda m: f\"{m} ({round((m * 100) / df.shape[0], 2)}%)\")\n",
    "\n",
    "    # Show the result\n",
    "    df_name = f\" ({df_name})\" if df_name is not None else \"\"\n",
    "    print((\n",
    "        f\"{Style.BRIGHT}Missing values{df_name}:{Style.RESET_ALL} {round((missing.sum() / data_count) * 100, 2)}%\\n\"\n",
    "        f\"{Style.DIM}{Fore.WHITE}{missing_df}{Style.RESET_ALL}\"\n",
    "    ))\n",
    "\n",
    "\n",
    "missing_values(df=data_android, df_name=\"Android\", keep_zeros=True)"
   ]
  },
  {
   "attachments": {},
   "cell_type": "markdown",
   "metadata": {},
   "source": [
    "We can see only a very few amount of missing values, we can drop the only lines where there are missing values\n"
   ]
  },
  {
   "cell_type": "code",
   "execution_count": 73,
   "metadata": {},
   "outputs": [
    {
     "data": {
      "text/plain": "        Unnamed: 0                                  Flow ID     Source IP  \\\n0                0    172.217.6.202-10.42.0.211-443-50004-6   10.42.0.211   \n1                1    172.217.6.202-10.42.0.211-443-35455-6   10.42.0.211   \n2                2    131.253.61.68-10.42.0.211-443-51775-6   10.42.0.211   \n3                3    131.253.61.68-10.42.0.211-443-51775-6   10.42.0.211   \n4                4    131.253.61.68-10.42.0.211-443-51776-6   10.42.0.211   \n...            ...                                      ...           ...   \n355625         405      172.217.7.14-10.42.0.211-80-38405-6  172.217.7.14   \n355626         406         10.42.0.211-10.42.0.1-7632-53-17   10.42.0.211   \n355627         407  10.42.0.211-104.192.110.245-45970-443-6   10.42.0.211   \n355628         408        10.42.0.211-10.42.0.1-51982-53-17   10.42.0.211   \n355629         409         10.42.0.211-10.42.0.1-9320-53-17   10.42.0.211   \n\n        Source Port   Destination IP  Destination Port  Protocol  \\\n0             50004    172.217.6.202             443.0       6.0   \n1             35455    172.217.6.202             443.0       6.0   \n2             51775    131.253.61.68             443.0       6.0   \n3             51775    131.253.61.68             443.0       6.0   \n4             51776    131.253.61.68             443.0       6.0   \n...             ...              ...               ...       ...   \n355625           80      10.42.0.211           38405.0       6.0   \n355626         7632        10.42.0.1              53.0      17.0   \n355627        45970  104.192.110.245             443.0       6.0   \n355628        51982        10.42.0.1              53.0      17.0   \n355629         9320        10.42.0.1              53.0      17.0   \n\n                  Timestamp  Flow Duration  Total Fwd Packets  ...  \\\n0       13/06/2017 11:52:39          37027                  1  ...   \n1       13/06/2017 11:52:39          36653                  1  ...   \n2       13/06/2017 11:52:42         534099                  8  ...   \n3       13/06/2017 11:52:43           9309                  3  ...   \n4       13/06/2017 11:52:42       19890496                  8  ...   \n...                     ...            ...                ...  ...   \n355625  17/06/2017 01:29:11         126711                  1  ...   \n355626  17/06/2017 01:30:33          48012                  1  ...   \n355627  17/06/2017 01:29:45       20028018                 11  ...   \n355628  17/06/2017 01:29:45         347926                  1  ...   \n355629  17/06/2017 01:30:33         125473                  1  ...   \n\n        min_seg_size_forward  Active Mean  Active Std  Active Max  Active Min  \\\n0                       32.0          0.0         0.0         0.0         0.0   \n1                       32.0          0.0         0.0         0.0         0.0   \n2                       20.0          0.0         0.0         0.0         0.0   \n3                       20.0          0.0         0.0         0.0         0.0   \n4                       20.0          0.0         0.0         0.0         0.0   \n...                      ...          ...         ...         ...         ...   \n355625                  32.0          0.0         0.0         0.0         0.0   \n355626                  32.0          0.0         0.0         0.0         0.0   \n355627                  20.0     367528.0         0.0    367528.0    367528.0   \n355628                  20.0          0.0         0.0         0.0         0.0   \n355629                  32.0          0.0         0.0         0.0         0.0   \n\n         Idle Mean  Idle Std    Idle Max    Idle Min           Label  \n0              0.0       0.0         0.0         0.0  Android_Adware  \n1              0.0       0.0         0.0         0.0  Android_Adware  \n2              0.0       0.0         0.0         0.0  Android_Adware  \n3              0.0       0.0         0.0         0.0  Android_Adware  \n4              0.0       0.0         0.0         0.0  Android_Adware  \n...            ...       ...         ...         ...             ...  \n355625         0.0       0.0         0.0         0.0          Benign  \n355626         0.0       0.0         0.0         0.0          Benign  \n355627  19660490.0       0.0  19660490.0  19660490.0          Benign  \n355628         0.0       0.0         0.0         0.0          Benign  \n355629         0.0       0.0         0.0         0.0          Benign  \n\n[352741 rows x 86 columns]",
      "text/html": "<div>\n<style scoped>\n    .dataframe tbody tr th:only-of-type {\n        vertical-align: middle;\n    }\n\n    .dataframe tbody tr th {\n        vertical-align: top;\n    }\n\n    .dataframe thead th {\n        text-align: right;\n    }\n</style>\n<table border=\"1\" class=\"dataframe\">\n  <thead>\n    <tr style=\"text-align: right;\">\n      <th></th>\n      <th>Unnamed: 0</th>\n      <th>Flow ID</th>\n      <th>Source IP</th>\n      <th>Source Port</th>\n      <th>Destination IP</th>\n      <th>Destination Port</th>\n      <th>Protocol</th>\n      <th>Timestamp</th>\n      <th>Flow Duration</th>\n      <th>Total Fwd Packets</th>\n      <th>...</th>\n      <th>min_seg_size_forward</th>\n      <th>Active Mean</th>\n      <th>Active Std</th>\n      <th>Active Max</th>\n      <th>Active Min</th>\n      <th>Idle Mean</th>\n      <th>Idle Std</th>\n      <th>Idle Max</th>\n      <th>Idle Min</th>\n      <th>Label</th>\n    </tr>\n  </thead>\n  <tbody>\n    <tr>\n      <th>0</th>\n      <td>0</td>\n      <td>172.217.6.202-10.42.0.211-443-50004-6</td>\n      <td>10.42.0.211</td>\n      <td>50004</td>\n      <td>172.217.6.202</td>\n      <td>443.0</td>\n      <td>6.0</td>\n      <td>13/06/2017 11:52:39</td>\n      <td>37027</td>\n      <td>1</td>\n      <td>...</td>\n      <td>32.0</td>\n      <td>0.0</td>\n      <td>0.0</td>\n      <td>0.0</td>\n      <td>0.0</td>\n      <td>0.0</td>\n      <td>0.0</td>\n      <td>0.0</td>\n      <td>0.0</td>\n      <td>Android_Adware</td>\n    </tr>\n    <tr>\n      <th>1</th>\n      <td>1</td>\n      <td>172.217.6.202-10.42.0.211-443-35455-6</td>\n      <td>10.42.0.211</td>\n      <td>35455</td>\n      <td>172.217.6.202</td>\n      <td>443.0</td>\n      <td>6.0</td>\n      <td>13/06/2017 11:52:39</td>\n      <td>36653</td>\n      <td>1</td>\n      <td>...</td>\n      <td>32.0</td>\n      <td>0.0</td>\n      <td>0.0</td>\n      <td>0.0</td>\n      <td>0.0</td>\n      <td>0.0</td>\n      <td>0.0</td>\n      <td>0.0</td>\n      <td>0.0</td>\n      <td>Android_Adware</td>\n    </tr>\n    <tr>\n      <th>2</th>\n      <td>2</td>\n      <td>131.253.61.68-10.42.0.211-443-51775-6</td>\n      <td>10.42.0.211</td>\n      <td>51775</td>\n      <td>131.253.61.68</td>\n      <td>443.0</td>\n      <td>6.0</td>\n      <td>13/06/2017 11:52:42</td>\n      <td>534099</td>\n      <td>8</td>\n      <td>...</td>\n      <td>20.0</td>\n      <td>0.0</td>\n      <td>0.0</td>\n      <td>0.0</td>\n      <td>0.0</td>\n      <td>0.0</td>\n      <td>0.0</td>\n      <td>0.0</td>\n      <td>0.0</td>\n      <td>Android_Adware</td>\n    </tr>\n    <tr>\n      <th>3</th>\n      <td>3</td>\n      <td>131.253.61.68-10.42.0.211-443-51775-6</td>\n      <td>10.42.0.211</td>\n      <td>51775</td>\n      <td>131.253.61.68</td>\n      <td>443.0</td>\n      <td>6.0</td>\n      <td>13/06/2017 11:52:43</td>\n      <td>9309</td>\n      <td>3</td>\n      <td>...</td>\n      <td>20.0</td>\n      <td>0.0</td>\n      <td>0.0</td>\n      <td>0.0</td>\n      <td>0.0</td>\n      <td>0.0</td>\n      <td>0.0</td>\n      <td>0.0</td>\n      <td>0.0</td>\n      <td>Android_Adware</td>\n    </tr>\n    <tr>\n      <th>4</th>\n      <td>4</td>\n      <td>131.253.61.68-10.42.0.211-443-51776-6</td>\n      <td>10.42.0.211</td>\n      <td>51776</td>\n      <td>131.253.61.68</td>\n      <td>443.0</td>\n      <td>6.0</td>\n      <td>13/06/2017 11:52:42</td>\n      <td>19890496</td>\n      <td>8</td>\n      <td>...</td>\n      <td>20.0</td>\n      <td>0.0</td>\n      <td>0.0</td>\n      <td>0.0</td>\n      <td>0.0</td>\n      <td>0.0</td>\n      <td>0.0</td>\n      <td>0.0</td>\n      <td>0.0</td>\n      <td>Android_Adware</td>\n    </tr>\n    <tr>\n      <th>...</th>\n      <td>...</td>\n      <td>...</td>\n      <td>...</td>\n      <td>...</td>\n      <td>...</td>\n      <td>...</td>\n      <td>...</td>\n      <td>...</td>\n      <td>...</td>\n      <td>...</td>\n      <td>...</td>\n      <td>...</td>\n      <td>...</td>\n      <td>...</td>\n      <td>...</td>\n      <td>...</td>\n      <td>...</td>\n      <td>...</td>\n      <td>...</td>\n      <td>...</td>\n      <td>...</td>\n    </tr>\n    <tr>\n      <th>355625</th>\n      <td>405</td>\n      <td>172.217.7.14-10.42.0.211-80-38405-6</td>\n      <td>172.217.7.14</td>\n      <td>80</td>\n      <td>10.42.0.211</td>\n      <td>38405.0</td>\n      <td>6.0</td>\n      <td>17/06/2017 01:29:11</td>\n      <td>126711</td>\n      <td>1</td>\n      <td>...</td>\n      <td>32.0</td>\n      <td>0.0</td>\n      <td>0.0</td>\n      <td>0.0</td>\n      <td>0.0</td>\n      <td>0.0</td>\n      <td>0.0</td>\n      <td>0.0</td>\n      <td>0.0</td>\n      <td>Benign</td>\n    </tr>\n    <tr>\n      <th>355626</th>\n      <td>406</td>\n      <td>10.42.0.211-10.42.0.1-7632-53-17</td>\n      <td>10.42.0.211</td>\n      <td>7632</td>\n      <td>10.42.0.1</td>\n      <td>53.0</td>\n      <td>17.0</td>\n      <td>17/06/2017 01:30:33</td>\n      <td>48012</td>\n      <td>1</td>\n      <td>...</td>\n      <td>32.0</td>\n      <td>0.0</td>\n      <td>0.0</td>\n      <td>0.0</td>\n      <td>0.0</td>\n      <td>0.0</td>\n      <td>0.0</td>\n      <td>0.0</td>\n      <td>0.0</td>\n      <td>Benign</td>\n    </tr>\n    <tr>\n      <th>355627</th>\n      <td>407</td>\n      <td>10.42.0.211-104.192.110.245-45970-443-6</td>\n      <td>10.42.0.211</td>\n      <td>45970</td>\n      <td>104.192.110.245</td>\n      <td>443.0</td>\n      <td>6.0</td>\n      <td>17/06/2017 01:29:45</td>\n      <td>20028018</td>\n      <td>11</td>\n      <td>...</td>\n      <td>20.0</td>\n      <td>367528.0</td>\n      <td>0.0</td>\n      <td>367528.0</td>\n      <td>367528.0</td>\n      <td>19660490.0</td>\n      <td>0.0</td>\n      <td>19660490.0</td>\n      <td>19660490.0</td>\n      <td>Benign</td>\n    </tr>\n    <tr>\n      <th>355628</th>\n      <td>408</td>\n      <td>10.42.0.211-10.42.0.1-51982-53-17</td>\n      <td>10.42.0.211</td>\n      <td>51982</td>\n      <td>10.42.0.1</td>\n      <td>53.0</td>\n      <td>17.0</td>\n      <td>17/06/2017 01:29:45</td>\n      <td>347926</td>\n      <td>1</td>\n      <td>...</td>\n      <td>20.0</td>\n      <td>0.0</td>\n      <td>0.0</td>\n      <td>0.0</td>\n      <td>0.0</td>\n      <td>0.0</td>\n      <td>0.0</td>\n      <td>0.0</td>\n      <td>0.0</td>\n      <td>Benign</td>\n    </tr>\n    <tr>\n      <th>355629</th>\n      <td>409</td>\n      <td>10.42.0.211-10.42.0.1-9320-53-17</td>\n      <td>10.42.0.211</td>\n      <td>9320</td>\n      <td>10.42.0.1</td>\n      <td>53.0</td>\n      <td>17.0</td>\n      <td>17/06/2017 01:30:33</td>\n      <td>125473</td>\n      <td>1</td>\n      <td>...</td>\n      <td>32.0</td>\n      <td>0.0</td>\n      <td>0.0</td>\n      <td>0.0</td>\n      <td>0.0</td>\n      <td>0.0</td>\n      <td>0.0</td>\n      <td>0.0</td>\n      <td>0.0</td>\n      <td>Benign</td>\n    </tr>\n  </tbody>\n</table>\n<p>352741 rows × 86 columns</p>\n</div>"
     },
     "execution_count": 73,
     "metadata": {},
     "output_type": "execute_result"
    }
   ],
   "source": [
    "data_android.dropna()"
   ]
  },
  {
   "cell_type": "code",
   "execution_count": 74,
   "outputs": [
    {
     "data": {
      "text/plain": "Android_Adware         147443\nAndroid_Scareware      117070\nAndroid_SMS_Malware     64524\nBenign                  23708\nName: Label, dtype: int64"
     },
     "execution_count": 74,
     "metadata": {},
     "output_type": "execute_result"
    }
   ],
   "source": [
    "data_android.Label.value_counts()"
   ],
   "metadata": {
    "collapsed": false
   }
  },
  {
   "cell_type": "code",
   "execution_count": 75,
   "outputs": [
    {
     "data": {
      "text/plain": "<Figure size 640x480 with 1 Axes>",
      "image/png": "[encoded data removed]"
     },
     "metadata": {},
     "output_type": "display_data"
    }
   ],
   "source": [
    "data_android.Label.value_counts().plot(kind=\"pie\")\n",
    "pyplot.show()"
   ],
   "metadata": {
    "collapsed": false
   }
  },
  {
   "cell_type": "code",
   "execution_count": 32,
   "metadata": {},
   "outputs": [],
   "source": [
    "results = ProfileReport(data_android.head(20000), title=\"Android Malware Pandas Profiling Report\")"
   ]
  },
  {
   "cell_type": "code",
   "execution_count": 14,
   "metadata": {},
   "outputs": [
    {
     "name": "stderr",
     "output_type": "stream",
     "text": [
      "C:\\Users\\alamine\\Anaconda3\\lib\\site-packages\\pandas\\core\\frame.py:5039: SettingWithCopyWarning: \n",
      "A value is trying to be set on a copy of a slice from a DataFrame\n",
      "\n",
      "See the caveats in the documentation: https://pandas.pydata.org/pandas-docs/stable/user_guide/indexing.html#returning-a-view-versus-a-copy\n",
      "  return super().rename(\n"
     ]
    },
    {
     "data": {
      "text/plain": "Summarize dataset:   0%|          | 0/5 [00:00<?, ?it/s]",
      "application/vnd.jupyter.widget-view+json": {
       "version_major": 2,
       "version_minor": 0,
       "model_id": "b8a45dfb82ab428e847f0cd7e9f81e74"
      }
     },
     "metadata": {},
     "output_type": "display_data"
    },
    {
     "data": {
      "text/plain": "Generate report structure:   0%|          | 0/1 [00:00<?, ?it/s]",
      "application/vnd.jupyter.widget-view+json": {
       "version_major": 2,
       "version_minor": 0,
       "model_id": "0b71ccda3acd41dfbbf19baee7d2dd16"
      }
     },
     "metadata": {},
     "output_type": "display_data"
    },
    {
     "data": {
      "text/plain": "Render HTML:   0%|          | 0/1 [00:00<?, ?it/s]",
      "application/vnd.jupyter.widget-view+json": {
       "version_major": 2,
       "version_minor": 0,
       "model_id": "2968e4bfa2cb4b56b37bc2886359257d"
      }
     },
     "metadata": {},
     "output_type": "display_data"
    },
    {
     "data": {
      "text/plain": "Export report to file:   0%|          | 0/1 [00:00<?, ?it/s]",
      "application/vnd.jupyter.widget-view+json": {
       "version_major": 2,
       "version_minor": 0,
       "model_id": "8402762c5dc14d16ac7a1374b9cacce2"
      }
     },
     "metadata": {},
     "output_type": "display_data"
    }
   ],
   "source": [
    "results.to_file('report.html')"
   ]
  },
  {
   "cell_type": "code",
   "execution_count": 47,
   "outputs": [
    {
     "data": {
      "text/plain": "Unnamed: 0             int64\n Source IP            object\n Source Port           int64\n Destination IP       object\n Destination Port    float64\n                      ...   \nIdle Mean            float64\n Idle Std            float64\n Idle Max            float64\n Idle Min            float64\nLabel                 object\nLength: 85, dtype: object"
     },
     "execution_count": 47,
     "metadata": {},
     "output_type": "execute_result"
    }
   ],
   "source": [
    "data_android.dtypes"
   ],
   "metadata": {
    "collapsed": false
   }
  },
  {
   "cell_type": "code",
   "execution_count": 83,
   "outputs": [
    {
     "data": {
      "text/plain": "0    1.0\nName: CWE Flag Count, dtype: float64"
     },
     "execution_count": 83,
     "metadata": {},
     "output_type": "execute_result"
    }
   ],
   "source": [
    "# clean object columns\n",
    "data_android['CWE Flag Count'] =  data_android['CWE Flag Count'].fillna(0)\n",
    "data_android.drop(data_android.loc[data_android['CWE Flag Count'] == 'SCAREWARE'].index, inplace=True)\n",
    "data_android['CWE Flag Count'] = data_android['CWE Flag Count'].astype(int)\n",
    "data_android['CWE Flag Count'].value_counts(normalize=True)\n"
   ],
   "metadata": {
    "collapsed": false
   }
  },
  {
   "cell_type": "code",
   "execution_count": 82,
   "outputs": [
    {
     "data": {
      "text/plain": "0.0    1.0\nName: Fwd Avg Bytes/Bulk, dtype: float64"
     },
     "execution_count": 82,
     "metadata": {},
     "output_type": "execute_result"
    }
   ],
   "source": [
    "data_android.drop(data_android.loc[data_android['Fwd Avg Bytes/Bulk'] == 'BENIGN'].index, inplace=True)\n",
    "data_android['Fwd Avg Bytes/Bulk'] = data_android['Fwd Avg Bytes/Bulk'].astype(float)\n",
    "data_android['Fwd Avg Bytes/Bulk'].value_counts(normalize=True)"
   ],
   "metadata": {
    "collapsed": false
   }
  },
  {
   "cell_type": "code",
   "execution_count": 96,
   "outputs": [
    {
     "data": {
      "text/plain": "0.0     0.491565\n1.0     0.474189\n2.0     0.025262\n3.0     0.006668\n4.0     0.001434\n5.0     0.000405\n6.0     0.000150\n8.0     0.000125\n7.0     0.000099\n12.0    0.000037\n9.0     0.000023\n10.0    0.000020\n11.0    0.000020\n75.0    0.000003\nName: Down/Up Ratio, dtype: float64"
     },
     "execution_count": 96,
     "metadata": {},
     "output_type": "execute_result"
    }
   ],
   "source": [
    "data_android.drop(data_android.loc[data_android['Down/Up Ratio'] == 'BENIGN'].index, inplace=True)\n",
    "data_android['Down/Up Ratio'] = data_android['Down/Up Ratio'].astype(float)\n",
    "data_android['Down/Up Ratio'].value_counts(normalize=True)"
   ],
   "metadata": {
    "collapsed": false
   }
  },
  {
   "cell_type": "code",
   "execution_count": 90,
   "outputs": [
    {
     "name": "stdout",
     "output_type": "stream",
     "text": [
      "['Unnamed: 0', 'Source Port', 'Destination Port', 'Protocol', 'Flow Duration', 'Total Fwd Packets', 'Total Backward Packets', 'Total Length of Fwd Packets', 'Total Length of Bwd Packets', 'Fwd Packet Length Max', 'Fwd Packet Length Min', 'Fwd Packet Length Mean', 'Fwd Packet Length Std', 'Bwd Packet Length Max', 'Bwd Packet Length Min', 'Bwd Packet Length Mean', 'Bwd Packet Length Std', 'Flow Bytes/s', 'Flow Packets/s', 'Flow IAT Mean', 'Flow IAT Std', 'Flow IAT Max', 'Flow IAT Min', 'Fwd IAT Total', 'Fwd IAT Mean', 'Fwd IAT Std', 'Fwd IAT Max', 'Fwd IAT Min', 'Bwd IAT Total', 'Bwd IAT Mean', 'Bwd IAT Std', 'Bwd IAT Max', 'Bwd IAT Min', 'Fwd PSH Flags', 'Bwd PSH Flags', 'Fwd URG Flags', 'Bwd URG Flags', 'Fwd Header Length', 'Bwd Header Length', 'Fwd Packets/s', 'Bwd Packets/s', 'Min Packet Length', 'Max Packet Length', 'Packet Length Mean', 'Packet Length Std', 'Packet Length Variance', 'FIN Flag Count', 'SYN Flag Count', 'RST Flag Count', 'PSH Flag Count', 'ACK Flag Count', 'URG Flag Count', 'ECE Flag Count', 'Average Packet Size', 'Avg Fwd Segment Size', 'Avg Bwd Segment Size', 'Fwd Header Length.1', 'Fwd Avg Bytes/Bulk', 'Fwd Avg Packets/Bulk', 'Fwd Avg Bulk Rate', 'Bwd Avg Bytes/Bulk', 'Bwd Avg Packets/Bulk', 'Bwd Avg Bulk Rate', 'Subflow Fwd Packets', 'Subflow Fwd Bytes', 'Subflow Bwd Packets', 'Subflow Bwd Bytes', 'Init_Win_bytes_forward', 'Init_Win_bytes_backward', 'act_data_pkt_fwd', 'min_seg_size_forward', 'Active Mean', 'Active Std', 'Active Max', 'Active Min', 'Idle Mean', 'Idle Std', 'Idle Max', 'Idle Min']\n"
     ]
    }
   ],
   "source": [
    "#get all numerical columns\n",
    "numeric_cols = data_android.select_dtypes(include=['int64', 'float64']).columns.tolist()\n",
    "print(numeric_cols)"
   ],
   "metadata": {
    "collapsed": false
   }
  },
  {
   "cell_type": "code",
   "execution_count": 97,
   "outputs": [
    {
     "name": "stdout",
     "output_type": "stream",
     "text": [
      "Index(['Flow ID', 'Source IP', 'Destination IP', 'Timestamp', 'Label'], dtype='object')\n"
     ]
    }
   ],
   "source": [
    "cat_columns = data_android.select_dtypes(include='object').columns\n",
    "print(cat_columns)"
   ],
   "metadata": {
    "collapsed": false
   }
  },
  {
   "cell_type": "code",
   "execution_count": 95,
   "outputs": [
    {
     "name": "stdout",
     "output_type": "stream",
     "text": [
      "Données d'entraînement : \u001B[92m(282194, 85)\u001B[39m\n",
      "Données de test : \u001B[92m(70549, 85)\u001B[39m\n"
     ]
    }
   ],
   "source": [
    "from sklearn.model_selection import train_test_split\n",
    "\n",
    "data_x = data_android.drop([\"Label\"], axis=1)\n",
    "data_y = data_android[\"Label\"]\n",
    "\n",
    "x_train, x_test, y_train, y_test = train_test_split(data_x, data_y, test_size=0.20)\n",
    "print(f\"Données d'entraînement : {Fore.LIGHTGREEN_EX}{x_train.shape}{Fore.RESET}\")\n",
    "print(f\"Données de test : {Fore.LIGHTGREEN_EX}{x_test.shape}{Fore.RESET}\")"
   ],
   "metadata": {
    "collapsed": false
   }
  },
  {
   "cell_type": "code",
   "execution_count": 101,
   "outputs": [
    {
     "data": {
      "text/plain": "<352743x79573 sparse matrix of type '<class 'numpy.float64'>'\n\twith 25044712 stored elements in Compressed Sparse Row format>"
     },
     "execution_count": 101,
     "metadata": {},
     "output_type": "execute_result"
    }
   ],
   "source": [
    "from sklearn.compose import ColumnTransformer\n",
    "from sklearn.preprocessing import StandardScaler, OneHotEncoder\n",
    "from sklearn.impute import SimpleImputer\n",
    "from sklearn.pipeline import Pipeline\n",
    "\n",
    "numeric_transformer = Pipeline(steps=[\n",
    "    (\"imputer\", SimpleImputer(strategy=\"mean\")),\n",
    "    (\"scaler\", StandardScaler())\n",
    "])\n",
    "categorical_transformer = Pipeline(steps=[\n",
    "    (\"imputer\", SimpleImputer(strategy=\"constant\")),\n",
    "    (\"encoder\", OneHotEncoder(handle_unknown=\"ignore\"))\n",
    "])\n",
    "\n",
    "\n",
    "numeric_features = numeric_cols\n",
    "categorical_features = [\"Source IP\", \"Destination IP\", \"Timestamp\"]\n",
    "\n",
    "preprocessor = ColumnTransformer(\n",
    "    transformers=[\n",
    "        (\"numeric\", numeric_transformer, numeric_features),\n",
    "        (\"categorical\", categorical_transformer, categorical_features),\n",
    "    ]\n",
    ")\n",
    "preprocessor.fit_transform(data_x)"
   ],
   "metadata": {
    "collapsed": false
   }
  },
  {
   "cell_type": "code",
   "execution_count": 103,
   "outputs": [
    {
     "name": "stdout",
     "output_type": "stream",
     "text": [
      "Unnamed: 0          int64\n",
      "Flow ID            object\n",
      "Source IP          object\n",
      "Source Port         int64\n",
      "Destination IP     object\n",
      "                   ...   \n",
      "Idle Mean         float64\n",
      "Idle Std          float64\n",
      "Idle Max          float64\n",
      "Idle Min          float64\n",
      "Label              object\n",
      "Length: 86, dtype: object\n"
     ]
    }
   ],
   "source": [
    "print(data_android.dtypes)\n"
   ],
   "metadata": {
    "collapsed": false
   }
  },
  {
   "cell_type": "code",
   "execution_count": 102,
   "outputs": [
    {
     "ename": "ValueError",
     "evalue": "could not convert string to float: '10.42.0.151-98.139.183.24-34701-443-6'",
     "output_type": "error",
     "traceback": [
      "\u001B[1;31m---------------------------------------------------------------------------\u001B[0m",
      "\u001B[1;31mValueError\u001B[0m                                Traceback (most recent call last)",
      "\u001B[1;32m~\\AppData\\Local\\Temp/ipykernel_17696/613199926.py\u001B[0m in \u001B[0;36m<module>\u001B[1;34m\u001B[0m\n\u001B[0;32m      2\u001B[0m \u001B[1;33m\u001B[0m\u001B[0m\n\u001B[0;32m      3\u001B[0m \u001B[0mmodel_knn\u001B[0m \u001B[1;33m=\u001B[0m \u001B[0mKNeighborsClassifier\u001B[0m\u001B[1;33m(\u001B[0m\u001B[1;33m)\u001B[0m\u001B[1;33m\u001B[0m\u001B[1;33m\u001B[0m\u001B[0m\n\u001B[1;32m----> 4\u001B[1;33m \u001B[0mmodel_knn\u001B[0m\u001B[1;33m.\u001B[0m\u001B[0mfit\u001B[0m\u001B[1;33m(\u001B[0m\u001B[0mx_train\u001B[0m\u001B[1;33m,\u001B[0m \u001B[0my_train\u001B[0m\u001B[1;33m)\u001B[0m\u001B[1;33m\u001B[0m\u001B[1;33m\u001B[0m\u001B[0m\n\u001B[0m\u001B[0;32m      5\u001B[0m \u001B[1;33m\u001B[0m\u001B[0m\n\u001B[0;32m      6\u001B[0m print((\n",
      "\u001B[1;32m~\\Anaconda3\\lib\\site-packages\\sklearn\\neighbors\\_classification.py\u001B[0m in \u001B[0;36mfit\u001B[1;34m(self, X, y)\u001B[0m\n\u001B[0;32m    177\u001B[0m             \u001B[0mThe\u001B[0m \u001B[0mfitted\u001B[0m \u001B[0mk\u001B[0m\u001B[1;33m-\u001B[0m\u001B[0mnearest\u001B[0m \u001B[0mneighbors\u001B[0m \u001B[0mclassifier\u001B[0m\u001B[1;33m.\u001B[0m\u001B[1;33m\u001B[0m\u001B[1;33m\u001B[0m\u001B[0m\n\u001B[0;32m    178\u001B[0m         \"\"\"\n\u001B[1;32m--> 179\u001B[1;33m         \u001B[1;32mreturn\u001B[0m \u001B[0mself\u001B[0m\u001B[1;33m.\u001B[0m\u001B[0m_fit\u001B[0m\u001B[1;33m(\u001B[0m\u001B[0mX\u001B[0m\u001B[1;33m,\u001B[0m \u001B[0my\u001B[0m\u001B[1;33m)\u001B[0m\u001B[1;33m\u001B[0m\u001B[1;33m\u001B[0m\u001B[0m\n\u001B[0m\u001B[0;32m    180\u001B[0m \u001B[1;33m\u001B[0m\u001B[0m\n\u001B[0;32m    181\u001B[0m     \u001B[1;32mdef\u001B[0m \u001B[0mpredict\u001B[0m\u001B[1;33m(\u001B[0m\u001B[0mself\u001B[0m\u001B[1;33m,\u001B[0m \u001B[0mX\u001B[0m\u001B[1;33m)\u001B[0m\u001B[1;33m:\u001B[0m\u001B[1;33m\u001B[0m\u001B[1;33m\u001B[0m\u001B[0m\n",
      "\u001B[1;32m~\\Anaconda3\\lib\\site-packages\\sklearn\\neighbors\\_base.py\u001B[0m in \u001B[0;36m_fit\u001B[1;34m(self, X, y)\u001B[0m\n\u001B[0;32m    361\u001B[0m         \u001B[1;32mif\u001B[0m \u001B[0mself\u001B[0m\u001B[1;33m.\u001B[0m\u001B[0m_get_tags\u001B[0m\u001B[1;33m(\u001B[0m\u001B[1;33m)\u001B[0m\u001B[1;33m[\u001B[0m\u001B[1;34m\"requires_y\"\u001B[0m\u001B[1;33m]\u001B[0m\u001B[1;33m:\u001B[0m\u001B[1;33m\u001B[0m\u001B[1;33m\u001B[0m\u001B[0m\n\u001B[0;32m    362\u001B[0m             \u001B[1;32mif\u001B[0m \u001B[1;32mnot\u001B[0m \u001B[0misinstance\u001B[0m\u001B[1;33m(\u001B[0m\u001B[0mX\u001B[0m\u001B[1;33m,\u001B[0m \u001B[1;33m(\u001B[0m\u001B[0mKDTree\u001B[0m\u001B[1;33m,\u001B[0m \u001B[0mBallTree\u001B[0m\u001B[1;33m,\u001B[0m \u001B[0mNeighborsBase\u001B[0m\u001B[1;33m)\u001B[0m\u001B[1;33m)\u001B[0m\u001B[1;33m:\u001B[0m\u001B[1;33m\u001B[0m\u001B[1;33m\u001B[0m\u001B[0m\n\u001B[1;32m--> 363\u001B[1;33m                 X, y = self._validate_data(X, y, accept_sparse=\"csr\",\n\u001B[0m\u001B[0;32m    364\u001B[0m                                            multi_output=True)\n\u001B[0;32m    365\u001B[0m \u001B[1;33m\u001B[0m\u001B[0m\n",
      "\u001B[1;32m~\\Anaconda3\\lib\\site-packages\\sklearn\\base.py\u001B[0m in \u001B[0;36m_validate_data\u001B[1;34m(self, X, y, reset, validate_separately, **check_params)\u001B[0m\n\u001B[0;32m    431\u001B[0m                 \u001B[0my\u001B[0m \u001B[1;33m=\u001B[0m \u001B[0mcheck_array\u001B[0m\u001B[1;33m(\u001B[0m\u001B[0my\u001B[0m\u001B[1;33m,\u001B[0m \u001B[1;33m**\u001B[0m\u001B[0mcheck_y_params\u001B[0m\u001B[1;33m)\u001B[0m\u001B[1;33m\u001B[0m\u001B[1;33m\u001B[0m\u001B[0m\n\u001B[0;32m    432\u001B[0m             \u001B[1;32melse\u001B[0m\u001B[1;33m:\u001B[0m\u001B[1;33m\u001B[0m\u001B[1;33m\u001B[0m\u001B[0m\n\u001B[1;32m--> 433\u001B[1;33m                 \u001B[0mX\u001B[0m\u001B[1;33m,\u001B[0m \u001B[0my\u001B[0m \u001B[1;33m=\u001B[0m \u001B[0mcheck_X_y\u001B[0m\u001B[1;33m(\u001B[0m\u001B[0mX\u001B[0m\u001B[1;33m,\u001B[0m \u001B[0my\u001B[0m\u001B[1;33m,\u001B[0m \u001B[1;33m**\u001B[0m\u001B[0mcheck_params\u001B[0m\u001B[1;33m)\u001B[0m\u001B[1;33m\u001B[0m\u001B[1;33m\u001B[0m\u001B[0m\n\u001B[0m\u001B[0;32m    434\u001B[0m             \u001B[0mout\u001B[0m \u001B[1;33m=\u001B[0m \u001B[0mX\u001B[0m\u001B[1;33m,\u001B[0m \u001B[0my\u001B[0m\u001B[1;33m\u001B[0m\u001B[1;33m\u001B[0m\u001B[0m\n\u001B[0;32m    435\u001B[0m \u001B[1;33m\u001B[0m\u001B[0m\n",
      "\u001B[1;32m~\\Anaconda3\\lib\\site-packages\\sklearn\\utils\\validation.py\u001B[0m in \u001B[0;36minner_f\u001B[1;34m(*args, **kwargs)\u001B[0m\n\u001B[0;32m     61\u001B[0m             \u001B[0mextra_args\u001B[0m \u001B[1;33m=\u001B[0m \u001B[0mlen\u001B[0m\u001B[1;33m(\u001B[0m\u001B[0margs\u001B[0m\u001B[1;33m)\u001B[0m \u001B[1;33m-\u001B[0m \u001B[0mlen\u001B[0m\u001B[1;33m(\u001B[0m\u001B[0mall_args\u001B[0m\u001B[1;33m)\u001B[0m\u001B[1;33m\u001B[0m\u001B[1;33m\u001B[0m\u001B[0m\n\u001B[0;32m     62\u001B[0m             \u001B[1;32mif\u001B[0m \u001B[0mextra_args\u001B[0m \u001B[1;33m<=\u001B[0m \u001B[1;36m0\u001B[0m\u001B[1;33m:\u001B[0m\u001B[1;33m\u001B[0m\u001B[1;33m\u001B[0m\u001B[0m\n\u001B[1;32m---> 63\u001B[1;33m                 \u001B[1;32mreturn\u001B[0m \u001B[0mf\u001B[0m\u001B[1;33m(\u001B[0m\u001B[1;33m*\u001B[0m\u001B[0margs\u001B[0m\u001B[1;33m,\u001B[0m \u001B[1;33m**\u001B[0m\u001B[0mkwargs\u001B[0m\u001B[1;33m)\u001B[0m\u001B[1;33m\u001B[0m\u001B[1;33m\u001B[0m\u001B[0m\n\u001B[0m\u001B[0;32m     64\u001B[0m \u001B[1;33m\u001B[0m\u001B[0m\n\u001B[0;32m     65\u001B[0m             \u001B[1;31m# extra_args > 0\u001B[0m\u001B[1;33m\u001B[0m\u001B[1;33m\u001B[0m\u001B[0m\n",
      "\u001B[1;32m~\\Anaconda3\\lib\\site-packages\\sklearn\\utils\\validation.py\u001B[0m in \u001B[0;36mcheck_X_y\u001B[1;34m(X, y, accept_sparse, accept_large_sparse, dtype, order, copy, force_all_finite, ensure_2d, allow_nd, multi_output, ensure_min_samples, ensure_min_features, y_numeric, estimator)\u001B[0m\n\u001B[0;32m    869\u001B[0m         \u001B[1;32mraise\u001B[0m \u001B[0mValueError\u001B[0m\u001B[1;33m(\u001B[0m\u001B[1;34m\"y cannot be None\"\u001B[0m\u001B[1;33m)\u001B[0m\u001B[1;33m\u001B[0m\u001B[1;33m\u001B[0m\u001B[0m\n\u001B[0;32m    870\u001B[0m \u001B[1;33m\u001B[0m\u001B[0m\n\u001B[1;32m--> 871\u001B[1;33m     X = check_array(X, accept_sparse=accept_sparse,\n\u001B[0m\u001B[0;32m    872\u001B[0m                     \u001B[0maccept_large_sparse\u001B[0m\u001B[1;33m=\u001B[0m\u001B[0maccept_large_sparse\u001B[0m\u001B[1;33m,\u001B[0m\u001B[1;33m\u001B[0m\u001B[1;33m\u001B[0m\u001B[0m\n\u001B[0;32m    873\u001B[0m                     \u001B[0mdtype\u001B[0m\u001B[1;33m=\u001B[0m\u001B[0mdtype\u001B[0m\u001B[1;33m,\u001B[0m \u001B[0morder\u001B[0m\u001B[1;33m=\u001B[0m\u001B[0morder\u001B[0m\u001B[1;33m,\u001B[0m \u001B[0mcopy\u001B[0m\u001B[1;33m=\u001B[0m\u001B[0mcopy\u001B[0m\u001B[1;33m,\u001B[0m\u001B[1;33m\u001B[0m\u001B[1;33m\u001B[0m\u001B[0m\n",
      "\u001B[1;32m~\\Anaconda3\\lib\\site-packages\\sklearn\\utils\\validation.py\u001B[0m in \u001B[0;36minner_f\u001B[1;34m(*args, **kwargs)\u001B[0m\n\u001B[0;32m     61\u001B[0m             \u001B[0mextra_args\u001B[0m \u001B[1;33m=\u001B[0m \u001B[0mlen\u001B[0m\u001B[1;33m(\u001B[0m\u001B[0margs\u001B[0m\u001B[1;33m)\u001B[0m \u001B[1;33m-\u001B[0m \u001B[0mlen\u001B[0m\u001B[1;33m(\u001B[0m\u001B[0mall_args\u001B[0m\u001B[1;33m)\u001B[0m\u001B[1;33m\u001B[0m\u001B[1;33m\u001B[0m\u001B[0m\n\u001B[0;32m     62\u001B[0m             \u001B[1;32mif\u001B[0m \u001B[0mextra_args\u001B[0m \u001B[1;33m<=\u001B[0m \u001B[1;36m0\u001B[0m\u001B[1;33m:\u001B[0m\u001B[1;33m\u001B[0m\u001B[1;33m\u001B[0m\u001B[0m\n\u001B[1;32m---> 63\u001B[1;33m                 \u001B[1;32mreturn\u001B[0m \u001B[0mf\u001B[0m\u001B[1;33m(\u001B[0m\u001B[1;33m*\u001B[0m\u001B[0margs\u001B[0m\u001B[1;33m,\u001B[0m \u001B[1;33m**\u001B[0m\u001B[0mkwargs\u001B[0m\u001B[1;33m)\u001B[0m\u001B[1;33m\u001B[0m\u001B[1;33m\u001B[0m\u001B[0m\n\u001B[0m\u001B[0;32m     64\u001B[0m \u001B[1;33m\u001B[0m\u001B[0m\n\u001B[0;32m     65\u001B[0m             \u001B[1;31m# extra_args > 0\u001B[0m\u001B[1;33m\u001B[0m\u001B[1;33m\u001B[0m\u001B[0m\n",
      "\u001B[1;32m~\\Anaconda3\\lib\\site-packages\\sklearn\\utils\\validation.py\u001B[0m in \u001B[0;36mcheck_array\u001B[1;34m(array, accept_sparse, accept_large_sparse, dtype, order, copy, force_all_finite, ensure_2d, allow_nd, ensure_min_samples, ensure_min_features, estimator)\u001B[0m\n\u001B[0;32m    671\u001B[0m                     \u001B[0marray\u001B[0m \u001B[1;33m=\u001B[0m \u001B[0marray\u001B[0m\u001B[1;33m.\u001B[0m\u001B[0mastype\u001B[0m\u001B[1;33m(\u001B[0m\u001B[0mdtype\u001B[0m\u001B[1;33m,\u001B[0m \u001B[0mcasting\u001B[0m\u001B[1;33m=\u001B[0m\u001B[1;34m\"unsafe\"\u001B[0m\u001B[1;33m,\u001B[0m \u001B[0mcopy\u001B[0m\u001B[1;33m=\u001B[0m\u001B[1;32mFalse\u001B[0m\u001B[1;33m)\u001B[0m\u001B[1;33m\u001B[0m\u001B[1;33m\u001B[0m\u001B[0m\n\u001B[0;32m    672\u001B[0m                 \u001B[1;32melse\u001B[0m\u001B[1;33m:\u001B[0m\u001B[1;33m\u001B[0m\u001B[1;33m\u001B[0m\u001B[0m\n\u001B[1;32m--> 673\u001B[1;33m                     \u001B[0marray\u001B[0m \u001B[1;33m=\u001B[0m \u001B[0mnp\u001B[0m\u001B[1;33m.\u001B[0m\u001B[0masarray\u001B[0m\u001B[1;33m(\u001B[0m\u001B[0marray\u001B[0m\u001B[1;33m,\u001B[0m \u001B[0morder\u001B[0m\u001B[1;33m=\u001B[0m\u001B[0morder\u001B[0m\u001B[1;33m,\u001B[0m \u001B[0mdtype\u001B[0m\u001B[1;33m=\u001B[0m\u001B[0mdtype\u001B[0m\u001B[1;33m)\u001B[0m\u001B[1;33m\u001B[0m\u001B[1;33m\u001B[0m\u001B[0m\n\u001B[0m\u001B[0;32m    674\u001B[0m             \u001B[1;32mexcept\u001B[0m \u001B[0mComplexWarning\u001B[0m \u001B[1;32mas\u001B[0m \u001B[0mcomplex_warning\u001B[0m\u001B[1;33m:\u001B[0m\u001B[1;33m\u001B[0m\u001B[1;33m\u001B[0m\u001B[0m\n\u001B[0;32m    675\u001B[0m                 raise ValueError(\"Complex data not supported\\n\"\n",
      "\u001B[1;32m~\\Anaconda3\\lib\\site-packages\\numpy\\core\\_asarray.py\u001B[0m in \u001B[0;36masarray\u001B[1;34m(a, dtype, order, like)\u001B[0m\n\u001B[0;32m    100\u001B[0m         \u001B[1;32mreturn\u001B[0m \u001B[0m_asarray_with_like\u001B[0m\u001B[1;33m(\u001B[0m\u001B[0ma\u001B[0m\u001B[1;33m,\u001B[0m \u001B[0mdtype\u001B[0m\u001B[1;33m=\u001B[0m\u001B[0mdtype\u001B[0m\u001B[1;33m,\u001B[0m \u001B[0morder\u001B[0m\u001B[1;33m=\u001B[0m\u001B[0morder\u001B[0m\u001B[1;33m,\u001B[0m \u001B[0mlike\u001B[0m\u001B[1;33m=\u001B[0m\u001B[0mlike\u001B[0m\u001B[1;33m)\u001B[0m\u001B[1;33m\u001B[0m\u001B[1;33m\u001B[0m\u001B[0m\n\u001B[0;32m    101\u001B[0m \u001B[1;33m\u001B[0m\u001B[0m\n\u001B[1;32m--> 102\u001B[1;33m     \u001B[1;32mreturn\u001B[0m \u001B[0marray\u001B[0m\u001B[1;33m(\u001B[0m\u001B[0ma\u001B[0m\u001B[1;33m,\u001B[0m \u001B[0mdtype\u001B[0m\u001B[1;33m,\u001B[0m \u001B[0mcopy\u001B[0m\u001B[1;33m=\u001B[0m\u001B[1;32mFalse\u001B[0m\u001B[1;33m,\u001B[0m \u001B[0morder\u001B[0m\u001B[1;33m=\u001B[0m\u001B[0morder\u001B[0m\u001B[1;33m)\u001B[0m\u001B[1;33m\u001B[0m\u001B[1;33m\u001B[0m\u001B[0m\n\u001B[0m\u001B[0;32m    103\u001B[0m \u001B[1;33m\u001B[0m\u001B[0m\n\u001B[0;32m    104\u001B[0m \u001B[1;33m\u001B[0m\u001B[0m\n",
      "\u001B[1;32m~\\Anaconda3\\lib\\site-packages\\pandas\\core\\generic.py\u001B[0m in \u001B[0;36m__array__\u001B[1;34m(self, dtype)\u001B[0m\n\u001B[0;32m   1991\u001B[0m \u001B[1;33m\u001B[0m\u001B[0m\n\u001B[0;32m   1992\u001B[0m     \u001B[1;32mdef\u001B[0m \u001B[0m__array__\u001B[0m\u001B[1;33m(\u001B[0m\u001B[0mself\u001B[0m\u001B[1;33m,\u001B[0m \u001B[0mdtype\u001B[0m\u001B[1;33m:\u001B[0m \u001B[0mNpDtype\u001B[0m \u001B[1;33m|\u001B[0m \u001B[1;32mNone\u001B[0m \u001B[1;33m=\u001B[0m \u001B[1;32mNone\u001B[0m\u001B[1;33m)\u001B[0m \u001B[1;33m->\u001B[0m \u001B[0mnp\u001B[0m\u001B[1;33m.\u001B[0m\u001B[0mndarray\u001B[0m\u001B[1;33m:\u001B[0m\u001B[1;33m\u001B[0m\u001B[1;33m\u001B[0m\u001B[0m\n\u001B[1;32m-> 1993\u001B[1;33m         \u001B[1;32mreturn\u001B[0m \u001B[0mnp\u001B[0m\u001B[1;33m.\u001B[0m\u001B[0masarray\u001B[0m\u001B[1;33m(\u001B[0m\u001B[0mself\u001B[0m\u001B[1;33m.\u001B[0m\u001B[0m_values\u001B[0m\u001B[1;33m,\u001B[0m \u001B[0mdtype\u001B[0m\u001B[1;33m=\u001B[0m\u001B[0mdtype\u001B[0m\u001B[1;33m)\u001B[0m\u001B[1;33m\u001B[0m\u001B[1;33m\u001B[0m\u001B[0m\n\u001B[0m\u001B[0;32m   1994\u001B[0m \u001B[1;33m\u001B[0m\u001B[0m\n\u001B[0;32m   1995\u001B[0m     def __array_wrap__(\n",
      "\u001B[1;32m~\\Anaconda3\\lib\\site-packages\\numpy\\core\\_asarray.py\u001B[0m in \u001B[0;36masarray\u001B[1;34m(a, dtype, order, like)\u001B[0m\n\u001B[0;32m    100\u001B[0m         \u001B[1;32mreturn\u001B[0m \u001B[0m_asarray_with_like\u001B[0m\u001B[1;33m(\u001B[0m\u001B[0ma\u001B[0m\u001B[1;33m,\u001B[0m \u001B[0mdtype\u001B[0m\u001B[1;33m=\u001B[0m\u001B[0mdtype\u001B[0m\u001B[1;33m,\u001B[0m \u001B[0morder\u001B[0m\u001B[1;33m=\u001B[0m\u001B[0morder\u001B[0m\u001B[1;33m,\u001B[0m \u001B[0mlike\u001B[0m\u001B[1;33m=\u001B[0m\u001B[0mlike\u001B[0m\u001B[1;33m)\u001B[0m\u001B[1;33m\u001B[0m\u001B[1;33m\u001B[0m\u001B[0m\n\u001B[0;32m    101\u001B[0m \u001B[1;33m\u001B[0m\u001B[0m\n\u001B[1;32m--> 102\u001B[1;33m     \u001B[1;32mreturn\u001B[0m \u001B[0marray\u001B[0m\u001B[1;33m(\u001B[0m\u001B[0ma\u001B[0m\u001B[1;33m,\u001B[0m \u001B[0mdtype\u001B[0m\u001B[1;33m,\u001B[0m \u001B[0mcopy\u001B[0m\u001B[1;33m=\u001B[0m\u001B[1;32mFalse\u001B[0m\u001B[1;33m,\u001B[0m \u001B[0morder\u001B[0m\u001B[1;33m=\u001B[0m\u001B[0morder\u001B[0m\u001B[1;33m)\u001B[0m\u001B[1;33m\u001B[0m\u001B[1;33m\u001B[0m\u001B[0m\n\u001B[0m\u001B[0;32m    103\u001B[0m \u001B[1;33m\u001B[0m\u001B[0m\n\u001B[0;32m    104\u001B[0m \u001B[1;33m\u001B[0m\u001B[0m\n",
      "\u001B[1;31mValueError\u001B[0m: could not convert string to float: '10.42.0.151-98.139.183.24-34701-443-6'"
     ]
    }
   ],
   "source": [
    "from sklearn.neighbors import KNeighborsClassifier\n",
    "\n",
    "model_knn = KNeighborsClassifier()\n",
    "model_knn.fit(x_train, y_train)\n",
    "\n",
    "print((\n",
    "    f\"Model score:\\n\"\n",
    "    f\"\\t{Fore.WHITE}{Style.DIM}∟ train → {round(model_knn.score(x_train, y_train) * 100, 2)}%{Fore.WHITE}{Style.DIM})\\n\"\n",
    "    f\"\\t{Fore.WHITE}{Style.DIM}∟ test → {round(model_knn.score(x_test, y_test) * 100, 2)}%{Fore.WHITE}{Style.DIM})\"\n",
    "))\n"
   ],
   "metadata": {
    "collapsed": false
   }
  },
  {
   "cell_type": "code",
   "execution_count": null,
   "outputs": [],
   "source": [],
   "metadata": {
    "collapsed": false
   }
  }
 ],
 "metadata": {
  "kernelspec": {
   "display_name": "Python 3",
   "language": "python",
   "name": "python3"
  },
  "language_info": {
   "codemirror_mode": {
    "name": "ipython",
    "version": 3
   },
   "file_extension": ".py",
   "mimetype": "text/x-python",
   "name": "python",
   "nbconvert_exporter": "python",
   "pygments_lexer": "ipython3",
   "version": "3.9.13"
  },
  "orig_nbformat": 4
 },
 "nbformat": 4,
 "nbformat_minor": 2
}
