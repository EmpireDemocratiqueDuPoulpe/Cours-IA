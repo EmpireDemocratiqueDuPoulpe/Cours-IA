{
 "cells": [
  {
   "attachments": {},
   "cell_type": "markdown",
   "metadata": {},
   "source": [
    "## School project - 5MLDE"
   ]
  },
  {
   "attachments": {},
   "cell_type": "markdown",
   "metadata": {},
   "source": [
    "The following notebook was created for a school project to create an anime recommendation system. The subject and the questions are available in the appendix.\n",
    "\n",
    "The group members who participated in this project are:\n",
    "\n",
    "    AMIMI Lamine\n",
    "    BEZIN Théo\n",
    "    LECOMTE Alexis\n",
    "    PAWLOWSKI Maxence\n"
   ]
  },
  {
   "cell_type": "markdown",
   "metadata": {},
   "source": []
  },
  {
   "attachments": {},
   "cell_type": "markdown",
   "metadata": {},
   "source": [
    "## 1 - Data analysis"
   ]
  },
  {
   "cell_type": "code",
   "execution_count": 1,
   "metadata": {},
   "outputs": [],
   "source": [
    "# OS and filesystem\n",
    "from pathlib import Path\n",
    "\n",
    "# Data\n",
    "import pandas\n",
    "from matplotlib import pyplot\n",
    "import matplotx\n",
    "\n",
    "# Console output\n",
    "from colorama import Fore, Style\n",
    "\n",
    "# from pandas_profiling import ProfileReport\n"
   ]
  },
  {
   "cell_type": "code",
   "execution_count": 2,
   "metadata": {},
   "outputs": [],
   "source": [
    "pyplot.rcParams.update(pyplot.rcParamsDefault)\n",
    "pyplot.style.use(matplotx.styles.dracula)  # Set the matplotlib style"
   ]
  },
  {
   "cell_type": "code",
   "execution_count": 3,
   "metadata": {},
   "outputs": [],
   "source": [
    "# Filesystem paths\n",
    "PARENT_FOLDER = Path.cwd()\n",
    "DATA_FOLDER = (PARENT_FOLDER / \"..\" / \"..\" / \"data\").resolve()\n",
    "MODELS_FOLDER = (PARENT_FOLDER / \"..\" / \"..\" / \"models\").resolve()\n",
    "\n",
    "# Plots\n",
    "FIG_SIZE = (12, 7)\n",
    "\n",
    "# Misc.\n",
    "RANDOM_STATE = 2077"
   ]
  },
  {
   "attachments": {},
   "cell_type": "markdown",
   "metadata": {},
   "source": [
    "### Dataset loading"
   ]
  },
  {
   "cell_type": "code",
   "execution_count": 25,
   "metadata": {},
   "outputs": [
    {
     "name": "stdout",
     "output_type": "stream",
     "text": [
      "Unexpected exception formatting exception. Falling back to standard exception\n"
     ]
    },
    {
     "name": "stderr",
     "output_type": "stream",
     "text": [
      "Traceback (most recent call last):\n",
      "  File \"pandas\\_libs\\parsers.pyx\", line 1124, in pandas._libs.parsers.TextReader._convert_tokens\n",
      "TypeError: Cannot cast array data from dtype('O') to dtype('float64') according to the rule 'safe'\n",
      "\n",
      "During handling of the above exception, another exception occurred:\n",
      "\n",
      "Traceback (most recent call last):\n",
      "  File \"C:\\Users\\alexi\\miniconda3\\envs\\5MLRE\\lib\\site-packages\\IPython\\core\\interactiveshell.py\", line 3460, in run_code\n",
      "    exec(code_obj, self.user_global_ns, self.user_ns)\n",
      "  File \"C:\\Users\\alexi\\AppData\\Local\\Temp\\ipykernel_12712\\1283897203.py\", line 1, in <module>\n",
      "    data_android = pandas.read_csv((DATA_FOLDER / \"Android_Malware.csv\"), index_col=0, delimiter=\",\", dtype={\n",
      "  File \"C:\\Users\\alexi\\miniconda3\\envs\\5MLRE\\lib\\site-packages\\pandas\\util\\_decorators.py\", line 211, in wrapper\n",
      "    return func(*args, **kwargs)\n",
      "  File \"C:\\Users\\alexi\\miniconda3\\envs\\5MLRE\\lib\\site-packages\\pandas\\util\\_decorators.py\", line 331, in wrapper\n",
      "    return func(*args, **kwargs)\n",
      "  File \"C:\\Users\\alexi\\miniconda3\\envs\\5MLRE\\lib\\site-packages\\pandas\\io\\parsers\\readers.py\", line 950, in read_csv\n",
      "    return _read(filepath_or_buffer, kwds)\n",
      "  File \"C:\\Users\\alexi\\miniconda3\\envs\\5MLRE\\lib\\site-packages\\pandas\\io\\parsers\\readers.py\", line 611, in _read\n",
      "    return parser.read(nrows)\n",
      "  File \"C:\\Users\\alexi\\miniconda3\\envs\\5MLRE\\lib\\site-packages\\pandas\\io\\parsers\\readers.py\", line 1778, in read\n",
      "    ) = self._engine.read(  # type: ignore[attr-defined]\n",
      "  File \"C:\\Users\\alexi\\miniconda3\\envs\\5MLRE\\lib\\site-packages\\pandas\\io\\parsers\\c_parser_wrapper.py\", line 230, in read\n",
      "    chunks = self._reader.read_low_memory(nrows)\n",
      "  File \"pandas\\_libs\\parsers.pyx\", line 808, in pandas._libs.parsers.TextReader.read_low_memory\n",
      "  File \"pandas\\_libs\\parsers.pyx\", line 890, in pandas._libs.parsers.TextReader._read_rows\n",
      "  File \"pandas\\_libs\\parsers.pyx\", line 1037, in pandas._libs.parsers.TextReader._convert_column_data\n",
      "  File \"pandas\\_libs\\parsers.pyx\", line 1130, in pandas._libs.parsers.TextReader._convert_tokens\n",
      "ValueError: could not convert string to float: 'BENIGN'\n",
      "\n",
      "During handling of the above exception, another exception occurred:\n",
      "\n",
      "Traceback (most recent call last):\n",
      "  File \"C:\\Users\\alexi\\miniconda3\\envs\\5MLRE\\lib\\site-packages\\IPython\\core\\interactiveshell.py\", line 2057, in showtraceback\n",
      "    stb = self.InteractiveTB.structured_traceback(\n",
      "  File \"C:\\Users\\alexi\\miniconda3\\envs\\5MLRE\\lib\\site-packages\\IPython\\core\\ultratb.py\", line 1288, in structured_traceback\n",
      "    return FormattedTB.structured_traceback(\n",
      "  File \"C:\\Users\\alexi\\miniconda3\\envs\\5MLRE\\lib\\site-packages\\IPython\\core\\ultratb.py\", line 1177, in structured_traceback\n",
      "    return VerboseTB.structured_traceback(\n",
      "  File \"C:\\Users\\alexi\\miniconda3\\envs\\5MLRE\\lib\\site-packages\\IPython\\core\\ultratb.py\", line 1049, in structured_traceback\n",
      "    formatted_exceptions += self.format_exception_as_a_whole(etype, evalue, etb, lines_of_context,\n",
      "  File \"C:\\Users\\alexi\\miniconda3\\envs\\5MLRE\\lib\\site-packages\\IPython\\core\\ultratb.py\", line 935, in format_exception_as_a_whole\n",
      "    self.get_records(etb, number_of_lines_of_context, tb_offset) if etb else []\n",
      "  File \"C:\\Users\\alexi\\miniconda3\\envs\\5MLRE\\lib\\site-packages\\IPython\\core\\ultratb.py\", line 1003, in get_records\n",
      "    lines, first = inspect.getsourcelines(etb.tb_frame)\n",
      "  File \"C:\\Users\\alexi\\miniconda3\\envs\\5MLRE\\lib\\inspect.py\", line 1129, in getsourcelines\n",
      "    lines, lnum = findsource(object)\n",
      "  File \"C:\\Users\\alexi\\miniconda3\\envs\\5MLRE\\lib\\inspect.py\", line 958, in findsource\n",
      "    raise OSError('could not get source code')\n",
      "OSError: could not get source code\n"
     ]
    }
   ],
   "source": [
    "data_android = pandas.read_csv((DATA_FOLDER / \"Android_Malware.csv\"), index_col=0, delimiter=\",\", dtype={\n",
    "    \"Flow ID\": str,\n",
    "    \"Source IP\": str,\n",
    "    \"Source Port\": int,\n",
    "    \"Destination IP\": str,\n",
    "    \"Destination Port\": int,\n",
    "    \"Protocol\": float,\n",
    "    \"Timestamp\": str,\n",
    "    \"Flow Duration\": float,\n",
    "    \"Total Fwd Packets\": float,\n",
    "    \"Total Backward Packets\": float,\n",
    "    \"Total Length of Fwd Packets\": float,\n",
    "    \"Total Length of Bwd Packets\": float,\n",
    "    \"Fwd Packet Length Max\": float,\n",
    "    \"Fwd Packet Length Min\": float,\n",
    "    \"Fwd Packet Length Mean\": float,\n",
    "    \"Fwd Packet Length Std\": float,\n",
    "    \"Bwd Packet Length Max\": float,\n",
    "    \"Bwd Packet Length Min\": float,\n",
    "    \"Bwd Packet Length Mean\": float,\n",
    "    \"Bwd Packet Length Std\": float,\n",
    "    \"Flow Bytes/s\": float,\n",
    "    \"Flow Packets/s\": float,\n",
    "    \"Flow IAT Mean\": float,\n",
    "    \"Flow IAT Std\": float,\n",
    "    \"Flow IAT Max\": float,\n",
    "    \"Flow IAT Min\": float,\n",
    "    \"Fwd IAT Total\": float,\n",
    "    \"Fwd IAT Mean\": float,\n",
    "    \"Fwd IAT Std\": float,\n",
    "    \"Fwd IAT Max\": float,\n",
    "    \"Fwd IAT Min\": float,\n",
    "    \"Bwd IAT Total\": float,\n",
    "    \"Bwd IAT Mean\": float,\n",
    "    \"Bwd IAT Std\": float,\n",
    "    \"Bwd IAT Max\": float,\n",
    "    \"Bwd IAT Min\": float,\n",
    "    \"Fwd PSH Flags\": float,\n",
    "    \"Bwd PSH Flags\": float,\n",
    "    \"Fwd URG Flags\": float,\n",
    "    \"Bwd URG Flags\": float,\n",
    "    \"Fwd Header Length\": float,\n",
    "    \"Bwd Header Length\": float,\n",
    "    \"Fwd Packets/s\": float,\n",
    "    \"Bwd Packets/s\": float,\n",
    "    \"Min Packet Length\": float,\n",
    "    \"Max Packet Length\": float,\n",
    "    \"Packet Length Mean\": float,\n",
    "    \"Packet Length Std\": float,\n",
    "    \"Packet Length Variance\": float,\n",
    "    \"FIN Flag Count\": float,\n",
    "    \"SYN Flag Count\": float,\n",
    "    \"RST Flag Count\": float,\n",
    "    \"PSH Flag Count\": float,\n",
    "    \"ACK Flag Count\": float,\n",
    "    \"URG Flag Count\": float,\n",
    "    \"CWE Flag Count\": str,  # Change later\n",
    "    \"ECE Flag Count\": float,\n",
    "    \"Down/Up Ratio\": str,  # Change later\n",
    "    \"Average Packet Size\": float,\n",
    "    \"Avg Fwd Segment Size\": float,\n",
    "    \"Avg Bwd Segment Size\": float,\n",
    "    \"Fwd Header Length.1\": float,\n",
    "    \"Fwd Avg Bytes/Bulk\": float,\n",
    "    \"Fwd Avg Packets/Bulk\": float,\n",
    "    \"Fwd Avg Bulk Rate\": float,\n",
    "    \"Bwd Avg Bytes/Bulk\": float,\n",
    "    \"Bwd Avg Packets/Bulk\": float,\n",
    "    \"Bwd Avg Bulk Rate\": float,\n",
    "    \"Subflow Fwd Packets\": float,\n",
    "    \"Subflow Fwd Bytes\": float,\n",
    "    \"Subflow Bwd Packets\": float,\n",
    "    \"Subflow Bwd Bytes\": float,\n",
    "    \"Init_Win_bytes_forward\": float,\n",
    "    \"Init_Win_bytes_backward\": float,\n",
    "    \"act_data_pkt_fwd\": float,\n",
    "    \"min_seg_size_forward\": float,\n",
    "    \"Active Mean\": float,\n",
    "    \"Active Std\": float,\n",
    "    \"Active Max\": float,\n",
    "    \"Active Min\": float,\n",
    "    \"Idle Mean\": float,\n",
    "    \"Idle Std\": float,\n",
    "    \"Idle Max\": float,\n",
    "    \"Idle Min\": float,\n",
    "    \"Label\": str\n",
    "})\n",
    "data_android.columns = data_android.columns.str.strip()\n",
    "data_android"
   ]
  },
  {
   "attachments": {},
   "cell_type": "markdown",
   "metadata": {},
   "source": [
    "#### Duplicated values"
   ]
  },
  {
   "cell_type": "code",
   "execution_count": null,
   "metadata": {},
   "outputs": [],
   "source": [
    "def duplicated_values(df, df_name: str = None) -> None:\n",
    "    # Compute the dataset size, the count of duplicated value and the list of duplicated values\n",
    "    data_count = df.shape[0] * df.shape[1]\n",
    "    duplicated_count = df.duplicated().sum()\n",
    "    duplicated = df[df.duplicated(keep=False)] if (duplicated_count > 0) else None\n",
    "\n",
    "    # Show the result\n",
    "    df_name = f\" ({df_name})\" if df_name is not None else \"\"\n",
    "    print(f\"{Style.BRIGHT}Duplicated values{df_name}:{Style.RESET_ALL} {duplicated_count} ({round((duplicated_count.sum() / data_count) * 100, 2)}%)\")\n",
    "    if duplicated is not None:\n",
    "        print(duplicated)\n",
    "\n",
    "\n",
    "duplicated_values(df=data_android)"
   ]
  },
  {
   "attachments": {},
   "cell_type": "markdown",
   "metadata": {},
   "source": [
    "There is only 0.01% of duplicated values, we can afford to delete the rows where there are duplicated values"
   ]
  },
  {
   "cell_type": "code",
   "execution_count": 26,
   "metadata": {},
   "outputs": [],
   "source": [
    "data_android.drop_duplicates(keep=\"first\", inplace=True)"
   ]
  },
  {
   "attachments": {},
   "cell_type": "markdown",
   "metadata": {},
   "source": [
    "#### Null and empty values"
   ]
  },
  {
   "cell_type": "code",
   "execution_count": 27,
   "metadata": {},
   "outputs": [
    {
     "name": "stdout",
     "output_type": "stream",
     "text": [
      "\u001B[1mMissing values:\u001B[0m 0.0%\n",
      "\u001B[2m\u001B[37mFwd Avg Bulk Rate       4 (0.0%)\n",
      "act_data_pkt_fwd        4 (0.0%)\n",
      "Fwd Avg Packets/Bulk    4 (0.0%)\n",
      "Bwd Avg Bytes/Bulk      4 (0.0%)\n",
      "Bwd Avg Packets/Bulk    4 (0.0%)\n",
      "                          ...   \n",
      "Fwd IAT Mean            0 (0.0%)\n",
      "Fwd IAT Total           0 (0.0%)\n",
      "Flow IAT Min            0 (0.0%)\n",
      "Flow IAT Max            0 (0.0%)\n",
      "Label                   0 (0.0%)\n",
      "Length: 85, dtype: object\u001B[0m\n"
     ]
    }
   ],
   "source": [
    "def missing_values(df, df_name: str = None, keep_zeros=True) -> None:\n",
    "    # Compute the dataset size and the count of missing value\n",
    "    data_count = df.shape[0] * df.shape[1]\n",
    "    missing = missing_df = df.isna().sum()\n",
    "\n",
    "    # Filter out column with zero missing value\n",
    "    if not keep_zeros:\n",
    "        missing_df = missing_df[missing_df > 0]\n",
    "\n",
    "    # Calculate the percent of missing values\n",
    "    missing_df = missing_df.sort_values(ascending=False).apply(lambda m: f\"{m} ({round((m * 100) / df.shape[0], 2)}%)\")\n",
    "\n",
    "    # Show the result\n",
    "    df_name = f\" ({df_name})\" if df_name is not None else \"\"\n",
    "    print((\n",
    "        f\"{Style.BRIGHT}Missing values{df_name}:{Style.RESET_ALL} {round((missing.sum() / data_count) * 100, 2)}%\\n\"\n",
    "        f\"{Style.DIM}{Fore.WHITE}{missing_df}{Style.RESET_ALL}\"\n",
    "    ))\n",
    "\n",
    "\n",
    "missing_values(df=data_android, keep_zeros=True)"
   ]
  },
  {
   "attachments": {},
   "cell_type": "markdown",
   "metadata": {},
   "source": [
    "We can see only a very few amount of missing values, we can drop the only lines where there are missing values\n"
   ]
  },
  {
   "cell_type": "code",
   "execution_count": 28,
   "outputs": [
    {
     "data": {
      "text/plain": "Android_Adware         147443\nAndroid_Scareware      117070\nAndroid_SMS_Malware     64524\nBenign                  23708\nName: Label, dtype: int64"
     },
     "execution_count": 28,
     "metadata": {},
     "output_type": "execute_result"
    }
   ],
   "source": [
    "data_android.Label.value_counts()"
   ],
   "metadata": {
    "collapsed": false
   }
  },
  {
   "cell_type": "code",
   "execution_count": 29,
   "outputs": [
    {
     "data": {
      "text/plain": "<Figure size 640x480 with 1 Axes>",
      "image/png": "[encoded data removed]"
     },
     "metadata": {},
     "output_type": "display_data"
    }
   ],
   "source": [
    "data_android.Label.value_counts().plot(kind=\"pie\")\n",
    "pyplot.show()"
   ],
   "metadata": {
    "collapsed": false
   }
  },
  {
   "cell_type": "code",
   "execution_count": 30,
   "metadata": {},
   "outputs": [],
   "source": [
    "# results = ProfileReport(data_android.head(20000), title=\"Android Malware Pandas Profiling Report\")\n",
    "# results.to_file('report.html')"
   ]
  },
  {
   "cell_type": "code",
   "execution_count": 32,
   "outputs": [
    {
     "data": {
      "text/plain": "0    1.0\nName: CWE Flag Count, dtype: float64"
     },
     "execution_count": 32,
     "metadata": {},
     "output_type": "execute_result"
    }
   ],
   "source": [
    "# clean object columns\n",
    "data_android['CWE Flag Count'] =  data_android['CWE Flag Count'].fillna(0)\n",
    "data_android.drop(data_android.loc[data_android['CWE Flag Count'] == 'SCAREWARE'].index, inplace=True)\n",
    "data_android['CWE Flag Count'] = data_android['CWE Flag Count'].astype(int)\n",
    "data_android['CWE Flag Count'].value_counts(normalize=True)"
   ],
   "metadata": {
    "collapsed": false
   }
  },
  {
   "cell_type": "code",
   "execution_count": 33,
   "outputs": [
    {
     "data": {
      "text/plain": "0.0    1.0\nName: Fwd Avg Bytes/Bulk, dtype: float64"
     },
     "execution_count": 33,
     "metadata": {},
     "output_type": "execute_result"
    }
   ],
   "source": [
    "data_android.drop(data_android.loc[data_android['Fwd Avg Bytes/Bulk'] == 'BENIGN'].index, inplace=True)\n",
    "data_android['Fwd Avg Bytes/Bulk'] = data_android['Fwd Avg Bytes/Bulk'].astype(float)\n",
    "data_android['Fwd Avg Bytes/Bulk'].value_counts(normalize=True)"
   ],
   "metadata": {
    "collapsed": false
   }
  },
  {
   "cell_type": "code",
   "execution_count": 34,
   "outputs": [
    {
     "data": {
      "text/plain": "0.0     0.491642\n1.0     0.474098\n2.0     0.025271\n3.0     0.006672\n4.0     0.001435\n5.0     0.000406\n6.0     0.000150\n8.0     0.000125\n7.0     0.000099\n12.0    0.000037\n9.0     0.000023\n10.0    0.000020\n11.0    0.000020\n75.0    0.000003\nName: Down/Up Ratio, dtype: float64"
     },
     "execution_count": 34,
     "metadata": {},
     "output_type": "execute_result"
    }
   ],
   "source": [
    "data_android.drop(data_android.loc[data_android['Down/Up Ratio'] == 'BENIGN'].index, inplace=True)\n",
    "data_android['Down/Up Ratio'] = data_android['Down/Up Ratio'].astype(float)\n",
    "data_android['Down/Up Ratio'].value_counts(normalize=True)"
   ],
   "metadata": {
    "collapsed": false
   }
  },
  {
   "cell_type": "code",
   "execution_count": 35,
   "outputs": [],
   "source": [
    "data_android.drop([\"Flow ID\"], axis=1, inplace=True)"
   ],
   "metadata": {
    "collapsed": false
   }
  },
  {
   "cell_type": "code",
   "execution_count": 36,
   "outputs": [
    {
     "name": "stdout",
     "output_type": "stream",
     "text": [
      "Données d'entraînement : \u001B[92m(282032, 83)\u001B[39m\n",
      "Données de test : \u001B[92m(70508, 83)\u001B[39m\n"
     ]
    }
   ],
   "source": [
    "from sklearn.model_selection import train_test_split\n",
    "\n",
    "data_x = data_android.drop([\"Label\"], axis=1)\n",
    "data_y = data_android[\"Label\"]\n",
    "\n",
    "x_train, x_test, y_train, y_test = train_test_split(data_x, data_y, test_size=0.20)\n",
    "print(f\"Données d'entraînement : {Fore.LIGHTGREEN_EX}{x_train.shape}{Fore.RESET}\")\n",
    "print(f\"Données de test : {Fore.LIGHTGREEN_EX}{x_test.shape}{Fore.RESET}\")"
   ],
   "metadata": {
    "collapsed": false
   }
  },
  {
   "cell_type": "code",
   "execution_count": 39,
   "outputs": [],
   "source": [
    "from sklearn.compose import ColumnTransformer\n",
    "from sklearn.preprocessing import StandardScaler, OneHotEncoder\n",
    "from sklearn.impute import SimpleImputer\n",
    "from sklearn.pipeline import Pipeline\n",
    "\n",
    "numeric_transformer = Pipeline(steps=[\n",
    "    (\"imputer\", SimpleImputer(strategy=\"mean\")),\n",
    "    (\"scaler\", StandardScaler())\n",
    "])\n",
    "categorical_transformer = Pipeline(steps=[\n",
    "    (\"imputer\", SimpleImputer(strategy=\"constant\")),\n",
    "    (\"encoder\", OneHotEncoder(handle_unknown=\"ignore\"))\n",
    "])\n",
    "\n",
    "\n",
    "numeric_features = [\"Source Port\", \"Destination Port\", \"Protocol\", \"Flow Duration\", \"Total Fwd Packets\", \"Total Backward Packets\", \"Total Length of Fwd Packets\", \"Total Length of Bwd Packets\", \"Fwd Packet Length Max\", \"Fwd Packet Length Min\", \"Fwd Packet Length Mean\", \"Fwd Packet Length Std\", \"Bwd Packet Length Max\", \"Bwd Packet Length Min\", \"Bwd Packet Length Mean\", \"Bwd Packet Length Std\", \"Flow Bytes/s\", \"Flow Packets/s\", \"Flow IAT Mean\", \"Flow IAT Std\", \"Flow IAT Max\", \"Flow IAT Min\", \"Fwd IAT Total\", \"Fwd IAT Mean\", \"Fwd IAT Std\", \"Fwd IAT Max\", \"Fwd IAT Min\", \"Bwd IAT Total\", \"Bwd IAT Mean\", \"Bwd IAT Std\", \"Bwd IAT Max\", \"Bwd IAT Min\", \"Fwd PSH Flags\", \"Bwd PSH Flags\", \"Fwd URG Flags\", \"Bwd URG Flags\", \"Fwd Header Length\", \"Bwd Header Length\", \"Fwd Packets/s\", \"Bwd Packets/s\", \"Min Packet Length\", \"Max Packet Length\", \"Packet Length Mean\", \"Packet Length Std\", \"Packet Length Variance\", \"FIN Flag Count\", \"SYN Flag Count\", \"RST Flag Count\", \"PSH Flag Count\", \"ACK Flag Count\", \"URG Flag Count\", \"CWE Flag Count\", \"ECE Flag Count\", \"Down/Up Ratio\", \"Average Packet Size\", \"Avg Fwd Segment Size\", \"Avg Bwd Segment Size\", \"Fwd Header Length.1\", \"Fwd Avg Bytes/Bulk\", \"Fwd Avg Packets/Bulk\", \"Fwd Avg Bulk Rate\", \"Bwd Avg Bytes/Bulk\", \"Bwd Avg Packets/Bulk\", \"Bwd Avg Bulk Rate\", \"Subflow Fwd Packets\", \"Subflow Fwd Bytes\", \"Subflow Bwd Packets\", \"Subflow Bwd Bytes\", \"Init_Win_bytes_forward\", \"Init_Win_bytes_backward\", \"act_data_pkt_fwd\", \"min_seg_size_forward\", \"Active Mean\", \"Active Std\", \"Active Max\", \"Active Min\", \"Idle Mean\", \"Idle Std\", \"Idle Max\", \"Idle Min\"]\n",
    "categorical_features = [\"Source IP\", \"Destination IP\", \"Timestamp\"]\n",
    "\n",
    "preprocessor = ColumnTransformer(\n",
    "    transformers=[\n",
    "        (\"numeric\", numeric_transformer, numeric_features),\n",
    "        (\"categorical\", categorical_transformer, categorical_features),\n",
    "    ]\n",
    ")\n",
    "# preprocessor.fit_transform(data_x)"
   ],
   "metadata": {
    "collapsed": false
   }
  },
  {
   "cell_type": "code",
   "execution_count": 42,
   "outputs": [
    {
     "data": {
      "text/plain": "Android_Adware         147351\nAndroid_Scareware      116989\nAndroid_SMS_Malware     64492\nBenign                  23708\nName: Label, dtype: int64"
     },
     "execution_count": 42,
     "metadata": {},
     "output_type": "execute_result"
    }
   ],
   "source": [
    "data_y.value_counts()"
   ],
   "metadata": {
    "collapsed": false
   }
  },
  {
   "cell_type": "code",
   "execution_count": null,
   "outputs": [],
   "source": [
    "from sklearn.neighbors import KNeighborsClassifier\n",
    "\n",
    "pipeline = Pipeline(steps=[\n",
    "    (\"preprocessor\", preprocessor),\n",
    "    (\"k_neighbors_classifier\", KNeighborsClassifier())\n",
    "])\n",
    "\n",
    "pipeline.fit(x_train, y_train)\n",
    "\n",
    "print((\n",
    "    f\"Model score:\\n\"\n",
    "    f\"\\t{Fore.WHITE}{Style.DIM}∟ train → {round(pipeline.score(x_train, y_train) * 100, 2)}%{Fore.WHITE}{Style.DIM})\\n\"\n",
    "    f\"\\t{Fore.WHITE}{Style.DIM}∟ test → {round(pipeline.score(x_test, y_test) * 100, 2)}%{Fore.WHITE}{Style.DIM})\"\n",
    "))\n"
   ],
   "metadata": {
    "collapsed": false,
    "pycharm": {
     "is_executing": true
    }
   }
  },
  {
   "cell_type": "code",
   "execution_count": null,
   "outputs": [],
   "source": [
    "import pickle\n",
    "\n",
    "with (MODELS_FOLDER / \"model.ckp\").open(mode=\"wb\") as dump_file:\n",
    "    pickle.dump(pipeline[\"k_neighbors_classifier\"], dump_file)"
   ],
   "metadata": {
    "collapsed": false
   }
  }
 ],
 "metadata": {
  "kernelspec": {
   "display_name": "Python 3",
   "language": "python",
   "name": "python3"
  },
  "language_info": {
   "codemirror_mode": {
    "name": "ipython",
    "version": 3
   },
   "file_extension": ".py",
   "mimetype": "text/x-python",
   "name": "python",
   "nbconvert_exporter": "python",
   "pygments_lexer": "ipython3",
   "version": "3.9.13"
  },
  "orig_nbformat": 4
 },
 "nbformat": 4,
 "nbformat_minor": 2
}
