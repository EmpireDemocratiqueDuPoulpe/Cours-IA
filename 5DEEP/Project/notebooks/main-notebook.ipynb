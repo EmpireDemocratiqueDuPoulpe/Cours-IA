{
 "cells": [
  {
   "cell_type": "markdown",
   "source": [
    "# 5DEEP - Projet\n",
    "As stated on the [dataset website](https://urbansounddataset.weebly.com/urbansound8k.html), the dataset contains 8,732 labeled excerpts of up to four seconds in length. These sounds were recorded in an urban area and are classified into ten classes:\n",
    "\n",
    "- Air conditioner\n",
    "- Car horn\n",
    "- Children playing\n",
    "- Dog barking\n",
    "- Drilling\n",
    "- Engine idling\n",
    "- Gun shot\n",
    "- Jackhammer\n",
    "- Siren\n",
    "- Street music\n",
    "\n",
    "All excerpts were downloaded from [www.freesound.org](https://www.freesound.org) and presorted into ten folds. An additional CSV file containing metadata about each extract is also provided.\n",
    "\n",
    "## Rules to follow\n",
    "The provider of the dataset has set certain ground rules that must be followed. This is necessary to ensure that our model is comparable to all other research done on this dataset.\n",
    "\n",
    "1. **The data should not be reshuffled.** Reshuffling can inflate the model scores and flaw the performance of our model.\n",
    "2. **The data should be evaluated using \"10-fold cross-validation\".** Each of the folds has different levels of classification difficulty for the model. Using another technique may also lead to inflated scores and incorrect results.\n",
    "\n",
    "\n",
    "## Imports\n",
    "Here we import all used packages. This prevents some imports from being hidden in another piece of code and ensures that nothing is imported twice."
   ],
   "metadata": {
    "collapsed": false
   }
  },
  {
   "cell_type": "code",
   "execution_count": 10,
   "metadata": {
    "collapsed": true
   },
   "outputs": [],
   "source": [
    "# OS and filesystem\n",
    "from pathlib import Path\n",
    "\n",
    "# Math\n",
    "import numpy\n",
    "\n",
    "# Data\n",
    "import pandas\n",
    "from matplotlib import pyplot\n",
    "\n",
    "# Sound processing\n",
    "import librosa\n",
    "\n",
    "# Model processing\n",
    "import tensorflow\n",
    "from sklearn.preprocessing import LabelEncoder\n",
    "from sklearn.model_selection import train_test_split\n",
    "\n",
    "# Console output\n",
    "from colorama import Fore, Style\n",
    "from tqdm.notebook import tqdm"
   ]
  },
  {
   "cell_type": "markdown",
   "source": [
    "## Package initialization\n",
    "**TODO: Add some text**"
   ],
   "metadata": {
    "collapsed": false
   }
  },
  {
   "cell_type": "code",
   "execution_count": 2,
   "outputs": [],
   "source": [
    "pyplot.style.use(\"ggplot\")"
   ],
   "metadata": {
    "collapsed": false
   }
  },
  {
   "cell_type": "markdown",
   "source": [
    "## Constants\n",
    "We also define some constants used in this notebook. Be careful when you change these constants."
   ],
   "metadata": {
    "collapsed": false
   }
  },
  {
   "cell_type": "code",
   "execution_count": 14,
   "outputs": [],
   "source": [
    "# Filesystem paths\n",
    "PARENT_FOLDER = Path.cwd()\n",
    "DATA_FOLDER = (PARENT_FOLDER / \"..\" / \"data\").resolve()\n",
    "URBAN_DATASET_FOLDER = DATA_FOLDER / \"UrbanSound8K\"\n",
    "\n",
    "# Matplotlib\n",
    "PLOT_COLORS = pyplot.rcParams[\"axes.prop_cycle\"].by_key()[\"color\"]\n",
    "\n",
    "# Misc.\n",
    "RANDOM_STATE = 2077"
   ],
   "metadata": {
    "collapsed": false
   }
  },
  {
   "cell_type": "markdown",
   "source": [
    "## Utilities\n",
    "Some basic functions used in this notebook."
   ],
   "metadata": {
    "collapsed": false
   }
  },
  {
   "cell_type": "code",
   "execution_count": 4,
   "outputs": [],
   "source": [
    "def load_audio(fold: int, file_name: str, mono: bool = True, sampling_rate: int | None = 22050) -> tuple[numpy.ndarray, int]:\n",
    "    file_path = URBAN_DATASET_FOLDER / \"audio\" / f\"fold{fold}\" / file_name\n",
    "    samples, sr = librosa.load(file_path, mono=mono, sr=sampling_rate)\n",
    "\n",
    "    return samples, sr"
   ],
   "metadata": {
    "collapsed": false
   }
  },
  {
   "cell_type": "markdown",
   "source": [
    "## Dataset initialization\n",
    "We load the CSV file provided with the dataset, and perform a simple check to ensure that each file is present in the correct folder."
   ],
   "metadata": {
    "collapsed": false
   }
  },
  {
   "cell_type": "code",
   "execution_count": 5,
   "outputs": [
    {
     "data": {
      "text/plain": "      slice_file_name    fsID  start        end  salience  fold  classID  \\\n0    100032-3-0-0.wav  100032    0.0   0.317551         1     5        3   \n1  100263-2-0-117.wav  100263   58.5  62.500000         1     5        2   \n2  100263-2-0-121.wav  100263   60.5  64.500000         1     5        2   \n3  100263-2-0-126.wav  100263   63.0  67.000000         1     5        2   \n4  100263-2-0-137.wav  100263   68.5  72.500000         1     5        2   \n\n              class  \n0          dog_bark  \n1  children_playing  \n2  children_playing  \n3  children_playing  \n4  children_playing  ",
      "text/html": "<div>\n<style scoped>\n    .dataframe tbody tr th:only-of-type {\n        vertical-align: middle;\n    }\n\n    .dataframe tbody tr th {\n        vertical-align: top;\n    }\n\n    .dataframe thead th {\n        text-align: right;\n    }\n</style>\n<table border=\"1\" class=\"dataframe\">\n  <thead>\n    <tr style=\"text-align: right;\">\n      <th></th>\n      <th>slice_file_name</th>\n      <th>fsID</th>\n      <th>start</th>\n      <th>end</th>\n      <th>salience</th>\n      <th>fold</th>\n      <th>classID</th>\n      <th>class</th>\n    </tr>\n  </thead>\n  <tbody>\n    <tr>\n      <th>0</th>\n      <td>100032-3-0-0.wav</td>\n      <td>100032</td>\n      <td>0.0</td>\n      <td>0.317551</td>\n      <td>1</td>\n      <td>5</td>\n      <td>3</td>\n      <td>dog_bark</td>\n    </tr>\n    <tr>\n      <th>1</th>\n      <td>100263-2-0-117.wav</td>\n      <td>100263</td>\n      <td>58.5</td>\n      <td>62.500000</td>\n      <td>1</td>\n      <td>5</td>\n      <td>2</td>\n      <td>children_playing</td>\n    </tr>\n    <tr>\n      <th>2</th>\n      <td>100263-2-0-121.wav</td>\n      <td>100263</td>\n      <td>60.5</td>\n      <td>64.500000</td>\n      <td>1</td>\n      <td>5</td>\n      <td>2</td>\n      <td>children_playing</td>\n    </tr>\n    <tr>\n      <th>3</th>\n      <td>100263-2-0-126.wav</td>\n      <td>100263</td>\n      <td>63.0</td>\n      <td>67.000000</td>\n      <td>1</td>\n      <td>5</td>\n      <td>2</td>\n      <td>children_playing</td>\n    </tr>\n    <tr>\n      <th>4</th>\n      <td>100263-2-0-137.wav</td>\n      <td>100263</td>\n      <td>68.5</td>\n      <td>72.500000</td>\n      <td>1</td>\n      <td>5</td>\n      <td>2</td>\n      <td>children_playing</td>\n    </tr>\n  </tbody>\n</table>\n</div>"
     },
     "execution_count": 5,
     "metadata": {},
     "output_type": "execute_result"
    }
   ],
   "source": [
    "data = pandas.read_csv(URBAN_DATASET_FOLDER / \"metadata\" / \"UrbanSound8K.csv\")\n",
    "data.head(n=5)"
   ],
   "metadata": {
    "collapsed": false
   }
  },
  {
   "cell_type": "code",
   "execution_count": 6,
   "outputs": [
    {
     "data": {
      "text/plain": "Checking the dataset integrity...:   0%|          | 0/8732 [00:00<?, ?it/s]",
      "application/vnd.jupyter.widget-view+json": {
       "version_major": 2,
       "version_minor": 0,
       "model_id": "4b37ea0d49594475a0c6b324dbb0bdfd"
      }
     },
     "metadata": {},
     "output_type": "display_data"
    },
    {
     "name": "stdout",
     "output_type": "stream",
     "text": [
      "\u001B[32mSuccessful verification of the dataset. No missing files were detected.\u001B[0m\n"
     ]
    }
   ],
   "source": [
    "def verify_dataset_integrity(df: pandas.DataFrame) -> None:\n",
    "    missing_files_count = 0\n",
    "\n",
    "    for index, row in tqdm(df.iterrows(), total=df.shape[0], desc=\"Checking the dataset integrity...\"):\n",
    "        file_path = URBAN_DATASET_FOLDER / \"audio\" / f\"fold{row['fold']}\" / row[\"slice_file_name\"]\n",
    "\n",
    "        if not file_path.is_file():\n",
    "            missing_files_count += 1\n",
    "            print(f\"{Style.DIM}{Fore.WHITE}Missing file at \\\"{file_path}\\\"{Style.RESET_ALL}\")\n",
    "\n",
    "    if missing_files_count == 0:\n",
    "        print(f\"{Fore.GREEN}Successful verification of the dataset. No missing files were detected.{Style.RESET_ALL}\")\n",
    "    else:\n",
    "        print(f\"{Fore.YELLOW}Successful verification of the dataset. {missing_files_count} file{'s are ' if missing_files_count > 1 else ' is '} missing. You should consider re-downloading the dataset.{Style.RESET_ALL}\")\n",
    "\n",
    "\n",
    "verify_dataset_integrity(df=data)"
   ],
   "metadata": {
    "collapsed": false
   }
  },
  {
   "cell_type": "markdown",
   "source": [
    "## Terminology\n",
    "Before we go any further, let's define some words we will use in this notebook.\n",
    "\n",
    "- **Frequency:** The number of occurrences of a repeating event per unit of time. The frequency is measured in hertz (Hz) which is equal to one event per second.\n",
    "- **Audio frequency:** A periodic vibration whose *frequency* is audible to the average human. Like the *frequency*, the SI unit is the hertz (Hz). It is the property of sound that most determines pitch.\n",
    "- **Amplitude:** The amplitude of a periodic variable is a measure of its change in a single unit of time (period).\n",
    "    <img src=\"https://upload.wikimedia.org/wikipedia/commons/thumb/8/8a/Sine_voltage.svg/600px-Sine_voltage.svg.png\" width=\"250\">\n",
    "    _1. Peak amplitude ($û$)_\n",
    "    _2. Peak-to-peak amplitude ($2û$)_\n",
    "    _3. Root mean square amplitude ($û/\\sqrt{2}$)_\n",
    "    _4. Wave period (not an amplitude)_\n",
    "- **Channels:** An audio channel is an audio source. The number of channels determines the type of audio file:\n",
    "    - <u>Monophonic sound reproduction (mono):</u> A sound intended to be heard as if it were emanating from one position. Monaural sound has largely been replaced by *stereo* sound, but remains the standard for radiotelephone communications, telephone networks and audio induction loops for use with hearing aids.\n",
    "    - <u>Stereophonic sound (stereo):</u> A method that recreates a multi-directional, 3-dimensional audible perspective. This is usually achieved by using two independent audio channels through a configuration of two speakers in a such way as to create the impression of sound heard from various directions, as in natural hearing.\n",
    "    - <u>Surround sound:</u> A technique for enriching the fidelity and depth of sound reproduction by using multiple audio channels from speakers. This term is often used for systems that use more than two audio channels, such as movie theaters that use a 16.2 surround system.\n",
    "- **Sample:** A sample is a value of the signal at a point in time and/or space.\n",
    "- **Sampling rate:** The average number of *samples* obtained in one second, thus $f_{s} = 1/T$. Like the *frequency*, the SI unit is the hertz (Hz). The sampling rate used on most TVs is 48 kHz, which means 48,000 *samples* per second."
   ],
   "metadata": {
    "collapsed": false
   }
  },
  {
   "cell_type": "markdown",
   "source": [
    "## Distribution analysis: Channel count\n",
    "**TODO: Add some text**"
   ],
   "metadata": {
    "collapsed": false
   }
  },
  {
   "cell_type": "code",
   "execution_count": 7,
   "outputs": [
    {
     "data": {
      "text/plain": "Plotting the dataframe...:   0%|          | 0/8732 [00:00<?, ?it/s]",
      "application/vnd.jupyter.widget-view+json": {
       "version_major": 2,
       "version_minor": 0,
       "model_id": "3e85e7fc891c425ca31027c93474aea8"
      }
     },
     "metadata": {},
     "output_type": "display_data"
    },
    {
     "data": {
      "text/plain": "<Figure size 640x480 with 1 Axes>",
      "image/png": "[encoded data removed]"
     },
     "metadata": {},
     "output_type": "display_data"
    }
   ],
   "source": [
    "def get_channel_count(row: pandas.Series) -> int:\n",
    "    samples, _ = load_audio(fold=row[\"fold\"], file_name=row[\"slice_file_name\"], mono=False, sampling_rate=None)\n",
    "    channel_count = 1 if (len(samples.shape) == 1) else samples.shape[0]\n",
    "\n",
    "    return channel_count\n",
    "\n",
    "\n",
    "def plot_distrib_channels(df: pandas.DataFrame) -> None:\n",
    "    # Get the number of channels for each sound\n",
    "    tqdm.pandas(desc=\"Plotting the dataframe...\")\n",
    "    df[\"channels\"] = df.copy().progress_apply(lambda row: get_channel_count(row), axis=1)\n",
    "    df = df.groupby([\"channels\"]).size().reset_index(name=\"Count of sounds\")\n",
    "\n",
    "    # Plot it.\n",
    "    df.plot(kind=\"bar\", x=\"channels\", title=\"Distribution of the channel count\", legend=True)\n",
    "    pyplot.show()\n",
    "\n",
    "\n",
    "plot_distrib_channels(df=data)"
   ],
   "metadata": {
    "collapsed": false
   }
  },
  {
   "cell_type": "markdown",
   "source": [
    "## Distribution analysis: Sampling rate\n",
    "**TODO: Add some text**"
   ],
   "metadata": {
    "collapsed": false
   }
  },
  {
   "cell_type": "code",
   "execution_count": 15,
   "outputs": [
    {
     "data": {
      "text/plain": "Plotting the dataframe...:   0%|          | 0/8732 [00:00<?, ?it/s]",
      "application/vnd.jupyter.widget-view+json": {
       "version_major": 2,
       "version_minor": 0,
       "model_id": "474dc4a349284188a25622ebcb0153ee"
      }
     },
     "metadata": {},
     "output_type": "display_data"
    },
    {
     "data": {
      "text/plain": "<Figure size 640x480 with 1 Axes>",
      "image/png": "[encoded data removed]"
     },
     "metadata": {},
     "output_type": "display_data"
    }
   ],
   "source": [
    "def get_sampling_rate(row: pandas.Series) -> int:\n",
    "    _, sampling_rate = load_audio(fold=row[\"fold\"], file_name=row[\"slice_file_name\"], mono=False, sampling_rate=None)\n",
    "    return sampling_rate\n",
    "\n",
    "\n",
    "def plot_distrib_sampling_rate(df: pandas.DataFrame) -> None:\n",
    "    # Get the sampling rate for each sound\n",
    "    tqdm.pandas(desc=\"Plotting the dataframe...\")\n",
    "    df[\"sampling_rate\"] = df.copy().progress_apply(lambda row: get_sampling_rate(row), axis=1)\n",
    "    df = df.groupby([\"sampling_rate\"]).size().reset_index(name=\"Grouped sampling rate\")\n",
    "\n",
    "    # Plot it.\n",
    "    ax = df.plot(kind=\"bar\", x=\"sampling_rate\", title=\"Distribution of the sampling rate\", legend=True)\n",
    "    df.plot(kind=\"line\", y=\"Grouped sampling rate\", linestyle=\"-\", marker=\"o\", legend=False, color=PLOT_COLORS[1], ax=ax)\n",
    "\n",
    "    pyplot.xticks(rotation=30, horizontalalignment=\"center\")\n",
    "    pyplot.xlabel(\"Sampling rate\")\n",
    "    pyplot.ylabel(\"Number of sound\")\n",
    "\n",
    "    pyplot.show()\n",
    "\n",
    "\n",
    "plot_distrib_sampling_rate(df=data)"
   ],
   "metadata": {
    "collapsed": false
   }
  },
  {
   "cell_type": "markdown",
   "source": [
    "## Normalization of the sound files\n",
    "\n",
    "As we can see from the last two distribution analyses, the sound files in this dataset have different properties. Some have only one channel while the majority have two. Most sounds use a standard 44.1 kHz sampling rate, but some do not.\n",
    "\n",
    "The difference in channels and/or sample rate should not be a factor used to classify a sound. To eliminate these differences, we will use librosa to resample and merge the channels into a mono sound.\n",
    "\n",
    "All sounds will be resampled, on load, to 22.05 kHz. This may not be the best quality, but it is sufficient for our purposes and saves memory during processing."
   ],
   "metadata": {
    "collapsed": false
   }
  },
  {
   "cell_type": "markdown",
   "source": [
    "## Mel-spectrogram and Mel-frequency cepstral coefficients\n",
    "In this study, sound files will not be fed into the artificial intelligence model in a raw manner. Instead, we will convert these sounds into images and use them in training a CNN model. We need to find a visual representation of the sound that can meet our needs.\n",
    "\n",
    "The most basic visual representation we can think of is the waveform. This graph shows the amplitude against time and makes it easy to see if there is a sound or not. But this type of graph gives little or no information about the frequencies of that sound.\n",
    "<img src=\"https://i.stack.imgur.com/umKrW.png\" width=\"250\">\n",
    "\n",
    "If we need frequency data, we can use a spectrum. A spectrum is a graph that shows amplitude against frequency, which is the frequency domain instead of the time domain. But in this case, we have lost the time dimension.\n",
    "<img src=\"https://www.sfu.ca/sonic-studio-webdav/handbook/Graphics/Spectrum2.gif\" width=\"250\">\n",
    "\n",
    "To keep the time and frequency domains in a single graph, we need a spectrogram. A spectrogram represents time on the x-axis, frequency on the y-axis, and uses color variations to represent the amplitude of each frequency at a given time. This graph has a variant called the Mel spectrogram. The main differences are the use of the Mel scale instead of frequencies on the y-axis and the decibel scale instead of amplitude to indicate the colors. In fact, we'll use a variant of the Mel spectrogram, the Mel Frequency Cepstral Coefficients also known as MFCC. An MFCC uses a quasi-logarithmic spaced frequency scale, which is more similar to how the human auditory system processes sounds.\n",
    "<img src=\"https://miro.medium.com/max/1400/1*zX-rizZKXXg7Ju-entot9g.png\" width=\"250\">\n",
    "\n",
    "### But what is the “Mel”?\n",
    "In 1937, Stanley Smith Stevens, John Volkman and Edwin Newman proposed the “Mel scale” based on a psychological experiment. The Mel scale is a perceptual scale of pitches judged by listeners to be at equal distances from each other. They concluded that above 500 Hz, progressively larger intervals are judged by listeners to produce equal pitch increments."
   ],
   "metadata": {
    "collapsed": false
   }
  },
  {
   "cell_type": "code",
   "execution_count": 13,
   "outputs": [
    {
     "data": {
      "text/plain": "Extracting features...:   0%|          | 0/8732 [00:00<?, ?it/s]",
      "application/vnd.jupyter.widget-view+json": {
       "version_major": 2,
       "version_minor": 0,
       "model_id": "bf7cb507606448e78bdcdfb3efe4d75c"
      }
     },
     "metadata": {},
     "output_type": "display_data"
    }
   ],
   "source": [
    "def make_mfcc(row: pandas.Series) -> numpy.ndarray:\n",
    "    samples, sampling_rate = load_audio(fold=row[\"fold\"], file_name=row[\"slice_file_name\"])\n",
    "    mfcc = librosa.feature.mfcc(y=samples, sr=sampling_rate, n_mfcc=40)\n",
    "    mfcc_scaled = numpy.mean(mfcc.T, axis=0)\n",
    "\n",
    "    return mfcc_scaled\n",
    "\n",
    "\n",
    "def extract_features(df: pandas.DataFrame) -> pandas.DataFrame:\n",
    "    features_list = []\n",
    "\n",
    "    for index, row in tqdm(df.iterrows(), total=df.shape[0], desc=\"Extracting features...\"):\n",
    "        class_label = row[\"class\"]\n",
    "        mfcc = make_mfcc(row)\n",
    "        features_list.append([class_label, mfcc])\n",
    "\n",
    "    features_df = pandas.DataFrame(features_list, columns=[\"class\", \"mfcc\"])\n",
    "    return features_df\n",
    "\n",
    "\n",
    "features = extract_features(df=data)"
   ],
   "metadata": {
    "collapsed": false
   }
  },
  {
   "cell_type": "markdown",
   "source": [
    "## TODO: DELETE LATER, FOR TESTING PURPOSE ONLY"
   ],
   "metadata": {
    "collapsed": false
   }
  },
  {
   "cell_type": "code",
   "execution_count": 40,
   "outputs": [],
   "source": [
    "features.to_csv(DATA_FOLDER / \"features_30-01-23_22-21.csv\")"
   ],
   "metadata": {
    "collapsed": false
   }
  },
  {
   "cell_type": "code",
   "execution_count": 8,
   "outputs": [],
   "source": [
    "import ast\n",
    "\n",
    "def recover_numpy_arr(arr_str: str) -> numpy.ndarray:\n",
    "    arr_str_left_pad = \"[\".join([char.strip() for char in arr_str.split(\"[\")])\n",
    "    arr_str_right_pad = \"]\".join([char.strip() for char in arr_str_left_pad.split(\"]\")])\n",
    "    arr_str_parsed = \",\".join(arr_str_right_pad.split())\n",
    "\n",
    "    return numpy.array(ast.literal_eval(arr_str_parsed))\n",
    "\n",
    "\n",
    "features = pandas.read_csv(str(DATA_FOLDER / \"features_30-01-23_22-21.csv\"), converters={\"mfcc\": recover_numpy_arr}, index_col=0)"
   ],
   "metadata": {
    "collapsed": false
   }
  },
  {
   "cell_type": "markdown",
   "source": [
    "## Encoding the class labels\n",
    "**TODO: Add text**"
   ],
   "metadata": {
    "collapsed": false
   }
  },
  {
   "cell_type": "code",
   "execution_count": 12,
   "outputs": [],
   "source": [
    "# Convert features\n",
    "data_x = numpy.array(features[\"mfcc\"].tolist())\n",
    "data_y = numpy.array(features[\"class\"].tolist())\n",
    "\n",
    "# Encoding labels (One-Hot encoding)\n",
    "label_encoder = LabelEncoder()\n",
    "data_y = tensorflow.keras.utils.to_categorical(label_encoder.fit_transform(data_y))"
   ],
   "metadata": {
    "collapsed": false
   }
  },
  {
   "cell_type": "markdown",
   "source": [
    "## Splitting dataset\n",
    "**TODO: Add text**\n",
    "**TODO: Precision about \"stratify\"**"
   ],
   "metadata": {
    "collapsed": false
   }
  },
  {
   "cell_type": "code",
   "execution_count": 15,
   "outputs": [],
   "source": [
    "x_train, x_test, y_train, y_test = train_test_split(data_x, data_y, test_size=0.2, stratify=data_y, random_state=RANDOM_STATE)"
   ],
   "metadata": {
    "collapsed": false
   }
  },
  {
   "cell_type": "code",
   "execution_count": null,
   "outputs": [],
   "source": [],
   "metadata": {
    "collapsed": false
   }
  }
 ],
 "metadata": {
  "kernelspec": {
   "display_name": "Python 3",
   "language": "python",
   "name": "python3"
  },
  "language_info": {
   "codemirror_mode": {
    "name": "ipython",
    "version": 2
   },
   "file_extension": ".py",
   "mimetype": "text/x-python",
   "name": "python",
   "nbconvert_exporter": "python",
   "pygments_lexer": "ipython2",
   "version": "2.7.6"
  }
 },
 "nbformat": 4,
 "nbformat_minor": 0
}
