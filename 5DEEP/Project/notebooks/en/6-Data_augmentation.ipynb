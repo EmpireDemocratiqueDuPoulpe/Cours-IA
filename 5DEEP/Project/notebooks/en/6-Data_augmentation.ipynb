{
 "cells": [
  {
   "cell_type": "code",
   "execution_count": 25,
   "metadata": {
    "collapsed": true
   },
   "outputs": [],
   "source": [
    "# OS and filesystem\n",
    "import os\n",
    "import sys\n",
    "from pathlib import Path\n",
    "from timeit import default_timer as timer\n",
    "from datetime import timedelta\n",
    "\n",
    "# Math\n",
    "import numpy\n",
    "\n",
    "# Data\n",
    "import pandas\n",
    "from matplotlib import pyplot\n",
    "\n",
    "# Sound processing\n",
    "import soundfile\n",
    "import audiomentations\n",
    "\n",
    "# Model processing\n",
    "from sklearn.preprocessing import LabelEncoder\n",
    "from sklearn.model_selection import train_test_split\n",
    "from tensorflow import keras\n",
    "\n",
    "# Console output\n",
    "from colorama import Style\n",
    "from tqdm.notebook import tqdm\n",
    "\n",
    "# Jupyter output\n",
    "import IPython.display\n",
    "\n",
    "# Local files\n",
    "sys.path.append(os.path.join(os.pardir, os.pardir))\n",
    "import helpers"
   ]
  },
  {
   "cell_type": "code",
   "execution_count": 26,
   "outputs": [],
   "source": [
    "pyplot.style.use(\"ggplot\")  # Set the matplotlib style\n",
    "keras.backend.set_image_data_format(\"channels_last\")  # Define the last value of the model input shape as the color channel"
   ],
   "metadata": {
    "collapsed": false
   }
  },
  {
   "cell_type": "code",
   "execution_count": 27,
   "outputs": [],
   "source": [
    "# Filesystem paths\n",
    "PARENT_FOLDER = Path.cwd()\n",
    "DATA_FOLDER = (PARENT_FOLDER / \"..\" / \"..\" / \"data\").resolve()\n",
    "URBAN_DATASET_FOLDER = DATA_FOLDER / \"UrbanSound8K\"\n",
    "MODELS_FOLDER = (PARENT_FOLDER / \"..\" / \"..\" / \"models\").resolve()\n",
    "TEMP_FOLDER = (PARENT_FOLDER / \"..\" / \"..\" / \"temp\").resolve()\n",
    "\n",
    "# Dataset\n",
    "CLASSES = [\"air_conditioner\", \"car_horn\", \"children_playing\", \"dog_bark\", \"drilling\", \"engine_idling\", \"gun_shot\", \"jackhammer\", \"siren\", \"street_music\"]\n",
    "N_MELS = 128\n",
    "\n",
    "# Misc.\n",
    "RANDOM_STATE = 2077"
   ],
   "metadata": {
    "collapsed": false
   }
  },
  {
   "cell_type": "code",
   "execution_count": 28,
   "outputs": [
    {
     "name": "stdout",
     "output_type": "stream",
     "text": [
      "8732 rows, 8 columns\n"
     ]
    },
    {
     "data": {
      "text/plain": "      slice_file_name    fsID  start        end  salience  fold  classID  \\\n0    100032-3-0-0.wav  100032    0.0   0.317551         1     5        3   \n1  100263-2-0-117.wav  100263   58.5  62.500000         1     5        2   \n2  100263-2-0-121.wav  100263   60.5  64.500000         1     5        2   \n3  100263-2-0-126.wav  100263   63.0  67.000000         1     5        2   \n4  100263-2-0-137.wav  100263   68.5  72.500000         1     5        2   \n\n              class  \n0          dog_bark  \n1  children_playing  \n2  children_playing  \n3  children_playing  \n4  children_playing  ",
      "text/html": "<div>\n<style scoped>\n    .dataframe tbody tr th:only-of-type {\n        vertical-align: middle;\n    }\n\n    .dataframe tbody tr th {\n        vertical-align: top;\n    }\n\n    .dataframe thead th {\n        text-align: right;\n    }\n</style>\n<table border=\"1\" class=\"dataframe\">\n  <thead>\n    <tr style=\"text-align: right;\">\n      <th></th>\n      <th>slice_file_name</th>\n      <th>fsID</th>\n      <th>start</th>\n      <th>end</th>\n      <th>salience</th>\n      <th>fold</th>\n      <th>classID</th>\n      <th>class</th>\n    </tr>\n  </thead>\n  <tbody>\n    <tr>\n      <th>0</th>\n      <td>100032-3-0-0.wav</td>\n      <td>100032</td>\n      <td>0.0</td>\n      <td>0.317551</td>\n      <td>1</td>\n      <td>5</td>\n      <td>3</td>\n      <td>dog_bark</td>\n    </tr>\n    <tr>\n      <th>1</th>\n      <td>100263-2-0-117.wav</td>\n      <td>100263</td>\n      <td>58.5</td>\n      <td>62.500000</td>\n      <td>1</td>\n      <td>5</td>\n      <td>2</td>\n      <td>children_playing</td>\n    </tr>\n    <tr>\n      <th>2</th>\n      <td>100263-2-0-121.wav</td>\n      <td>100263</td>\n      <td>60.5</td>\n      <td>64.500000</td>\n      <td>1</td>\n      <td>5</td>\n      <td>2</td>\n      <td>children_playing</td>\n    </tr>\n    <tr>\n      <th>3</th>\n      <td>100263-2-0-126.wav</td>\n      <td>100263</td>\n      <td>63.0</td>\n      <td>67.000000</td>\n      <td>1</td>\n      <td>5</td>\n      <td>2</td>\n      <td>children_playing</td>\n    </tr>\n    <tr>\n      <th>4</th>\n      <td>100263-2-0-137.wav</td>\n      <td>100263</td>\n      <td>68.5</td>\n      <td>72.500000</td>\n      <td>1</td>\n      <td>5</td>\n      <td>2</td>\n      <td>children_playing</td>\n    </tr>\n  </tbody>\n</table>\n</div>"
     },
     "execution_count": 28,
     "metadata": {},
     "output_type": "execute_result"
    }
   ],
   "source": [
    "data = pandas.read_csv(URBAN_DATASET_FOLDER / \"metadata\" / \"UrbanSound8K.csv\")\n",
    "print(f\"{data.shape[0]} rows, {data.shape[1]} columns\")\n",
    "data.head(n=5)"
   ],
   "metadata": {
    "collapsed": false
   }
  },
  {
   "cell_type": "code",
   "execution_count": 33,
   "outputs": [
    {
     "data": {
      "text/plain": "Augmenting the dataset...:   0%|          | 0/8732 [00:00<?, ?it/s]",
      "application/vnd.jupyter.widget-view+json": {
       "version_major": 2,
       "version_minor": 0,
       "model_id": "804bd0a6a12a4d478fdd4f5af47711d0"
      }
     },
     "metadata": {},
     "output_type": "display_data"
    },
    {
     "name": "stderr",
     "output_type": "stream",
     "text": [
      "/home/spoonoverlord/miniconda3/envs/5DEEP/lib/python3.10/site-packages/librosa/util/decorators.py:88: UserWarning: n_fft=2048 is too small for input signal of length=1323\n",
      "  return f(*args, **kwargs)\n",
      "/home/spoonoverlord/miniconda3/envs/5DEEP/lib/python3.10/site-packages/librosa/util/decorators.py:88: UserWarning: n_fft=2048 is too small for input signal of length=1103\n",
      "  return f(*args, **kwargs)\n"
     ]
    }
   ],
   "source": [
    "augment_pipeline = audiomentations.SomeOf(num_transforms=(1, None), transforms=[\n",
    "    audiomentations.AddGaussianNoise(min_amplitude=0.001, max_amplitude=0.015, p=0.5),\n",
    "    audiomentations.TimeStretch(min_rate=0.8, max_rate=1.25, p=0.5),\n",
    "    audiomentations.PitchShift(min_semitones=-4, max_semitones=4, p=0.5),\n",
    "    audiomentations.Shift(min_fraction=-0.5, max_fraction=0.5, rollover=True, fade=False, p=0.5)\n",
    "])\n",
    "\n",
    "augmented_data = []\n",
    "\n",
    "for index, row in tqdm(data.iterrows(), total=data.shape[0], desc=\"Augmenting the dataset...\"):\n",
    "        file_path = helpers.urban_df.get_full_path(dataset_folder=URBAN_DATASET_FOLDER, fold=row[\"fold\"], file_name=row[\"slice_file_name\"])\n",
    "        samples, sampling_rate = helpers.urban_df.load_audio(dataset_folder=URBAN_DATASET_FOLDER, fold=row[\"fold\"], file_name=row[\"slice_file_name\"])\n",
    "        samples_augmented = augment_pipeline(samples=samples, sample_rate=sampling_rate)\n",
    "\n",
    "        save_folder = (URBAN_DATASET_FOLDER / \"audio_augmented\" / f\"fold{row['fold']}\")\n",
    "        save_folder.mkdir(parents=True, exist_ok=True)\n",
    "        soundfile.write(file=(save_folder / row[\"slice_file_name\"]), data=samples_augmented, samplerate=sampling_rate)\n",
    "\n",
    "        row_dict = row.to_dict()\n",
    "        row_dict[\"augmented\"] = True\n",
    "        augmented_data.append(row_dict)"
   ],
   "metadata": {
    "collapsed": false
   }
  },
  {
   "cell_type": "code",
   "execution_count": 34,
   "outputs": [
    {
     "data": {
      "text/plain": "      slice_file_name    fsID  start        end  salience  fold  classID  \\\n0    100032-3-0-0.wav  100032    0.0   0.317551         1     5        3   \n1  100263-2-0-117.wav  100263   58.5  62.500000         1     5        2   \n2  100263-2-0-121.wav  100263   60.5  64.500000         1     5        2   \n3  100263-2-0-126.wav  100263   63.0  67.000000         1     5        2   \n4  100263-2-0-137.wav  100263   68.5  72.500000         1     5        2   \n\n              class  augmented  \n0          dog_bark       True  \n1  children_playing       True  \n2  children_playing       True  \n3  children_playing       True  \n4  children_playing       True  ",
      "text/html": "<div>\n<style scoped>\n    .dataframe tbody tr th:only-of-type {\n        vertical-align: middle;\n    }\n\n    .dataframe tbody tr th {\n        vertical-align: top;\n    }\n\n    .dataframe thead th {\n        text-align: right;\n    }\n</style>\n<table border=\"1\" class=\"dataframe\">\n  <thead>\n    <tr style=\"text-align: right;\">\n      <th></th>\n      <th>slice_file_name</th>\n      <th>fsID</th>\n      <th>start</th>\n      <th>end</th>\n      <th>salience</th>\n      <th>fold</th>\n      <th>classID</th>\n      <th>class</th>\n      <th>augmented</th>\n    </tr>\n  </thead>\n  <tbody>\n    <tr>\n      <th>0</th>\n      <td>100032-3-0-0.wav</td>\n      <td>100032</td>\n      <td>0.0</td>\n      <td>0.317551</td>\n      <td>1</td>\n      <td>5</td>\n      <td>3</td>\n      <td>dog_bark</td>\n      <td>True</td>\n    </tr>\n    <tr>\n      <th>1</th>\n      <td>100263-2-0-117.wav</td>\n      <td>100263</td>\n      <td>58.5</td>\n      <td>62.500000</td>\n      <td>1</td>\n      <td>5</td>\n      <td>2</td>\n      <td>children_playing</td>\n      <td>True</td>\n    </tr>\n    <tr>\n      <th>2</th>\n      <td>100263-2-0-121.wav</td>\n      <td>100263</td>\n      <td>60.5</td>\n      <td>64.500000</td>\n      <td>1</td>\n      <td>5</td>\n      <td>2</td>\n      <td>children_playing</td>\n      <td>True</td>\n    </tr>\n    <tr>\n      <th>3</th>\n      <td>100263-2-0-126.wav</td>\n      <td>100263</td>\n      <td>63.0</td>\n      <td>67.000000</td>\n      <td>1</td>\n      <td>5</td>\n      <td>2</td>\n      <td>children_playing</td>\n      <td>True</td>\n    </tr>\n    <tr>\n      <th>4</th>\n      <td>100263-2-0-137.wav</td>\n      <td>100263</td>\n      <td>68.5</td>\n      <td>72.500000</td>\n      <td>1</td>\n      <td>5</td>\n      <td>2</td>\n      <td>children_playing</td>\n      <td>True</td>\n    </tr>\n  </tbody>\n</table>\n</div>"
     },
     "execution_count": 34,
     "metadata": {},
     "output_type": "execute_result"
    }
   ],
   "source": [
    "augmented_df = pandas.DataFrame(augmented_data)\n",
    "augmented_df.head()"
   ],
   "metadata": {
    "collapsed": false
   }
  },
  {
   "cell_type": "code",
   "execution_count": 35,
   "outputs": [],
   "source": [
    "augmented_df.to_csv(URBAN_DATASET_FOLDER / \"metadata\" / \"UrbanSound8K_augmented.csv\")"
   ],
   "metadata": {
    "collapsed": false
   }
  },
  {
   "cell_type": "code",
   "execution_count": 16,
   "outputs": [
    {
     "name": "stdout",
     "output_type": "stream",
     "text": [
      "[-0.00341243 -0.00506065 -0.00463294 ... -0.00247565 -0.00155365\n",
      " -0.00035246]\n"
     ]
    },
    {
     "data": {
      "text/plain": "<IPython.lib.display.Audio object>",
      "text/html": "\n                <audio  controls=\"controls\" >\n                    <source src=\"data:audio/wav;base64,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\" type=\"audio/wav\" />\n                    Your browser does not support the audio element.\n                </audio>\n              "
     },
     "execution_count": 16,
     "metadata": {},
     "output_type": "execute_result"
    }
   ],
   "source": [
    "print(samples)\n",
    "IPython.display.Audio(data=samples, rate=sampling_rate)"
   ],
   "metadata": {
    "collapsed": false
   }
  },
  {
   "cell_type": "code",
   "execution_count": 17,
   "outputs": [
    {
     "name": "stdout",
     "output_type": "stream",
     "text": [
      "[ 0.0238811   0.00217778  0.01567344 ...  0.00105772  0.00804857\n",
      " -0.00377326]\n"
     ]
    },
    {
     "data": {
      "text/plain": "<IPython.lib.display.Audio object>",
      "text/html": "\n                <audio  controls=\"controls\" >\n                    <source src=\"data:audio/wav;base64,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\" type=\"audio/wav\" />\n                    Your browser does not support the audio element.\n                </audio>\n              "
     },
     "execution_count": 17,
     "metadata": {},
     "output_type": "execute_result"
    }
   ],
   "source": [
    "print(samples_2)\n",
    "IPython.display.Audio(data=samples_2, rate=sampling_rate)"
   ],
   "metadata": {
    "collapsed": false
   }
  },
  {
   "cell_type": "code",
   "execution_count": null,
   "outputs": [],
   "source": [],
   "metadata": {
    "collapsed": false
   }
  }
 ],
 "metadata": {
  "kernelspec": {
   "display_name": "Python 3",
   "language": "python",
   "name": "python3"
  },
  "language_info": {
   "codemirror_mode": {
    "name": "ipython",
    "version": 2
   },
   "file_extension": ".py",
   "mimetype": "text/x-python",
   "name": "python",
   "nbconvert_exporter": "python",
   "pygments_lexer": "ipython2",
   "version": "2.7.6"
  }
 },
 "nbformat": 4,
 "nbformat_minor": 0
}
