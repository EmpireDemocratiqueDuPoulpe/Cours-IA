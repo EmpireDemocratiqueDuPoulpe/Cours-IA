{
 "cells": [
  {
   "cell_type": "markdown",
   "source": [
    "## School project - 5DEEP\n",
    "The following notebook has been created for a school project on audio classification. The subject and the questions are available in the appendix.\n",
    "\n",
    "The group members who participated in this project are:\n",
    "- BEZIN Théo\n",
    "- AMIMI Lamine\n",
    "- LECOMTE Alexis\n",
    "- PAWLOWSKI Maxence\n",
    "\n",
    "### Main index\n",
    "1. Data analysis\n",
    "2. Data preprocessing\n",
    "3. Basic ANN model\n",
    "4. The CNN model\n",
    "5. Testing our best model\n",
    "6. **Data augmentation (you are here)**"
   ],
   "metadata": {
    "collapsed": false
   }
  },
  {
   "cell_type": "markdown",
   "source": [
    "# 6 - Data augmentation\n",
    "Data augmentation is a technique used to increase the diversity of a dataset by modifying existing samples. In this notebook, we will discuss augmentation methods and try this new dataset on two of our previous models.\n",
    "\n",
    "### Index\n",
    "<ol type=\"A\">\n",
    "  <li>Notebook initialization</li>\n",
    "  <li>Augmentation techniques</li>\n",
    "  <li>Processing the augmented dataset</li>\n",
    "  <li>Data preparation</li>\n",
    "  <li>Testing the augmented data : The ANN</li>\n",
    "  <li>Testing the augmented data : The CNN</li>\n",
    "  <li>Conclusion of the data augmentation</li>\n",
    "</ol>"
   ],
   "metadata": {
    "collapsed": false
   }
  },
  {
   "cell_type": "markdown",
   "source": [
    "## A - Notebook initialization\n",
    "### A.1 - Imports"
   ],
   "metadata": {
    "collapsed": false
   }
  },
  {
   "cell_type": "code",
   "execution_count": 19,
   "metadata": {
    "collapsed": true
   },
   "outputs": [],
   "source": [
    "# OS and filesystem\n",
    "import os\n",
    "import sys\n",
    "from pathlib import Path\n",
    "\n",
    "# Math\n",
    "import numpy\n",
    "\n",
    "# Data\n",
    "import pandas\n",
    "from matplotlib import pyplot\n",
    "\n",
    "# Sound processing\n",
    "import librosa\n",
    "import librosa.display\n",
    "import soundfile\n",
    "import audiomentations\n",
    "\n",
    "# Model processing\n",
    "from sklearn.preprocessing import LabelEncoder\n",
    "from sklearn.model_selection import train_test_split\n",
    "from tensorflow import keras\n",
    "\n",
    "# Console output\n",
    "from colorama import Style\n",
    "from tqdm.notebook import tqdm\n",
    "\n",
    "# Misc.\n",
    "import typing\n",
    "\n",
    "# Local files\n",
    "sys.path.append(os.path.join(os.pardir, os.pardir))\n",
    "import helpers"
   ]
  },
  {
   "cell_type": "markdown",
   "source": [
    "### A.2 - Package initialization"
   ],
   "metadata": {
    "collapsed": false
   }
  },
  {
   "cell_type": "code",
   "execution_count": 3,
   "outputs": [],
   "source": [
    "pyplot.style.use(\"ggplot\")  # Set the matplotlib style\n",
    "keras.backend.set_image_data_format(\"channels_last\")  # Define the last value of the model input shape as the color channel"
   ],
   "metadata": {
    "collapsed": false
   }
  },
  {
   "cell_type": "markdown",
   "source": [
    "### A.3 - Constants"
   ],
   "metadata": {
    "collapsed": false
   }
  },
  {
   "cell_type": "code",
   "execution_count": 4,
   "outputs": [],
   "source": [
    "# Filesystem paths\n",
    "PARENT_FOLDER = Path.cwd()\n",
    "DATA_FOLDER = (PARENT_FOLDER / \"..\" / \"..\" / \"data\").resolve()\n",
    "URBAN_DATASET_FOLDER = DATA_FOLDER / \"UrbanSound8K\"\n",
    "MODELS_FOLDER = (PARENT_FOLDER / \"..\" / \"..\" / \"models\").resolve()\n",
    "TEMP_FOLDER = (PARENT_FOLDER / \"..\" / \"..\" / \"temp\").resolve()\n",
    "\n",
    "# Dataset\n",
    "CLASSES = [\"air_conditioner\", \"car_horn\", \"children_playing\", \"dog_bark\", \"drilling\", \"engine_idling\", \"gun_shot\", \"jackhammer\", \"siren\", \"street_music\"]\n",
    "N_MELS = 128\n",
    "\n",
    "# Misc.\n",
    "RANDOM_STATE = 2077"
   ],
   "metadata": {
    "collapsed": false
   }
  },
  {
   "cell_type": "markdown",
   "source": [
    "### A.4 - Dataset loading"
   ],
   "metadata": {
    "collapsed": false
   }
  },
  {
   "cell_type": "code",
   "execution_count": 5,
   "outputs": [
    {
     "name": "stdout",
     "output_type": "stream",
     "text": [
      "8732 rows, 8 columns\n"
     ]
    },
    {
     "data": {
      "text/plain": "      slice_file_name    fsID  start        end  salience  fold  classID  \\\n0    100032-3-0-0.wav  100032    0.0   0.317551         1     5        3   \n1  100263-2-0-117.wav  100263   58.5  62.500000         1     5        2   \n2  100263-2-0-121.wav  100263   60.5  64.500000         1     5        2   \n3  100263-2-0-126.wav  100263   63.0  67.000000         1     5        2   \n4  100263-2-0-137.wav  100263   68.5  72.500000         1     5        2   \n\n              class  \n0          dog_bark  \n1  children_playing  \n2  children_playing  \n3  children_playing  \n4  children_playing  ",
      "text/html": "<div>\n<style scoped>\n    .dataframe tbody tr th:only-of-type {\n        vertical-align: middle;\n    }\n\n    .dataframe tbody tr th {\n        vertical-align: top;\n    }\n\n    .dataframe thead th {\n        text-align: right;\n    }\n</style>\n<table border=\"1\" class=\"dataframe\">\n  <thead>\n    <tr style=\"text-align: right;\">\n      <th></th>\n      <th>slice_file_name</th>\n      <th>fsID</th>\n      <th>start</th>\n      <th>end</th>\n      <th>salience</th>\n      <th>fold</th>\n      <th>classID</th>\n      <th>class</th>\n    </tr>\n  </thead>\n  <tbody>\n    <tr>\n      <th>0</th>\n      <td>100032-3-0-0.wav</td>\n      <td>100032</td>\n      <td>0.0</td>\n      <td>0.317551</td>\n      <td>1</td>\n      <td>5</td>\n      <td>3</td>\n      <td>dog_bark</td>\n    </tr>\n    <tr>\n      <th>1</th>\n      <td>100263-2-0-117.wav</td>\n      <td>100263</td>\n      <td>58.5</td>\n      <td>62.500000</td>\n      <td>1</td>\n      <td>5</td>\n      <td>2</td>\n      <td>children_playing</td>\n    </tr>\n    <tr>\n      <th>2</th>\n      <td>100263-2-0-121.wav</td>\n      <td>100263</td>\n      <td>60.5</td>\n      <td>64.500000</td>\n      <td>1</td>\n      <td>5</td>\n      <td>2</td>\n      <td>children_playing</td>\n    </tr>\n    <tr>\n      <th>3</th>\n      <td>100263-2-0-126.wav</td>\n      <td>100263</td>\n      <td>63.0</td>\n      <td>67.000000</td>\n      <td>1</td>\n      <td>5</td>\n      <td>2</td>\n      <td>children_playing</td>\n    </tr>\n    <tr>\n      <th>4</th>\n      <td>100263-2-0-137.wav</td>\n      <td>100263</td>\n      <td>68.5</td>\n      <td>72.500000</td>\n      <td>1</td>\n      <td>5</td>\n      <td>2</td>\n      <td>children_playing</td>\n    </tr>\n  </tbody>\n</table>\n</div>"
     },
     "execution_count": 5,
     "metadata": {},
     "output_type": "execute_result"
    }
   ],
   "source": [
    "data = pandas.read_csv(URBAN_DATASET_FOLDER / \"metadata\" / \"UrbanSound8K.csv\")\n",
    "print(f\"{data.shape[0]} rows, {data.shape[1]} columns\")\n",
    "data.head(n=5)"
   ],
   "metadata": {
    "collapsed": false
   }
  },
  {
   "cell_type": "markdown",
   "source": [
    "## B - Augmentation techniques\n",
    "We augment a dataset by applying small transformations to the existing data. A data sample resulting from the augmentation transformations has the same class as the original sample, but the model perceives them as two different samples. When working with audio data, there are two main ways to augment the data. We can transform the raw audio samples, or the resulting spectrogram.\n",
    "\n",
    "### B.1 - Raw audio augmentation\n",
    "There are many techniques to augment raw audio data and most of them are implemented in the `audiomentations` package. We will only describe the transformation functions we used, the [documentation](https://iver56.github.io/audiomentations/) contains more information. You can also listen to the effects of the transformations on [this website](https://phrasenmaeher-audio-transformat-visualize-transformation-5s1n4t.streamlit.app/).\n",
    "\n",
    "The pipeline can start with four different composers: `Compose`, `SpecCompose`, `OneOf` and `SomeOf`. We chose the `SomeOf` composer with a number of transformations in the range $[1, all]$.\n",
    "1. **[AddGaussianNoise](https://iver56.github.io/audiomentations/waveform_transforms/add_gaussian_noise/):** This transformation adds noise (random amplitude data) to the audio file. It produces an effect similar to that of a poor quality microphone.\n",
    "2. **[TimeStretch](https://iver56.github.io/audiomentations/waveform_transforms/time_stretch/):** It changes the speed of the audio without changing the pitch.\n",
    "3. **[PitchShift](https://iver56.github.io/audiomentations/waveform_transforms/pitch_shift/):** Applies a pitch variation to the signal without changing the tempo.\n",
    "4. **[Shift](https://iver56.github.io/audiomentations/waveform_transforms/shift/):** Shifts the samples forward or backward. Most of our dataset is composed of sounds in which the order doesn't really matter, unlike a human speaking. In this situation we can set the `rollover` parameter to true without affecting the understanding of the audio file."
   ],
   "metadata": {
    "collapsed": false
   }
  },
  {
   "cell_type": "code",
   "execution_count": 8,
   "outputs": [],
   "source": [
    "augment_pipeline = audiomentations.SomeOf(num_transforms=(1, None), transforms=[\n",
    "    audiomentations.AddGaussianNoise(min_amplitude=0.001, max_amplitude=0.015, p=0.5),\n",
    "    audiomentations.TimeStretch(min_rate=0.8, max_rate=1.25, leave_length_unchanged=True, p=0.5),\n",
    "    audiomentations.PitchShift(min_semitones=-4, max_semitones=4, p=0.5),\n",
    "    audiomentations.Shift(min_fraction=-0.5, max_fraction=0.5, rollover=True, fade=False, p=0.5)\n",
    "])"
   ],
   "metadata": {
    "collapsed": false
   }
  },
  {
   "cell_type": "markdown",
   "source": [
    "### B.2 - Spectrogram augmentation\n",
    "The second augmentation technique consists in applying a series of masks on a Mel spectrogram.\n",
    "\n",
    "- Frequency masking is achieved by randomly overwriting lines with null data.\n",
    "- Time masking is done in the same way as frequency masking, but this time by deleting columns.\n",
    "\n",
    "For now, we only use the raw data augmentation. It may be interesting in the future to compare model performance between raw augmentation, spectrogram augmentation, and both augmentations at the same time."
   ],
   "metadata": {
    "collapsed": false
   }
  },
  {
   "cell_type": "markdown",
   "source": [
    "## C - Processing the augmented dataset\n",
    "It is time to apply our augmentation pipeline to the dataset. This will produce a second dataset of the same shape, doubling our data count. Each augmented file will be saved on the disk, in a new folder."
   ],
   "metadata": {
    "collapsed": false
   }
  },
  {
   "cell_type": "code",
   "execution_count": 10,
   "outputs": [
    {
     "data": {
      "text/plain": "Augmenting the dataset...:   0%|          | 0/8732 [00:00<?, ?it/s]",
      "application/vnd.jupyter.widget-view+json": {
       "version_major": 2,
       "version_minor": 0,
       "model_id": "a1b459151e464030bd268141a3556b2b"
      }
     },
     "metadata": {},
     "output_type": "display_data"
    },
    {
     "name": "stderr",
     "output_type": "stream",
     "text": [
      "/home/spoonoverlord/miniconda3/envs/5DEEP/lib/python3.10/site-packages/librosa/util/decorators.py:88: UserWarning: n_fft=2048 is too small for input signal of length=1103\n",
      "  return f(*args, **kwargs)\n"
     ]
    }
   ],
   "source": [
    "def apply_augmentation(df: pandas.DataFrame, pipeline: typing.Any) -> pandas.DataFrame:\n",
    "    augmented_data = []\n",
    "\n",
    "    for index, row in tqdm(df.iterrows(), total=df.shape[0], desc=\"Augmenting the dataset...\"):\n",
    "        # Load the audio file and augment it\n",
    "        samples, sampling_rate = helpers.urban_df.load_audio(dataset_folder=URBAN_DATASET_FOLDER, fold=row[\"fold\"], file_name=row[\"slice_file_name\"])\n",
    "        samples_augmented = pipeline(samples=samples, sample_rate=sampling_rate)\n",
    "\n",
    "        # Save the audio file\n",
    "        save_folder = (URBAN_DATASET_FOLDER / \"audio_augmented\" / f\"fold{row['fold']}\")\n",
    "        save_folder.mkdir(parents=True, exist_ok=True)\n",
    "        soundfile.write(file=(save_folder / row[\"slice_file_name\"]), data=samples_augmented, samplerate=sampling_rate)\n",
    "\n",
    "        # Append the augmented data to the list\n",
    "        row_dict = row.to_dict()\n",
    "        row_dict[\"augmented\"] = True\n",
    "        augmented_data.append(row_dict)\n",
    "\n",
    "    return pandas.DataFrame(augmented_data)\n",
    "\n",
    "\n",
    "augmented_df = apply_augmentation(df=data, pipeline=augment_pipeline)"
   ],
   "metadata": {
    "collapsed": false
   }
  },
  {
   "cell_type": "markdown",
   "source": [
    "We merge the original data set with our augmented set. We also added an `augmented` column to keep information about the data that was obtained by augmentation."
   ],
   "metadata": {
    "collapsed": false
   }
  },
  {
   "cell_type": "code",
   "execution_count": 11,
   "outputs": [
    {
     "name": "stdout",
     "output_type": "stream",
     "text": [
      "\u001B[1mInitial dataset:\u001B[0m (8732, 9)\n",
      "\u001B[1mAugmented dataset:\u001B[0m (17464, 9)\n"
     ]
    }
   ],
   "source": [
    "data[\"augmented\"] = False\n",
    "data_augmented = pandas.concat([data, augmented_df])\n",
    "\n",
    "print(f\"{Style.BRIGHT}Initial dataset:{Style.RESET_ALL} {data.shape}\")\n",
    "print(f\"{Style.BRIGHT}Augmented dataset:{Style.RESET_ALL} {data_augmented.shape}\")"
   ],
   "metadata": {
    "collapsed": false
   }
  },
  {
   "cell_type": "markdown",
   "source": [
    "The processing of the augmentation is quite time-consuming. We save the dataset before feature extraction for later use."
   ],
   "metadata": {
    "collapsed": false
   }
  },
  {
   "cell_type": "code",
   "execution_count": 12,
   "outputs": [],
   "source": [
    "data_augmented.to_csv(URBAN_DATASET_FOLDER / \"metadata\" / \"UrbanSound8K_augmented.csv\")"
   ],
   "metadata": {
    "collapsed": false
   }
  },
  {
   "cell_type": "markdown",
   "source": [
    "### C.1 - Feature extraction\n",
    "We need to rerun the feature extraction with the augmented dataset to construct the Mel spectrogram of the new data."
   ],
   "metadata": {
    "collapsed": false
   }
  },
  {
   "cell_type": "code",
   "execution_count": 13,
   "outputs": [
    {
     "data": {
      "text/plain": "Extracting features...:   0%|          | 0/17464 [00:00<?, ?it/s]",
      "application/vnd.jupyter.widget-view+json": {
       "version_major": 2,
       "version_minor": 0,
       "model_id": "10c9969dcfb94f19986f7931d8d9cabe"
      }
     },
     "metadata": {},
     "output_type": "display_data"
    }
   ],
   "source": [
    "def extract_features(df: pandas.DataFrame, n_mels: int = N_MELS, duration_sec: int = None) -> pandas.DataFrame:\n",
    "    features_list = []\n",
    "\n",
    "    for index, row in tqdm(df.iterrows(), total=df.shape[0], desc=\"Extracting features...\"):\n",
    "        # Extract features\n",
    "        class_label = row[\"class\"]\n",
    "        mel = helpers.audio.make_mel_spectrogram(dataset_folder=URBAN_DATASET_FOLDER, row=row, n_mels=n_mels, duration_sec=duration_sec)\n",
    "        augmented = row[\"augmented\"]\n",
    "\n",
    "        # Append to the features list\n",
    "        features_list.append([class_label, mel, augmented])\n",
    "\n",
    "    return pandas.DataFrame(features_list, columns=[\"class\", \"mel\", \"augmented\"])\n",
    "\n",
    "\n",
    "features_augmented = extract_features(df=data_augmented, n_mels=N_MELS, duration_sec=4)"
   ],
   "metadata": {
    "collapsed": false
   }
  },
  {
   "cell_type": "markdown",
   "source": [
    "We can now plot the Mel spectrogram of one of the augmented data. We can see that the augmented data produces a similar result to the one obtained in the second notebook with the unmodified dataset."
   ],
   "metadata": {
    "collapsed": false
   }
  },
  {
   "cell_type": "code",
   "execution_count": 15,
   "outputs": [
    {
     "data": {
      "text/plain": "<Figure size 1200x400 with 2 Axes>",
      "image/png": "[encoded data removed]"
     },
     "metadata": {},
     "output_type": "display_data"
    }
   ],
   "source": [
    "def plot_random_feature(features_df: pandas.DataFrame, fig_size: tuple[float, float] = (12, 4)) -> None:\n",
    "    random_feature = features_df.sample(n=1).iloc[0]\n",
    "\n",
    "    fig, ax = pyplot.subplots(figsize=fig_size)\n",
    "    _ = librosa.display.specshow(random_feature[\"mel\"], x_axis=\"time\", y_axis=\"mel\", ax=ax)\n",
    "    pyplot.colorbar(ax.get_children()[0], format=\"%+2.0f dB\", ax=ax)\n",
    "    pyplot.title(f\"Mel-scaled spectrogram of \\\"{random_feature['class']}\\\"\")\n",
    "    pyplot.show()\n",
    "\n",
    "\n",
    "plot_random_feature(features_augmented[features_augmented[\"augmented\"] == True])"
   ],
   "metadata": {
    "collapsed": false
   }
  },
  {
   "cell_type": "markdown",
   "source": [
    "For exactly the same reason as for data augmentation, we save the augmented features on disk for later use without the need to reprocess them."
   ],
   "metadata": {
    "collapsed": false
   }
  },
  {
   "cell_type": "code",
   "execution_count": 16,
   "outputs": [],
   "source": [
    "features_augmented_x = numpy.array(features_augmented[\"mel\"].tolist())\n",
    "features_augmented_y = numpy.array(features_augmented[\"class\"].tolist())\n",
    "\n",
    "features_augmented.to_csv(DATA_FOLDER / \"features-augmented-mel-spectrograms_15-02-23_19-21.csv\")  # Save the whole dataset ...\n",
    "numpy.save(file=str(DATA_FOLDER / \"x-augmented-mel-spectrograms_15-02-23_19-21\"), arr=features_augmented_x)  # ... and the split [x, y] versions\n",
    "numpy.save(file=str(DATA_FOLDER / \"y-augmented-mel-spectrograms_15-02-23_19-21\"), arr=features_augmented_y)"
   ],
   "metadata": {
    "collapsed": false
   }
  },
  {
   "cell_type": "markdown",
   "source": [
    "We can then reload the augmented dataset with the following code."
   ],
   "metadata": {
    "collapsed": false
   }
  },
  {
   "cell_type": "code",
   "execution_count": 17,
   "outputs": [],
   "source": [
    "features_augmented_x = numpy.load(file=(str(DATA_FOLDER / \"x-augmented-mel-spectrograms_15-02-23_19-21.npy\")))\n",
    "features_augmented_y = numpy.load(file=(str(DATA_FOLDER / \"y-augmented-mel-spectrograms_15-02-23_19-21.npy\")))"
   ],
   "metadata": {
    "collapsed": false
   }
  },
  {
   "cell_type": "markdown",
   "source": [
    "## D - Data preparation\n",
    "### D.1 - Label encoding"
   ],
   "metadata": {
    "collapsed": false
   }
  },
  {
   "cell_type": "code",
   "execution_count": 20,
   "outputs": [],
   "source": [
    "label_encoder = LabelEncoder()\n",
    "features_augmented_y = keras.utils.to_categorical(y=label_encoder.fit_transform(features_augmented_y), num_classes=len(CLASSES))"
   ],
   "metadata": {
    "collapsed": false
   }
  },
  {
   "cell_type": "markdown",
   "source": [
    "### D.2 - Dataset splitting"
   ],
   "metadata": {
    "collapsed": false
   }
  },
  {
   "cell_type": "code",
   "execution_count": 21,
   "outputs": [
    {
     "name": "stdout",
     "output_type": "stream",
     "text": [
      "\u001B[1mTrain set >\u001B[0m rows: (x=13971, y=13971) | shape: (x=(13971, 128, 173), y=(13971, 10))\n",
      "\u001B[1mTest set >\u001B[0m rows: (x=3493, y=3493) | shape: (x=(3493, 128, 173), y=(3493, 10))\n"
     ]
    }
   ],
   "source": [
    "x_aug_train, x_aug_test, y_aug_train, y_aug_test = train_test_split(features_augmented_x, features_augmented_y, test_size=0.2, random_state=RANDOM_STATE)\n",
    "\n",
    "print(f\"{Style.BRIGHT}Train set >{Style.RESET_ALL} rows: (x={len(x_aug_train)}, y={len(y_aug_train)}) | shape: (x={x_aug_train.shape}, y={y_aug_train.shape})\")\n",
    "print(f\"{Style.BRIGHT}Test set >{Style.RESET_ALL} rows: (x={len(x_aug_test)}, y={len(y_aug_test)}) | shape: (x={x_aug_test.shape}, y={y_aug_test.shape})\")"
   ],
   "metadata": {
    "collapsed": false
   }
  },
  {
   "cell_type": "code",
   "execution_count": 22,
   "outputs": [],
   "source": [
    "num_columns = 173\n",
    "num_channels = 1\n",
    "\n",
    "x_aug_train = x_aug_train.reshape(x_aug_train.shape[0], N_MELS, num_columns, num_channels)\n",
    "x_aug_test = x_aug_test.reshape(x_aug_test.shape[0], N_MELS, num_columns, num_channels)"
   ],
   "metadata": {
    "collapsed": false
   }
  },
  {
   "cell_type": "markdown",
   "source": [
    "## E - Testing the augmented data : The ANN\n",
    "**TODO**\n",
    "\n",
    "### E.1 - Loading our best model\n",
    "### E.2 - Training\n",
    "### E.3 - Model performance\n",
    "\n",
    "## F - Testing the augmented data : The CNN\n",
    "**TODO**\n",
    "\n",
    "### F.1 - Loading our best model\n",
    "### F.2 - Training\n",
    "### F.3 - Model performance\n",
    "\n",
    "## G - Conclusion of the data augmentation"
   ],
   "metadata": {
    "collapsed": false
   }
  },
  {
   "cell_type": "code",
   "execution_count": null,
   "outputs": [],
   "source": [],
   "metadata": {
    "collapsed": false
   }
  }
 ],
 "metadata": {
  "kernelspec": {
   "display_name": "Python 3",
   "language": "python",
   "name": "python3"
  },
  "language_info": {
   "codemirror_mode": {
    "name": "ipython",
    "version": 2
   },
   "file_extension": ".py",
   "mimetype": "text/x-python",
   "name": "python",
   "nbconvert_exporter": "python",
   "pygments_lexer": "ipython2",
   "version": "2.7.6"
  }
 },
 "nbformat": 4,
 "nbformat_minor": 0
}
