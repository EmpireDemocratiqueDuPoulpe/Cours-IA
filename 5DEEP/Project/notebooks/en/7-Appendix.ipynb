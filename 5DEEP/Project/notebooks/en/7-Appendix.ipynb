{
 "cells": [
  {
   "cell_type": "markdown",
   "source": [
    "## School project - 5DEEP\n",
    "The following notebook has been created for a school project on audio classification. The subject and the questions are available in the appendix.\n",
    "\n",
    "The group members who participated in this project are:\n",
    "- AMIMI Lamine\n",
    "- BEZIN Théo\n",
    "- LECOMTE Alexis\n",
    "- PAWLOWSKI Maxence\n",
    "\n",
    "### Main index\n",
    "1. Data analysis\n",
    "2. Data preprocessing\n",
    "3. Basic ANN model\n",
    "4. The CNN model\n",
    "5. The model competition\n",
    "6. Data augmentation\n",
    "7. **_Appendix (you are here)_**"
   ],
   "metadata": {
    "collapsed": false
   }
  },
  {
   "cell_type": "markdown",
   "source": [
    "# 7 - Appendix\n",
    "### Index\n",
    "<ol type=\"A\">\n",
    "  <li>Subject and questions</li>\n",
    "  <li>Sources</li>\n",
    "</ol>"
   ],
   "metadata": {
    "collapsed": false
   }
  },
  {
   "cell_type": "markdown",
   "source": [
    "## A - Subject and questions\n",
    "### A.1 - Subject introduction\n",
    "As a reminder, this exam is to be taken in groups of no more than four students.\n",
    "\n",
    "You must download and use the following dataset: UrbanSound8K.tar.gz (source: [UrbanSound8K](https://urbansounddataset.weebly.com/urbansound8k.html).\n",
    "\n",
    "This is a sound classification problem with 10 classes:\n",
    "- Air conditioner\n",
    "- Car horn\n",
    "- Children playing\n",
    "- Dog bark\n",
    "- Drilling\n",
    "- Engine idling\n",
    "- Gun shot\n",
    "- Jackhammer\n",
    "- Siren\n",
    "- Street music\n",
    "\n",
    "You will have to develop your own neural networks from scratch to solve this problem. This project will require you to do personal research on various theoretical concepts related to sound processing.\n",
    "\n",
    "Your rendering will be in the form of a .zip archive containing a Jupyter notebook (source code and export in PDF or HTML format) and a checkpoint of your final model. All the steps of your project will have to be commented and justified. All results must be interpreted. The quality of the writing (style, grammar and spelling) will be taken into account. A professional rendering is expected.\n",
    "\n",
    "The use of Python and the `keras` package is mandatory. You will also need to use a sound processing library. It is recommended to use `librosa` for this.\n",
    "\n",
    "### A.2 - Questions\n",
    "1. Explore the dataset. In particular, read the \"README\" file and visit the dataset's website.\n",
    "2. Install the `librosa` package and study its main features.\n",
    "3. Learn about the WAV format and its file headers.\n",
    "4. Define the following terms: frequency, amplitude, number of channels, sampling rate.\n",
    "5. Choose a sample of a few sounds from each class and plot each one on a graph with time on the x-axis and amplitude on the y-axis. Comment on the results obtained. In particular, ask yourself if there is a significant difference between the classes. Is this kind of modeling sufficient to solve our problem?\n",
    "6. Calculate the number of sounds in each class. Is the dataset balanced?\n",
    "7. Study the distribution of the number of channels of each sound.\n",
    "8. Study the distribution of the sampling rate of each sound.\n",
    "9. The variables studied in the two previous questions must be normalized. How will the `librosa` package solve this problem?\n",
    "10. Study the theoretical concepts of \"Mel-spectrogram\" and \"Mel-frequency cepstral coefficients\". A detailed and precise presentation is expected.\n",
    "11. Build a `pandas` dataframe that will contain the MFCCs and labels of each sound.\n",
    "12. Split the data into a training/validation set and a test set.\n",
    "13. Build a first densely-connected neural network to solve this classification problem.\n",
    "14. Train the model built in question 13 and measure its performance.\n",
    "15. Now build a convolutional neural network to solve this classification problem. It should contain at least the following elements: convolution layers, pooling layer, dropout layer, hidden layers densely-connected. You are free to add other elements. Be careful with the input data format.\n",
    "16. Train the model built in question 15 and measure its performance.\n",
    "17. Repeat steps 15 and 16 with different structures and different values of the hyper-parameters. At least three new models are required.\n",
    "18. Save your best model.\n",
    "19. Use your best model with your own sounds and with downloaded sounds.\n",
    "20. \\[Bonus\\] Ask yourself the question of data augmentation: what processes would make sense? How to implement them? Do it with your best model and see if it improves its performance."
   ],
   "metadata": {
    "collapsed": false
   }
  },
  {
   "cell_type": "markdown",
   "source": [
    "## B - Sources\n",
    "| <!-- -->                                                                 | <!-- -->                                                                                                                                                                                                                                                               |\n",
    "|--------------------------------------------------------------------------|------------------------------------------------------------------------------------------------------------------------------------------------------------------------------------------------------------------------------------------------------------------------|\n",
    "| URBAN SOUND 8K dataset                                                   | [https://urbansounddataset.weebly.com/urbansound8k.html](https://urbansounddataset.weebly.com/urbansound8k.html)                                                                                                                                                       |\n",
    "| Librosa documentation                                                    | [https://librosa.org/doc/latest/index.html](https://librosa.org/doc/latest/index.html)                                                                                                                                                                                 |\n",
    "| WAVE PCM soundfile format                                                | [http://soundfile.sapp.org/doc/WaveFormat/](http://soundfile.sapp.org/doc/WaveFormat/)                                                                                                                                                                                 |\n",
    "| Wikipedia (EN) - Frequency                                               | [https://en.wikipedia.org/wiki/Frequency](https://en.wikipedia.org/wiki/Frequency)                                                                                                                                                                                     |\n",
    "| Wikipedia (EN) - Amplitude                                               | [https://en.wikipedia.org/wiki/Amplitude](https://en.wikipedia.org/wiki/Amplitude)                                                                                                                                                                                     |\n",
    "| Wikipedia (FR) - Fréquence d'échantillonnage                             | [https://fr.wikipedia.org/wiki/Fréquence_d%27échantillonnage](https://fr.wikipedia.org/wiki/Fréquence_d%27échantillonnage)                                                                                                                                             |\n",
    "| Wikipedia (FR) - Monophonique                                            | [https://fr.wikipedia.org/wiki/Monophonique](https://fr.wikipedia.org/wiki/Monophonique)                                                                                                                                                                               |\n",
    "| Wikipedia (EN) - Stereophonic sound                                      | [https://en.wikipedia.org/wiki/Stereophonic_sound](https://en.wikipedia.org/wiki/Stereophonic_sound)                                                                                                                                                                   |\n",
    "| Sampling: Signal Digitalization                                          | [https://support.ircam.fr/docs/AudioSculpt/3.0/co/Sampling.html](https://support.ircam.fr/docs/AudioSculpt/3.0/co/Sampling.html)                                                                                                                                       |\n",
    "| Understanding Sample Rate, Bit Depth, and Bit Rate                       | [https://www.headphonesty.com/2019/07/sample-rate-bit-depth-bit-rate/](https://www.headphonesty.com/2019/07/sample-rate-bit-depth-bit-rate/)                                                                                                                           |\n",
    "| Wikipedia (FR) - Échelle des mels                                        | [https://fr.wikipedia.org/wiki/Échelle_des_mels](https://fr.wikipedia.org/wiki/Échelle_des_mels)                                                                                                                                                                       |\n",
    "| Wikipedia (EN) - Mel scale                                               | [https://en.wikipedia.org/wiki/Mel_scale](https://en.wikipedia.org/wiki/Mel_scale)                                                                                                                                                                                     |\n",
    "| Audio Deep Learning Made Simple (1/3)                                    | [https://ketanhdoshi.github.io/Audio-Intro/](https://ketanhdoshi.github.io/Audio-Intro/)                                                                                                                                                                               |\n",
    "| Audio Deep Learning Made Simple (2/3)                                    | [https://ketanhdoshi.github.io/Audio-Mel/](https://ketanhdoshi.github.io/Audio-Mel/)                                                                                                                                                                                   |\n",
    "| Audio Deep Learning Made Simple (3/3)                                    | [https://ketanhdoshi.github.io/Audio-Augment/](https://ketanhdoshi.github.io/Audio-Augment/)                                                                                                                                                                           |\n",
    "| Wikipedia (FR) - Échelle logarithmique                                   | [https://fr.wikipedia.org/wiki/Échelle_logarithmique](https://fr.wikipedia.org/wiki/Échelle_logarithmique)                                                                                                                                                             |\n",
    "| Understanding the Mel spectrogram                                        | [https://medium.com/analytics-vidhya/understanding-the-mel-spectrogram-fca2afa2ce53](https://medium.com/analytics-vidhya/understanding-the-mel-spectrogram-fca2afa2ce53)                                                                                               |\n",
    "| Intuitive understanding of MFCCs                                         | [https://medium.com/@derutycsl/intuitive-understanding-of-mfccs-836d36a1f779](https://medium.com/@derutycsl/intuitive-understanding-of-mfccs-836d36a1f779)                                                                                                             |\n",
    "| Get To Know Audio Feature Extraction in Python                           | [https://towardsdatascience.com/get-to-know-audio-feature-extraction-in-python-a499fdaefe42](https://towardsdatascience.com/get-to-know-audio-feature-extraction-in-python-a499fdaefe42)                                                                               |\n",
    "| Concepts de Machine Learning                                             | [https://developers.google.com/machine-learning/crash-course/ml-intro?hl=fr](https://developers.google.com/machine-learning/crash-course/ml-intro?hl=fr)                                                                                                               |\n",
    "| Getting Started in 'ML-Audio'                                            | [https://github.com/drscotthawley/ml-audio-start](https://github.com/drscotthawley/ml-audio-start)                                                                                                                                                                     |\n",
    "| Wikipedia (EN) - Artificial neural network                               | [https://en.wikipedia.org/wiki/Artificial_neural_network](https://en.wikipedia.org/wiki/Artificial_neural_network)                                                                                                                                                     |\n",
    "| Building an Artificial Neural Network with Keras                         | [https://www.section.io/engineering-education/build-ann-with-keras/](https://www.section.io/engineering-education/build-ann-with-keras/)                                                                                                                               |\n",
    "| Comprehensive Guide to ANN with Keras                                    | [https://www.kaggle.com/code/prashant111/comprehensive-guide-to-ann-with-keras/notebook](https://www.kaggle.com/code/prashant111/comprehensive-guide-to-ann-with-keras/notebook)                                                                                       |\n",
    "| Wikipedia (FR) - Réseau neuronal convolutif                              | [https://fr.wikipedia.org/wiki/Réseau_neuronal_convolutif](https://fr.wikipedia.org/wiki/Réseau_neuronal_convolutif)                                                                                                                                                   |\n",
    "| Keras                                                                    | [https://keras.io/api/](https://keras.io/api/)                                                                                                                                                                                                                         |\n",
    "| How to find the value for keras input_shape                              | [https://github.com/christianversloot/machine-learning-articles/blob/main/how-to-find-the-value-for-keras-input_shape-input_dim.md](https://github.com/christianversloot/machine-learning-articles/blob/main/how-to-find-the-value-for-keras-input_shape-input_dim.md) |\n",
    "| Gentle Introduction to the Adam Optimization Algorithm for Deep Learning | [https://machinelearningmastery.com/adam-optimization-algorithm-for-deep-learning/](https://machinelearningmastery.com/adam-optimization-algorithm-for-deep-learning/)                                                                                                 |\n",
    "| Making our first CNN based project using Keras                           | [https://sanchittanwar75.medium.com/making-our-first-cnn-based-project-using-keras-c3a7790b1e02](https://sanchittanwar75.medium.com/making-our-first-cnn-based-project-using-keras-c3a7790b1e02)                                                                       |\n",
    "| Interpretation of Loss and Accuracy for a Machine Learning Model         | [https://www.baeldung.com/cs/ml-loss-accuracy#:~:text=Having%20a%20low%20accuracy%20but,in%20some%20of%20the%20data.](https://www.baeldung.com/cs/ml-loss-accuracy#:~:text=Having%20a%20low%20accuracy%20but,in%20some%20of%20the%20data.)                             |\n",
    "| The Elements of Statistical Learning                                     | [https://hastie.su.domains/ElemStatLearn/printings/ESLII_print12_toc.pdf](https://hastie.su.domains/ElemStatLearn/printings/ESLII_print12_toc.pdf)                                                                                                                     |\n",
    "| NEVER grow a DataFrame row-wise!                                         | [https://stackoverflow.com/questions/13784192/creating-an-empty-pandas-dataframe-and-then-filling-it/56746204#56746204](https://stackoverflow.com/questions/13784192/creating-an-empty-pandas-dataframe-and-then-filling-it/56746204#56746204)                         |\n",
    "| iver56 / audiomentations                                                 | [https://github.com/iver56/audiomentations](https://github.com/iver56/audiomentations)                                                                                                                                                                                 |\n",
    "| Tensorflow - SpecAugment                                                 | [https://www.tensorflow.org/io/tutorials/audio?hl=fr#specaugment](https://www.tensorflow.org/io/tutorials/audio?hl=fr#specaugment)                                                                                                                                     |"
   ],
   "metadata": {
    "collapsed": false
   }
  }
 ],
 "metadata": {
  "kernelspec": {
   "display_name": "Python 3",
   "language": "python",
   "name": "python3"
  },
  "language_info": {
   "codemirror_mode": {
    "name": "ipython",
    "version": 2
   },
   "file_extension": ".py",
   "mimetype": "text/x-python",
   "name": "python",
   "nbconvert_exporter": "python",
   "pygments_lexer": "ipython2",
   "version": "2.7.6"
  }
 },
 "nbformat": 4,
 "nbformat_minor": 0
}
