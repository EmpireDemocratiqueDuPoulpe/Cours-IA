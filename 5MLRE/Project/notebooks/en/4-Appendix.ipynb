{
 "cells": [
  {
   "cell_type": "markdown",
   "source": [
    "## School project - 5MLRE\n",
    "The following notebook was created for a school project to create an anime recommendation system. The subject and the questions are available in the appendix.\n",
    "\n",
    "The group members who participated in this project are:\n",
    "- AMIMI Lamine\n",
    "- BEZIN Théo\n",
    "- LECOMTE Alexis\n",
    "- PAWLOWSKI Maxence\n",
    "\n",
    "### Main index\n",
    "1. Data analysis\n",
    "2. Collaborative filtering\n",
    "3. Content-based filtering\n",
    "4. **_Appendix_ (you are here)**"
   ],
   "metadata": {
    "collapsed": false
   }
  },
  {
   "cell_type": "markdown",
   "source": [
    "# 4 - Appendix\n",
    "### Index\n",
    "<ol type=\"A\">\n",
    "  <li>Subject and questions</li>\n",
    "  <li>Sources</li>\n",
    "</ol>"
   ],
   "metadata": {
    "collapsed": false
   }
  },
  {
   "cell_type": "markdown",
   "source": [
    "## A - Subject and questions\n",
    "### A.1 - Subject introduction\n",
    "As a reminder, this exam is to be taken in groups of no more than four students.\n",
    "\n",
    "You must download and use the following dataset: anime.zip (source: [Kaggle](https://www.kaggle.com/)).\n",
    "\n",
    "Here is the meaning of the different variables:\n",
    "- For the `anime.csv` dataset:\n",
    "    - **anime_id:** The [MyAnimeList](https://myanimelist.net/) unique identifier.\n",
    "    - **name:** The full name of the anime.\n",
    "    - **genre:** A comma-separated list of the genres of this anime.\n",
    "    - **type:** The type of media of the anime (movie, TV, OVA, ...).\n",
    "    - **episodes:** How many episodes this anime has. It is set at `1` if the anime type is `movie`.\n",
    "    - **rating:** The average rating out of ten for this anime.\n",
    "    - **members:** Number of community members that are in this anime's group.\n",
    "- For the `rating.csv` dataset:\n",
    "    - **user_id :** A randomly generated non-identifiable identifier.\n",
    "    - **anime_id:** The [MyAnimeList](https://myanimelist.net/) unique identifier.\n",
    "    - **rating:** The rating out of ten given by this user. If the user watched the anime but did not rate it, the rating is set to `-1`.\n",
    "\n",
    "This data comes from the [MyAnimeList](https://myanimelist.net/) site.\n",
    "\n",
    "Your rendering will be in the form of a .zip archive containing a Jupyter notebook (source code and export in PDF or HTML format) and a checkpoint of your final model. All the steps of your project will have to be commented and justified. All results must be interpreted. The quality of the writing (style, grammar and spelling) will be taken into account. A professional rendering is expected.\n",
    "\n",
    "### A.2 - Questions\n",
    "1. Exploratory data analysis: graphs, parameters, tests, etc.\n",
    "    1. Study each of the variables of the two datasets.\n",
    "    2. Add rank variables (by average rating and by number of ratings).\n",
    "    3. Do a study by genre (average grade, number of grades, ranks, etc.).\n",
    "    4. ...\n",
    "2. Collaborative filtering: for each of the algorithms seen in class:\n",
    "    1. Define a dictionary of hyper-parameters.\n",
    "    2. Conduct an exhaustive search for the best hyper-parameters.\n",
    "    3. Calculate the different usual metrics (MAE, RMSE, Hit Rate, etc.).\n",
    "    4. Compare the obtained results.\n",
    "    5. Implement a function taking a user id as input and which will return the topN for this user in the form \"title\" - \"average rating\" - \"number of ratings\".\n",
    "3. Repeat the study from the previous question, restricting the study to users who rated a minimum number of products (e.g. 100 or 200) and products that received a minimum number of ratings (e.g. 100 or 200). Are the results better?\n",
    "4. Content-based filtering: implement a system based on product characteristics alone.\n",
    "    1. Add a binary variable per different genre indicating whether an anime is of that genre or not (One-Hot encoding).\n",
    "    2. Use a nearest-neighbour technique.\n",
    "    3. Implement a function taking a user id as input and which will return the topN for this user in the form \"title\" - \"average rating\" - \"number of ratings\"."
   ],
   "metadata": {
    "collapsed": false
   }
  },
  {
   "cell_type": "markdown",
   "source": [
    "## B - Sources\n",
    "| <!-- -->                                                                          | <!-- -->                                                                                                                                                                                                                                                                                                                                                                                                         |\n",
    "|-----------------------------------------------------------------------------------|------------------------------------------------------------------------------------------------------------------------------------------------------------------------------------------------------------------------------------------------------------------------------------------------------------------------------------------------------------------------------------------------------------------|\n",
    "| CEAC333/recommender-system-ml-ai                                                  | [https://github.com/CEAC333/recommender-systems-ml-ai](https://github.com/CEAC333/recommender-systems-ml-ai)                                                                                                                                                                                                                                                                                                     |\n",
    "| jvntra/Movie_Recommandation_System_Framework                                      | [https://github.com/jvntra/Movie_Recommendation_System_Framework](https://github.com/jvntra/Movie_Recommendation_System_Framework)                                                                                                                                                                                                                                                                               |\n",
    "| Build a Recommendation Engine With Collaborative Filtering                        | [https://realpython.com/build-recommendation-engine-collaborative-filtering/#user-based-vs-item-based-collaborative-filtering](https://realpython.com/build-recommendation-engine-collaborative-filtering/#user-based-vs-item-based-collaborative-filtering)                                                                                                                                                     |\n",
    "| Comprehensive Guide on Item Based Collaborative Filtering                         | [https://towardsdatascience.com/comprehensive-guide-on-item-based-recommendation-systems-d67e40e2b75d](https://towardsdatascience.com/comprehensive-guide-on-item-based-recommendation-systems-d67e40e2b75d)                                                                                                                                                                                                     |\n",
    "| User-based vs Item-based Collaborative Filtering                                  | [https://medium.com/recommendation-systems/user-based-vs-item-based-collaborative-filtering-d40bb49c7060](https://medium.com/recommendation-systems/user-based-vs-item-based-collaborative-filtering-d40bb49c7060)                                                                                                                                                                                               |\n",
    "| An Exhaustive List of Methods to Evaluate Recommender Systems                     | [https://towardsdatascience.com/an-exhaustive-list-of-methods-to-evaluate-recommender-systems-a70c05e121de](https://towardsdatascience.com/an-exhaustive-list-of-methods-to-evaluate-recommender-systems-a70c05e121de)                                                                                                                                                                                           |\n",
    "| Evaluating A Real-Life Recommender System, Error-Based and Ranking-Based          | [https://towardsdatascience.com/evaluating-a-real-life-recommender-system-error-based-and-ranking-based-84708e3285b](https://towardsdatascience.com/evaluating-a-real-life-recommender-system-error-based-and-ranking-based-84708e3285b)                                                                                                                                                                         |\n",
    "| Evaluating Recommender Systems                                                    | [https://medium.com/nerd-for-tech/evaluating-recommender-systems-590a7b87afa5](https://medium.com/nerd-for-tech/evaluating-recommender-systems-590a7b87afa5)                                                                                                                                                                                                                                                     |\n",
    "| Evaluation Metrics for Recommender Systems                                        | [https://towardsdatascience.com/evaluation-metrics-for-recommender-systems-df56c6611093](https://towardsdatascience.com/evaluation-metrics-for-recommender-systems-df56c6611093)                                                                                                                                                                                                                                 |\n",
    "| What is a Long Tail Distribution? (Definition & Example)                          | [https://www.statology.org/long-tail-distribution/](https://www.statology.org/long-tail-distribution/)                                                                                                                                                                                                                                                                                                           |\n",
    "| Recommender Systems: Machine Learning Metrics and Business Metrics                | [https://neptune.ai/blog/recommender-systems-metrics](https://neptune.ai/blog/recommender-systems-metrics)                                                                                                                                                                                                                                                                                                       |\n",
    "| 7 Cross-Validation Mistakes That Can Cost You a Lot [Best Practices in ML]        | [https://neptune.ai/blog/cross-validation-mistakes](https://neptune.ai/blog/cross-validation-mistakes)                                                                                                                                                                                                                                                                                                           |\n",
    "| How do I perform Leave One Out Cross Validation For Top n Recommendation Systems? | [https://datascience.stackexchange.com/questions/42223/how-do-i-perform-leave-one-out-cross-validation-for-top-n-recommendation-sytems](https://datascience.stackexchange.com/questions/42223/how-do-i-perform-leave-one-out-cross-validation-for-top-n-recommendation-sytems)                                                                                                                                   |\n",
    "| Recommander Performance comparison                                                | [https://www.kaggle.com/code/element115/recommander-performance-comparison/notebook](https://www.kaggle.com/code/element115/recommander-performance-comparison/notebook)                                                                                                                                                                                                                                         |\n",
    "| Movie Lens 1M Deep Dive (Medium)                                                  | [https://towardsdatascience.com/movielens-1m-deep-dive-part-i-8acfeda1ad4](https://towardsdatascience.com/movielens-1m-deep-dive-part-i-8acfeda1ad4)                                                                                                                                                                                                                                                             |\n",
    "| Movie Lens 1M Deep Dive (Colab)                                                   | [https://colab.research.google.com/drive/132N2lGQTT1NnzAU6cg1IfwpaeFKK9QQe?usp=sharing#scrollTo=sWJxXLFBdjos](https://colab.research.google.com/drive/132N2lGQTT1NnzAU6cg1IfwpaeFKK9QQe?usp=sharing#scrollTo=sWJxXLFBdjos)                                                                                                                                                                                       |\n",
    "| A Gentle Guide To Recommender Systems With Surprise                               | [https://kerpanic.wordpress.com/2018/03/26/a-gentle-guide-to-recommender-systems-with-surprise/](https://kerpanic.wordpress.com/2018/03/26/a-gentle-guide-to-recommender-systems-with-surprise/)                                                                                                                                                                                                                 |\n",
    "| Build a Recommendation Engine With Collaborative Filtering                        | [https://realpython.com/build-recommendation-engine-collaborative-filtering/#:~:text=beautiful%20%2B%20Pythonic%20code.-,What%20Is%20Collaborative%20Filtering%3F,similar%20to%20a%20particular%20user.](https://realpython.com/build-recommendation-engine-collaborative-filtering/#:~:text=beautiful%20%2B%20Pythonic%20code.-,What%20Is%20Collaborative%20Filtering%3F,similar%20to%20a%20particular%20user.) |\n",
    "| Recommandation system - Content-based                                             | [https://www.kaggle.com/code/nouhazouaghi/recommendation-systems](https://www.kaggle.com/code/nouhazouaghi/recommendation-systems)                                                                                                                                                                                                                                                                               |\n",
    "| Surprise documentation                                                            | [https://surprise.readthedocs.io/en/stable/index.html](https://surprise.readthedocs.io/en/stable/index.html)                                                                                                                                                                                                                                                                                                     |"
   ],
   "metadata": {
    "collapsed": false
   }
  }
 ],
 "metadata": {
  "kernelspec": {
   "display_name": "Python 3",
   "language": "python",
   "name": "python3"
  },
  "language_info": {
   "codemirror_mode": {
    "name": "ipython",
    "version": 2
   },
   "file_extension": ".py",
   "mimetype": "text/x-python",
   "name": "python",
   "nbconvert_exporter": "python",
   "pygments_lexer": "ipython2",
   "version": "2.7.6"
  }
 },
 "nbformat": 4,
 "nbformat_minor": 0
}
