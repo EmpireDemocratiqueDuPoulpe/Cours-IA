{
 "cells": [
  {
   "cell_type": "markdown",
   "metadata": {},
   "source": [
    "## School project - 5MLRE\n",
    "The following notebook was created for a school project to create an anime recommendation system. The subject and the questions are available in the appendix.\n",
    "\n",
    "The group members who participated in this project are:\n",
    "- AMIMI Lamine\n",
    "- BEZIN Théo\n",
    "- LECOMTE Alexis\n",
    "- PAWLOWSKI Maxence\n",
    "\n",
    "### Main index\n",
    "1. Data analysis\n",
    "2. **Collaborative filtering (you are here)**\n",
    "3. Content-based filtering\n",
    "4. _Appendix_"
   ]
  },
  {
   "cell_type": "markdown",
   "metadata": {},
   "source": [
    "# 2 - Collaborative filtering\n",
    "In the previous notebook, we loaded, cleaned and studied the [MyAnimeList](https://myanimelist.net/) datasets. Now that we know them better, we will start to create the recommendation system using collaborative filtering. Collaborative filtering is a technique that filters out items that a user might like based on feedback from similar users. There are two sub-techniques: User-based collaborative filtering and article-based collaborative filtering.\n",
    "\n",
    "### Index\n",
    "<ol type=\"A\">\n",
    "  <li>Notebook initialization</li>\n",
    "  <li>Collaborative filtering: unfiltered training</li>\n",
    "  <li>Collaborative filtering: filtered training</li>\n",
    "  <li>Conclusion of the collaborative filtering</li>\n",
    "</ol>"
   ]
  },
  {
   "cell_type": "markdown",
   "metadata": {},
   "source": [
    "## A - Notebook initialization\n",
    "### A.1 - Imports"
   ]
  },
  {
   "cell_type": "code",
   "execution_count": 1,
   "metadata": {},
   "outputs": [],
   "source": [
    "# OS and filesystem\n",
    "import os\n",
    "import sys\n",
    "from pathlib import Path\n",
    "\n",
    "# Data\n",
    "import pandas\n",
    "from matplotlib import pyplot\n",
    "import matplotx\n",
    "\n",
    "# Model processing\n",
    "import surprise\n",
    "\n",
    "# Misc.\n",
    "from ast import literal_eval\n",
    "\n",
    "# Local files\n",
    "sys.path.append(os.path.join(os.pardir, os.pardir))\n",
    "import helpers"
   ]
  },
  {
   "cell_type": "markdown",
   "metadata": {},
   "source": [
    "### A.2 - Package initialization"
   ]
  },
  {
   "cell_type": "code",
   "execution_count": 2,
   "metadata": {},
   "outputs": [],
   "source": [
    "pyplot.rcParams.update(pyplot.rcParamsDefault)\n",
    "pyplot.style.use(matplotx.styles.dracula)  # Set the matplotlib style"
   ]
  },
  {
   "cell_type": "markdown",
   "metadata": {},
   "source": [
    "### A.3 - Constants"
   ]
  },
  {
   "cell_type": "code",
   "execution_count": 3,
   "metadata": {},
   "outputs": [],
   "source": [
    "# Filesystem paths\n",
    "PARENT_FOLDER = Path.cwd()\n",
    "DATA_FOLDER = (PARENT_FOLDER / \"..\" / \"..\" / \"data\").resolve()\n",
    "MODELS_FOLDER = (PARENT_FOLDER / \"..\" / \"..\" / \"models\").resolve()\n",
    "TEMP_FOLDER = (PARENT_FOLDER / \"..\" / \"..\" / \"temp\").resolve()\n",
    "\n",
    "# Plots\n",
    "FIG_SIZE = (12, 7)\n",
    "\n",
    "# Misc.\n",
    "RANDOM_STATE = 2077"
   ]
  },
  {
   "cell_type": "markdown",
   "metadata": {},
   "source": [
    "### A.4 - Datasets loading"
   ]
  },
  {
   "cell_type": "code",
   "execution_count": 4,
   "metadata": {},
   "outputs": [],
   "source": [
    "# data_reader = surprise.Reader(line_format=\"user item rating\", sep=\",\", rating_scale=(1, 10), skip_lines=1)\n",
    "# data = surprise.Dataset.load_from_file(file_path=(DATA_FOLDER / \"rating_cleaned.csv\"), reader=data_reader)\n",
    "\n",
    "# Load a smaller sample of the dataset instead of the 8M rows\n",
    "data_cleaned = pandas.read_csv((DATA_FOLDER / \"rating_cleaned.csv\"))\n",
    "data_filtered = data_cleaned[data_cleaned[\"rating\"] >= 0.0]\n",
    "data_shortened = data_filtered.sample(n=35_000)\n",
    "\n",
    "data_reader = surprise.Reader(rating_scale=(1, 10))\n",
    "data = surprise.Dataset.load_from_df(df=data_shortened[[\"user_id\", \"anime_id\", \"rating\"]], reader=data_reader)"
   ]
  },
  {
   "cell_type": "markdown",
   "metadata": {},
   "source": [
    "# B - Collaborative filtering: unfiltered training\n",
    "expliquer collaborative filtering\n",
    "expliquer diff. user-based/item-based\n",
    "\n",
    "## B.2 - Slope One\n",
    "expliquer slope one"
   ]
  },
  {
   "cell_type": "code",
   "execution_count": 5,
   "metadata": {},
   "outputs": [
    {
     "name": "stdout",
     "output_type": "stream",
     "text": [
      "\u001B[32mTesting \"Slope One\".\u001B[39m\n",
      "\u001B[0m\n",
      "\u001B[1mBest params:\u001B[22m \u001B[2m\u001B[37m{}\u001B[0m\n",
      "\u001B[1mRMSE:\u001B[22m [ train = 0.0426 | test = 1.7929 ]\n",
      "\u001B[1mMAE:\u001B[22m [ train = 0.0029 | test = 1.3266 ]\n",
      "\n",
      "Built top-N for each user (n=10, min_rating=4.0)\n",
      "\u001B[1mHit rate:\u001B[22m 91.963143%\n",
      "\u001B[1mHit rate per rating value:\u001B[22m\n",
      "Rating\tHit rate\n",
      "1.0\t50.000000%\n",
      "2.0\t76.923077%\n",
      "3.0\t75.806452%\n",
      "4.0\t84.000000%\n",
      "5.0\t84.866469%\n",
      "6.0\t87.604291%\n",
      "7.0\t90.574713%\n",
      "8.0\t94.204981%\n",
      "9.0\t94.515050%\n",
      "10.0\t94.833948%\n",
      "\u001B[1mCumulative hit rate (min_rating=4.0):\u001B[22m 92.241827%\n",
      "\u001B[1mAverage reciprocal hit rate:\u001B[22m 0.004894340707565335\n",
      "\u001B[1mUser coverage (num_users=7814, min_rating=4.0):\u001B[22m 99.705657%\n",
      "\n",
      "Testing of the \"Slope One\" model successfully completed in 0:03:04.171860.\n",
      "Grid search: N/A\n",
      "Training and testing: 0:02:22.854174\n"
     ]
    }
   ],
   "source": [
    "model_slope_one, _, top_n_slope_one = helpers.ml.run_model(\n",
    "    name=\"Slope One\",\n",
    "    model=surprise.SlopeOne,\n",
    "    dataset=data,\n",
    "    hyper_params=None,\n",
    "    models_folder=MODELS_FOLDER,\n",
    "    seed=RANDOM_STATE\n",
    ")"
   ]
  },
  {
   "cell_type": "markdown",
   "metadata": {},
   "source": [
    "## B.2 - KNN Basic\n",
    "expliquer KNN Basic"
   ]
  },
  {
   "cell_type": "code",
   "execution_count": 6,
   "metadata": {},
   "outputs": [
    {
     "name": "stdout",
     "output_type": "stream",
     "text": [
      "\u001B[32mTesting \"KNN Basic\".\u001B[39m\n",
      "Running GridSearchCV...\u001B[37m\u001B[2m\n",
      "Computing the cosine similarity matrix...\n",
      "Done computing similarity matrix.\n",
      "\u001B[0m\n",
      "\u001B[1mBest params:\u001B[22m \u001B[2m\u001B[37m{'k': 20, 'min_k': 2, 'sim_options': {'name': 'cosine', 'user_based': False}}\u001B[0m\n",
      "\u001B[1mRMSE:\u001B[22m [ train = 1.2719 | test = 1.5596 ]\n",
      "\u001B[1mMAE:\u001B[22m [ train = 0.9630 | test = 1.2457 ]\n",
      "\n",
      "Built top-N for each user (n=10, min_rating=4.0)\n",
      "\u001B[1mHit rate:\u001B[22m 92.948554%\n",
      "\u001B[1mHit rate per rating value:\u001B[22m\n",
      "Rating\tHit rate\n",
      "1.0\t66.666667%\n",
      "2.0\t88.461538%\n",
      "3.0\t79.032258%\n",
      "4.0\t85.600000%\n",
      "5.0\t87.240356%\n",
      "6.0\t89.034565%\n",
      "7.0\t91.436782%\n",
      "8.0\t94.827586%\n",
      "9.0\t95.317726%\n",
      "10.0\t95.479705%\n",
      "\u001B[1mCumulative hit rate (min_rating=4.0):\u001B[22m 93.137001%\n",
      "\u001B[1mAverage reciprocal hit rate:\u001B[22m 0.00461090785682634\n",
      "\u001B[1mUser coverage (num_users=7814, min_rating=4.0):\u001B[22m 100.000000%\n",
      "\n",
      "Testing of the \"KNN Basic\" model successfully completed in 1:07:14.096534.\n",
      "Grid search: 1:02:34.144426\n",
      "Training and testing: 0:03:59.709877\n"
     ]
    }
   ],
   "source": [
    "model_knn_basic, _, top_n_knn_basic = helpers.ml.run_model(\n",
    "    name=\"KNN Basic\",\n",
    "    model=surprise.KNNBasic,\n",
    "    dataset=data,\n",
    "    hyper_params={\n",
    "        \"k\": [20, 40, 60],\n",
    "        \"min_k\": [1, 2, 3, 5],\n",
    "        \"sim_options\": {\n",
    "            \"name\": [\"cosine\", \"msd\", \"pearson\", \"pearson_baseline\"],\n",
    "            \"user_based\": [True, False]\n",
    "        }\n",
    "    },\n",
    "    models_folder=MODELS_FOLDER,\n",
    "    seed=RANDOM_STATE\n",
    ")"
   ]
  },
  {
   "cell_type": "markdown",
   "metadata": {},
   "source": [
    "## B.3 - KNN With Means\n",
    "expliquer KNN With Means"
   ]
  },
  {
   "cell_type": "code",
   "execution_count": 7,
   "metadata": {},
   "outputs": [
    {
     "name": "stdout",
     "output_type": "stream",
     "text": [
      "\u001B[32mTesting \"KNN With Means\".\u001B[39m\n",
      "Running GridSearchCV...\u001B[37m\u001B[2m\n",
      "Computing the cosine similarity matrix...\n",
      "Done computing similarity matrix.\n",
      "\u001B[0m\n",
      "\u001B[1mBest params:\u001B[22m \u001B[2m\u001B[37m{'k': 20, 'min_k': 2, 'sim_options': {'name': 'cosine', 'user_based': False}}\u001B[0m\n",
      "\u001B[1mRMSE:\u001B[22m [ train = 1.0087 | test = 1.5933 ]\n",
      "\u001B[1mMAE:\u001B[22m [ train = 0.7474 | test = 1.2301 ]\n",
      "\n",
      "Built top-N for each user (n=10, min_rating=4.0)\n",
      "\u001B[1mHit rate:\u001B[22m 92.679805%\n",
      "\u001B[1mHit rate per rating value:\u001B[22m\n",
      "Rating\tHit rate\n",
      "1.0\t61.111111%\n",
      "2.0\t84.615385%\n",
      "3.0\t79.032258%\n",
      "4.0\t85.600000%\n",
      "5.0\t85.756677%\n",
      "6.0\t88.557807%\n",
      "7.0\t91.149425%\n",
      "8.0\t94.683908%\n",
      "9.0\t95.250836%\n",
      "10.0\t95.387454%\n",
      "\u001B[1mCumulative hit rate (min_rating=4.0):\u001B[22m 92.890503%\n",
      "\u001B[1mAverage reciprocal hit rate:\u001B[22m 0.001670684996231342\n",
      "\u001B[1mUser coverage (num_users=7814, min_rating=4.0):\u001B[22m 100.000000%\n",
      "\n",
      "Testing of the \"KNN With Means\" model successfully completed in 1:09:05.540631.\n",
      "Grid search: 1:04:04.595112\n",
      "Training and testing: 0:04:05.852281\n"
     ]
    }
   ],
   "source": [
    "model_knn_with_means, _, top_n_knn_with_means = helpers.ml.run_model(\n",
    "    name=\"KNN With Means\",\n",
    "    model=surprise.KNNWithMeans,\n",
    "    dataset=data,\n",
    "    hyper_params={\n",
    "        \"k\": [20, 40, 60],\n",
    "        \"min_k\": [1, 2, 3, 5],\n",
    "        \"sim_options\": {\n",
    "            \"name\": [\"cosine\", \"msd\", \"pearson\", \"pearson_baseline\"],\n",
    "            \"user_based\": [True, False]\n",
    "        }\n",
    "    },\n",
    "    models_folder=MODELS_FOLDER,\n",
    "    seed=RANDOM_STATE\n",
    ")"
   ]
  },
  {
   "cell_type": "markdown",
   "metadata": {},
   "source": [
    "## B.4 - KNN With Z-Score\n",
    "expliquer KNN With Z-Score"
   ]
  },
  {
   "cell_type": "code",
   "execution_count": 8,
   "metadata": {},
   "outputs": [
    {
     "name": "stdout",
     "output_type": "stream",
     "text": [
      "\u001B[32mTesting \"KNN With Z-Score\".\u001B[39m\n",
      "Running GridSearchCV...\u001B[37m\u001B[2m\n",
      "Computing the cosine similarity matrix...\n",
      "Done computing similarity matrix.\n",
      "\u001B[0m\n",
      "\u001B[1mBest params:\u001B[22m \u001B[2m\u001B[37m{'k': 20, 'min_k': 2, 'sim_options': {'name': 'cosine', 'user_based': False}}\u001B[0m\n",
      "\u001B[1mRMSE:\u001B[22m [ train = 1.0080 | test = 1.5930 ]\n",
      "\u001B[1mMAE:\u001B[22m [ train = 0.7437 | test = 1.2299 ]\n",
      "\n",
      "Built top-N for each user (n=10, min_rating=4.0)\n",
      "\u001B[1mHit rate:\u001B[22m 92.679805%\n",
      "\u001B[1mHit rate per rating value:\u001B[22m\n",
      "Rating\tHit rate\n",
      "1.0\t61.111111%\n",
      "2.0\t84.615385%\n",
      "3.0\t79.032258%\n",
      "4.0\t85.600000%\n",
      "5.0\t85.756677%\n",
      "6.0\t88.557807%\n",
      "7.0\t91.149425%\n",
      "8.0\t94.683908%\n",
      "9.0\t95.250836%\n",
      "10.0\t95.387454%\n",
      "\u001B[1mCumulative hit rate (min_rating=4.0):\u001B[22m 92.890503%\n",
      "\u001B[1mAverage reciprocal hit rate:\u001B[22m 0.001669408327987507\n",
      "\u001B[1mUser coverage (num_users=7814, min_rating=4.0):\u001B[22m 100.000000%\n",
      "\n",
      "Testing of the \"KNN With Z-Score\" model successfully completed in 1:19:26.439125.\n",
      "Grid search: 1:13:43.924272\n",
      "Training and testing: 0:04:44.935616\n"
     ]
    }
   ],
   "source": [
    "model_knn_with_z_score, _, top_n_knn_with_z_score = helpers.ml.run_model(\n",
    "    name=\"KNN With Z-Score\",\n",
    "    model=surprise.KNNWithZScore,\n",
    "    dataset=data,\n",
    "    hyper_params={\n",
    "        \"k\": [20, 40, 60],\n",
    "        \"min_k\": [1, 2, 3, 5],\n",
    "        \"sim_options\": {\n",
    "            \"name\": [\"cosine\", \"msd\", \"pearson\", \"pearson_baseline\"],\n",
    "            \"user_based\": [True, False]\n",
    "        }\n",
    "    },\n",
    "    models_folder=MODELS_FOLDER,\n",
    "    seed=RANDOM_STATE\n",
    ")"
   ]
  },
  {
   "cell_type": "markdown",
   "metadata": {},
   "source": [
    "## B.5 - KNN Baseline\n",
    "expliquer KNN Baseline"
   ]
  },
  {
   "cell_type": "code",
   "execution_count": 9,
   "metadata": {},
   "outputs": [
    {
     "name": "stdout",
     "output_type": "stream",
     "text": [
      "\u001B[32mTesting \"KNN Baseline\".\u001B[39m\n",
      "Running GridSearchCV...\u001B[37m\u001B[2m\n",
      "Estimating biases using als...\n",
      "Computing the cosine similarity matrix...\n",
      "Done computing similarity matrix.\n",
      "\u001B[0m\n",
      "\u001B[1mBest params:\u001B[22m \u001B[2m\u001B[37m{'k': 20, 'min_k': 2, 'sim_options': {'name': 'cosine', 'user_based': False}, 'bsl_options': {'method': 'als', 'n_epochs': 15}}\u001B[0m\n",
      "\u001B[1mRMSE:\u001B[22m [ train = 1.1064 | test = 1.4577 ]\n",
      "\u001B[1mMAE:\u001B[22m [ train = 0.8375 | test = 1.1384 ]\n",
      "\n",
      "Built top-N for each user (n=10, min_rating=4.0)\n",
      "\u001B[1mHit rate:\u001B[22m 92.948554%\n",
      "\u001B[1mHit rate per rating value:\u001B[22m\n",
      "Rating\tHit rate\n",
      "1.0\t66.666667%\n",
      "2.0\t88.461538%\n",
      "3.0\t79.032258%\n",
      "4.0\t85.600000%\n",
      "5.0\t87.240356%\n",
      "6.0\t89.034565%\n",
      "7.0\t91.436782%\n",
      "8.0\t94.827586%\n",
      "9.0\t95.317726%\n",
      "10.0\t95.479705%\n",
      "\u001B[1mCumulative hit rate (min_rating=4.0):\u001B[22m 93.137001%\n",
      "\u001B[1mAverage reciprocal hit rate:\u001B[22m 0.011540893716711565\n",
      "\u001B[1mUser coverage (num_users=7814, min_rating=4.0):\u001B[22m 100.000000%\n",
      "\n",
      "Testing of the \"KNN Baseline\" model successfully completed in 3:51:05.265563.\n",
      "Grid search: 3:39:10.604615\n",
      "Training and testing: 0:10:31.528510\n"
     ]
    }
   ],
   "source": [
    "model_knn_baseline, _, top_n_knn_baseline = helpers.ml.run_model(\n",
    "    name=\"KNN Baseline\",\n",
    "    model=surprise.KNNBaseline,\n",
    "    dataset=data,\n",
    "    hyper_params={\n",
    "        \"k\": [20, 40, 60],\n",
    "        \"min_k\": [1, 2, 3, 5],\n",
    "        \"sim_options\": {\n",
    "            \"name\": [\"cosine\", \"msd\", \"pearson\", \"pearson_baseline\"],\n",
    "            \"user_based\": [True, False]\n",
    "        },\n",
    "        \"bsl_options\": {\n",
    "            \"method\": [\"als\"],\n",
    "            \"n_epochs\": [5, 10, 15],\n",
    "        }\n",
    "    },\n",
    "    models_folder=MODELS_FOLDER,\n",
    "    seed=RANDOM_STATE\n",
    ")"
   ]
  },
  {
   "cell_type": "markdown",
   "metadata": {},
   "source": [
    "## B.6 - Non-negative Matrix Factorization\n",
    "expliquer Non-negative Matrix Factorization"
   ]
  },
  {
   "cell_type": "code",
   "execution_count": 10,
   "metadata": {},
   "outputs": [
    {
     "name": "stdout",
     "output_type": "stream",
     "text": [
      "\u001B[32mTesting \"Non-negative Matrix Factorization\".\u001B[39m\n",
      "Running GridSearchCV...\u001B[37m\u001B[2m\n",
      "\u001B[0m\n",
      "\u001B[1mBest params:\u001B[22m \u001B[2m\u001B[37m{'n_factors': 5, 'n_epochs': 25, 'biased': True}\u001B[0m\n",
      "\u001B[1mRMSE:\u001B[22m [ train = 0.8608 | test = 1.4859 ]\n",
      "\u001B[1mMAE:\u001B[22m [ train = 0.5341 | test = 1.1478 ]\n",
      "\n",
      "Built top-N for each user (n=10, min_rating=4.0)\n",
      "\u001B[1mHit rate:\u001B[22m 92.948554%\n",
      "\u001B[1mHit rate per rating value:\u001B[22m\n",
      "Rating\tHit rate\n",
      "1.0\t66.666667%\n",
      "2.0\t88.461538%\n",
      "3.0\t79.032258%\n",
      "4.0\t85.600000%\n",
      "5.0\t87.240356%\n",
      "6.0\t89.034565%\n",
      "7.0\t91.436782%\n",
      "8.0\t94.827586%\n",
      "9.0\t95.317726%\n",
      "10.0\t95.479705%\n",
      "\u001B[1mCumulative hit rate (min_rating=4.0):\u001B[22m 93.137001%\n",
      "\u001B[1mAverage reciprocal hit rate:\u001B[22m 0.0035244116463346293\n",
      "\u001B[1mUser coverage (num_users=7814, min_rating=4.0):\u001B[22m 100.000000%\n",
      "\n",
      "Testing of the \"Non-negative Matrix Factorization\" model successfully completed in 0:30:26.801538.\n",
      "Grid search: 0:05:46.304963\n",
      "Training and testing: 0:23:37.449606\n"
     ]
    }
   ],
   "source": [
    "model_nmf, _, top_n_nmf = helpers.ml.run_model(\n",
    "    name=\"Non-negative Matrix Factorization\",\n",
    "    model=surprise.NMF,\n",
    "    dataset=data,\n",
    "    hyper_params={\n",
    "        \"n_factors\": [5, 15, 25],\n",
    "        \"n_epochs\": [25, 50, 75],\n",
    "        \"biased\": [True, False]\n",
    "    },\n",
    "    models_folder=MODELS_FOLDER,\n",
    "    seed=RANDOM_STATE\n",
    ")"
   ]
  },
  {
   "cell_type": "markdown",
   "metadata": {},
   "source": [
    "## B.7 - Co-clustering\n",
    "expliquer Co-clustering"
   ]
  },
  {
   "cell_type": "code",
   "execution_count": 11,
   "metadata": {},
   "outputs": [
    {
     "name": "stdout",
     "output_type": "stream",
     "text": [
      "\u001B[32mTesting \"Co-clustering\".\u001B[39m\n",
      "Running GridSearchCV...\u001B[37m\u001B[2m\n",
      "\u001B[0m\n",
      "\u001B[1mBest params:\u001B[22m \u001B[2m\u001B[37m{'n_cltr_u': 5, 'n_cltr_i': 3, 'n_epochs': 30}\u001B[0m\n",
      "\u001B[1mRMSE:\u001B[22m [ train = 0.7790 | test = 1.7352 ]\n",
      "\u001B[1mMAE:\u001B[22m [ train = 0.5423 | test = 1.3126 ]\n",
      "\n",
      "Built top-N for each user (n=10, min_rating=4.0)\n",
      "\u001B[1mHit rate:\u001B[22m 91.118505%\n",
      "\u001B[1mHit rate per rating value:\u001B[22m\n",
      "Rating\tHit rate\n",
      "1.0\t44.444444%\n",
      "2.0\t65.384615%\n",
      "3.0\t77.419355%\n",
      "4.0\t80.800000%\n",
      "5.0\t81.602374%\n",
      "6.0\t85.578069%\n",
      "7.0\t89.540230%\n",
      "8.0\t93.726054%\n",
      "9.0\t94.448161%\n",
      "10.0\t94.649446%\n",
      "\u001B[1mCumulative hit rate (min_rating=4.0):\u001B[22m 91.424494%\n",
      "\u001B[1mAverage reciprocal hit rate:\u001B[22m 0.002823389679550613\n",
      "\u001B[1mUser coverage (num_users=7814, min_rating=4.0):\u001B[22m 99.833632%\n",
      "\n",
      "Testing of the \"Co-clustering\" model successfully completed in 1:00:47.418472.\n",
      "Grid search: 0:14:04.900818\n",
      "Training and testing: 0:45:23.661188\n"
     ]
    }
   ],
   "source": [
    "model_co_clustering, _, top_n_co_clustering = helpers.ml.run_model(\n",
    "    name=\"Co-clustering\",\n",
    "    model=surprise.CoClustering,\n",
    "    dataset=data,\n",
    "    hyper_params={\n",
    "        \"n_cltr_u\": [1, 3, 5],\n",
    "        \"n_cltr_i\": [1, 3, 5],\n",
    "        \"n_epochs\": [10, 20, 30],\n",
    "    },\n",
    "    models_folder=MODELS_FOLDER,\n",
    "    seed=RANDOM_STATE\n",
    ")"
   ]
  },
  {
   "cell_type": "markdown",
   "metadata": {},
   "source": [
    "## B.8 - Comparing performance\n",
    "**TODO**"
   ]
  },
  {
   "cell_type": "markdown",
   "metadata": {},
   "source": [
    "## B.9 - Getting the Top-N\n",
    "**TODO**"
   ]
  }
 ],
 "metadata": {
  "kernelspec": {
   "display_name": "Python 3 (ipykernel)",
   "language": "python",
   "name": "python3"
  },
  "language_info": {
   "codemirror_mode": {
    "name": "ipython",
    "version": 3
   },
   "file_extension": ".py",
   "mimetype": "text/x-python",
   "name": "python",
   "nbconvert_exporter": "python",
   "pygments_lexer": "ipython3",
   "version": "3.10.9"
  }
 },
 "nbformat": 4,
 "nbformat_minor": 1
}
