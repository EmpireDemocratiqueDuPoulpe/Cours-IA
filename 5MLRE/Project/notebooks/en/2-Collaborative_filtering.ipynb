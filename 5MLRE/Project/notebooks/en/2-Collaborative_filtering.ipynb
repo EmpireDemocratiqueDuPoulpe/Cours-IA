{
 "cells": [
  {
   "cell_type": "markdown",
   "metadata": {},
   "source": [
    "## School project - 5MLRE\n",
    "The following notebook was created for a school project to create an anime recommendation system. The subject and the questions are available in the appendix.\n",
    "\n",
    "The group members who participated in this project are:\n",
    "- AMIMI Lamine\n",
    "- BEZIN Théo\n",
    "- LECOMTE Alexis\n",
    "- PAWLOWSKI Maxence\n",
    "\n",
    "### Main index\n",
    "1. Data analysis\n",
    "2. **Collaborative filtering (you are here)**\n",
    "3. Content-based filtering\n",
    "4. _Appendix_"
   ]
  },
  {
   "cell_type": "markdown",
   "metadata": {},
   "source": [
    "# 2 - Collaborative filtering\n",
    "In the previous notebook, we loaded, cleaned and studied the [MyAnimeList](https://myanimelist.net/) datasets. Now that we know them better, we will start to create the recommendation system using collaborative filtering. Collaborative filtering is a technique that filters out items that a user might like based on feedback from similar users. There are two sub-techniques: User-based collaborative filtering and article-based collaborative filtering.\n",
    "\n",
    "### Index\n",
    "<ol type=\"A\">\n",
    "  <li>Notebook initialization</li>\n",
    "  <li>Collaborative filtering: unfiltered training</li>\n",
    "  <li>Collaborative filtering: filtered training</li>\n",
    "  <li>Getting the Top-N</li>\n",
    "  <li>Conclusion of the collaborative filtering</li>\n",
    "</ol>"
   ]
  },
  {
   "cell_type": "markdown",
   "metadata": {},
   "source": [
    "## A - Notebook initialization\n",
    "### A.1 - Imports"
   ]
  },
  {
   "cell_type": "code",
   "execution_count": 1,
   "metadata": {},
   "outputs": [],
   "source": [
    "# OS and filesystem\n",
    "import os\n",
    "import sys\n",
    "from pathlib import Path\n",
    "import random\n",
    "\n",
    "# Data\n",
    "import pandas\n",
    "from matplotlib import pyplot\n",
    "import matplotx\n",
    "\n",
    "# Model processing\n",
    "import surprise\n",
    "\n",
    "# Misc.\n",
    "from ast import literal_eval\n",
    "\n",
    "# Local files\n",
    "sys.path.append(os.path.join(os.pardir, os.pardir))\n",
    "import helpers"
   ]
  },
  {
   "cell_type": "markdown",
   "metadata": {},
   "source": [
    "### A.2 - Package initialization"
   ]
  },
  {
   "cell_type": "code",
   "execution_count": 2,
   "metadata": {},
   "outputs": [],
   "source": [
    "pyplot.rcParams.update(pyplot.rcParamsDefault)\n",
    "pyplot.style.use(matplotx.styles.dracula)  # Set the matplotlib style"
   ]
  },
  {
   "cell_type": "markdown",
   "metadata": {},
   "source": [
    "### A.3 - Constants"
   ]
  },
  {
   "cell_type": "code",
   "execution_count": 3,
   "metadata": {},
   "outputs": [],
   "source": [
    "# Filesystem paths\n",
    "PARENT_FOLDER = Path.cwd()\n",
    "DATA_FOLDER = (PARENT_FOLDER / \"..\" / \"..\" / \"data\").resolve()\n",
    "MODELS_FOLDER = (PARENT_FOLDER / \"..\" / \"..\" / \"models\").resolve()\n",
    "TEMP_FOLDER = (PARENT_FOLDER / \"..\" / \"..\" / \"temp\").resolve()\n",
    "\n",
    "# Plots\n",
    "FIG_SIZE = (12, 7)\n",
    "\n",
    "# Misc.\n",
    "RANDOM_STATE = 2077"
   ]
  },
  {
   "cell_type": "markdown",
   "metadata": {},
   "source": [
    "### A.4 - Datasets loading"
   ]
  },
  {
   "cell_type": "code",
   "execution_count": 4,
   "metadata": {},
   "outputs": [],
   "source": [
    "# data_reader = surprise.Reader(line_format=\"user item rating\", sep=\",\", rating_scale=(-1, 10), skip_lines=1)\n",
    "# data = surprise.Dataset.load_from_file(file_path=(DATA_FOLDER / \"rating2.csv\"), reader=data_reader)\n",
    "\n",
    "# Load a smaller sample of the dataset instead of the 8M rows\n",
    "data = pandas.read_csv((DATA_FOLDER / \"rating.csv\"), dtype={\"user_id\": str, \"anime_id\": str})\n",
    "# data = data[data[\"rating\"] >= 0]\n",
    "data = data.head(n=125_000)  # We use `head` instead of `samples`.\n",
    "\n",
    "data_reader = surprise.Reader(rating_scale=(-1, 10))\n",
    "data = surprise.Dataset.load_from_df(df=data[[\"user_id\", \"anime_id\", \"rating\"]], reader=data_reader)"
   ]
  },
  {
   "cell_type": "code",
   "execution_count": 4,
   "metadata": {},
   "outputs": [],
   "source": [
    "data_anime = pandas.read_csv(DATA_FOLDER / \"anime_cleaned.csv\", converters={\"genre_split\": literal_eval})"
   ]
  },
  {
   "cell_type": "code",
   "execution_count": 5,
   "metadata": {},
   "outputs": [],
   "source": [
    "rankings = pandas.Series(data=data_anime[\"rank_num_ratings\"].values, index=data_anime[\"anime_id\"]).to_dict()"
   ]
  },
  {
   "cell_type": "code",
   "execution_count": 7,
   "metadata": {},
   "outputs": [
    {
     "name": "stdout",
     "output_type": "stream",
     "text": [
      "Constructing sets. This can take a while...\u001B[37m\u001B[2m\n",
      "\u001B[37m\u001B[2m   > Building train/test sets...\u001B[37m\u001B[2m\n",
      "\u001B[37m\u001B[2m   > Building LeaveOneOut sets...\u001B[37m\u001B[2m\n",
      "\u001B[37m\u001B[2m   > Building full sets...\u001B[37m\u001B[2m\n",
      "\u001B[37m\u001B[2m   > Preparing the similarities model...\u001B[37m\u001B[2m\n",
      "Estimating biases using als...\n",
      "Computing the cosine similarity matrix...\n",
      "Done computing similarity matrix.\n",
      "\u001B[0m\n"
     ]
    }
   ],
   "source": [
    "evaluator = helpers.ml.ModelEvaluator(dataset=data, rankings=rankings, models_folder=MODELS_FOLDER, seed=RANDOM_STATE)"
   ]
  },
  {
   "cell_type": "markdown",
   "metadata": {},
   "source": [
    "# B - Collaborative filtering: unfiltered training\n",
    "As we explained earlier, Collaborative filtering is a method used to make personalized recommendations by analyzing a user's past preferences or behaviors and comparing them to those of similar users. There are two sub-techniques: User-based collaborative filtering and article-based collaborative filtering.\n",
    "\n",
    "- User-based: focuses on finding similar users that are looking like the target user in terms of preferences, liked items and user's navigation.\n",
    "- Item-based: focuses on finding similar items based on the user's previous interactions with other items.\n",
    "\n",
    "User-based is more relevant for entertainment-related items, as this approach would recommend items that other users with similar preferences have liked. There are a lot of parameters in terms of preference nuances. Item-based recommendations are more pertinent to online shops, which recommend products based on their characteristics. We are talking about individual tastes here.\n",
    "\n",
    "In our case, user-based filtering should give better results. But in this notebook we will test our models with both methods.\n",
    "\n",
    "## B.1 - Slope One\n",
    "Slope One is a collaborative filtering algorithm designed for recommendations. Its lightweight and simple design calculates the average difference between the user's items rating and uses this information to predict the user's potential rating on an unseen article."
   ]
  },
  {
   "cell_type": "code",
   "execution_count": 8,
   "metadata": {},
   "outputs": [
    {
     "name": "stdout",
     "output_type": "stream",
     "text": [
      "\u001B[32mTesting \"Slope One\".\u001B[39m\n",
      "Computing metrics...\u001B[37m\u001B[2m\n",
      "\u001B[37m\u001B[2mCalculating the accuracy (RMSE, MAE)...\u001B[37m\u001B[2m\n",
      "\u001B[37m\u001B[2mBuilding the top-N...\u001B[37m\u001B[2m\n",
      "\u001B[37m\u001B[2m   > Fitting on the LOOCV...\u001B[37m\u001B[2m\n",
      "\u001B[37m\u001B[2m   > Fitting on the full set...\u001B[37m\u001B[2m\n",
      "Built top-N for each user (n=10, min_rating=3.0)\n",
      "Built top-N for each user (n=10, min_rating=3.0)\n",
      "\u001B[0m\n",
      "\u001B[1mBest params:\u001B[22m \u001B[2m\u001B[37m{}\u001B[0m\n",
      "\u001B[1mRMSE:\u001B[22m 2.223912\n",
      "\u001B[1mMAE:\u001B[22m 1.432369\n",
      "\n",
      "\u001B[1mHit rate:\u001B[22m 0.404858%\n",
      "\u001B[1mHit rate per rating value:\u001B[22m\n",
      "Rating\tHit rate\n",
      "10.0\t2.136752%\n",
      "\u001B[1mCumulative hit rate (min_rating=3.0):\u001B[22m 0.488281%\n",
      "\u001B[1mAverage reciprocal hit rank:\u001B[22m 0.0020917678812415654\n",
      "\u001B[1mUser coverage (num_users=1235, min_rating=3.0):\u001B[22m 100.000000%\n",
      "\u001B[1mDiversity:\u001B[22m 0.666667\n",
      "\u001B[1mNovelty:\u001B[22m 3281.476531\n",
      "\n",
      "\u001B[0mTesting of the \"Slope One\" model successfully completed in 0:09:25.411926.\n",
      "Grid search: N/A\n",
      "Training and testing: 0:00:04.291854\n",
      "Top-N building: 0:09:16.733063\n"
     ]
    }
   ],
   "source": [
    "evaluator.run_model(name=\"Slope One\", model=surprise.SlopeOne, hyper_params=None, measure_key=\"rmse\", override=False)"
   ]
  },
  {
   "cell_type": "markdown",
   "metadata": {},
   "source": [
    "## B.2 - KNN Basic\n",
    "KNN Basic (K-Nearest Neighbors) is another collaborative filtering algorithm used for recommandation systems. It consists of finding the most similar \"K\" items or users based on a similarity metric. It then calculates the weighted average of the ratings of the items found to predict the user's rating for the target item or recommend items based on the user."
   ]
  },
  {
   "cell_type": "code",
   "execution_count": 9,
   "metadata": {},
   "outputs": [
    {
     "name": "stdout",
     "output_type": "stream",
     "text": [
      "\u001B[32mTesting \"KNN Basic\".\u001B[39m\n",
      "Running GridSearchCV...\u001B[37m\u001B[2m\n",
      "Computing metrics...\u001B[37m\u001B[2m\n",
      "\u001B[37m\u001B[2mCalculating the accuracy (RMSE, MAE)...\u001B[37m\u001B[2m\n",
      "Estimating biases using als...\n",
      "Computing the pearson_baseline similarity matrix...\n",
      "Done computing similarity matrix.\n",
      "\u001B[37m\u001B[2mBuilding the top-N...\u001B[37m\u001B[2m\n",
      "\u001B[37m\u001B[2m   > Fitting on the LOOCV...\u001B[37m\u001B[2m\n",
      "Estimating biases using als...\n",
      "Computing the pearson_baseline similarity matrix...\n",
      "Done computing similarity matrix.\n",
      "\u001B[37m\u001B[2m   > Fitting on the full set...\u001B[37m\u001B[2m\n",
      "Estimating biases using als...\n",
      "Computing the pearson_baseline similarity matrix...\n",
      "Done computing similarity matrix.\n",
      "\u001B[33mWarning: 2296265/6597142 (34.806966%) predictions were impossible! \u001B[39m\n",
      "Built top-N for each user (n=10, min_rating=3.0)\n",
      "\u001B[33mWarning: 2397381/6802312 (35.243620%) predictions were impossible! \u001B[39m\n",
      "Built top-N for each user (n=10, min_rating=3.0)\n",
      "\u001B[0m\n",
      "\u001B[1mBest params:\u001B[22m \u001B[2m\u001B[37m{'k': 40, 'min_k': 1, 'sim_options': {'name': 'pearson_baseline', 'user_based': False}}\u001B[0m\n",
      "\u001B[1mRMSE:\u001B[22m 2.229013\n",
      "\u001B[1mMAE:\u001B[22m 1.382239\n",
      "\n",
      "\u001B[1mHit rate:\u001B[22m 0.323887%\n",
      "\u001B[1mHit rate per rating value:\u001B[22m\n",
      "Rating\tHit rate\n",
      "-1.0\t0.480769%\n",
      "8.0\t0.787402%\n",
      "10.0\t0.427350%\n",
      "\u001B[1mCumulative hit rate (min_rating=3.0):\u001B[22m 0.292969%\n",
      "\u001B[1mAverage reciprocal hit rank:\u001B[22m 0.0020242914979757085\n",
      "\u001B[1mUser coverage (num_users=1235, min_rating=3.0):\u001B[22m 100.000000%\n",
      "\u001B[1mDiversity:\u001B[22m 0.911111\n",
      "\u001B[1mNovelty:\u001B[22m 3091.652830\n",
      "\n",
      "\u001B[0mTesting of the \"KNN Basic\" model successfully completed in 1:15:58.441033.\n",
      "Grid search: 1:01:19.484636\n",
      "Training and testing: 0:00:07.061439\n",
      "Top-N building: 0:14:27.482832\n"
     ]
    }
   ],
   "source": [
    "evaluator.run_model(\n",
    "    name=\"KNN Basic\",\n",
    "    model=surprise.KNNBasic,\n",
    "    hyper_params={\n",
    "        \"k\": [20, 40, 60],\n",
    "        \"min_k\": [1, 2, 3, 5],\n",
    "        \"sim_options\": {\n",
    "            \"name\": [\"cosine\", \"msd\", \"pearson\", \"pearson_baseline\"],\n",
    "            \"user_based\": [True, False]\n",
    "        }\n",
    "    },\n",
    "    measure_key=\"rmse\",\n",
    "    override=False\n",
    ")"
   ]
  },
  {
   "cell_type": "markdown",
   "metadata": {},
   "source": [
    "## B.3 - KNN With Means\n",
    "KNN With Means is a variant of the KNN Basic algorithm. This time, the algorithm adjusts the previously calculated weighted average by adding the overall average user or article rating."
   ]
  },
  {
   "cell_type": "code",
   "execution_count": 10,
   "metadata": {},
   "outputs": [
    {
     "name": "stdout",
     "output_type": "stream",
     "text": [
      "\u001B[32mTesting \"KNN With Means\".\u001B[39m\n",
      "Running GridSearchCV...\u001B[37m\u001B[2m\n",
      "Computing metrics...\u001B[37m\u001B[2m\n",
      "\u001B[37m\u001B[2mCalculating the accuracy (RMSE, MAE)...\u001B[37m\u001B[2m\n",
      "Estimating biases using als...\n",
      "Computing the pearson_baseline similarity matrix...\n",
      "Done computing similarity matrix.\n",
      "\u001B[37m\u001B[2mBuilding the top-N...\u001B[37m\u001B[2m\n",
      "\u001B[37m\u001B[2m   > Fitting on the LOOCV...\u001B[37m\u001B[2m\n",
      "Estimating biases using als...\n",
      "Computing the pearson_baseline similarity matrix...\n",
      "Done computing similarity matrix.\n",
      "\u001B[37m\u001B[2m   > Fitting on the full set...\u001B[37m\u001B[2m\n",
      "Estimating biases using als...\n",
      "Computing the pearson_baseline similarity matrix...\n",
      "Done computing similarity matrix.\n",
      "Built top-N for each user (n=10, min_rating=3.0)\n",
      "Built top-N for each user (n=10, min_rating=3.0)\n",
      "\u001B[0m\n",
      "\u001B[1mBest params:\u001B[22m \u001B[2m\u001B[37m{'k': 40, 'min_k': 5, 'sim_options': {'name': 'pearson_baseline', 'user_based': True}}\u001B[0m\n",
      "\u001B[1mRMSE:\u001B[22m 2.160327\n",
      "\u001B[1mMAE:\u001B[22m 1.351401\n",
      "\n",
      "\u001B[1mHit rate:\u001B[22m 2.348178%\n",
      "\u001B[1mHit rate per rating value:\u001B[22m\n",
      "Rating\tHit rate\n",
      "7.0\t1.570681%\n",
      "8.0\t2.362205%\n",
      "9.0\t0.862069%\n",
      "10.0\t7.692308%\n",
      "\u001B[1mCumulative hit rate (min_rating=3.0):\u001B[22m 2.832031%\n",
      "\u001B[1mAverage reciprocal hit rank:\u001B[22m 0.008375104427736006\n",
      "\u001B[1mUser coverage (num_users=1235, min_rating=3.0):\u001B[22m 95.303644%\n",
      "\u001B[1mDiversity:\u001B[22m 1.000000\n",
      "\u001B[1mNovelty:\u001B[22m 1006.727677\n",
      "\n",
      "\u001B[0mTesting of the \"KNN With Means\" model successfully completed in 1:09:51.255966.\n",
      "Grid search: 1:03:45.360744\n",
      "Training and testing: 0:00:04.102406\n",
      "Top-N building: 0:05:57.152299\n"
     ]
    }
   ],
   "source": [
    "evaluator.run_model(\n",
    "    name=\"KNN With Means\",\n",
    "    model=surprise.KNNWithMeans,\n",
    "    hyper_params={\n",
    "        \"k\": [20, 40, 60],\n",
    "        \"min_k\": [1, 2, 3, 5],\n",
    "        \"sim_options\": {\n",
    "            \"name\": [\"cosine\", \"msd\", \"pearson\", \"pearson_baseline\"],\n",
    "            \"user_based\": [True, False]\n",
    "        }\n",
    "    },\n",
    "    measure_key=\"rmse\",\n",
    "    override=False\n",
    ")"
   ]
  },
  {
   "cell_type": "markdown",
   "metadata": {},
   "source": [
    "## B.4 - KNN With Z-Score\n",
    "KNN With Z-Score is another variant of the KNN algorithm that takes into account the average ratings and standard deviations of users or items for predictions. In addition to the previous steps, the algorithm calculates the Z-Score by subtracting the average score and dividing the result by the standard deviation on the weighted average. With this method, this algorithm normalizes the ratings by trends and variabilities, which means better accuracy for predictions and recommendations."
   ]
  },
  {
   "cell_type": "code",
   "execution_count": 11,
   "metadata": {},
   "outputs": [
    {
     "name": "stdout",
     "output_type": "stream",
     "text": [
      "\u001B[32mTesting \"KNN With Z-Score\".\u001B[39m\n",
      "Running GridSearchCV...\u001B[37m\u001B[2m\n",
      "Computing metrics...\u001B[37m\u001B[2m\n",
      "\u001B[37m\u001B[2mCalculating the accuracy (RMSE, MAE)...\u001B[37m\u001B[2m\n",
      "Estimating biases using als...\n",
      "Computing the pearson_baseline similarity matrix...\n",
      "Done computing similarity matrix.\n",
      "\u001B[37m\u001B[2mBuilding the top-N...\u001B[37m\u001B[2m\n",
      "\u001B[37m\u001B[2m   > Fitting on the LOOCV...\u001B[37m\u001B[2m\n",
      "Estimating biases using als...\n",
      "Computing the pearson_baseline similarity matrix...\n",
      "Done computing similarity matrix.\n",
      "\u001B[37m\u001B[2m   > Fitting on the full set...\u001B[37m\u001B[2m\n",
      "Estimating biases using als...\n",
      "Computing the pearson_baseline similarity matrix...\n",
      "Done computing similarity matrix.\n",
      "Built top-N for each user (n=10, min_rating=3.0)\n",
      "Built top-N for each user (n=10, min_rating=3.0)\n",
      "\u001B[0m\n",
      "\u001B[1mBest params:\u001B[22m \u001B[2m\u001B[37m{'k': 40, 'min_k': 3, 'sim_options': {'name': 'pearson_baseline', 'user_based': True}}\u001B[0m\n",
      "\u001B[1mRMSE:\u001B[22m 2.155113\n",
      "\u001B[1mMAE:\u001B[22m 1.320680\n",
      "\n",
      "\u001B[1mHit rate:\u001B[22m 1.457490%\n",
      "\u001B[1mHit rate per rating value:\u001B[22m\n",
      "Rating\tHit rate\n",
      "7.0\t0.523560%\n",
      "8.0\t0.393701%\n",
      "9.0\t0.862069%\n",
      "10.0\t5.982906%\n",
      "\u001B[1mCumulative hit rate (min_rating=3.0):\u001B[22m 1.757812%\n",
      "\u001B[1mAverage reciprocal hit rank:\u001B[22m 0.005801683696420538\n",
      "\u001B[1mUser coverage (num_users=1235, min_rating=3.0):\u001B[22m 98.947368%\n",
      "\u001B[1mDiversity:\u001B[22m 1.000000\n",
      "\u001B[1mNovelty:\u001B[22m 1440.850299\n",
      "\n",
      "\u001B[0mTesting of the \"KNN With Z-Score\" model successfully completed in 1:13:20.690563.\n",
      "Grid search: 1:06:59.644087\n",
      "Training and testing: 0:00:03.998482\n",
      "Top-N building: 0:06:12.472117\n"
     ]
    }
   ],
   "source": [
    "evaluator.run_model(\n",
    "    name=\"KNN With Z-Score\",\n",
    "    model=surprise.KNNWithZScore,\n",
    "    hyper_params={\n",
    "        \"k\": [20, 40, 60],\n",
    "        \"min_k\": [1, 2, 3, 5],\n",
    "        \"sim_options\": {\n",
    "            \"name\": [\"cosine\", \"msd\", \"pearson\", \"pearson_baseline\"],\n",
    "            \"user_based\": [True, False]\n",
    "        }\n",
    "    },\n",
    "    measure_key=\"rmse\",\n",
    "    override=False\n",
    ")"
   ]
  },
  {
   "cell_type": "markdown",
   "metadata": {},
   "source": [
    "## B.5 - KNN Baseline\n",
    "KNN Baseline is simpler than the previous algorithm. It calculates the distance between the raw values of the features that we want to use for our prediction. The counterpart of this method is the loss of accuracy depending to the scales or ranges of the features."
   ]
  },
  {
   "cell_type": "code",
   "execution_count": 12,
   "metadata": {},
   "outputs": [
    {
     "name": "stdout",
     "output_type": "stream",
     "text": [
      "\u001B[32mTesting \"KNN Baseline\".\u001B[39m\n",
      "Running GridSearchCV...\u001B[37m\u001B[2m\n",
      "Computing metrics...\u001B[37m\u001B[2m\n",
      "\u001B[37m\u001B[2mCalculating the accuracy (RMSE, MAE)...\u001B[37m\u001B[2m\n",
      "Estimating biases using als...\n",
      "Computing the pearson_baseline similarity matrix...\n",
      "Done computing similarity matrix.\n",
      "\u001B[37m\u001B[2mBuilding the top-N...\u001B[37m\u001B[2m\n",
      "\u001B[37m\u001B[2m   > Fitting on the LOOCV...\u001B[37m\u001B[2m\n",
      "Estimating biases using als...\n",
      "Computing the pearson_baseline similarity matrix...\n",
      "Done computing similarity matrix.\n",
      "\u001B[37m\u001B[2m   > Fitting on the full set...\u001B[37m\u001B[2m\n",
      "Estimating biases using als...\n",
      "Computing the pearson_baseline similarity matrix...\n",
      "Done computing similarity matrix.\n",
      "Built top-N for each user (n=10, min_rating=3.0)\n",
      "Built top-N for each user (n=10, min_rating=3.0)\n",
      "\u001B[0m\n",
      "\u001B[1mBest params:\u001B[22m \u001B[2m\u001B[37m{'k': 20, 'min_k': 5, 'sim_options': {'name': 'pearson_baseline', 'user_based': False}, 'bsl_options': {'method': 'als', 'n_epochs': 15}}\u001B[0m\n",
      "\u001B[1mRMSE:\u001B[22m 2.051697\n",
      "\u001B[1mMAE:\u001B[22m 1.268997\n",
      "\n",
      "\u001B[1mHit rate:\u001B[22m 3.157895%\n",
      "\u001B[1mHit rate per rating value:\u001B[22m\n",
      "Rating\tHit rate\n",
      "-1.0\t0.480769%\n",
      "7.0\t2.094241%\n",
      "8.0\t1.574803%\n",
      "9.0\t3.448276%\n",
      "10.0\t9.401709%\n",
      "\u001B[1mCumulative hit rate (min_rating=3.0):\u001B[22m 3.710938%\n",
      "\u001B[1mAverage reciprocal hit rank:\u001B[22m 0.00802358460253197\n",
      "\u001B[1mUser coverage (num_users=1235, min_rating=3.0):\u001B[22m 93.846154%\n",
      "\u001B[1mDiversity:\u001B[22m 1.000000\n",
      "\u001B[1mNovelty:\u001B[22m 601.958002\n",
      "\n",
      "\u001B[0mTesting of the \"KNN Baseline\" model successfully completed in 3:40:11.667608.\n",
      "Grid search: 3:26:04.120988\n",
      "Training and testing: 0:00:06.925352\n",
      "Top-N building: 0:13:56.018379\n"
     ]
    }
   ],
   "source": [
    "evaluator.run_model(\n",
    "    name=\"KNN Baseline\",\n",
    "    model=surprise.KNNBaseline,\n",
    "    hyper_params={\n",
    "        \"k\": [20, 40, 60],\n",
    "        \"min_k\": [1, 2, 3, 5],\n",
    "        \"sim_options\": {\n",
    "            \"name\": [\"cosine\", \"msd\", \"pearson\", \"pearson_baseline\"],\n",
    "            \"user_based\": [True, False]\n",
    "        },\n",
    "        \"bsl_options\": {\n",
    "            \"method\": [\"als\"],\n",
    "            \"n_epochs\": [5, 10, 15],\n",
    "        }\n",
    "    },\n",
    "    measure_key=\"rmse\",\n",
    "    override=False\n",
    ")"
   ]
  },
  {
   "cell_type": "markdown",
   "metadata": {},
   "source": [
    "## B.6 - Non-negative Matrix Factorization\n",
    "Non-negative Matrix Factorization (NMF) is a technique used to facilitate the interpretation of non-negative matrices*¹* of data. For this, the algorithm tries to find a way to represent a non-negative matrix in smaller non-negative matrices. It can then better interpret the data structures and its predictions are improved.\n",
    "\n",
    "*1: A non-negative matrix is a matrix where all elements are greater than or equal to zero.*"
   ]
  },
  {
   "cell_type": "code",
   "execution_count": 13,
   "metadata": {},
   "outputs": [
    {
     "name": "stdout",
     "output_type": "stream",
     "text": [
      "\u001B[32mTesting \"Non-negative Matrix Factorization\".\u001B[39m\n",
      "Running GridSearchCV...\u001B[37m\u001B[2m\n",
      "Computing metrics...\u001B[37m\u001B[2m\n",
      "\u001B[37m\u001B[2mCalculating the accuracy (RMSE, MAE)...\u001B[37m\u001B[2m\n",
      "\u001B[37m\u001B[2mBuilding the top-N...\u001B[37m\u001B[2m\n",
      "\u001B[37m\u001B[2m   > Fitting on the LOOCV...\u001B[37m\u001B[2m\n",
      "\u001B[37m\u001B[2m   > Fitting on the full set...\u001B[37m\u001B[2m\n",
      "Built top-N for each user (n=10, min_rating=3.0)\n",
      "Built top-N for each user (n=10, min_rating=3.0)\n",
      "\u001B[0m\n",
      "\u001B[1mBest params:\u001B[22m \u001B[2m\u001B[37m{'n_factors': 5, 'n_epochs': 75, 'biased': True}\u001B[0m\n",
      "\u001B[1mRMSE:\u001B[22m 2.541973\n",
      "\u001B[1mMAE:\u001B[22m 1.684747\n",
      "\n",
      "\u001B[1mHit rate:\u001B[22m 1.376518%\n",
      "\u001B[1mHit rate per rating value:\u001B[22m\n",
      "Rating\tHit rate\n",
      "-1.0\t0.961538%\n",
      "6.0\t2.941176%\n",
      "7.0\t1.047120%\n",
      "8.0\t1.181102%\n",
      "9.0\t1.293103%\n",
      "10.0\t2.136752%\n",
      "\u001B[1mCumulative hit rate (min_rating=3.0):\u001B[22m 1.464844%\n",
      "\u001B[1mAverage reciprocal hit rank:\u001B[22m 0.0049411991517254675\n",
      "\u001B[1mUser coverage (num_users=1235, min_rating=3.0):\u001B[22m 100.000000%\n",
      "\u001B[1mDiversity:\u001B[22m 0.667507\n",
      "\u001B[1mNovelty:\u001B[22m 1032.217333\n",
      "\n",
      "\u001B[0mTesting of the \"Non-negative Matrix Factorization\" model successfully completed in 0:07:16.716124.\n",
      "Grid search: 0:05:29.780523\n",
      "Training and testing: 0:00:02.145893\n",
      "Top-N building: 0:01:40.146509\n"
     ]
    }
   ],
   "source": [
    "evaluator.run_model(\n",
    "    name=\"Non-negative Matrix Factorization\",\n",
    "    model=surprise.NMF,\n",
    "    hyper_params={\n",
    "        \"n_factors\": [5, 15, 25],\n",
    "        \"n_epochs\": [25, 50, 75],\n",
    "        \"biased\": [True, False]\n",
    "    },\n",
    "    measure_key=\"rmse\",\n",
    "    override=False\n",
    ")"
   ]
  },
  {
   "cell_type": "markdown",
   "metadata": {},
   "source": [
    "## B.7 - Co-clustering\n",
    "The goal of Co-clustering is to find a way to group similar rows and columns of a matrix, like patterns, to make them more apparent. This method is useful when working on datasets with complex row and column relationships. The algorithm will first find a correlation between the rows and columns of the dataset. It will then use the k-mean method to group the data before interpreting the results."
   ]
  },
  {
   "cell_type": "code",
   "execution_count": 14,
   "metadata": {},
   "outputs": [
    {
     "name": "stdout",
     "output_type": "stream",
     "text": [
      "\u001B[32mTesting \"Co-clustering\".\u001B[39m\n",
      "Running GridSearchCV...\u001B[37m\u001B[2m\n",
      "Computing metrics...\u001B[37m\u001B[2m\n",
      "\u001B[37m\u001B[2mCalculating the accuracy (RMSE, MAE)...\u001B[37m\u001B[2m\n",
      "\u001B[37m\u001B[2mBuilding the top-N...\u001B[37m\u001B[2m\n",
      "\u001B[37m\u001B[2m   > Fitting on the LOOCV...\u001B[37m\u001B[2m\n",
      "\u001B[37m\u001B[2m   > Fitting on the full set...\u001B[37m\u001B[2m\n",
      "Built top-N for each user (n=10, min_rating=3.0)\n",
      "Built top-N for each user (n=10, min_rating=3.0)\n",
      "\u001B[0m\n",
      "\u001B[1mBest params:\u001B[22m \u001B[2m\u001B[37m{'n_cltr_u': 1, 'n_cltr_i': 1, 'n_epochs': 10}\u001B[0m\n",
      "\u001B[1mRMSE:\u001B[22m 2.312769\n",
      "\u001B[1mMAE:\u001B[22m 1.504430\n",
      "\n",
      "\u001B[1mHit rate:\u001B[22m 2.105263%\n",
      "\u001B[1mHit rate per rating value:\u001B[22m\n",
      "Rating\tHit rate\n",
      "6.0\t1.470588%\n",
      "7.0\t0.523560%\n",
      "8.0\t2.362205%\n",
      "9.0\t2.155172%\n",
      "10.0\t5.555556%\n",
      "\u001B[1mCumulative hit rate (min_rating=3.0):\u001B[22m 2.539062%\n",
      "\u001B[1mAverage reciprocal hit rank:\u001B[22m 0.006970953023584602\n",
      "\u001B[1mUser coverage (num_users=1235, min_rating=3.0):\u001B[22m 93.441296%\n",
      "\u001B[1mDiversity:\u001B[22m 0.977778\n",
      "\u001B[1mNovelty:\u001B[22m 2389.190310\n",
      "\n",
      "\u001B[0mTesting of the \"Co-clustering\" model successfully completed in 0:13:19.172950.\n",
      "Grid search: 0:12:00.135119\n",
      "Training and testing: 0:00:00.989192\n",
      "Top-N building: 0:01:13.396222\n"
     ]
    }
   ],
   "source": [
    "evaluator.run_model(\n",
    "    name=\"Co-clustering\",\n",
    "    model=surprise.CoClustering,\n",
    "    hyper_params={\n",
    "        \"n_cltr_u\": [1, 3, 5],\n",
    "        \"n_cltr_i\": [1, 3, 5],\n",
    "        \"n_epochs\": [10, 20, 30],\n",
    "    },\n",
    "    measure_key=\"rmse\",\n",
    "    override=False\n",
    ")"
   ]
  },
  {
   "cell_type": "markdown",
   "metadata": {},
   "source": [
    "## B.8 - Comparing performance\n",
    "Before we compare all the previous results, let's define a few important terms that we need to understand to properly compare the performance of our models.\n",
    "\n",
    "<u>Machine Learning metrics:</u>\n",
    "- Root Mean Squared Error (RMSE): measure of the average deviation of the predicted values of the model. The lower, the better.\n",
    "- Mean Absolute Error (MAE): refers to the magnitude of difference between the prediction of an observation and the true value of that observation.\n",
    "\n",
    "<u>Recommendation systems metrics:</u>\n",
    "- Hit rate: the proportion of recommended items that are relevant to the user, expressed in percent.\n",
    "- Hit rate per rating value: is the hit rate but calculated independently for each of the possible ratings (from one to ten in our case).\n",
    "- Cumulative hit rate: is also the hit rate calculated for all rating values up to a certain threshold.\n",
    "- Average reciprocal hit rank (ARHR): is the average of the reciprocal ranks of the relevant items in the recommended list.\n",
    "- User coverage: is the proportion of users for whom the system is able to make recommendations.\n",
    "- Diversity: is the variety or dissimilarity of items recommended to users.\n",
    "- Novelty: is the degree to which recommended items are new or unexpected to the user.\n",
    "\n",
    "We can now compare our models. We are going to observe which is the best model for each metrics, and then conclude on the overall best model.\n",
    "\n",
    "The model with the most interesting metric values is the KNN Baseline due to its good performance on RMSE, MAE and hit rate. It has a reasonable training time of seven seconds. Even though the grid search takes three hours, we already have the best parameters for this model, so we don't need to run the grid search again. In another hand, KNN With Means show us an interesting performance for ARHR and a training of three seconds. KNN Basic is automatically excluded because 35% of its predictions were impossible (one of the parameters was unknown to it).\n",
    "\n",
    "Overall, based on the metrics and results we have at this moment of the training, KNN Baseline appears to be the most efficient model."
   ]
  },
  {
   "cell_type": "markdown",
   "metadata": {},
   "source": [
    "## E - Collaborative filtering: filtered training\n",
    "We will now run our previous experiment again, but this time using a filtered dataset.\n",
    "\n",
    "### E.1 - Filtering the dataset\n",
    "We only keep users with at least two hundred ratings and items with at least two hundred ratings."
   ]
  },
  {
   "cell_type": "code",
   "execution_count": 6,
   "metadata": {},
   "outputs": [],
   "source": [
    "data_filtered = pandas.read_csv((DATA_FOLDER / \"rating.csv\"), dtype={\"user_id\": str, \"anime_id\": str})\n",
    "\n",
    "# Calculate the data filters\n",
    "ratings_per_users = data_filtered.value_counts(subset=\"user_id\").reset_index(name=\"count\")\n",
    "ratings_per_anime = data_filtered.value_counts(subset=\"anime_id\").reset_index(name=\"count\")\n",
    "\n",
    "# Apply the filters\n",
    "min_n_ratings = 200\n",
    "data_filtered = data_filtered[data_filtered[\"user_id\"].isin(ratings_per_users[ratings_per_users[\"count\"] > min_n_ratings][\"user_id\"])]\n",
    "data_filtered = data_filtered[data_filtered[\"anime_id\"].isin(ratings_per_anime[ratings_per_anime[\"count\"] > min_n_ratings][\"anime_id\"])]\n",
    "\n",
    "# Save the file\n",
    "data_filtered.to_csv((DATA_FOLDER / \"rating_filtered_min_rating_200.csv\"), index=False, mode=\"w\")"
   ]
  },
  {
   "cell_type": "markdown",
   "metadata": {},
   "source": [
    "We can now load the filtered dataset."
   ]
  },
  {
   "cell_type": "code",
   "execution_count": 7,
   "metadata": {},
   "outputs": [],
   "source": [
    "data_filtered = pandas.read_csv((DATA_FOLDER / \"rating_filtered_min_rating_200.csv\"), dtype={\"user_id\": str, \"anime_id\": str})\n",
    "data_filtered = data_filtered.head(n=125_000)\n",
    "\n",
    "data_reader = surprise.Reader(rating_scale=(-1, 10))\n",
    "data_filtered = surprise.Dataset.load_from_df(df=data_filtered[[\"user_id\", \"anime_id\", \"rating\"]], reader=data_reader)"
   ]
  },
  {
   "cell_type": "markdown",
   "metadata": {},
   "source": [
    "And we initialize a new evaluator."
   ]
  },
  {
   "cell_type": "code",
   "execution_count": 8,
   "metadata": {},
   "outputs": [
    {
     "name": "stdout",
     "output_type": "stream",
     "text": [
      "Constructing sets. This can take a while...\u001B[37m\u001B[2m\n",
      "\u001B[37m\u001B[2m   > Building train/test sets...\u001B[37m\u001B[2m\n",
      "\u001B[37m\u001B[2m   > Building LeaveOneOut sets...\u001B[37m\u001B[2m\n",
      "\u001B[37m\u001B[2m   > Building full sets...\u001B[37m\u001B[2m\n",
      "\u001B[37m\u001B[2m   > Preparing the similarities model...\u001B[37m\u001B[2m\n",
      "Estimating biases using als...\n",
      "Computing the cosine similarity matrix...\n",
      "Done computing similarity matrix.\n",
      "\u001B[0m\n"
     ]
    }
   ],
   "source": [
    "evaluator_filtered = helpers.ml.ModelEvaluator(dataset=data_filtered, rankings=rankings, models_folder=MODELS_FOLDER, seed=RANDOM_STATE)"
   ]
  },
  {
   "cell_type": "markdown",
   "metadata": {},
   "source": [
    "We will now redefine our previous model and train them a second time with this new dataset.\n",
    "\n",
    "### E.2 - Slope One"
   ]
  },
  {
   "cell_type": "code",
   "execution_count": 9,
   "metadata": {},
   "outputs": [
    {
     "name": "stdout",
     "output_type": "stream",
     "text": [
      "\u001B[32mTesting \"Slope One - Filtered\".\u001B[39m\n",
      "Computing metrics...\u001B[37m\u001B[2m\n",
      "\u001B[37m\u001B[2mCalculating the accuracy (RMSE, MAE)...\u001B[37m\u001B[2m\n",
      "\u001B[37m\u001B[2mBuilding the top-N...\u001B[37m\u001B[2m\n",
      "\u001B[37m\u001B[2m   > Fitting on the LOOCV...\u001B[37m\u001B[2m\n",
      "\u001B[37m\u001B[2m   > Fitting on the full set...\u001B[37m\u001B[2m\n",
      "Built top-N for each user (n=10, min_rating=3.0)\n",
      "Built top-N for each user (n=10, min_rating=3.0)\n",
      "\u001B[0m\n",
      "\u001B[1mBest params:\u001B[22m \u001B[2m\u001B[37m{}\u001B[0m\n",
      "\u001B[1mRMSE:\u001B[22m 1.945212\n",
      "\u001B[1mMAE:\u001B[22m 1.246553\n",
      "\n",
      "\u001B[1mHit rate:\u001B[22m 0.000000%\n",
      "\u001B[1mHit rate per rating value:\u001B[22m\n",
      "Rating\tHit rate\n",
      "\u001B[1mCumulative hit rate (min_rating=3.0):\u001B[22m 0.000000%\n",
      "\u001B[1mAverage reciprocal hit rank:\u001B[22m 0\n",
      "\u001B[1mUser coverage (num_users=379, min_rating=3.0):\u001B[22m 98.153034%\n",
      "\u001B[1mDiversity:\u001B[22m 0.888889\n",
      "\u001B[1mNovelty:\u001B[22m 2299.656091\n",
      "\n",
      "\u001B[0mTesting of the \"Slope One - Filtered\" model successfully completed in 0:05:39.533346.\n",
      "Grid search: N/A\n",
      "Training and testing: 0:00:05.747381\n",
      "Top-N building: 0:05:29.728253\n"
     ]
    }
   ],
   "source": [
    "evaluator_filtered.run_model(name=\"Slope One - Filtered\", model=surprise.SlopeOne, hyper_params=None, measure_key=\"rmse\", override=False)"
   ]
  },
  {
   "cell_type": "markdown",
   "metadata": {},
   "source": [
    "### E.3 - KNN Basic"
   ]
  },
  {
   "cell_type": "code",
   "execution_count": 10,
   "metadata": {},
   "outputs": [
    {
     "name": "stdout",
     "output_type": "stream",
     "text": [
      "\u001B[32mTesting \"KNN Basic - Filtered\".\u001B[39m\n",
      "Running GridSearchCV...\u001B[37m\u001B[2m\n",
      "Computing metrics...\u001B[37m\u001B[2m\n",
      "\u001B[37m\u001B[2mCalculating the accuracy (RMSE, MAE)...\u001B[37m\u001B[2m\n",
      "Estimating biases using als...\n",
      "Computing the pearson_baseline similarity matrix...\n",
      "Done computing similarity matrix.\n",
      "\u001B[37m\u001B[2mBuilding the top-N...\u001B[37m\u001B[2m\n",
      "\u001B[37m\u001B[2m   > Fitting on the LOOCV...\u001B[37m\u001B[2m\n",
      "Estimating biases using als...\n",
      "Computing the pearson_baseline similarity matrix...\n",
      "Done computing similarity matrix.\n",
      "\u001B[37m\u001B[2m   > Fitting on the full set...\u001B[37m\u001B[2m\n",
      "Estimating biases using als...\n",
      "Computing the pearson_baseline similarity matrix...\n",
      "Done computing similarity matrix.\n",
      "\u001B[33mWarning: 49862/1211354 (4.116220%) predictions were impossible! \u001B[39m\n",
      "Built top-N for each user (n=10, min_rating=3.0)\n",
      "\u001B[33mWarning: 49854/1210975 (4.116848%) predictions were impossible! \u001B[39m\n",
      "Built top-N for each user (n=10, min_rating=3.0)\n",
      "\u001B[0m\n",
      "\u001B[1mBest params:\u001B[22m \u001B[2m\u001B[37m{'k': 40, 'min_k': 1, 'sim_options': {'name': 'pearson_baseline', 'user_based': False}}\u001B[0m\n",
      "\u001B[1mRMSE:\u001B[22m 1.928885\n",
      "\u001B[1mMAE:\u001B[22m 1.176739\n",
      "\n",
      "\u001B[1mHit rate:\u001B[22m 0.791557%\n",
      "\u001B[1mHit rate per rating value:\u001B[22m\n",
      "Rating\tHit rate\n",
      "10.0\t6.666667%\n",
      "\u001B[1mCumulative hit rate (min_rating=3.0):\u001B[22m 1.006711%\n",
      "\u001B[1mAverage reciprocal hit rank:\u001B[22m 0.001978891820580475\n",
      "\u001B[1mUser coverage (num_users=379, min_rating=3.0):\u001B[22m 100.000000%\n",
      "\u001B[1mDiversity:\u001B[22m 0.644532\n",
      "\u001B[1mNovelty:\u001B[22m 2853.227441\n",
      "\n",
      "\u001B[0mTesting of the \"KNN Basic - Filtered\" model successfully completed in 1:16:08.922350.\n",
      "Grid search: 1:08:19.902266\n",
      "Training and testing: 0:00:09.668878\n",
      "Top-N building: 0:07:35.206491\n"
     ]
    }
   ],
   "source": [
    "evaluator_filtered.run_model(\n",
    "    name=\"KNN Basic - Filtered\",\n",
    "    model=surprise.KNNBasic,\n",
    "    hyper_params={\n",
    "        \"k\": [20, 40, 60],\n",
    "        \"min_k\": [1, 2, 3, 5],\n",
    "        \"sim_options\": {\n",
    "            \"name\": [\"cosine\", \"msd\", \"pearson\", \"pearson_baseline\"],\n",
    "            \"user_based\": [True, False]\n",
    "        }\n",
    "    },\n",
    "    measure_key=\"rmse\",\n",
    "    override=False\n",
    ")"
   ]
  },
  {
   "cell_type": "markdown",
   "metadata": {},
   "source": [
    "### E.4 - KNN With Means"
   ]
  },
  {
   "cell_type": "code",
   "execution_count": 11,
   "metadata": {},
   "outputs": [
    {
     "name": "stdout",
     "output_type": "stream",
     "text": [
      "\u001B[32mTesting \"KNN With Means - Filtered\".\u001B[39m\n",
      "Running GridSearchCV...\u001B[37m\u001B[2m\n",
      "Computing metrics...\u001B[37m\u001B[2m\n",
      "\u001B[37m\u001B[2mCalculating the accuracy (RMSE, MAE)...\u001B[37m\u001B[2m\n",
      "Estimating biases using als...\n",
      "Computing the pearson_baseline similarity matrix...\n",
      "Done computing similarity matrix.\n",
      "\u001B[37m\u001B[2mBuilding the top-N...\u001B[37m\u001B[2m\n",
      "\u001B[37m\u001B[2m   > Fitting on the LOOCV...\u001B[37m\u001B[2m\n",
      "Estimating biases using als...\n",
      "Computing the pearson_baseline similarity matrix...\n",
      "Done computing similarity matrix.\n",
      "\u001B[37m\u001B[2m   > Fitting on the full set...\u001B[37m\u001B[2m\n",
      "Estimating biases using als...\n",
      "Computing the pearson_baseline similarity matrix...\n",
      "Done computing similarity matrix.\n",
      "Built top-N for each user (n=10, min_rating=3.0)\n",
      "Built top-N for each user (n=10, min_rating=3.0)\n",
      "\u001B[0m\n",
      "\u001B[1mBest params:\u001B[22m \u001B[2m\u001B[37m{'k': 40, 'min_k': 3, 'sim_options': {'name': 'pearson_baseline', 'user_based': True}}\u001B[0m\n",
      "\u001B[1mRMSE:\u001B[22m 1.870636\n",
      "\u001B[1mMAE:\u001B[22m 1.156339\n",
      "\n",
      "\u001B[1mHit rate:\u001B[22m 0.263852%\n",
      "\u001B[1mHit rate per rating value:\u001B[22m\n",
      "Rating\tHit rate\n",
      "10.0\t2.222222%\n",
      "\u001B[1mCumulative hit rate (min_rating=3.0):\u001B[22m 0.335570%\n",
      "\u001B[1mAverage reciprocal hit rank:\u001B[22m 0.00032981530343007914\n",
      "\u001B[1mUser coverage (num_users=379, min_rating=3.0):\u001B[22m 96.042216%\n",
      "\u001B[1mDiversity:\u001B[22m 0.568384\n",
      "\u001B[1mNovelty:\u001B[22m 1708.212530\n",
      "\n",
      "\u001B[0mTesting of the \"KNN With Means - Filtered\" model successfully completed in 1:12:06.146278.\n",
      "Grid search: 1:10:30.125031\n",
      "Training and testing: 0:00:02.997573\n",
      "Top-N building: 0:01:28.886466\n"
     ]
    }
   ],
   "source": [
    "evaluator_filtered.run_model(\n",
    "    name=\"KNN With Means - Filtered\",\n",
    "    model=surprise.KNNWithMeans,\n",
    "    hyper_params={\n",
    "        \"k\": [20, 40, 60],\n",
    "        \"min_k\": [1, 2, 3, 5],\n",
    "        \"sim_options\": {\n",
    "            \"name\": [\"cosine\", \"msd\", \"pearson\", \"pearson_baseline\"],\n",
    "            \"user_based\": [True, False]\n",
    "        }\n",
    "    },\n",
    "    measure_key=\"rmse\",\n",
    "    override=False\n",
    ")"
   ]
  },
  {
   "cell_type": "markdown",
   "metadata": {},
   "source": [
    "### E.5 - KNN With Z-Score"
   ]
  },
  {
   "cell_type": "code",
   "execution_count": 12,
   "metadata": {},
   "outputs": [
    {
     "name": "stdout",
     "output_type": "stream",
     "text": [
      "\u001B[32mTesting \"KNN With Z-Score - Filtered\".\u001B[39m\n",
      "Running GridSearchCV...\u001B[37m\u001B[2m\n",
      "Computing metrics...\u001B[37m\u001B[2m\n",
      "\u001B[37m\u001B[2mCalculating the accuracy (RMSE, MAE)...\u001B[37m\u001B[2m\n",
      "Estimating biases using als...\n",
      "Computing the pearson_baseline similarity matrix...\n",
      "Done computing similarity matrix.\n",
      "\u001B[37m\u001B[2mBuilding the top-N...\u001B[37m\u001B[2m\n",
      "\u001B[37m\u001B[2m   > Fitting on the LOOCV...\u001B[37m\u001B[2m\n",
      "Estimating biases using als...\n",
      "Computing the pearson_baseline similarity matrix...\n",
      "Done computing similarity matrix.\n",
      "\u001B[37m\u001B[2m   > Fitting on the full set...\u001B[37m\u001B[2m\n",
      "Estimating biases using als...\n",
      "Computing the pearson_baseline similarity matrix...\n",
      "Done computing similarity matrix.\n",
      "Built top-N for each user (n=10, min_rating=3.0)\n",
      "Built top-N for each user (n=10, min_rating=3.0)\n",
      "\u001B[0m\n",
      "\u001B[1mBest params:\u001B[22m \u001B[2m\u001B[37m{'k': 40, 'min_k': 3, 'sim_options': {'name': 'pearson_baseline', 'user_based': True}}\u001B[0m\n",
      "\u001B[1mRMSE:\u001B[22m 1.868933\n",
      "\u001B[1mMAE:\u001B[22m 1.136648\n",
      "\n",
      "\u001B[1mHit rate:\u001B[22m 1.055409%\n",
      "\u001B[1mHit rate per rating value:\u001B[22m\n",
      "Rating\tHit rate\n",
      "9.0\t1.612903%\n",
      "10.0\t6.666667%\n",
      "\u001B[1mCumulative hit rate (min_rating=3.0):\u001B[22m 1.342282%\n",
      "\u001B[1mAverage reciprocal hit rank:\u001B[22m 0.0024699501612430374\n",
      "\u001B[1mUser coverage (num_users=379, min_rating=3.0):\u001B[22m 97.625330%\n",
      "\u001B[1mDiversity:\u001B[22m 0.391335\n",
      "\u001B[1mNovelty:\u001B[22m 1583.602421\n",
      "\n",
      "\u001B[0mTesting of the \"KNN With Z-Score - Filtered\" model successfully completed in 1:14:58.682461.\n",
      "Grid search: 1:13:17.586705\n",
      "Training and testing: 0:00:03.167538\n",
      "Top-N building: 0:01:33.786858\n"
     ]
    }
   ],
   "source": [
    "evaluator_filtered.run_model(\n",
    "    name=\"KNN With Z-Score - Filtered\",\n",
    "    model=surprise.KNNWithZScore,\n",
    "    hyper_params={\n",
    "        \"k\": [20, 40, 60],\n",
    "        \"min_k\": [1, 2, 3, 5],\n",
    "        \"sim_options\": {\n",
    "            \"name\": [\"cosine\", \"msd\", \"pearson\", \"pearson_baseline\"],\n",
    "            \"user_based\": [True, False]\n",
    "        }\n",
    "    },\n",
    "    measure_key=\"rmse\",\n",
    "    override=False\n",
    ")"
   ]
  },
  {
   "cell_type": "markdown",
   "metadata": {},
   "source": [
    "### E.6 - KNN Baseline"
   ]
  },
  {
   "cell_type": "code",
   "execution_count": 13,
   "metadata": {},
   "outputs": [
    {
     "name": "stdout",
     "output_type": "stream",
     "text": [
      "\u001B[32mTesting \"KNN Baseline - Filtered\".\u001B[39m\n",
      "Running GridSearchCV...\u001B[37m\u001B[2m\n",
      "Computing metrics...\u001B[37m\u001B[2m\n",
      "\u001B[37m\u001B[2mCalculating the accuracy (RMSE, MAE)...\u001B[37m\u001B[2m\n",
      "Estimating biases using als...\n",
      "Computing the pearson_baseline similarity matrix...\n",
      "Done computing similarity matrix.\n",
      "\u001B[37m\u001B[2mBuilding the top-N...\u001B[37m\u001B[2m\n",
      "\u001B[37m\u001B[2m   > Fitting on the LOOCV...\u001B[37m\u001B[2m\n",
      "Estimating biases using als...\n",
      "Computing the pearson_baseline similarity matrix...\n",
      "Done computing similarity matrix.\n",
      "\u001B[37m\u001B[2m   > Fitting on the full set...\u001B[37m\u001B[2m\n",
      "Estimating biases using als...\n",
      "Computing the pearson_baseline similarity matrix...\n",
      "Done computing similarity matrix.\n",
      "Built top-N for each user (n=10, min_rating=3.0)\n",
      "Built top-N for each user (n=10, min_rating=3.0)\n",
      "\u001B[0m\n",
      "\u001B[1mBest params:\u001B[22m \u001B[2m\u001B[37m{'k': 20, 'min_k': 5, 'sim_options': {'name': 'pearson_baseline', 'user_based': False}, 'bsl_options': {'method': 'als', 'n_epochs': 15}}\u001B[0m\n",
      "\u001B[1mRMSE:\u001B[22m 1.830114\n",
      "\u001B[1mMAE:\u001B[22m 1.100667\n",
      "\n",
      "\u001B[1mHit rate:\u001B[22m 2.374670%\n",
      "\u001B[1mHit rate per rating value:\u001B[22m\n",
      "Rating\tHit rate\n",
      "9.0\t3.225806%\n",
      "10.0\t15.555556%\n",
      "\u001B[1mCumulative hit rate (min_rating=3.0):\u001B[22m 3.020134%\n",
      "\u001B[1mAverage reciprocal hit rank:\u001B[22m 0.010920551158018177\n",
      "\u001B[1mUser coverage (num_users=379, min_rating=3.0):\u001B[22m 87.335092%\n",
      "\u001B[1mDiversity:\u001B[22m 0.128882\n",
      "\u001B[1mNovelty:\u001B[22m 690.306397\n",
      "\n",
      "\u001B[0mTesting of the \"KNN Baseline - Filtered\" model successfully completed in 3:53:54.854782.\n",
      "Grid search: 3:46:48.569971\n",
      "Training and testing: 0:00:09.270283\n",
      "Top-N building: 0:06:52.871772\n"
     ]
    }
   ],
   "source": [
    "evaluator_filtered.run_model(\n",
    "    name=\"KNN Baseline - Filtered\",\n",
    "    model=surprise.KNNBaseline,\n",
    "    hyper_params={\n",
    "        \"k\": [20, 40, 60],\n",
    "        \"min_k\": [1, 2, 3, 5],\n",
    "        \"sim_options\": {\n",
    "            \"name\": [\"cosine\", \"msd\", \"pearson\", \"pearson_baseline\"],\n",
    "            \"user_based\": [True, False]\n",
    "        },\n",
    "        \"bsl_options\": {\n",
    "            \"method\": [\"als\"],\n",
    "            \"n_epochs\": [5, 10, 15],\n",
    "        }\n",
    "    },\n",
    "    measure_key=\"rmse\",\n",
    "    override=False\n",
    ")"
   ]
  },
  {
   "cell_type": "markdown",
   "metadata": {},
   "source": [
    "### E.7 - Non-negative Matrix Factorization"
   ]
  },
  {
   "cell_type": "code",
   "execution_count": 14,
   "metadata": {},
   "outputs": [
    {
     "name": "stdout",
     "output_type": "stream",
     "text": [
      "\u001B[32mTesting \"Non-negative Matrix Factorization - Filtered\".\u001B[39m\n",
      "Running GridSearchCV...\u001B[37m\u001B[2m\n",
      "Computing metrics...\u001B[37m\u001B[2m\n",
      "\u001B[37m\u001B[2mCalculating the accuracy (RMSE, MAE)...\u001B[37m\u001B[2m\n",
      "\u001B[37m\u001B[2mBuilding the top-N...\u001B[37m\u001B[2m\n",
      "\u001B[37m\u001B[2m   > Fitting on the LOOCV...\u001B[37m\u001B[2m\n",
      "\u001B[37m\u001B[2m   > Fitting on the full set...\u001B[37m\u001B[2m\n",
      "Built top-N for each user (n=10, min_rating=3.0)\n",
      "Built top-N for each user (n=10, min_rating=3.0)\n",
      "\u001B[0m\n",
      "\u001B[1mBest params:\u001B[22m \u001B[2m\u001B[37m{'n_factors': 5, 'n_epochs': 25, 'biased': True}\u001B[0m\n",
      "\u001B[1mRMSE:\u001B[22m 2.150025\n",
      "\u001B[1mMAE:\u001B[22m 1.405496\n",
      "\n",
      "\u001B[1mHit rate:\u001B[22m 0.263852%\n",
      "\u001B[1mHit rate per rating value:\u001B[22m\n",
      "Rating\tHit rate\n",
      "8.0\t1.111111%\n",
      "\u001B[1mCumulative hit rate (min_rating=3.0):\u001B[22m 0.335570%\n",
      "\u001B[1mAverage reciprocal hit rank:\u001B[22m 0.0002638522427440633\n",
      "\u001B[1mUser coverage (num_users=379, min_rating=3.0):\u001B[22m 96.042216%\n",
      "\u001B[1mDiversity:\u001B[22m 0.059527\n",
      "\u001B[1mNovelty:\u001B[22m 759.867948\n",
      "\n",
      "\u001B[0mTesting of the \"Non-negative Matrix Factorization - Filtered\" model successfully completed in 0:05:23.866994.\n",
      "Grid search: 0:05:00.347844\n",
      "Training and testing: 0:00:00.808898\n",
      "Top-N building: 0:00:18.562031\n"
     ]
    }
   ],
   "source": [
    "evaluator_filtered.run_model(\n",
    "    name=\"Non-negative Matrix Factorization - Filtered\",\n",
    "    model=surprise.NMF,\n",
    "    hyper_params={\n",
    "        \"n_factors\": [5, 15, 25],\n",
    "        \"n_epochs\": [25, 50, 75],\n",
    "        \"biased\": [True, False]\n",
    "    },\n",
    "    measure_key=\"rmse\",\n",
    "    override=False\n",
    ")"
   ]
  },
  {
   "cell_type": "markdown",
   "metadata": {},
   "source": [
    "### E.8 - Co-clustering"
   ]
  },
  {
   "cell_type": "code",
   "execution_count": 15,
   "metadata": {},
   "outputs": [
    {
     "name": "stdout",
     "output_type": "stream",
     "text": [
      "\u001B[32mTesting \"Co-clustering - Filtered\".\u001B[39m\n",
      "Running GridSearchCV...\u001B[37m\u001B[2m\n",
      "Computing metrics...\u001B[37m\u001B[2m\n",
      "\u001B[37m\u001B[2mCalculating the accuracy (RMSE, MAE)...\u001B[37m\u001B[2m\n",
      "\u001B[37m\u001B[2mBuilding the top-N...\u001B[37m\u001B[2m\n",
      "\u001B[37m\u001B[2m   > Fitting on the LOOCV...\u001B[37m\u001B[2m\n",
      "\u001B[37m\u001B[2m   > Fitting on the full set...\u001B[37m\u001B[2m\n",
      "Built top-N for each user (n=10, min_rating=3.0)\n",
      "Built top-N for each user (n=10, min_rating=3.0)\n",
      "\u001B[0m\n",
      "\u001B[1mBest params:\u001B[22m \u001B[2m\u001B[37m{'n_cltr_u': 1, 'n_cltr_i': 1, 'n_epochs': 10}\u001B[0m\n",
      "\u001B[1mRMSE:\u001B[22m 2.034271\n",
      "\u001B[1mMAE:\u001B[22m 1.326865\n",
      "\n",
      "\u001B[1mHit rate:\u001B[22m 0.263852%\n",
      "\u001B[1mHit rate per rating value:\u001B[22m\n",
      "Rating\tHit rate\n",
      "9.0\t1.612903%\n",
      "\u001B[1mCumulative hit rate (min_rating=3.0):\u001B[22m 0.335570%\n",
      "\u001B[1mAverage reciprocal hit rank:\u001B[22m 0.00032981530343007914\n",
      "\u001B[1mUser coverage (num_users=379, min_rating=3.0):\u001B[22m 100.000000%\n",
      "\u001B[1mDiversity:\u001B[22m 0.933333\n",
      "\u001B[1mNovelty:\u001B[22m 1976.632591\n",
      "\n",
      "\u001B[0mTesting of the \"Co-clustering - Filtered\" model successfully completed in 0:11:14.688600.\n",
      "Grid search: 0:10:55.369773\n",
      "Training and testing: 0:00:00.851703\n",
      "Top-N building: 0:00:14.339976\n"
     ]
    }
   ],
   "source": [
    "evaluator_filtered.run_model(\n",
    "    name=\"Co-clustering - Filtered\",\n",
    "    model=surprise.CoClustering,\n",
    "    hyper_params={\n",
    "        \"n_cltr_u\": [1, 3, 5],\n",
    "        \"n_cltr_i\": [1, 3, 5],\n",
    "        \"n_epochs\": [10, 20, 30],\n",
    "    },\n",
    "    measure_key=\"rmse\",\n",
    "    override=False\n",
    ")"
   ]
  },
  {
   "cell_type": "markdown",
   "metadata": {},
   "source": [
    "## D - Getting the Top-N\n",
    "The final step is to display the top-N of a user. We start by loading the previously saved top of our best model."
   ]
  },
  {
   "cell_type": "code",
   "execution_count": 11,
   "metadata": {},
   "outputs": [],
   "source": [
    "top_n_knn_baseline = helpers.ml.Model.load_top_n(filepath=(MODELS_FOLDER / \"KNN_Baseline__topN-full.pkl\"))"
   ]
  },
  {
   "cell_type": "markdown",
   "metadata": {},
   "source": [
    "We then pick a random user from our dataset."
   ]
  },
  {
   "cell_type": "code",
   "execution_count": 8,
   "metadata": {},
   "outputs": [
    {
     "data": {
      "text/plain": [
       "263"
      ]
     },
     "execution_count": 8,
     "metadata": {},
     "output_type": "execute_result"
    }
   ],
   "source": [
    "random_user_id = int(random.choice(list(set([r[0] for r in data.raw_ratings]))))\n",
    "random_user_id"
   ]
  },
  {
   "cell_type": "markdown",
   "metadata": {},
   "source": [
    "We define a function that build a human-readable table from the top-N."
   ]
  },
  {
   "cell_type": "code",
   "execution_count": 17,
   "metadata": {},
   "outputs": [],
   "source": [
    "def get_top_n_of(user_id: int, top_n: dict[int, list], items_df: pandas.DataFrame, auto_print: bool = False) -> pandas.DataFrame:\n",
    "    \"\"\" Returns the formatted top-N recommendation for a specific user. \"\"\"\n",
    "    user_top = []\n",
    "\n",
    "    for top_item_id, estimated_rating, _ in top_n[user_id]:\n",
    "        item = items_df[items_df[\"anime_id\"] == top_item_id].iloc[0]\n",
    "        user_top.append({\n",
    "            \"Name\": item[\"name\"],\n",
    "            \"Genre\": item[\"genre\"],\n",
    "            \"Num. ratings\": item[\"num_ratings\"],\n",
    "            \"Mean ratings\": item[\"rating\"],\n",
    "            \"User estimated rating\": estimated_rating\n",
    "        })\n",
    "\n",
    "    return pandas.DataFrame(data=user_top)"
   ]
  },
  {
   "cell_type": "code",
   "execution_count": 18,
   "metadata": {},
   "outputs": [
    {
     "data": {
      "text/html": [
       "<div>\n",
       "<style scoped>\n",
       "    .dataframe tbody tr th:only-of-type {\n",
       "        vertical-align: middle;\n",
       "    }\n",
       "\n",
       "    .dataframe tbody tr th {\n",
       "        vertical-align: top;\n",
       "    }\n",
       "\n",
       "    .dataframe thead th {\n",
       "        text-align: right;\n",
       "    }\n",
       "</style>\n",
       "<table border=\"1\" class=\"dataframe\">\n",
       "  <thead>\n",
       "    <tr style=\"text-align: right;\">\n",
       "      <th></th>\n",
       "      <th>Name</th>\n",
       "      <th>Genre</th>\n",
       "      <th>Num. ratings</th>\n",
       "      <th>Mean ratings</th>\n",
       "      <th>User estimated rating</th>\n",
       "    </tr>\n",
       "  </thead>\n",
       "  <tbody>\n",
       "    <tr>\n",
       "      <th>0</th>\n",
       "      <td>Fullmetal Alchemist: Brotherhood</td>\n",
       "      <td>Action, Adventure, Drama, Fantasy, Magic, Mili...</td>\n",
       "      <td>21494</td>\n",
       "      <td>9.26</td>\n",
       "      <td>9.781889</td>\n",
       "    </tr>\n",
       "    <tr>\n",
       "      <th>1</th>\n",
       "      <td>Hajime no Ippo</td>\n",
       "      <td>Comedy, Drama, Shounen, Sports</td>\n",
       "      <td>4273</td>\n",
       "      <td>8.83</td>\n",
       "      <td>9.670955</td>\n",
       "    </tr>\n",
       "    <tr>\n",
       "      <th>2</th>\n",
       "      <td>Rainbow: Nisha Rokubou no Shichinin</td>\n",
       "      <td>Drama, Historical, Seinen, Thriller</td>\n",
       "      <td>2716</td>\n",
       "      <td>8.64</td>\n",
       "      <td>9.654531</td>\n",
       "    </tr>\n",
       "    <tr>\n",
       "      <th>3</th>\n",
       "      <td>Hunter x Hunter (2011)</td>\n",
       "      <td>Action, Adventure, Shounen, Super Power</td>\n",
       "      <td>7477</td>\n",
       "      <td>9.13</td>\n",
       "      <td>9.647590</td>\n",
       "    </tr>\n",
       "    <tr>\n",
       "      <th>4</th>\n",
       "      <td>Clannad: After Story</td>\n",
       "      <td>Drama, Fantasy, Romance, Slice of Life, Supern...</td>\n",
       "      <td>15518</td>\n",
       "      <td>9.06</td>\n",
       "      <td>9.625787</td>\n",
       "    </tr>\n",
       "    <tr>\n",
       "      <th>5</th>\n",
       "      <td>Monster</td>\n",
       "      <td>Drama, Horror, Mystery, Police, Psychological,...</td>\n",
       "      <td>4079</td>\n",
       "      <td>8.72</td>\n",
       "      <td>9.567637</td>\n",
       "    </tr>\n",
       "    <tr>\n",
       "      <th>6</th>\n",
       "      <td>Gintama&amp;#039;: Enchousen</td>\n",
       "      <td>Action, Comedy, Historical, Parody, Samurai, S...</td>\n",
       "      <td>2126</td>\n",
       "      <td>9.11</td>\n",
       "      <td>9.521137</td>\n",
       "    </tr>\n",
       "    <tr>\n",
       "      <th>7</th>\n",
       "      <td>Tengen Toppa Gurren Lagann</td>\n",
       "      <td>Action, Adventure, Comedy, Mecha, Sci-Fi</td>\n",
       "      <td>16955</td>\n",
       "      <td>8.78</td>\n",
       "      <td>9.482833</td>\n",
       "    </tr>\n",
       "    <tr>\n",
       "      <th>8</th>\n",
       "      <td>Shigatsu wa Kimi no Uso</td>\n",
       "      <td>Drama, Music, Romance, School, Shounen</td>\n",
       "      <td>8271</td>\n",
       "      <td>8.92</td>\n",
       "      <td>9.426137</td>\n",
       "    </tr>\n",
       "    <tr>\n",
       "      <th>9</th>\n",
       "      <td>Clannad</td>\n",
       "      <td>Comedy, Drama, Romance, School, Slice of Life,...</td>\n",
       "      <td>18746</td>\n",
       "      <td>8.30</td>\n",
       "      <td>9.384167</td>\n",
       "    </tr>\n",
       "  </tbody>\n",
       "</table>\n",
       "</div>"
      ],
      "text/plain": [
       "                                  Name  \\\n",
       "0     Fullmetal Alchemist: Brotherhood   \n",
       "1                       Hajime no Ippo   \n",
       "2  Rainbow: Nisha Rokubou no Shichinin   \n",
       "3               Hunter x Hunter (2011)   \n",
       "4                 Clannad: After Story   \n",
       "5                              Monster   \n",
       "6             Gintama&#039;: Enchousen   \n",
       "7           Tengen Toppa Gurren Lagann   \n",
       "8              Shigatsu wa Kimi no Uso   \n",
       "9                              Clannad   \n",
       "\n",
       "                                               Genre  Num. ratings  \\\n",
       "0  Action, Adventure, Drama, Fantasy, Magic, Mili...         21494   \n",
       "1                     Comedy, Drama, Shounen, Sports          4273   \n",
       "2                Drama, Historical, Seinen, Thriller          2716   \n",
       "3            Action, Adventure, Shounen, Super Power          7477   \n",
       "4  Drama, Fantasy, Romance, Slice of Life, Supern...         15518   \n",
       "5  Drama, Horror, Mystery, Police, Psychological,...          4079   \n",
       "6  Action, Comedy, Historical, Parody, Samurai, S...          2126   \n",
       "7           Action, Adventure, Comedy, Mecha, Sci-Fi         16955   \n",
       "8             Drama, Music, Romance, School, Shounen          8271   \n",
       "9  Comedy, Drama, Romance, School, Slice of Life,...         18746   \n",
       "\n",
       "   Mean ratings  User estimated rating  \n",
       "0          9.26               9.781889  \n",
       "1          8.83               9.670955  \n",
       "2          8.64               9.654531  \n",
       "3          9.13               9.647590  \n",
       "4          9.06               9.625787  \n",
       "5          8.72               9.567637  \n",
       "6          9.11               9.521137  \n",
       "7          8.78               9.482833  \n",
       "8          8.92               9.426137  \n",
       "9          8.30               9.384167  "
      ]
     },
     "execution_count": 18,
     "metadata": {},
     "output_type": "execute_result"
    }
   ],
   "source": [
    "get_top_n_of(user_id=random_user_id, top_n=top_n_knn_baseline, items_df=data_anime, auto_print=False)"
   ]
  },
  {
   "cell_type": "markdown",
   "metadata": {},
   "source": [
    "Here is the top-10 of the randomly selected user."
   ]
  },
  {
   "cell_type": "markdown",
   "metadata": {},
   "source": [
    "## E - Conclusion of the collaborative filtering\n",
    "**TODO: Add text**"
   ]
  }
 ],
 "metadata": {
  "kernelspec": {
   "display_name": "Python 3 (ipykernel)",
   "language": "python",
   "name": "python3"
  },
  "language_info": {
   "codemirror_mode": {
    "name": "ipython",
    "version": 3
   },
   "file_extension": ".py",
   "mimetype": "text/x-python",
   "name": "python",
   "nbconvert_exporter": "python",
   "pygments_lexer": "ipython3",
   "version": "3.10.9"
  }
 },
 "nbformat": 4,
 "nbformat_minor": 1
}
