{
 "cells": [
  {
   "cell_type": "markdown",
   "source": [
    "## School project - 5MLRE\n",
    "The following notebook was created for a school project to create an anime recommendation system. The subject and the questions are available in the appendix.\n",
    "\n",
    "The group members who participated in this project are:\n",
    "- AMIMI Lamine\n",
    "- BEZIN Théo\n",
    "- LECOMTE Alexis\n",
    "- PAWLOWSKI Maxence\n",
    "\n",
    "### Main index\n",
    "1. Data analysis\n",
    "2. Collaborative filtering\n",
    "3. **Content-based filtering (you are here)**\n",
    "4. _Appendix_"
   ],
   "metadata": {
    "collapsed": false
   }
  },
  {
   "cell_type": "markdown",
   "source": [
    "# 3 - Content-based filtering\n",
    "**TODO: In the previous notebook...**\n",
    "Content-based filtering uses item features to recommend other items to what the user likes. In our case, we use a user's previous ratings and try to suggest items that are similar to the animes he rated the highest.\n",
    "\n",
    "### Index\n",
    "<ol type=\"A\">\n",
    "  <li>Notebook initialization</li>\n",
    "  <li>**TODO**</li>\n",
    "</ol>"
   ],
   "metadata": {
    "collapsed": false
   }
  },
  {
   "cell_type": "markdown",
   "source": [
    "## A - Notebook initialization\n",
    "### A.1 - Imports"
   ],
   "metadata": {
    "collapsed": false
   }
  },
  {
   "cell_type": "code",
   "execution_count": 1,
   "outputs": [],
   "source": [
    "# OS and filesystem\n",
    "import os\n",
    "import sys\n",
    "from pathlib import Path\n",
    "\n",
    "# Math\n",
    "import numpy\n",
    "\n",
    "# Data\n",
    "import pandas\n",
    "from matplotlib import pyplot\n",
    "import matplotx\n",
    "\n",
    "# Model processing\n",
    "from sklearn.compose import ColumnTransformer\n",
    "from sklearn.neighbors import NearestNeighbors\n",
    "from sklearn.preprocessing import StandardScaler, OneHotEncoder\n",
    "from sklearn.pipeline import Pipeline\n",
    "\n",
    "# Misc.\n",
    "from ast import literal_eval\n",
    "\n",
    "# Local files\n",
    "sys.path.append(os.path.join(os.pardir, os.pardir))\n",
    "import helpers"
   ],
   "metadata": {
    "collapsed": false
   }
  },
  {
   "cell_type": "markdown",
   "source": [
    "### A.2 - Package initialization"
   ],
   "metadata": {
    "collapsed": false
   }
  },
  {
   "cell_type": "code",
   "execution_count": 2,
   "outputs": [],
   "source": [
    "pyplot.rcParams.update(pyplot.rcParamsDefault)\n",
    "pyplot.style.use(matplotx.styles.dracula)  # Set the matplotlib style"
   ],
   "metadata": {
    "collapsed": false
   }
  },
  {
   "cell_type": "markdown",
   "source": [
    "### A.3 - Constants"
   ],
   "metadata": {
    "collapsed": false
   }
  },
  {
   "cell_type": "code",
   "execution_count": 3,
   "outputs": [],
   "source": [
    "# Filesystem paths\n",
    "PARENT_FOLDER = Path.cwd()\n",
    "DATA_FOLDER = (PARENT_FOLDER / \"..\" / \"..\" / \"data\").resolve()\n",
    "MODELS_FOLDER = (PARENT_FOLDER / \"..\" / \"..\" / \"models\").resolve()\n",
    "TEMP_FOLDER = (PARENT_FOLDER / \"..\" / \"..\" / \"temp\").resolve()\n",
    "\n",
    "# Plots\n",
    "FIG_SIZE = (12, 7)\n",
    "\n",
    "# Misc.\n",
    "RANDOM_STATE = 2077"
   ],
   "metadata": {
    "collapsed": false
   }
  },
  {
   "cell_type": "markdown",
   "source": [
    "### A.4 - Datasets loading"
   ],
   "metadata": {
    "collapsed": false
   }
  },
  {
   "cell_type": "code",
   "execution_count": 4,
   "outputs": [],
   "source": [
    "data_anime = pandas.read_csv(DATA_FOLDER / \"anime_cleaned.csv\", converters={\"genre_split\": literal_eval})"
   ],
   "metadata": {
    "collapsed": false
   }
  },
  {
   "cell_type": "markdown",
   "source": [
    "# B - Data preparation\n",
    "Expliquer pourquoi second processing\n",
    "\n",
    "*(Now that we have built and studied graphs, it will be time to start creating our recommendation system. But before that, we need to transform the dataset into a format that is readable for our future models. These transformations were not done in the first pre-processing, as some transformations make the data less usable with the plotting libraries (e.g. one-hot encoding).)*\n",
    "\n",
    "# B.1 - Filtering out some columns\n",
    "*(We start the second pre-processing by filtering out some columns used for the study.)*"
   ],
   "metadata": {
    "collapsed": false
   }
  },
  {
   "cell_type": "code",
   "execution_count": 5,
   "outputs": [
    {
     "data": {
      "text/plain": "                                                    name  \\\n0                                         Kimi no Na wa.   \n1                       Fullmetal Alchemist: Brotherhood   \n2                                               Gintama°   \n3                                            Steins;Gate   \n4                                          Gintama&#039;   \n...                                                  ...   \n12289       Toushindai My Lover: Minami tai Mecha-Minami   \n12290                                        Under World   \n12291                     Violence Gekiga David no Hoshi   \n12292  Violence Gekiga Shin David no Hoshi: Inma Dens...   \n12293                   Yasuji no Pornorama: Yacchimae!!   \n\n                                                   genre   type  episodes  \\\n0                   Drama, Romance, School, Supernatural  Movie         1   \n1      Action, Adventure, Drama, Fantasy, Magic, Mili...     TV        64   \n2      Action, Comedy, Historical, Parody, Samurai, S...     TV        51   \n3                                       Sci-Fi, Thriller     TV        24   \n4      Action, Comedy, Historical, Parody, Samurai, S...     TV        51   \n...                                                  ...    ...       ...   \n12289                                             Hentai    OVA         1   \n12290                                             Hentai    OVA         1   \n12291                                             Hentai    OVA         4   \n12292                                             Hentai    OVA         1   \n12293                                             Hentai  Movie         1   \n\n       rating  members  num_ratings  \n0        9.37   200630         1961  \n1        9.26   793665        21494  \n2        9.25   114262         1188  \n3        9.17   673572        17151  \n4        9.16   151266         3115  \n...       ...      ...          ...  \n12289    4.15      211            2  \n12290    4.28      183            2  \n12291    4.88      219            1  \n12292    4.98      175            1  \n12293    5.46      142            0  \n\n[12294 rows x 7 columns]",
      "text/html": "<div>\n<style scoped>\n    .dataframe tbody tr th:only-of-type {\n        vertical-align: middle;\n    }\n\n    .dataframe tbody tr th {\n        vertical-align: top;\n    }\n\n    .dataframe thead th {\n        text-align: right;\n    }\n</style>\n<table border=\"1\" class=\"dataframe\">\n  <thead>\n    <tr style=\"text-align: right;\">\n      <th></th>\n      <th>name</th>\n      <th>genre</th>\n      <th>type</th>\n      <th>episodes</th>\n      <th>rating</th>\n      <th>members</th>\n      <th>num_ratings</th>\n    </tr>\n  </thead>\n  <tbody>\n    <tr>\n      <th>0</th>\n      <td>Kimi no Na wa.</td>\n      <td>Drama, Romance, School, Supernatural</td>\n      <td>Movie</td>\n      <td>1</td>\n      <td>9.37</td>\n      <td>200630</td>\n      <td>1961</td>\n    </tr>\n    <tr>\n      <th>1</th>\n      <td>Fullmetal Alchemist: Brotherhood</td>\n      <td>Action, Adventure, Drama, Fantasy, Magic, Mili...</td>\n      <td>TV</td>\n      <td>64</td>\n      <td>9.26</td>\n      <td>793665</td>\n      <td>21494</td>\n    </tr>\n    <tr>\n      <th>2</th>\n      <td>Gintama°</td>\n      <td>Action, Comedy, Historical, Parody, Samurai, S...</td>\n      <td>TV</td>\n      <td>51</td>\n      <td>9.25</td>\n      <td>114262</td>\n      <td>1188</td>\n    </tr>\n    <tr>\n      <th>3</th>\n      <td>Steins;Gate</td>\n      <td>Sci-Fi, Thriller</td>\n      <td>TV</td>\n      <td>24</td>\n      <td>9.17</td>\n      <td>673572</td>\n      <td>17151</td>\n    </tr>\n    <tr>\n      <th>4</th>\n      <td>Gintama&amp;#039;</td>\n      <td>Action, Comedy, Historical, Parody, Samurai, S...</td>\n      <td>TV</td>\n      <td>51</td>\n      <td>9.16</td>\n      <td>151266</td>\n      <td>3115</td>\n    </tr>\n    <tr>\n      <th>...</th>\n      <td>...</td>\n      <td>...</td>\n      <td>...</td>\n      <td>...</td>\n      <td>...</td>\n      <td>...</td>\n      <td>...</td>\n    </tr>\n    <tr>\n      <th>12289</th>\n      <td>Toushindai My Lover: Minami tai Mecha-Minami</td>\n      <td>Hentai</td>\n      <td>OVA</td>\n      <td>1</td>\n      <td>4.15</td>\n      <td>211</td>\n      <td>2</td>\n    </tr>\n    <tr>\n      <th>12290</th>\n      <td>Under World</td>\n      <td>Hentai</td>\n      <td>OVA</td>\n      <td>1</td>\n      <td>4.28</td>\n      <td>183</td>\n      <td>2</td>\n    </tr>\n    <tr>\n      <th>12291</th>\n      <td>Violence Gekiga David no Hoshi</td>\n      <td>Hentai</td>\n      <td>OVA</td>\n      <td>4</td>\n      <td>4.88</td>\n      <td>219</td>\n      <td>1</td>\n    </tr>\n    <tr>\n      <th>12292</th>\n      <td>Violence Gekiga Shin David no Hoshi: Inma Dens...</td>\n      <td>Hentai</td>\n      <td>OVA</td>\n      <td>1</td>\n      <td>4.98</td>\n      <td>175</td>\n      <td>1</td>\n    </tr>\n    <tr>\n      <th>12293</th>\n      <td>Yasuji no Pornorama: Yacchimae!!</td>\n      <td>Hentai</td>\n      <td>Movie</td>\n      <td>1</td>\n      <td>5.46</td>\n      <td>142</td>\n      <td>0</td>\n    </tr>\n  </tbody>\n</table>\n<p>12294 rows × 7 columns</p>\n</div>"
     },
     "execution_count": 5,
     "metadata": {},
     "output_type": "execute_result"
    }
   ],
   "source": [
    "data_preprocessed = data_anime.drop(labels=[\"anime_id\", \"genre_split\", \"rank_avg_rating\", \"rank_num_ratings\"], axis=1, inplace=False)\n",
    "data_preprocessed"
   ],
   "metadata": {
    "collapsed": false
   }
  },
  {
   "cell_type": "markdown",
   "source": [
    "# B.2 - Encoding and standardization\n",
    "*(The next step is to encode the text values. We leave the `name` column as it is our labels, our Y set.)*\n",
    "\n",
    "*(Usually we would use `scikit-learn` and its internal encoders to do the job, but the `gender` column is incompatible with those. So we will encode this column using `pandas` and `scikit-learn` will take care of the rest.)*\n",
    "\n",
    "*(There is two techniques to encode strings: one-hot encoding and label encoding.)*\n",
    "\n",
    "*(Label encoding is a technique for handling categorical variables. In this technique, each label is assigned a unique integer number based on alphabetical order. The main problem with this technique is that it creates a kind of ranking between categories. The model might interpret a higher integer as a better value. This type of encoding works well with ordinal features or when there are a large number of categories.)*\n",
    "\n",
    "*(One-hot encoding is another technique for transforming categorical variables. It creates additional features (columns in the case of a dataframe) based on the number of unique values in the categorical features. Each possible value is represented by a new feature with two possible values: 0 or 1. This technique solves the label encoding problem, but it creates another one. We must be careful not to fall into the dummy variable trap. A dummy variable trap occurs when two categories have a very high correlation. For example, \"single\" and \"divorced\" are very close and the model could interpret these two categories as being the same, but in fact they are very different. In contrast to label encoding, one-hot encoding performs better on non-ordinal features and when the number of categories remains low.)*\n",
    "\n",
    "*(The most sensible choice in our case is the one-hot encoding.)*"
   ],
   "metadata": {
    "collapsed": false
   }
  },
  {
   "cell_type": "code",
   "execution_count": 6,
   "outputs": [
    {
     "data": {
      "text/plain": "                                                    name  genre_Action  \\\n0                                         Kimi no Na wa.             0   \n1                       Fullmetal Alchemist: Brotherhood             1   \n2                                               Gintama°             1   \n3                                            Steins;Gate             0   \n4                                          Gintama&#039;             1   \n...                                                  ...           ...   \n12289       Toushindai My Lover: Minami tai Mecha-Minami             0   \n12290                                        Under World             0   \n12291                     Violence Gekiga David no Hoshi             0   \n12292  Violence Gekiga Shin David no Hoshi: Inma Dens...             0   \n12293                   Yasuji no Pornorama: Yacchimae!!             0   \n\n       genre_Adventure  genre_Cars  genre_Comedy  genre_Dementia  \\\n0                    0           0             0               0   \n1                    1           0             0               0   \n2                    0           0             1               0   \n3                    0           0             0               0   \n4                    0           0             1               0   \n...                ...         ...           ...             ...   \n12289                0           0             0               0   \n12290                0           0             0               0   \n12291                0           0             0               0   \n12292                0           0             0               0   \n12293                0           0             0               0   \n\n       genre_Demons  genre_Drama  genre_Ecchi  genre_Fantasy  ...  \\\n0                 0            1            0              0  ...   \n1                 0            1            0              1  ...   \n2                 0            0            0              0  ...   \n3                 0            0            0              0  ...   \n4                 0            0            0              0  ...   \n...             ...          ...          ...            ...  ...   \n12289             0            0            0              0  ...   \n12290             0            0            0              0  ...   \n12291             0            0            0              0  ...   \n12292             0            0            0              0  ...   \n12293             0            0            0              0  ...   \n\n       genre_Thriller  genre_Unknown  genre_Vampire  genre_Yaoi  genre_Yuri  \\\n0                   0              0              0           0           0   \n1                   0              0              0           0           0   \n2                   0              0              0           0           0   \n3                   1              0              0           0           0   \n4                   0              0              0           0           0   \n...               ...            ...            ...         ...         ...   \n12289               0              0              0           0           0   \n12290               0              0              0           0           0   \n12291               0              0              0           0           0   \n12292               0              0              0           0           0   \n12293               0              0              0           0           0   \n\n        type  episodes  rating  members  num_ratings  \n0      Movie         1    9.37   200630         1961  \n1         TV        64    9.26   793665        21494  \n2         TV        51    9.25   114262         1188  \n3         TV        24    9.17   673572        17151  \n4         TV        51    9.16   151266         3115  \n...      ...       ...     ...      ...          ...  \n12289    OVA         1    4.15      211            2  \n12290    OVA         1    4.28      183            2  \n12291    OVA         4    4.88      219            1  \n12292    OVA         1    4.98      175            1  \n12293  Movie         1    5.46      142            0  \n\n[12294 rows x 50 columns]",
      "text/html": "<div>\n<style scoped>\n    .dataframe tbody tr th:only-of-type {\n        vertical-align: middle;\n    }\n\n    .dataframe tbody tr th {\n        vertical-align: top;\n    }\n\n    .dataframe thead th {\n        text-align: right;\n    }\n</style>\n<table border=\"1\" class=\"dataframe\">\n  <thead>\n    <tr style=\"text-align: right;\">\n      <th></th>\n      <th>name</th>\n      <th>genre_Action</th>\n      <th>genre_Adventure</th>\n      <th>genre_Cars</th>\n      <th>genre_Comedy</th>\n      <th>genre_Dementia</th>\n      <th>genre_Demons</th>\n      <th>genre_Drama</th>\n      <th>genre_Ecchi</th>\n      <th>genre_Fantasy</th>\n      <th>...</th>\n      <th>genre_Thriller</th>\n      <th>genre_Unknown</th>\n      <th>genre_Vampire</th>\n      <th>genre_Yaoi</th>\n      <th>genre_Yuri</th>\n      <th>type</th>\n      <th>episodes</th>\n      <th>rating</th>\n      <th>members</th>\n      <th>num_ratings</th>\n    </tr>\n  </thead>\n  <tbody>\n    <tr>\n      <th>0</th>\n      <td>Kimi no Na wa.</td>\n      <td>0</td>\n      <td>0</td>\n      <td>0</td>\n      <td>0</td>\n      <td>0</td>\n      <td>0</td>\n      <td>1</td>\n      <td>0</td>\n      <td>0</td>\n      <td>...</td>\n      <td>0</td>\n      <td>0</td>\n      <td>0</td>\n      <td>0</td>\n      <td>0</td>\n      <td>Movie</td>\n      <td>1</td>\n      <td>9.37</td>\n      <td>200630</td>\n      <td>1961</td>\n    </tr>\n    <tr>\n      <th>1</th>\n      <td>Fullmetal Alchemist: Brotherhood</td>\n      <td>1</td>\n      <td>1</td>\n      <td>0</td>\n      <td>0</td>\n      <td>0</td>\n      <td>0</td>\n      <td>1</td>\n      <td>0</td>\n      <td>1</td>\n      <td>...</td>\n      <td>0</td>\n      <td>0</td>\n      <td>0</td>\n      <td>0</td>\n      <td>0</td>\n      <td>TV</td>\n      <td>64</td>\n      <td>9.26</td>\n      <td>793665</td>\n      <td>21494</td>\n    </tr>\n    <tr>\n      <th>2</th>\n      <td>Gintama°</td>\n      <td>1</td>\n      <td>0</td>\n      <td>0</td>\n      <td>1</td>\n      <td>0</td>\n      <td>0</td>\n      <td>0</td>\n      <td>0</td>\n      <td>0</td>\n      <td>...</td>\n      <td>0</td>\n      <td>0</td>\n      <td>0</td>\n      <td>0</td>\n      <td>0</td>\n      <td>TV</td>\n      <td>51</td>\n      <td>9.25</td>\n      <td>114262</td>\n      <td>1188</td>\n    </tr>\n    <tr>\n      <th>3</th>\n      <td>Steins;Gate</td>\n      <td>0</td>\n      <td>0</td>\n      <td>0</td>\n      <td>0</td>\n      <td>0</td>\n      <td>0</td>\n      <td>0</td>\n      <td>0</td>\n      <td>0</td>\n      <td>...</td>\n      <td>1</td>\n      <td>0</td>\n      <td>0</td>\n      <td>0</td>\n      <td>0</td>\n      <td>TV</td>\n      <td>24</td>\n      <td>9.17</td>\n      <td>673572</td>\n      <td>17151</td>\n    </tr>\n    <tr>\n      <th>4</th>\n      <td>Gintama&amp;#039;</td>\n      <td>1</td>\n      <td>0</td>\n      <td>0</td>\n      <td>1</td>\n      <td>0</td>\n      <td>0</td>\n      <td>0</td>\n      <td>0</td>\n      <td>0</td>\n      <td>...</td>\n      <td>0</td>\n      <td>0</td>\n      <td>0</td>\n      <td>0</td>\n      <td>0</td>\n      <td>TV</td>\n      <td>51</td>\n      <td>9.16</td>\n      <td>151266</td>\n      <td>3115</td>\n    </tr>\n    <tr>\n      <th>...</th>\n      <td>...</td>\n      <td>...</td>\n      <td>...</td>\n      <td>...</td>\n      <td>...</td>\n      <td>...</td>\n      <td>...</td>\n      <td>...</td>\n      <td>...</td>\n      <td>...</td>\n      <td>...</td>\n      <td>...</td>\n      <td>...</td>\n      <td>...</td>\n      <td>...</td>\n      <td>...</td>\n      <td>...</td>\n      <td>...</td>\n      <td>...</td>\n      <td>...</td>\n      <td>...</td>\n    </tr>\n    <tr>\n      <th>12289</th>\n      <td>Toushindai My Lover: Minami tai Mecha-Minami</td>\n      <td>0</td>\n      <td>0</td>\n      <td>0</td>\n      <td>0</td>\n      <td>0</td>\n      <td>0</td>\n      <td>0</td>\n      <td>0</td>\n      <td>0</td>\n      <td>...</td>\n      <td>0</td>\n      <td>0</td>\n      <td>0</td>\n      <td>0</td>\n      <td>0</td>\n      <td>OVA</td>\n      <td>1</td>\n      <td>4.15</td>\n      <td>211</td>\n      <td>2</td>\n    </tr>\n    <tr>\n      <th>12290</th>\n      <td>Under World</td>\n      <td>0</td>\n      <td>0</td>\n      <td>0</td>\n      <td>0</td>\n      <td>0</td>\n      <td>0</td>\n      <td>0</td>\n      <td>0</td>\n      <td>0</td>\n      <td>...</td>\n      <td>0</td>\n      <td>0</td>\n      <td>0</td>\n      <td>0</td>\n      <td>0</td>\n      <td>OVA</td>\n      <td>1</td>\n      <td>4.28</td>\n      <td>183</td>\n      <td>2</td>\n    </tr>\n    <tr>\n      <th>12291</th>\n      <td>Violence Gekiga David no Hoshi</td>\n      <td>0</td>\n      <td>0</td>\n      <td>0</td>\n      <td>0</td>\n      <td>0</td>\n      <td>0</td>\n      <td>0</td>\n      <td>0</td>\n      <td>0</td>\n      <td>...</td>\n      <td>0</td>\n      <td>0</td>\n      <td>0</td>\n      <td>0</td>\n      <td>0</td>\n      <td>OVA</td>\n      <td>4</td>\n      <td>4.88</td>\n      <td>219</td>\n      <td>1</td>\n    </tr>\n    <tr>\n      <th>12292</th>\n      <td>Violence Gekiga Shin David no Hoshi: Inma Dens...</td>\n      <td>0</td>\n      <td>0</td>\n      <td>0</td>\n      <td>0</td>\n      <td>0</td>\n      <td>0</td>\n      <td>0</td>\n      <td>0</td>\n      <td>0</td>\n      <td>...</td>\n      <td>0</td>\n      <td>0</td>\n      <td>0</td>\n      <td>0</td>\n      <td>0</td>\n      <td>OVA</td>\n      <td>1</td>\n      <td>4.98</td>\n      <td>175</td>\n      <td>1</td>\n    </tr>\n    <tr>\n      <th>12293</th>\n      <td>Yasuji no Pornorama: Yacchimae!!</td>\n      <td>0</td>\n      <td>0</td>\n      <td>0</td>\n      <td>0</td>\n      <td>0</td>\n      <td>0</td>\n      <td>0</td>\n      <td>0</td>\n      <td>0</td>\n      <td>...</td>\n      <td>0</td>\n      <td>0</td>\n      <td>0</td>\n      <td>0</td>\n      <td>0</td>\n      <td>Movie</td>\n      <td>1</td>\n      <td>5.46</td>\n      <td>142</td>\n      <td>0</td>\n    </tr>\n  </tbody>\n</table>\n<p>12294 rows × 50 columns</p>\n</div>"
     },
     "execution_count": 6,
     "metadata": {},
     "output_type": "execute_result"
    }
   ],
   "source": [
    "genre_col_idx = data_preprocessed.columns.get_loc(\"genre\")\n",
    "\n",
    "# We use this technique to preserve the column order\n",
    "data_preprocessed = pandas.concat(objs=[\n",
    "    data_preprocessed.iloc[:, :genre_col_idx],  # All columns before the `gender` column\n",
    "    data_preprocessed[\"genre\"].str.get_dummies(sep=\", \").add_prefix(\"genre_\"),  #  One-hot encoded genders\n",
    "    data_preprocessed.iloc[:, (genre_col_idx + 1):]  # All columns after the `gender` column\n",
    "], axis=1, ignore_index=False, sort=False)\n",
    "data_preprocessed"
   ],
   "metadata": {
    "collapsed": false
   }
  },
  {
   "cell_type": "markdown",
   "source": [
    "*(It is now possible to use `scikit-learn` to encode and normalize the rest of the dataset. We first complete the one-hot encoding with the last text column.)*"
   ],
   "metadata": {
    "collapsed": false
   }
  },
  {
   "cell_type": "code",
   "execution_count": 7,
   "outputs": [],
   "source": [
    "categorical_features = [\"type\"]\n",
    "categorical_transformer = Pipeline(steps=[\n",
    "    # Put the SimpleImputer here in case of missing data\n",
    "    (\"encoder\", OneHotEncoder(categories=\"auto\", handle_unknown=\"error\"))\n",
    "], verbose=False)"
   ],
   "metadata": {
    "collapsed": false
   }
  },
  {
   "cell_type": "markdown",
   "source": [
    "*(Then we standardize numerical columns.)*\n",
    "\n",
    "*(Standardization is a technique that changes the range of values without affecting the shape of the data and by reducing the standard deviation to one. This pre-processing is necessary in order to produce a powerful model. In our case, the `num_ratings` column would have a much higher weight on the predictions than the `rating` column. But a large number of ratings does not necessarily mean that it is the best recommendation.)*"
   ],
   "metadata": {
    "collapsed": false
   }
  },
  {
   "cell_type": "code",
   "execution_count": 8,
   "outputs": [],
   "source": [
    "numeric_features = [\"episodes\", \"rating\", \"members\", \"num_ratings\"]\n",
    "numeric_transformer = Pipeline(steps=[\n",
    "    # Put the SimpleImputer here in case of missing data\n",
    "    (\"scaler\", StandardScaler())\n",
    "], verbose=False)"
   ],
   "metadata": {
    "collapsed": false
   }
  },
  {
   "cell_type": "markdown",
   "source": [
    "*(Usually, the pipeline would have a simple imputer to fill in the missing data. But we have already solved this problem before, so we don't need it.)*\n",
    "\n",
    "*(The final step is to initialize the column transformer and to fit the dataset on it.)*"
   ],
   "metadata": {
    "collapsed": false
   }
  },
  {
   "cell_type": "code",
   "execution_count": 9,
   "outputs": [
    {
     "name": "stdout",
     "output_type": "stream",
     "text": [
      "[ColumnTransformer] ... (1 of 3) Processing categorical, total=   0.0s\n",
      "[ColumnTransformer] ....... (2 of 3) Processing numeric, total=   0.0s\n",
      "[ColumnTransformer] ....... (3 of 3) Processing skipped, total=   0.0s\n"
     ]
    }
   ],
   "source": [
    "# Split the features from the labels\n",
    "features_x = data_preprocessed.drop(columns=[\"name\"], inplace=False)\n",
    "# features_y = numpy.array(data_preprocessed[\"name\"].tolist())\n",
    "\n",
    "# Initialize the ColumnTransformer\n",
    "genre_cols = [column for column in features_x if column.startswith(\"genre_\")]\n",
    "preprocessor = ColumnTransformer(\n",
    "    transformers=[\n",
    "        (\"categorical\", categorical_transformer, categorical_features),\n",
    "        (\"numeric\", numeric_transformer, numeric_features),\n",
    "        (\"skipped\", \"passthrough\", genre_cols)  # We skip the pre-processing of the gender columns but keep them.\n",
    "    ],\n",
    "    remainder=\"drop\",\n",
    "    verbose=True\n",
    ")\n",
    "\n",
    "# Fit and transform the dataset\n",
    "features_x = preprocessor.fit_transform(features_x)"
   ],
   "metadata": {
    "collapsed": false
   }
  },
  {
   "cell_type": "markdown",
   "source": [
    "*(We can save the numpy tables to disk for later use.)*"
   ],
   "metadata": {
    "collapsed": false
   }
  },
  {
   "cell_type": "code",
   "execution_count": 10,
   "outputs": [],
   "source": [
    "numpy.save(file=str(DATA_FOLDER / \"x-anime_16-03-23_11-25\"), arr=features_x)\n",
    "# numpy.save(file=str(DATA_FOLDER / \"y-anime_16-03-23_11-25\"), arr=features_y)"
   ],
   "metadata": {
    "collapsed": false
   }
  },
  {
   "cell_type": "markdown",
   "source": [
    "*(And reload them with this block of code.)*"
   ],
   "metadata": {
    "collapsed": false
   }
  },
  {
   "cell_type": "code",
   "execution_count": 11,
   "outputs": [],
   "source": [
    "features_x = numpy.load(file=str(DATA_FOLDER / \"x-anime_16-03-23_11-25.npy\"))\n",
    "# features_y = numpy.load(file=str(DATA_FOLDER / \"y-anime_16-03-23_11-25.npy\"))"
   ],
   "metadata": {
    "collapsed": false
   }
  },
  {
   "cell_type": "code",
   "execution_count": 12,
   "outputs": [
    {
     "data": {
      "text/plain": "array([[1., 0., 0., ..., 0., 0., 0.],\n       [0., 0., 0., ..., 0., 0., 0.],\n       [0., 0., 0., ..., 0., 0., 0.],\n       ...,\n       [0., 0., 0., ..., 0., 0., 0.],\n       [0., 0., 0., ..., 0., 0., 0.],\n       [1., 0., 0., ..., 0., 0., 0.]])"
     },
     "execution_count": 12,
     "metadata": {},
     "output_type": "execute_result"
    }
   ],
   "source": [
    "features_x"
   ],
   "metadata": {
    "collapsed": false
   }
  },
  {
   "cell_type": "markdown",
   "source": [
    "démontrer diff. visuelle avec données de bases"
   ],
   "metadata": {
    "collapsed": false
   }
  },
  {
   "cell_type": "markdown",
   "source": [
    "# C - The \"Nearest Neighbors\" model\n",
    "expliquer \"NearestNeighbors\""
   ],
   "metadata": {
    "collapsed": false
   }
  },
  {
   "cell_type": "code",
   "execution_count": 13,
   "outputs": [
    {
     "data": {
      "text/plain": "NearestNeighbors(metric='cosine', n_neighbors=11)",
      "text/html": "<style>#sk-container-id-1 {color: black;background-color: white;}#sk-container-id-1 pre{padding: 0;}#sk-container-id-1 div.sk-toggleable {background-color: white;}#sk-container-id-1 label.sk-toggleable__label {cursor: pointer;display: block;width: 100%;margin-bottom: 0;padding: 0.3em;box-sizing: border-box;text-align: center;}#sk-container-id-1 label.sk-toggleable__label-arrow:before {content: \"▸\";float: left;margin-right: 0.25em;color: #696969;}#sk-container-id-1 label.sk-toggleable__label-arrow:hover:before {color: black;}#sk-container-id-1 div.sk-estimator:hover label.sk-toggleable__label-arrow:before {color: black;}#sk-container-id-1 div.sk-toggleable__content {max-height: 0;max-width: 0;overflow: hidden;text-align: left;background-color: #f0f8ff;}#sk-container-id-1 div.sk-toggleable__content pre {margin: 0.2em;color: black;border-radius: 0.25em;background-color: #f0f8ff;}#sk-container-id-1 input.sk-toggleable__control:checked~div.sk-toggleable__content {max-height: 200px;max-width: 100%;overflow: auto;}#sk-container-id-1 input.sk-toggleable__control:checked~label.sk-toggleable__label-arrow:before {content: \"▾\";}#sk-container-id-1 div.sk-estimator input.sk-toggleable__control:checked~label.sk-toggleable__label {background-color: #d4ebff;}#sk-container-id-1 div.sk-label input.sk-toggleable__control:checked~label.sk-toggleable__label {background-color: #d4ebff;}#sk-container-id-1 input.sk-hidden--visually {border: 0;clip: rect(1px 1px 1px 1px);clip: rect(1px, 1px, 1px, 1px);height: 1px;margin: -1px;overflow: hidden;padding: 0;position: absolute;width: 1px;}#sk-container-id-1 div.sk-estimator {font-family: monospace;background-color: #f0f8ff;border: 1px dotted black;border-radius: 0.25em;box-sizing: border-box;margin-bottom: 0.5em;}#sk-container-id-1 div.sk-estimator:hover {background-color: #d4ebff;}#sk-container-id-1 div.sk-parallel-item::after {content: \"\";width: 100%;border-bottom: 1px solid gray;flex-grow: 1;}#sk-container-id-1 div.sk-label:hover label.sk-toggleable__label {background-color: #d4ebff;}#sk-container-id-1 div.sk-serial::before {content: \"\";position: absolute;border-left: 1px solid gray;box-sizing: border-box;top: 0;bottom: 0;left: 50%;z-index: 0;}#sk-container-id-1 div.sk-serial {display: flex;flex-direction: column;align-items: center;background-color: white;padding-right: 0.2em;padding-left: 0.2em;position: relative;}#sk-container-id-1 div.sk-item {position: relative;z-index: 1;}#sk-container-id-1 div.sk-parallel {display: flex;align-items: stretch;justify-content: center;background-color: white;position: relative;}#sk-container-id-1 div.sk-item::before, #sk-container-id-1 div.sk-parallel-item::before {content: \"\";position: absolute;border-left: 1px solid gray;box-sizing: border-box;top: 0;bottom: 0;left: 50%;z-index: -1;}#sk-container-id-1 div.sk-parallel-item {display: flex;flex-direction: column;z-index: 1;position: relative;background-color: white;}#sk-container-id-1 div.sk-parallel-item:first-child::after {align-self: flex-end;width: 50%;}#sk-container-id-1 div.sk-parallel-item:last-child::after {align-self: flex-start;width: 50%;}#sk-container-id-1 div.sk-parallel-item:only-child::after {width: 0;}#sk-container-id-1 div.sk-dashed-wrapped {border: 1px dashed gray;margin: 0 0.4em 0.5em 0.4em;box-sizing: border-box;padding-bottom: 0.4em;background-color: white;}#sk-container-id-1 div.sk-label label {font-family: monospace;font-weight: bold;display: inline-block;line-height: 1.2em;}#sk-container-id-1 div.sk-label-container {text-align: center;}#sk-container-id-1 div.sk-container {/* jupyter's `normalize.less` sets `[hidden] { display: none; }` but bootstrap.min.css set `[hidden] { display: none !important; }` so we also need the `!important` here to be able to override the default hidden behavior on the sphinx rendered scikit-learn.org. See: https://github.com/scikit-learn/scikit-learn/issues/21755 */display: inline-block !important;position: relative;}#sk-container-id-1 div.sk-text-repr-fallback {display: none;}</style><div id=\"sk-container-id-1\" class=\"sk-top-container\"><div class=\"sk-text-repr-fallback\"><pre>NearestNeighbors(metric=&#x27;cosine&#x27;, n_neighbors=11)</pre><b>In a Jupyter environment, please rerun this cell to show the HTML representation or trust the notebook. <br />On GitHub, the HTML representation is unable to render, please try loading this page with nbviewer.org.</b></div><div class=\"sk-container\" hidden><div class=\"sk-item\"><div class=\"sk-estimator sk-toggleable\"><input class=\"sk-toggleable__control sk-hidden--visually\" id=\"sk-estimator-id-1\" type=\"checkbox\" checked><label for=\"sk-estimator-id-1\" class=\"sk-toggleable__label sk-toggleable__label-arrow\">NearestNeighbors</label><div class=\"sk-toggleable__content\"><pre>NearestNeighbors(metric=&#x27;cosine&#x27;, n_neighbors=11)</pre></div></div></div></div></div>"
     },
     "execution_count": 13,
     "metadata": {},
     "output_type": "execute_result"
    }
   ],
   "source": [
    "model = NearestNeighbors(n_neighbors=11, radius=1.0, algorithm=\"auto\", metric=\"cosine\")\n",
    "model.fit(features_x)"
   ],
   "metadata": {
    "collapsed": false
   }
  },
  {
   "cell_type": "markdown",
   "source": [
    "expliquer pourquoi pas de y\n",
    "expliquer pourquoi cosine et pas minkowski\n",
    "\n",
    "..."
   ],
   "metadata": {
    "collapsed": false
   }
  },
  {
   "cell_type": "code",
   "execution_count": 14,
   "outputs": [],
   "source": [
    "distances, indices = model.kneighbors(features_x)"
   ],
   "metadata": {
    "collapsed": false
   }
  },
  {
   "cell_type": "markdown",
   "source": [],
   "metadata": {
    "collapsed": false
   }
  }
 ],
 "metadata": {
  "kernelspec": {
   "display_name": "Python 3",
   "language": "python",
   "name": "python3"
  },
  "language_info": {
   "codemirror_mode": {
    "name": "ipython",
    "version": 2
   },
   "file_extension": ".py",
   "mimetype": "text/x-python",
   "name": "python",
   "nbconvert_exporter": "python",
   "pygments_lexer": "ipython2",
   "version": "2.7.6"
  }
 },
 "nbformat": 4,
 "nbformat_minor": 0
}
