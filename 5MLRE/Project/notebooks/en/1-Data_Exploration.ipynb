{
 "cells": [
  {
   "cell_type": "code",
   "execution_count": 92,
   "metadata": {},
   "outputs": [],
   "source": [
    "# OS and filesystem\n",
    "import os\n",
    "import sys\n",
    "from pathlib import Path\n",
    "\n",
    "# Console output\n",
    "from colorama import Fore, Style\n",
    "from tqdm.notebook import tqdm\n",
    "\n",
    "import pandas as pd\n",
    "import matplotlib.pyplot as plt"
   ]
  },
  {
   "cell_type": "code",
   "execution_count": 7,
   "metadata": {},
   "outputs": [],
   "source": [
    "# Filesystem paths\n",
    "PARENT_FOLDER = Path.cwd()\n",
    "DATA_FOLDER = (PARENT_FOLDER / \"..\" / \"..\" / \"data\").resolve()"
   ]
  },
  {
   "cell_type": "code",
   "execution_count": 118,
   "metadata": {},
   "outputs": [
    {
     "data": {
      "text/html": [
       "<div>\n",
       "<style scoped>\n",
       "    .dataframe tbody tr th:only-of-type {\n",
       "        vertical-align: middle;\n",
       "    }\n",
       "\n",
       "    .dataframe tbody tr th {\n",
       "        vertical-align: top;\n",
       "    }\n",
       "\n",
       "    .dataframe thead th {\n",
       "        text-align: right;\n",
       "    }\n",
       "</style>\n",
       "<table border=\"1\" class=\"dataframe\">\n",
       "  <thead>\n",
       "    <tr style=\"text-align: right;\">\n",
       "      <th></th>\n",
       "      <th>anime_id</th>\n",
       "      <th>name</th>\n",
       "      <th>genre</th>\n",
       "      <th>type</th>\n",
       "      <th>episodes</th>\n",
       "      <th>rating</th>\n",
       "      <th>members</th>\n",
       "    </tr>\n",
       "  </thead>\n",
       "  <tbody>\n",
       "    <tr>\n",
       "      <th>0</th>\n",
       "      <td>32281</td>\n",
       "      <td>Kimi no Na wa.</td>\n",
       "      <td>Drama, Romance, School, Supernatural</td>\n",
       "      <td>Movie</td>\n",
       "      <td>1</td>\n",
       "      <td>9.37</td>\n",
       "      <td>200630</td>\n",
       "    </tr>\n",
       "    <tr>\n",
       "      <th>1</th>\n",
       "      <td>5114</td>\n",
       "      <td>Fullmetal Alchemist: Brotherhood</td>\n",
       "      <td>Action, Adventure, Drama, Fantasy, Magic, Mili...</td>\n",
       "      <td>TV</td>\n",
       "      <td>64</td>\n",
       "      <td>9.26</td>\n",
       "      <td>793665</td>\n",
       "    </tr>\n",
       "    <tr>\n",
       "      <th>2</th>\n",
       "      <td>28977</td>\n",
       "      <td>Gintama°</td>\n",
       "      <td>Action, Comedy, Historical, Parody, Samurai, S...</td>\n",
       "      <td>TV</td>\n",
       "      <td>51</td>\n",
       "      <td>9.25</td>\n",
       "      <td>114262</td>\n",
       "    </tr>\n",
       "    <tr>\n",
       "      <th>3</th>\n",
       "      <td>9253</td>\n",
       "      <td>Steins;Gate</td>\n",
       "      <td>Sci-Fi, Thriller</td>\n",
       "      <td>TV</td>\n",
       "      <td>24</td>\n",
       "      <td>9.17</td>\n",
       "      <td>673572</td>\n",
       "    </tr>\n",
       "    <tr>\n",
       "      <th>4</th>\n",
       "      <td>9969</td>\n",
       "      <td>Gintama&amp;#039;</td>\n",
       "      <td>Action, Comedy, Historical, Parody, Samurai, S...</td>\n",
       "      <td>TV</td>\n",
       "      <td>51</td>\n",
       "      <td>9.16</td>\n",
       "      <td>151266</td>\n",
       "    </tr>\n",
       "  </tbody>\n",
       "</table>\n",
       "</div>"
      ],
      "text/plain": [
       "   anime_id                              name  \\\n",
       "0     32281                    Kimi no Na wa.   \n",
       "1      5114  Fullmetal Alchemist: Brotherhood   \n",
       "2     28977                          Gintama°   \n",
       "3      9253                       Steins;Gate   \n",
       "4      9969                     Gintama&#039;   \n",
       "\n",
       "                                               genre   type episodes  rating  \\\n",
       "0               Drama, Romance, School, Supernatural  Movie        1    9.37   \n",
       "1  Action, Adventure, Drama, Fantasy, Magic, Mili...     TV       64    9.26   \n",
       "2  Action, Comedy, Historical, Parody, Samurai, S...     TV       51    9.25   \n",
       "3                                   Sci-Fi, Thriller     TV       24    9.17   \n",
       "4  Action, Comedy, Historical, Parody, Samurai, S...     TV       51    9.16   \n",
       "\n",
       "   members  \n",
       "0   200630  \n",
       "1   793665  \n",
       "2   114262  \n",
       "3   673572  \n",
       "4   151266  "
      ]
     },
     "execution_count": 118,
     "metadata": {},
     "output_type": "execute_result"
    }
   ],
   "source": [
    "data_anime = pd.read_csv(DATA_FOLDER / \"anime.csv\")\n",
    "data_anime.head(n=5)"
   ]
  },
  {
   "cell_type": "code",
   "execution_count": 119,
   "metadata": {},
   "outputs": [
    {
     "data": {
      "text/html": [
       "<div>\n",
       "<style scoped>\n",
       "    .dataframe tbody tr th:only-of-type {\n",
       "        vertical-align: middle;\n",
       "    }\n",
       "\n",
       "    .dataframe tbody tr th {\n",
       "        vertical-align: top;\n",
       "    }\n",
       "\n",
       "    .dataframe thead th {\n",
       "        text-align: right;\n",
       "    }\n",
       "</style>\n",
       "<table border=\"1\" class=\"dataframe\">\n",
       "  <thead>\n",
       "    <tr style=\"text-align: right;\">\n",
       "      <th></th>\n",
       "      <th>user_id</th>\n",
       "      <th>anime_id</th>\n",
       "      <th>rating</th>\n",
       "    </tr>\n",
       "  </thead>\n",
       "  <tbody>\n",
       "    <tr>\n",
       "      <th>0</th>\n",
       "      <td>1</td>\n",
       "      <td>20</td>\n",
       "      <td>-1</td>\n",
       "    </tr>\n",
       "    <tr>\n",
       "      <th>1</th>\n",
       "      <td>1</td>\n",
       "      <td>24</td>\n",
       "      <td>-1</td>\n",
       "    </tr>\n",
       "    <tr>\n",
       "      <th>2</th>\n",
       "      <td>1</td>\n",
       "      <td>79</td>\n",
       "      <td>-1</td>\n",
       "    </tr>\n",
       "    <tr>\n",
       "      <th>3</th>\n",
       "      <td>1</td>\n",
       "      <td>226</td>\n",
       "      <td>-1</td>\n",
       "    </tr>\n",
       "    <tr>\n",
       "      <th>4</th>\n",
       "      <td>1</td>\n",
       "      <td>241</td>\n",
       "      <td>-1</td>\n",
       "    </tr>\n",
       "    <tr>\n",
       "      <th>...</th>\n",
       "      <td>...</td>\n",
       "      <td>...</td>\n",
       "      <td>...</td>\n",
       "    </tr>\n",
       "    <tr>\n",
       "      <th>7813732</th>\n",
       "      <td>73515</td>\n",
       "      <td>16512</td>\n",
       "      <td>7</td>\n",
       "    </tr>\n",
       "    <tr>\n",
       "      <th>7813733</th>\n",
       "      <td>73515</td>\n",
       "      <td>17187</td>\n",
       "      <td>9</td>\n",
       "    </tr>\n",
       "    <tr>\n",
       "      <th>7813734</th>\n",
       "      <td>73515</td>\n",
       "      <td>22145</td>\n",
       "      <td>10</td>\n",
       "    </tr>\n",
       "    <tr>\n",
       "      <th>7813735</th>\n",
       "      <td>73516</td>\n",
       "      <td>790</td>\n",
       "      <td>9</td>\n",
       "    </tr>\n",
       "    <tr>\n",
       "      <th>7813736</th>\n",
       "      <td>73516</td>\n",
       "      <td>8074</td>\n",
       "      <td>9</td>\n",
       "    </tr>\n",
       "  </tbody>\n",
       "</table>\n",
       "<p>7813737 rows × 3 columns</p>\n",
       "</div>"
      ],
      "text/plain": [
       "         user_id  anime_id  rating\n",
       "0              1        20      -1\n",
       "1              1        24      -1\n",
       "2              1        79      -1\n",
       "3              1       226      -1\n",
       "4              1       241      -1\n",
       "...          ...       ...     ...\n",
       "7813732    73515     16512       7\n",
       "7813733    73515     17187       9\n",
       "7813734    73515     22145      10\n",
       "7813735    73516       790       9\n",
       "7813736    73516      8074       9\n",
       "\n",
       "[7813737 rows x 3 columns]"
      ]
     },
     "execution_count": 119,
     "metadata": {},
     "output_type": "execute_result"
    }
   ],
   "source": [
    "data_ratings = pd.read_csv(DATA_FOLDER / \"rating.csv\")\n",
    "data_ratings\n"
   ]
  },
  {
   "cell_type": "code",
   "execution_count": 35,
   "metadata": {},
   "outputs": [
    {
     "data": {
      "text/plain": [
       "12294"
      ]
     },
     "execution_count": 35,
     "metadata": {},
     "output_type": "execute_result"
    }
   ],
   "source": [
    "#Nombre d'animés\n",
    "data_anime['anime_id'].nunique()"
   ]
  },
  {
   "cell_type": "code",
   "execution_count": 14,
   "metadata": {},
   "outputs": [
    {
     "data": {
      "text/plain": [
       "73515"
      ]
     },
     "execution_count": 14,
     "metadata": {},
     "output_type": "execute_result"
    }
   ],
   "source": [
    "#Nombre d'utilisateurs\n",
    "data_ratings['user_id'].nunique()"
   ]
  },
  {
   "cell_type": "code",
   "execution_count": 18,
   "metadata": {},
   "outputs": [
    {
     "name": "stdout",
     "output_type": "stream",
     "text": [
      "\u001B[1mDuplicated values:\u001B[0m 1 (0.0%)\n"
     ]
    }
   ],
   "source": [
    "def duplicated_values(data_anime):\n",
    "    data_count = data_anime.shape[0] * data_anime.shape[1]\n",
    "    duplicated = data_anime.duplicated().sum()\n",
    "\n",
    "    print(f\"{Style.BRIGHT}Duplicated values:{Style.RESET_ALL} {duplicated} ({round((duplicated.sum() / data_count) * 100, 2)}%)\")\n",
    "\n",
    "\n",
    "duplicated_values(data_anime=data_ratings)"
   ]
  },
  {
   "cell_type": "code",
   "execution_count": 61,
   "metadata": {},
   "outputs": [
    {
     "data": {
      "text/html": [
       "<div>\n",
       "<style scoped>\n",
       "    .dataframe tbody tr th:only-of-type {\n",
       "        vertical-align: middle;\n",
       "    }\n",
       "\n",
       "    .dataframe tbody tr th {\n",
       "        vertical-align: top;\n",
       "    }\n",
       "\n",
       "    .dataframe thead th {\n",
       "        text-align: right;\n",
       "    }\n",
       "</style>\n",
       "<table border=\"1\" class=\"dataframe\">\n",
       "  <thead>\n",
       "    <tr style=\"text-align: right;\">\n",
       "      <th></th>\n",
       "      <th>user_id</th>\n",
       "      <th>anime_id</th>\n",
       "      <th>rating</th>\n",
       "    </tr>\n",
       "  </thead>\n",
       "  <tbody>\n",
       "    <tr>\n",
       "      <th>0</th>\n",
       "      <td>1</td>\n",
       "      <td>20</td>\n",
       "      <td>-1</td>\n",
       "    </tr>\n",
       "    <tr>\n",
       "      <th>1</th>\n",
       "      <td>1</td>\n",
       "      <td>24</td>\n",
       "      <td>-1</td>\n",
       "    </tr>\n",
       "    <tr>\n",
       "      <th>2</th>\n",
       "      <td>1</td>\n",
       "      <td>79</td>\n",
       "      <td>-1</td>\n",
       "    </tr>\n",
       "    <tr>\n",
       "      <th>3</th>\n",
       "      <td>1</td>\n",
       "      <td>226</td>\n",
       "      <td>-1</td>\n",
       "    </tr>\n",
       "    <tr>\n",
       "      <th>4</th>\n",
       "      <td>1</td>\n",
       "      <td>241</td>\n",
       "      <td>-1</td>\n",
       "    </tr>\n",
       "    <tr>\n",
       "      <th>...</th>\n",
       "      <td>...</td>\n",
       "      <td>...</td>\n",
       "      <td>...</td>\n",
       "    </tr>\n",
       "    <tr>\n",
       "      <th>7813732</th>\n",
       "      <td>73515</td>\n",
       "      <td>16512</td>\n",
       "      <td>7</td>\n",
       "    </tr>\n",
       "    <tr>\n",
       "      <th>7813733</th>\n",
       "      <td>73515</td>\n",
       "      <td>17187</td>\n",
       "      <td>9</td>\n",
       "    </tr>\n",
       "    <tr>\n",
       "      <th>7813734</th>\n",
       "      <td>73515</td>\n",
       "      <td>22145</td>\n",
       "      <td>10</td>\n",
       "    </tr>\n",
       "    <tr>\n",
       "      <th>7813735</th>\n",
       "      <td>73516</td>\n",
       "      <td>790</td>\n",
       "      <td>9</td>\n",
       "    </tr>\n",
       "    <tr>\n",
       "      <th>7813736</th>\n",
       "      <td>73516</td>\n",
       "      <td>8074</td>\n",
       "      <td>9</td>\n",
       "    </tr>\n",
       "  </tbody>\n",
       "</table>\n",
       "<p>7813736 rows × 3 columns</p>\n",
       "</div>"
      ],
      "text/plain": [
       "         user_id  anime_id  rating\n",
       "0              1        20      -1\n",
       "1              1        24      -1\n",
       "2              1        79      -1\n",
       "3              1       226      -1\n",
       "4              1       241      -1\n",
       "...          ...       ...     ...\n",
       "7813732    73515     16512       7\n",
       "7813733    73515     17187       9\n",
       "7813734    73515     22145      10\n",
       "7813735    73516       790       9\n",
       "7813736    73516      8074       9\n",
       "\n",
       "[7813736 rows x 3 columns]"
      ]
     },
     "execution_count": 61,
     "metadata": {},
     "output_type": "execute_result"
    }
   ],
   "source": [
    "data_ratings = data_ratings[~data_ratings.duplicated()]\n",
    "data_ratings"
   ]
  },
  {
   "cell_type": "code",
   "execution_count": 88,
   "metadata": {},
   "outputs": [
    {
     "ename": "MemoryError",
     "evalue": "Unable to allocate 5.15 GiB for an array with shape (69600, 9927) and data type float64",
     "output_type": "error",
     "traceback": [
      "\u001B[1;31m---------------------------------------------------------------------------\u001B[0m",
      "\u001B[1;31mMemoryError\u001B[0m                               Traceback (most recent call last)",
      "Cell \u001B[1;32mIn[88], line 3\u001B[0m\n\u001B[0;32m      1\u001B[0m \u001B[39m# Matrice des notes\u001B[39;00m\n\u001B[0;32m      2\u001B[0m \u001B[39m# créer la matrice des notes en utilisant la fonction pivot_table\u001B[39;00m\n\u001B[1;32m----> 3\u001B[0m ratings_matrix \u001B[39m=\u001B[39m data_ratings\u001B[39m.\u001B[39;49mpivot_table(index\u001B[39m=\u001B[39;49m\u001B[39m'\u001B[39;49m\u001B[39muser_id\u001B[39;49m\u001B[39m'\u001B[39;49m, columns\u001B[39m=\u001B[39;49m\u001B[39m'\u001B[39;49m\u001B[39manime_id\u001B[39;49m\u001B[39m'\u001B[39;49m, values\u001B[39m=\u001B[39;49m\u001B[39m'\u001B[39;49m\u001B[39mrating\u001B[39;49m\u001B[39m'\u001B[39;49m, fill_value\u001B[39m=\u001B[39;49m\u001B[39m0\u001B[39;49m)\n\u001B[0;32m      5\u001B[0m \u001B[39m# afficher la matrice des notes\u001B[39;00m\n\u001B[0;32m      6\u001B[0m \u001B[39mprint\u001B[39m(ratings_matrix)\n",
      "File \u001B[1;32mc:\\Users\\theob\\AppData\\Local\\Programs\\Python\\Python310\\lib\\site-packages\\pandas\\core\\frame.py:8728\u001B[0m, in \u001B[0;36mDataFrame.pivot_table\u001B[1;34m(self, values, index, columns, aggfunc, fill_value, margins, dropna, margins_name, observed, sort)\u001B[0m\n\u001B[0;32m   8711\u001B[0m \u001B[39m@Substitution\u001B[39m(\u001B[39m\"\u001B[39m\u001B[39m\"\u001B[39m)\n\u001B[0;32m   8712\u001B[0m \u001B[39m@Appender\u001B[39m(_shared_docs[\u001B[39m\"\u001B[39m\u001B[39mpivot_table\u001B[39m\u001B[39m\"\u001B[39m])\n\u001B[0;32m   8713\u001B[0m \u001B[39mdef\u001B[39;00m \u001B[39mpivot_table\u001B[39m(\n\u001B[1;32m   (...)\u001B[0m\n\u001B[0;32m   8724\u001B[0m     sort\u001B[39m=\u001B[39m\u001B[39mTrue\u001B[39;00m,\n\u001B[0;32m   8725\u001B[0m ) \u001B[39m-\u001B[39m\u001B[39m>\u001B[39m DataFrame:\n\u001B[0;32m   8726\u001B[0m     \u001B[39mfrom\u001B[39;00m \u001B[39mpandas\u001B[39;00m\u001B[39m.\u001B[39;00m\u001B[39mcore\u001B[39;00m\u001B[39m.\u001B[39;00m\u001B[39mreshape\u001B[39;00m\u001B[39m.\u001B[39;00m\u001B[39mpivot\u001B[39;00m \u001B[39mimport\u001B[39;00m pivot_table\n\u001B[1;32m-> 8728\u001B[0m     \u001B[39mreturn\u001B[39;00m pivot_table(\n\u001B[0;32m   8729\u001B[0m         \u001B[39mself\u001B[39;49m,\n\u001B[0;32m   8730\u001B[0m         values\u001B[39m=\u001B[39;49mvalues,\n\u001B[0;32m   8731\u001B[0m         index\u001B[39m=\u001B[39;49mindex,\n\u001B[0;32m   8732\u001B[0m         columns\u001B[39m=\u001B[39;49mcolumns,\n\u001B[0;32m   8733\u001B[0m         aggfunc\u001B[39m=\u001B[39;49maggfunc,\n\u001B[0;32m   8734\u001B[0m         fill_value\u001B[39m=\u001B[39;49mfill_value,\n\u001B[0;32m   8735\u001B[0m         margins\u001B[39m=\u001B[39;49mmargins,\n\u001B[0;32m   8736\u001B[0m         dropna\u001B[39m=\u001B[39;49mdropna,\n\u001B[0;32m   8737\u001B[0m         margins_name\u001B[39m=\u001B[39;49mmargins_name,\n\u001B[0;32m   8738\u001B[0m         observed\u001B[39m=\u001B[39;49mobserved,\n\u001B[0;32m   8739\u001B[0m         sort\u001B[39m=\u001B[39;49msort,\n\u001B[0;32m   8740\u001B[0m     )\n",
      "File \u001B[1;32mc:\\Users\\theob\\AppData\\Local\\Programs\\Python\\Python310\\lib\\site-packages\\pandas\\core\\reshape\\pivot.py:97\u001B[0m, in \u001B[0;36mpivot_table\u001B[1;34m(data, values, index, columns, aggfunc, fill_value, margins, dropna, margins_name, observed, sort)\u001B[0m\n\u001B[0;32m     94\u001B[0m     table \u001B[39m=\u001B[39m concat(pieces, keys\u001B[39m=\u001B[39mkeys, axis\u001B[39m=\u001B[39m\u001B[39m1\u001B[39m)\n\u001B[0;32m     95\u001B[0m     \u001B[39mreturn\u001B[39;00m table\u001B[39m.\u001B[39m__finalize__(data, method\u001B[39m=\u001B[39m\u001B[39m\"\u001B[39m\u001B[39mpivot_table\u001B[39m\u001B[39m\"\u001B[39m)\n\u001B[1;32m---> 97\u001B[0m table \u001B[39m=\u001B[39m __internal_pivot_table(\n\u001B[0;32m     98\u001B[0m     data,\n\u001B[0;32m     99\u001B[0m     values,\n\u001B[0;32m    100\u001B[0m     index,\n\u001B[0;32m    101\u001B[0m     columns,\n\u001B[0;32m    102\u001B[0m     aggfunc,\n\u001B[0;32m    103\u001B[0m     fill_value,\n\u001B[0;32m    104\u001B[0m     margins,\n\u001B[0;32m    105\u001B[0m     dropna,\n\u001B[0;32m    106\u001B[0m     margins_name,\n\u001B[0;32m    107\u001B[0m     observed,\n\u001B[0;32m    108\u001B[0m     sort,\n\u001B[0;32m    109\u001B[0m )\n\u001B[0;32m    110\u001B[0m \u001B[39mreturn\u001B[39;00m table\u001B[39m.\u001B[39m__finalize__(data, method\u001B[39m=\u001B[39m\u001B[39m\"\u001B[39m\u001B[39mpivot_table\u001B[39m\u001B[39m\"\u001B[39m)\n",
      "File \u001B[1;32mc:\\Users\\theob\\AppData\\Local\\Programs\\Python\\Python310\\lib\\site-packages\\pandas\\core\\reshape\\pivot.py:219\u001B[0m, in \u001B[0;36m__internal_pivot_table\u001B[1;34m(data, values, index, columns, aggfunc, fill_value, margins, dropna, margins_name, observed, sort)\u001B[0m\n\u001B[0;32m    217\u001B[0m         \u001B[39melse\u001B[39;00m:\n\u001B[0;32m    218\u001B[0m             to_unstack\u001B[39m.\u001B[39mappend(name)\n\u001B[1;32m--> 219\u001B[0m     table \u001B[39m=\u001B[39m agged\u001B[39m.\u001B[39;49munstack(to_unstack)\n\u001B[0;32m    221\u001B[0m \u001B[39mif\u001B[39;00m \u001B[39mnot\u001B[39;00m dropna:\n\u001B[0;32m    222\u001B[0m     \u001B[39mif\u001B[39;00m \u001B[39misinstance\u001B[39m(table\u001B[39m.\u001B[39mindex, MultiIndex):\n",
      "File \u001B[1;32mc:\\Users\\theob\\AppData\\Local\\Programs\\Python\\Python310\\lib\\site-packages\\pandas\\core\\frame.py:9109\u001B[0m, in \u001B[0;36mDataFrame.unstack\u001B[1;34m(self, level, fill_value)\u001B[0m\n\u001B[0;32m   9047\u001B[0m \u001B[39m\u001B[39m\u001B[39m\"\"\"\u001B[39;00m\n\u001B[0;32m   9048\u001B[0m \u001B[39mPivot a level of the (necessarily hierarchical) index labels.\u001B[39;00m\n\u001B[0;32m   9049\u001B[0m \n\u001B[1;32m   (...)\u001B[0m\n\u001B[0;32m   9105\u001B[0m \u001B[39mdtype: float64\u001B[39;00m\n\u001B[0;32m   9106\u001B[0m \u001B[39m\"\"\"\u001B[39;00m\n\u001B[0;32m   9107\u001B[0m \u001B[39mfrom\u001B[39;00m \u001B[39mpandas\u001B[39;00m\u001B[39m.\u001B[39;00m\u001B[39mcore\u001B[39;00m\u001B[39m.\u001B[39;00m\u001B[39mreshape\u001B[39;00m\u001B[39m.\u001B[39;00m\u001B[39mreshape\u001B[39;00m \u001B[39mimport\u001B[39;00m unstack\n\u001B[1;32m-> 9109\u001B[0m result \u001B[39m=\u001B[39m unstack(\u001B[39mself\u001B[39;49m, level, fill_value)\n\u001B[0;32m   9111\u001B[0m \u001B[39mreturn\u001B[39;00m result\u001B[39m.\u001B[39m__finalize__(\u001B[39mself\u001B[39m, method\u001B[39m=\u001B[39m\u001B[39m\"\u001B[39m\u001B[39munstack\u001B[39m\u001B[39m\"\u001B[39m)\n",
      "File \u001B[1;32mc:\\Users\\theob\\AppData\\Local\\Programs\\Python\\Python310\\lib\\site-packages\\pandas\\core\\reshape\\reshape.py:476\u001B[0m, in \u001B[0;36munstack\u001B[1;34m(obj, level, fill_value)\u001B[0m\n\u001B[0;32m    474\u001B[0m \u001B[39mif\u001B[39;00m \u001B[39misinstance\u001B[39m(obj, DataFrame):\n\u001B[0;32m    475\u001B[0m     \u001B[39mif\u001B[39;00m \u001B[39misinstance\u001B[39m(obj\u001B[39m.\u001B[39mindex, MultiIndex):\n\u001B[1;32m--> 476\u001B[0m         \u001B[39mreturn\u001B[39;00m _unstack_frame(obj, level, fill_value\u001B[39m=\u001B[39;49mfill_value)\n\u001B[0;32m    477\u001B[0m     \u001B[39melse\u001B[39;00m:\n\u001B[0;32m    478\u001B[0m         \u001B[39mreturn\u001B[39;00m obj\u001B[39m.\u001B[39mT\u001B[39m.\u001B[39mstack(dropna\u001B[39m=\u001B[39m\u001B[39mFalse\u001B[39;00m)\n",
      "File \u001B[1;32mc:\\Users\\theob\\AppData\\Local\\Programs\\Python\\Python310\\lib\\site-packages\\pandas\\core\\reshape\\reshape.py:505\u001B[0m, in \u001B[0;36m_unstack_frame\u001B[1;34m(obj, level, fill_value)\u001B[0m\n\u001B[0;32m    503\u001B[0m     \u001B[39mreturn\u001B[39;00m obj\u001B[39m.\u001B[39m_constructor(mgr)\n\u001B[0;32m    504\u001B[0m \u001B[39melse\u001B[39;00m:\n\u001B[1;32m--> 505\u001B[0m     \u001B[39mreturn\u001B[39;00m unstacker\u001B[39m.\u001B[39;49mget_result(\n\u001B[0;32m    506\u001B[0m         obj\u001B[39m.\u001B[39;49m_values, value_columns\u001B[39m=\u001B[39;49mobj\u001B[39m.\u001B[39;49mcolumns, fill_value\u001B[39m=\u001B[39;49mfill_value\n\u001B[0;32m    507\u001B[0m     )\n",
      "File \u001B[1;32mc:\\Users\\theob\\AppData\\Local\\Programs\\Python\\Python310\\lib\\site-packages\\pandas\\core\\reshape\\reshape.py:215\u001B[0m, in \u001B[0;36m_Unstacker.get_result\u001B[1;34m(self, values, value_columns, fill_value)\u001B[0m\n\u001B[0;32m    212\u001B[0m \u001B[39mif\u001B[39;00m value_columns \u001B[39mis\u001B[39;00m \u001B[39mNone\u001B[39;00m \u001B[39mand\u001B[39;00m values\u001B[39m.\u001B[39mshape[\u001B[39m1\u001B[39m] \u001B[39m!=\u001B[39m \u001B[39m1\u001B[39m:  \u001B[39m# pragma: no cover\u001B[39;00m\n\u001B[0;32m    213\u001B[0m     \u001B[39mraise\u001B[39;00m \u001B[39mValueError\u001B[39;00m(\u001B[39m\"\u001B[39m\u001B[39mmust pass column labels for multi-column data\u001B[39m\u001B[39m\"\u001B[39m)\n\u001B[1;32m--> 215\u001B[0m values, _ \u001B[39m=\u001B[39m \u001B[39mself\u001B[39;49m\u001B[39m.\u001B[39;49mget_new_values(values, fill_value)\n\u001B[0;32m    216\u001B[0m columns \u001B[39m=\u001B[39m \u001B[39mself\u001B[39m\u001B[39m.\u001B[39mget_new_columns(value_columns)\n\u001B[0;32m    217\u001B[0m index \u001B[39m=\u001B[39m \u001B[39mself\u001B[39m\u001B[39m.\u001B[39mnew_index\n",
      "File \u001B[1;32mc:\\Users\\theob\\AppData\\Local\\Programs\\Python\\Python310\\lib\\site-packages\\pandas\\core\\reshape\\reshape.py:267\u001B[0m, in \u001B[0;36m_Unstacker.get_new_values\u001B[1;34m(self, values, fill_value)\u001B[0m\n\u001B[0;32m    265\u001B[0m     \u001B[39melse\u001B[39;00m:\n\u001B[0;32m    266\u001B[0m         dtype, fill_value \u001B[39m=\u001B[39m maybe_promote(dtype, fill_value)\n\u001B[1;32m--> 267\u001B[0m         new_values \u001B[39m=\u001B[39m np\u001B[39m.\u001B[39;49mempty(result_shape, dtype\u001B[39m=\u001B[39;49mdtype)\n\u001B[0;32m    268\u001B[0m         new_values\u001B[39m.\u001B[39mfill(fill_value)\n\u001B[0;32m    270\u001B[0m name \u001B[39m=\u001B[39m dtype\u001B[39m.\u001B[39mname\n",
      "\u001B[1;31mMemoryError\u001B[0m: Unable to allocate 5.15 GiB for an array with shape (69600, 9927) and data type float64"
     ]
    }
   ],
   "source": [
    "# Matrice des notes\n",
    "# créer la matrice des notes en utilisant la fonction pivot_table\n",
    "ratings_matrix = data_ratings.pivot_table(index='user_id', columns='anime_id', values='rating', fill_value=0)\n",
    "\n",
    "# afficher la matrice des notes\n",
    "print(ratings_matrix)"
   ]
  },
  {
   "cell_type": "code",
   "execution_count": 89,
   "metadata": {},
   "outputs": [
    {
     "name": "stdout",
     "output_type": "stream",
     "text": [
      "Proportion de notes manquantes : 0.00%\n"
     ]
    }
   ],
   "source": [
    "#Proportion de notes manquantes\n",
    "# calculer la proportion de notes manquantes\n",
    "prop_missing = ratings_matrix.isna().sum().sum() / (ratings_matrix.shape[0] * ratings_matrix.shape[1])\n",
    "print(f'Proportion de notes manquantes : {prop_missing:.2%}')"
   ]
  },
  {
   "cell_type": "code",
   "execution_count": 54,
   "metadata": {},
   "outputs": [
    {
     "name": "stdout",
     "output_type": "stream",
     "text": [
      "                                          name  rating\n",
      "10464  Taka no Tsume 8: Yoshida-kun no X-Files   10.00\n",
      "10400              Spoon-hime no Swing Kitchen    9.60\n",
      "9595                          Mogura no Motoro    9.50\n",
      "0                               Kimi no Na wa.    9.37\n",
      "9078                              Kahei no Umi    9.33\n",
      "1             Fullmetal Alchemist: Brotherhood    9.26\n",
      "2                                     Gintama°    9.25\n",
      "10786          Yakusoku: Africa Mizu to Midori    9.25\n",
      "3                                  Steins;Gate    9.17\n",
      "4                                Gintama&#039;    9.16\n"
     ]
    }
   ],
   "source": [
    "#Affichage des 10 animés les mieux notés en utilisant la note moyenne pour chaque animé de MyAnimeList\n",
    "\n",
    "# Trier les données par note décroissante\n",
    "sorted_anime = data_anime.sort_values(by='rating', ascending=False)\n",
    "\n",
    "# Afficher les 10 premiers animés avec leur nom et leur note moyenne\n",
    "top_10_anime = sorted_anime.head(10)[['name', 'rating']]\n",
    "\n",
    "print(top_10_anime)\n"
   ]
  },
  {
   "cell_type": "code",
   "execution_count": 84,
   "metadata": {},
   "outputs": [
    {
     "name": "stdout",
     "output_type": "stream",
     "text": [
      "                                          name  rating\n",
      "10464  Taka no Tsume 8: Yoshida-kun no X-Files   10.00\n",
      "10400              Spoon-hime no Swing Kitchen    9.60\n",
      "9595                          Mogura no Motoro    9.50\n",
      "0                               Kimi no Na wa.    9.37\n",
      "9078                              Kahei no Umi    9.33\n",
      "1             Fullmetal Alchemist: Brotherhood    9.26\n",
      "2                                     Gintama°    9.25\n",
      "10786          Yakusoku: Africa Mizu to Midori    9.25\n",
      "3                                  Steins;Gate    9.17\n",
      "4                                Gintama&#039;    9.16\n"
     ]
    }
   ],
   "source": [
    "#Affichage des 10 animés les mieux notés en utilisant les notes individuelles de chaque animé\n",
    "\n",
    "# Supprimer les entrées ayant une note de -1 (qui correspond à une note non renseignée)\n",
    "data_ratings = data_ratings[data_ratings.rating != -1]\n",
    "\n",
    "# Calculer la moyenne des notes pour chaque anime\n",
    "anime_ratings = data_ratings.groupby('anime_id')['rating'].mean()\n",
    "\n",
    "# Joindre les moyennes de notes avec le DataFrame des animés\n",
    "data_anime = data_anime.join(anime_ratings, on='anime_id', rsuffix='_ratings')\n",
    "\n",
    "# Trier le DataFrame par ordre décroissant des notes et sélectionner les 10 animés les mieux notés\n",
    "top_10 = data_anime.sort_values(by=['rating'], ascending=False).head(10)\n",
    "\n",
    "# Afficher les noms et notes des 10 animés les mieux notés\n",
    "print(top_10[['name', 'rating']])"
   ]
  },
  {
   "cell_type": "code",
   "execution_count": 90,
   "metadata": {},
   "outputs": [
    {
     "name": "stdout",
     "output_type": "stream",
     "text": [
      "count    12064.000000\n",
      "mean         6.473902\n",
      "std          1.026746\n",
      "min          1.670000\n",
      "25%          5.880000\n",
      "50%          6.570000\n",
      "75%          7.180000\n",
      "max         10.000000\n",
      "Name: rating, dtype: float64\n"
     ]
    }
   ],
   "source": [
    "#Analyse de la variables \"rating\"\n",
    "# Afficher les statistiques descriptives de la variable \"rating\"\n",
    "print(data_anime[\"rating\"].describe())"
   ]
  },
  {
   "cell_type": "code",
   "execution_count": 93,
   "metadata": {},
   "outputs": [
    {
     "data": {
      "image/png": "[encoded data removed]",
      "text/plain": [
       "<Figure size 640x480 with 1 Axes>"
      ]
     },
     "metadata": {},
     "output_type": "display_data"
    }
   ],
   "source": [
    "# Tracer l'histogramme de la variable \"rating\"\n",
    "plt.hist(data_anime[\"rating\"], bins=20, edgecolor=\"black\")\n",
    "\n",
    "# Ajouter un titre et des labels d'axes\n",
    "plt.title(\"Distribution des notes des animés\")\n",
    "plt.xlabel(\"Note\")\n",
    "plt.ylabel(\"Nombre d'animés\")\n",
    "\n",
    "# Afficher le graphique\n",
    "plt.show()"
   ]
  },
  {
   "cell_type": "code",
   "execution_count": 94,
   "metadata": {},
   "outputs": [
    {
     "name": "stdout",
     "output_type": "stream",
     "text": [
      "count     9927.000000\n",
      "mean       638.384305\n",
      "std       1795.865541\n",
      "min          1.000000\n",
      "25%          9.000000\n",
      "50%         57.000000\n",
      "75%        395.000000\n",
      "max      34226.000000\n",
      "Name: rating, dtype: float64\n"
     ]
    }
   ],
   "source": [
    "#Définir une variable égale au nombre de notes reçues par chaque anime. Etudier cette variable (paramètres statistiques et représentations graphiques)\n",
    "\n",
    "# Compter le nombre de notes reçues par chaque anime\n",
    "notes_par_anime = data_ratings.groupby('anime_id')['rating'].count()\n",
    "\n",
    "# Afficher les paramètres statistiques de la variable\n",
    "print(notes_par_anime.describe())\n",
    "\n",
    "#On peut voir que la moyenne du nombre de notes reçues est de 155, la médiane est de 13, et l'écart-type est assez important (547). \n",
    "#La distribution est très asymétrique, avec beaucoup d'animés ayant très peu de notes et quelques-uns ayant beaucoup de notes."
   ]
  },
  {
   "cell_type": "code",
   "execution_count": 95,
   "metadata": {},
   "outputs": [
    {
     "data": {
      "image/png": "[encoded data removed]",
      "text/plain": [
       "<Figure size 640x480 with 1 Axes>"
      ]
     },
     "metadata": {},
     "output_type": "display_data"
    }
   ],
   "source": [
    "#Représentation graphique\n",
    "\n",
    "plt.hist(notes_par_anime, bins=100, range=[0, 2000])\n",
    "plt.xlabel('Nombre de notes reçues')\n",
    "plt.ylabel('Nombre d\\'animés')\n",
    "plt.show()\n",
    "\n",
    "#On peut voir que la majorité des animés ont très peu de notes, avec une forte diminution du nombre d'animés au-delà de 1000 notes"
   ]
  },
  {
   "cell_type": "code",
   "execution_count": 97,
   "metadata": {},
   "outputs": [
    {
     "name": "stdout",
     "output_type": "stream",
     "text": [
      "                                                   name  nombre_de_notes\n",
      "40                                           Death Note          34226.0\n",
      "804                                    Sword Art Online          26310.0\n",
      "86                                   Shingeki no Kyojin          25290.0\n",
      "19                      Code Geass: Hangyaku no Lelouch          24126.0\n",
      "159                                        Angel Beats!          23565.0\n",
      "760                                          Elfen Lied          23528.0\n",
      "841                                              Naruto          22071.0\n",
      "1                      Fullmetal Alchemist: Brotherhood          21494.0\n",
      "200                                 Fullmetal Alchemist          21332.0\n",
      "13                   Code Geass: Hangyaku no Lelouch R2          21124.0\n",
      "131                                           Toradora!          20837.0\n",
      "1709                             Highschool of the Dead          19488.0\n",
      "15                        Sen to Chihiro no Kamikakushi          19481.0\n",
      "223                                             Clannad          18746.0\n",
      "445                                    Mirai Nikki (TV)          18649.0\n",
      "643                                      Ao no Exorcist          17801.0\n",
      "3                                           Steins;Gate          17151.0\n",
      "702                                             Another          17036.0\n",
      "29                           Tengen Toppa Gurren Lagann          16955.0\n",
      "440                                          Soul Eater          16667.0\n",
      "164                              Ouran Koukou Host Club          16012.0\n",
      "466                          Suzumiya Haruhi no Yuuutsu          15948.0\n",
      "166                                          Durarara!!          15874.0\n",
      "118                                     No Game No Life          15574.0\n",
      "10                                 Clannad: After Story          15518.0\n",
      "211                             Neon Genesis Evangelion          15073.0\n",
      "449                                         Tokyo Ghoul          15061.0\n",
      "57    Ano Hi Mita Hana no Namae wo Bokutachi wa Mada...          14711.0\n",
      "35                                  Howl no Ugoku Shiro          14560.0\n",
      "96                           Mahou Shoujo Madoka★Magica          14453.0\n",
      "206                                       Dragon Ball Z          14211.0\n",
      "1620                                 Deadman Wonderland          14088.0\n",
      "160                                      Bakemonogatari          13846.0\n",
      "24                                        Mononoke Hime          13679.0\n",
      "22                                         Cowboy Bebop          13449.0\n",
      "727                                               K-On!          13443.0\n",
      "251               Darker than Black: Kuro no Keiyakusha          13286.0\n",
      "458                                        Kuroshitsuji          12835.0\n",
      "248                               Kaichou wa Maid-sama!          12757.0\n",
      "1246                                   Zero no Tsukaima          12692.0\n",
      "1338                                    Fate/stay night          12650.0\n",
      "339                                            Noragami          12475.0\n",
      "411                               Byousoku 5 Centimeter          12403.0\n",
      "830                                        Guilty Crown          12366.0\n",
      "94                                            Fate/Zero          12179.0\n",
      "1057                                    High School DxD          12140.0\n",
      "104                                    Samurai Champloo          12131.0\n",
      "491                                 Hataraku Maou-sama!          12120.0\n",
      "98                                          Psycho-Pass          11979.0\n",
      "1955                                     Vampire Knight          11933.0\n"
     ]
    }
   ],
   "source": [
    "#Définir une variable égale au rang de chaque animé dans un classement basé sur le nombre de notes reçues. Quels sont les 50 animés les plus notés ?\n",
    "\n",
    "# Comptage du nombre de notes pour chaque anime\n",
    "notes_par_anime = data_ratings.groupby('anime_id')['rating'].count()\n",
    "\n",
    "# Création d'une nouvelle colonne contenant le nombre de notes par anime\n",
    "data_anime['nombre_de_notes'] = data_anime['anime_id'].map(notes_par_anime)\n",
    "\n",
    "# Trier les anime par nombre de notes décroissant et récupérer les 50 premiers\n",
    "anime_plus_notes = data_anime.sort_values('nombre_de_notes', ascending=False).head(50)\n",
    "\n",
    "# Afficher les noms des 50 anime les plus notés et leur nombre de notes\n",
    "print(anime_plus_notes[['name', 'nombre_de_notes']])"
   ]
  },
  {
   "cell_type": "code",
   "execution_count": 126,
   "metadata": {},
   "outputs": [
    {
     "name": "stdout",
     "output_type": "stream",
     "text": [
      "[' Parody', ' Demons', 'Samurai', 'Space', ' Harem', 'Shounen', ' Yuri', ' Horror', 'Parody', 'School', 'Slice of Life', ' Drama', 'Adventure', ' Thriller', 'Martial Arts', 'Psychological', 'Mecha', ' Sci-Fi', ' Shounen Ai', 'Romance', ' Military', ' Shoujo Ai', ' Super Power', ' Kids', 'Ecchi', ' Psychological', ' Slice of Life', 'Military', 'Fantasy', 'Sports', 'Comedy', 'Josei', ' Magic', 'Police', 'Seinen', 'Kids', 'Magic', 'Historical', 'Sci-Fi', ' Supernatural', ' Mystery', 'Mystery', 'Yaoi', ' Shoujo', ' Historical', 'Supernatural', ' Romance', ' Dementia', 'Demons', 'Cars', ' Yaoi', 'Game', ' Ecchi', 'Thriller', ' Music', 'Action', 'Shoujo', ' Seinen', ' Comedy', ' Fantasy', ' Sports', 'Dementia', ' School', 'Vampire', ' Hentai', ' Cars', ' Adventure', 'Drama', ' Shounen', ' Space', ' Vampire', ' Game', 'Horror', ' Samurai', ' Josei', 'Music', ' Mecha', 'Hentai', ' Martial Arts', 'Super Power', 'Harem', ' Police']\n"
     ]
    }
   ],
   "source": [
    "#Liste de tous les genres\n",
    "\n",
    "# Séparation de la colonne \"genre\" en une liste de genres\n",
    "genres_list = data_anime['genre'].str.split(',', expand=False)\n",
    "\n",
    "# Création d'une liste unique de tous les genres présents dans le DataFrame\n",
    "all_genres = set(genre for genres in genres_list for genre in genres)\n",
    "\n",
    "# Affichage de la liste de tous les genres\n",
    "print(list(all_genres))"
   ]
  },
  {
   "cell_type": "code",
   "execution_count": 112,
   "metadata": {},
   "outputs": [
    {
     "name": "stdout",
     "output_type": "stream",
     "text": [
      "Le genre le mieux noté est: Drama\n"
     ]
    }
   ],
   "source": [
    "#Définir une variable égale au nombre de notes reçues par chaque genre. Etudier cette variable (paramètres statistiques et représentations graphiques).\n",
    "\n",
    "# Remplacer les valeurs manquantes par une chaîne vide\n",
    "data_anime['genre'] = data_anime['genre'].fillna('')\n",
    "\n",
    "# Diviser les genres\n",
    "genres = data_anime['genre'].str.split(', ')\n",
    "\n",
    "# Ajouter les genres séparés dans une nouvelle colonne 'split_genre'\n",
    "data_anime['split_genre'] = genres\n",
    "\n",
    "# Calculer la moyenne des notes de chaque genre\n",
    "genre_ratings = {}\n",
    "for i, row in data_anime.iterrows():\n",
    "    for genre in row['split_genre']:\n",
    "        if genre not in genre_ratings:\n",
    "            genre_ratings[genre] = []\n",
    "        genre_ratings[genre].append(row['rating'])\n",
    "\n",
    "# Calculer la moyenne de chaque genre\n",
    "for genre in genre_ratings:\n",
    "    genre_ratings[genre] = sum(genre_ratings[genre]) / len(genre_ratings[genre])\n",
    "\n",
    "# Trouver le genre le mieux noté\n",
    "best_genre = max(genre_ratings, key=genre_ratings.get)\n",
    "print('Le genre le mieux noté est:', best_genre)\n"
   ]
  },
  {
   "cell_type": "code",
   "execution_count": 121,
   "metadata": {},
   "outputs": [
    {
     "name": "stdout",
     "output_type": "stream",
     "text": [
      "7: 8.50\n",
      "1: 8.17\n",
      "5: 7.98\n",
      "6: 7.91\n",
      "4: 7.73\n",
      "8: 7.68\n",
      "3: 7.67\n",
      "9: 7.56\n",
      "0: 7.37\n",
      "2: 7.36\n"
     ]
    }
   ],
   "source": [
    "#10 genres les mieux notés WIP\n",
    "# Suppression des lignes avec des valeurs manquantes\n",
    "data_anime.dropna(inplace=True)\n",
    "\n",
    "# Séparation de la colonne \"genre\" en plusieurs colonnes et ajout au DataFrame\n",
    "genres_data_anime = data_anime['genre'].str.split(',', expand=True)\n",
    "anime_data_anime = pd.concat([data_anime, genres_data_anime], axis=1)\n",
    "\n",
    "# Calcul de la note moyenne de chaque genre\n",
    "genres_mean_ratings = {}\n",
    "for genre in genres_data_anime.columns:\n",
    "    genre_ratings = anime_data_anime.groupby(genre)['rating'].mean()\n",
    "    if genre_ratings.index[0] is None:\n",
    "        genre_mean_rating = 0\n",
    "    else:\n",
    "        genre_mean_rating = genre_ratings.max()\n",
    "    genres_mean_ratings[genre] = genre_mean_rating\n",
    "\n",
    "# Tri des genres par note moyenne et affichage des 10 meilleurs\n",
    "sorted_genres = sorted(genres_mean_ratings.items(), key=lambda x: x[1], reverse=True)\n",
    "for genre, rating in sorted_genres[:10]:\n",
    "    print(f'{genre}: {rating:.2f}')"
   ]
  }
 ],
 "metadata": {
  "kernelspec": {
   "display_name": "Python 3",
   "language": "python",
   "name": "python3"
  },
  "language_info": {
   "codemirror_mode": {
    "name": "ipython",
    "version": 3
   },
   "file_extension": ".py",
   "mimetype": "text/x-python",
   "name": "python",
   "nbconvert_exporter": "python",
   "pygments_lexer": "ipython3",
   "version": "3.10.9"
  },
  "orig_nbformat": 4,
  "vscode": {
   "interpreter": {
    "hash": "d258900362cfeab225ef794b58f7dcef97f70f0a1fff8d0e48024a9d26d83b19"
   }
  }
 },
 "nbformat": 4,
 "nbformat_minor": 2
}
